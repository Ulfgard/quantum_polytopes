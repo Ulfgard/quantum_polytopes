{
 "cells": [
  {
   "cell_type": "markdown",
   "id": "a8d798c8",
   "metadata": {},
   "source": [
    "## Example: Learning the state transitions of a triple-dot array.\n",
    "\n",
    "In this notebook we want to show how our algorithm can be used on a tripple-dot array to discover the transition of a given state. We choose this example, because it can be easily visualized in 3D still.\n"
   ]
  },
  {
   "cell_type": "code",
   "execution_count": 1,
   "id": "112fc52b",
   "metadata": {},
   "outputs": [],
   "source": [
    "#import our simulation\n",
    "from simulator import sim_NxM, Simulator\n",
    "\n",
    "#for the algorithm\n",
    "import numpy as np\n",
    "from fit_zero_boundary import learn_zero_polytope\n",
    "from fit_convex_polytope import learn_convex_polytope, generate_transitions_for_state, sample_boundary_points\n",
    "\n",
    "#for plotting\n",
    "import plotly.graph_objects as go\n",
    "from scipy.spatial import HalfspaceIntersection\n",
    "from scipy.optimize import linprog\n",
    "\n",
    "#some helper code:\n",
    "\n",
    "#function that finds a point inside a given polytope\n",
    "def find_feasible_point(halfspaces):\n",
    "    norm_vector = np.reshape(np.linalg.norm(halfspaces[:, :-1], axis=1), (halfspaces.shape[0], 1))\n",
    "    c = np.zeros((halfspaces.shape[1],))\n",
    "    c[-1] = -1\n",
    "    A = np.hstack((halfspaces[:, :-1], norm_vector))\n",
    "    b = - halfspaces[:, -1:]\n",
    "    res = linprog(c, A_ub=A, b_ub=b, bounds = (None,None))\n",
    "    return res.x[:-1]\n",
    "\n",
    "def plot_facet(halfspaces, labels = None, points = None, text_dist_multiplier=1.0):\n",
    "    startpoint = find_feasible_point(halfspaces)\n",
    "    vertices=HalfspaceIntersection(halfspaces, startpoint).intersections\n",
    "    \n",
    "    \n",
    "    \n",
    "    fig = go.Figure()\n",
    "    fig.add_trace(go.Mesh3d(x=vertices[:, 2],\n",
    "                           y=vertices[:, 1],\n",
    "                           z=vertices[:, 0],\n",
    "                           color=\"yellow\",\n",
    "                           opacity=1.0,\n",
    "                           alphahull=0))\n",
    "    for i in range(halfspaces.shape[0]):\n",
    "        Ai = halfspaces[i,:-1]\n",
    "        bi = halfspaces[i,-1]\n",
    "        distance = np.max(np.abs(vertices@Ai.reshape(-1,1)+ bi.reshape(1,-1)),axis=1)\n",
    "        vi = vertices[distance < 1.e-5]\n",
    "\n",
    "        mean = np.mean(vi,axis=0)\n",
    "        \n",
    "        #add annotation\n",
    "        if not labels is None:\n",
    "            text_pos = mean + text_dist_multiplier*0.07*Ai/np.linalg.norm(Ai)\n",
    "            arrow_end = mean + text_dist_multiplier*0.05*Ai/np.linalg.norm(Ai)\n",
    "            text = str(labels[i])\n",
    "            #annotations.append(annotation)\n",
    "            fig.add_trace(go.Scatter3d(x=mean[2:3],\n",
    "                            y=mean[1:2],\n",
    "                            z=mean[0:1],\n",
    "                            showlegend=False,\n",
    "                            mode=\"markers\",\n",
    "                            marker=dict(color= 'black',size=3)))\n",
    "            fig.add_trace(go.Scatter3d(x=[mean[2],arrow_end[2]],\n",
    "                        y=[mean[1],arrow_end[1]],\n",
    "                        z=[mean[0],arrow_end[0]],\n",
    "                        mode='lines',\n",
    "                        showlegend=False,\n",
    "                        line=dict(color= 'black', width=2)))\n",
    "            fig.add_trace(go.Scatter3d(x=text_pos[2:3],\n",
    "                            y=text_pos[1:2],\n",
    "                            z=text_pos[0:1],\n",
    "                            showlegend=False,\n",
    "                            textfont=dict(\n",
    "                                color=\"black\",\n",
    "                                size=14\n",
    "                            ),\n",
    "                            mode=\"text\", textposition=\"middle center\",\n",
    "                            marker=dict(color= 'black',size=3), text=[text]))\n",
    "        #plot mesh\n",
    "        for j in range(vi.shape[0]):\n",
    "            for k in range(j+1,vi.shape[0]):\n",
    "                #check if midpoint is inside to filter out lines inside a facet.\n",
    "                mid = (vi[j]+vi[k])/2\n",
    "                di = halfspaces[:,:-1]@mid+ halfspaces[:,-1]\n",
    "                di[i] = -1\n",
    "                if np.all(di<-1.e-5):\n",
    "                    continue\n",
    "                fig.add_trace(go.Scatter3d(x=vi[[j,k], 2],\n",
    "                        y=vi[[j,k], 1],\n",
    "                        z=vi[[j,k], 0],\n",
    "                        mode='lines',\n",
    "                        showlegend=False,\n",
    "                        line=dict(color= 'black', width=2)))\n",
    "    \n",
    "    if not points is None:\n",
    "        fig.add_trace(go.Scatter3d(x=points[:,2],\n",
    "                            y=points[:,1],\n",
    "                            z=points[:,0],\n",
    "                            showlegend=False,\n",
    "                            mode='markers', marker=dict(color= 'red',size=3)))\n",
    "    fig.update_layout(scene=dict( xaxis_title=r'V<sub>3</sub>', yaxis_title=r'V<sub>2</sub>',zaxis_title=r'V<sub>1</sub>'))\n",
    "    fig.show()"
   ]
  },
  {
   "cell_type": "markdown",
   "id": "e08ee284",
   "metadata": {},
   "source": [
    "## Step 1: initializing the simulation\n",
    "\n",
    "First, we create the simulation. We simulate a 2x2 array according to the constant interaction model in the (1 0 0 1) state"
   ]
  },
  {
   "cell_type": "code",
   "execution_count": 8,
   "id": "3f9df7cb",
   "metadata": {},
   "outputs": [],
   "source": [
    "\n",
    "#set random state for reproducibility\n",
    "np.random.seed(0)\n",
    "\n",
    "delta = 1.0/1000 #precision of the line-search. 1mV\n",
    "rho=3.0/10 #setting of rho in the paper as a measure of simulation complexity. this is what rho=3 in the paper is\n",
    "sim = sim_NxM(2, 2, delta, rho) #simulation of an 2x2 array.\n",
    "\n",
    "#compute Gamma. For simplicity, we don't check the rodering. it will most likely be correct.\n",
    "sim.activate_state(np.zeros(4))\n",
    "sim.set_reservoir(True)\n",
    "num_start_samples = 4*sim.num_dots*(sim.num_dots+5) #number of initial line-searches (same as in the paper)\n",
    "halfspaces, _,_,_ = learn_zero_polytope(sim, delta, num_start_samples = num_start_samples)\n",
    "halfspaces /= np.linalg.norm(halfspaces[:,:-1],axis=1).reshape(-1,1) #normalize to unit length normals\n",
    "gamma = halfspaces[:,:-1]"
   ]
  },
  {
   "cell_type": "markdown",
   "id": "b80a64b8",
   "metadata": {},
   "source": [
    "## Computing Gamma\n",
    "\n",
    "To compute gamma, we first learn the boundaries of the state (0,0,0,0). We then label the learned transitions based on which we think adds one electron to the i-th dot.\n",
    "\n",
    "For a quick verification that the learned boundaries are correct, we compute the relative error of each element. "
   ]
  },
  {
   "cell_type": "code",
   "execution_count": 9,
   "id": "4a0ff990-7b12-40d6-892c-59c71e06d09c",
   "metadata": {
    "scrolled": true
   },
   "outputs": [
    {
     "name": "stdout",
     "output_type": "stream",
     "text": [
      "projected facet labels\n",
      "[[-1.  1.  1. -1.]\n",
      " [-1.  0.  0.  1.]\n",
      " [-1.  0.  1.  0.]\n",
      " [-1.  1.  0.  0.]\n",
      " [ 0.  0.  1. -1.]\n",
      " [ 0.  1.  0. -1.]\n",
      " [ 1.  0.  0. -1.]]\n",
      "Real facet after projection\n"
     ]
    },
    {
     "name": "stderr",
     "output_type": "stream",
     "text": [
      "/usr/local/lib/python3.7/dist-packages/numpy/core/fromnumeric.py:3441: RuntimeWarning:\n",
      "\n",
      "Mean of empty slice.\n",
      "\n",
      "/usr/local/lib/python3.7/dist-packages/numpy/core/_methods.py:182: RuntimeWarning:\n",
      "\n",
      "invalid value encountered in true_divide\n",
      "\n"
     ]
    },
    {
     "data": {
      "application/vnd.plotly.v1+json": {
       "config": {
        "plotlyServerURL": "https://plot.ly"
       },
       "data": [
        {
         "alphahull": 0,
         "color": "yellow",
         "opacity": 1,
         "type": "mesh3d",
         "x": [
          2.0987346064230037,
          3.999999999999999,
          3.999999999999999,
          2.0928345701507887,
          2.0189199118727807,
          -0.01875688841773826,
          2.1156346266371853,
          0.12290954628605233,
          -0.017198028387057196,
          -0.01874988144765677,
          0.11083730236942735,
          -0.020308741478338277,
          2.1097470015556192,
          2.0350886256047325
         ],
         "y": [
          1.0426257509192047,
          -0.0342382136724559,
          0.10928184190271964,
          0.9020020626456439,
          1.0122658580436568,
          0.010566693497195818,
          -0.8513556125327694,
          0.07133221126317776,
          0.010029875549307184,
          -0.010982972297879166,
          -0.07232566537623705,
          -0.010446154349990529,
          -0.9978771418406811,
          -0.9619680335018885
         ],
         "z": [
          -0.8586396426577916,
          -0.03423821367245727,
          0.10928184190271818,
          -1.0051633672035674,
          -0.9688142300835623,
          -0.006975629298880671,
          1.0330097608300446,
          0.07400326271684088,
          0.013994849239639017,
          0.014525774536810504,
          -0.06960701276596024,
          -0.0064447040017091735,
          0.8923758566036991,
          1.002943340893378
         ]
        },
        {
         "marker": {
          "color": "black",
          "size": 3
         },
         "mode": "markers",
         "showlegend": false,
         "type": "scatter3d",
         "x": [
          -0.018753384932697625
         ],
         "y": [
          -0.00020813940034167342
         ],
         "z": [
          0.0037750726189649192
         ]
        },
        {
         "line": {
          "color": "black",
          "width": 2
         },
         "mode": "lines",
         "showlegend": false,
         "type": "scatter3d",
         "x": [
          -0.018753384932697625,
          -0.26732072253175904
         ],
         "y": [
          -0.00020813940034167342,
          0.018628248512658
         ],
         "z": [
          0.0037750726189649192,
          0.022734744802450278
         ]
        },
        {
         "marker": {
          "color": "black",
          "size": 3
         },
         "mode": "text",
         "showlegend": false,
         "text": [
          "[-1.  1.  1. -1.]"
         ],
         "textfont": {
          "color": "black",
          "size": 14
         },
         "textposition": "middle center",
         "type": "scatter3d",
         "x": [
          -0.3667476575713836
         ],
         "y": [
          0.026162803677857872
         ],
         "z": [
          0.030318613675844427
         ]
        },
        {
         "line": {
          "color": "black",
          "width": 2
         },
         "mode": "lines",
         "showlegend": false,
         "type": "scatter3d",
         "x": [
          -0.01875688841773826,
          -0.017198028387057196
         ],
         "y": [
          0.010566693497195818,
          0.010029875549307184
         ],
         "z": [
          -0.006975629298880671,
          0.013994849239639017
         ]
        },
        {
         "line": {
          "color": "black",
          "width": 2
         },
         "mode": "lines",
         "showlegend": false,
         "type": "scatter3d",
         "x": [
          -0.01875688841773826,
          -0.020308741478338277
         ],
         "y": [
          0.010566693497195818,
          -0.010446154349990529
         ],
         "z": [
          -0.006975629298880671,
          -0.0064447040017091735
         ]
        },
        {
         "line": {
          "color": "black",
          "width": 2
         },
         "mode": "lines",
         "showlegend": false,
         "type": "scatter3d",
         "x": [
          -0.017198028387057196,
          -0.01874988144765677
         ],
         "y": [
          0.010029875549307184,
          -0.010982972297879166
         ],
         "z": [
          0.013994849239639017,
          0.014525774536810504
         ]
        },
        {
         "line": {
          "color": "black",
          "width": 2
         },
         "mode": "lines",
         "showlegend": false,
         "type": "scatter3d",
         "x": [
          -0.01874988144765677,
          -0.020308741478338277
         ],
         "y": [
          -0.010982972297879166,
          -0.010446154349990529
         ],
         "z": [
          0.014525774536810504,
          -0.0064447040017091735
         ]
        },
        {
         "marker": {
          "color": "black",
          "size": 3
         },
         "mode": "markers",
         "showlegend": false,
         "type": "scatter3d",
         "x": [
          2.0783547185189586
         ],
         "y": [
          -0.050609739560932565
         ],
         "z": [
          -0.054158184259571446
         ]
        },
        {
         "line": {
          "color": "black",
          "width": 2
         },
         "mode": "lines",
         "showlegend": false,
         "type": "scatter3d",
         "x": [
          2.0783547185189586,
          2.0816931892091866
         ],
         "y": [
          -0.050609739560932565,
          -0.2272468398277419
         ],
         "z": [
          -0.054158184259571446,
          -0.2310428625750876
         ]
        },
        {
         "marker": {
          "color": "black",
          "size": 3
         },
         "mode": "text",
         "showlegend": false,
         "text": [
          "[-1.  0.  0.  1.]"
         ],
         "textfont": {
          "color": "black",
          "size": 14
         },
         "textposition": "middle center",
         "type": "scatter3d",
         "x": [
          2.083028577485278
         ],
         "y": [
          -0.29790167993446565
         ],
         "z": [
          -0.30179673390129413
         ]
        },
        {
         "line": {
          "color": "black",
          "width": 2
         },
         "mode": "lines",
         "showlegend": false,
         "type": "scatter3d",
         "x": [
          3.999999999999999,
          2.0928345701507887
         ],
         "y": [
          -0.0342382136724559,
          0.9020020626456439
         ],
         "z": [
          -0.03423821367245727,
          -1.0051633672035674
         ]
        },
        {
         "line": {
          "color": "black",
          "width": 2
         },
         "mode": "lines",
         "showlegend": false,
         "type": "scatter3d",
         "x": [
          3.999999999999999,
          2.1097470015556192
         ],
         "y": [
          -0.0342382136724559,
          -0.9978771418406811
         ],
         "z": [
          -0.03423821367245727,
          0.8923758566036991
         ]
        },
        {
         "line": {
          "color": "black",
          "width": 2
         },
         "mode": "lines",
         "showlegend": false,
         "type": "scatter3d",
         "x": [
          2.0928345701507887,
          0.11083730236942735
         ],
         "y": [
          0.9020020626456439,
          -0.07232566537623705
         ],
         "z": [
          -1.0051633672035674,
          -0.06960701276596024
         ]
        },
        {
         "line": {
          "color": "black",
          "width": 2
         },
         "mode": "lines",
         "showlegend": false,
         "type": "scatter3d",
         "x": [
          0.11083730236942735,
          2.1097470015556192
         ],
         "y": [
          -0.07232566537623705,
          -0.9978771418406811
         ],
         "z": [
          -0.06960701276596024,
          0.8923758566036991
         ]
        },
        {
         "marker": {
          "color": "black",
          "size": 3
         },
         "mode": "markers",
         "showlegend": false,
         "type": "scatter3d",
         "x": [
          0.836705230899384
         ],
         "y": [
          0.36841255889205377
         ],
         "z": [
          -0.41140098867073593
         ]
        },
        {
         "line": {
          "color": "black",
          "width": 2
         },
         "mode": "lines",
         "showlegend": false,
         "type": "scatter3d",
         "x": [
          0.836705230899384,
          0.7290918438140769
         ],
         "y": [
          0.36841255889205377,
          0.37065885684690847
         ],
         "z": [
          -0.41140098867073593,
          -0.6370429906684267
         ]
        },
        {
         "marker": {
          "color": "black",
          "size": 3
         },
         "mode": "text",
         "showlegend": false,
         "text": [
          "[-1.  0.  1.  0.]"
         ],
         "textfont": {
          "color": "black",
          "size": 14
         },
         "textposition": "middle center",
         "type": "scatter3d",
         "x": [
          0.686046488979954
         ],
         "y": [
          0.37155737602885036
         ],
         "z": [
          -0.727299791467503
         ]
        },
        {
         "line": {
          "color": "black",
          "width": 2
         },
         "mode": "lines",
         "showlegend": false,
         "type": "scatter3d",
         "x": [
          2.0928345701507887,
          2.0189199118727807
         ],
         "y": [
          0.9020020626456439,
          1.0122658580436568
         ],
         "z": [
          -1.0051633672035674,
          -0.9688142300835623
         ]
        },
        {
         "line": {
          "color": "black",
          "width": 2
         },
         "mode": "lines",
         "showlegend": false,
         "type": "scatter3d",
         "x": [
          2.0928345701507887,
          0.11083730236942735
         ],
         "y": [
          0.9020020626456439,
          -0.07232566537623705
         ],
         "z": [
          -1.0051633672035674,
          -0.06960701276596024
         ]
        },
        {
         "line": {
          "color": "black",
          "width": 2
         },
         "mode": "lines",
         "showlegend": false,
         "type": "scatter3d",
         "x": [
          2.0189199118727807,
          -0.01875688841773826
         ],
         "y": [
          1.0122658580436568,
          0.010566693497195818
         ],
         "z": [
          -0.9688142300835623,
          -0.006975629298880671
         ]
        },
        {
         "line": {
          "color": "black",
          "width": 2
         },
         "mode": "lines",
         "showlegend": false,
         "type": "scatter3d",
         "x": [
          -0.01875688841773826,
          -0.020308741478338277
         ],
         "y": [
          0.010566693497195818,
          -0.010446154349990529
         ],
         "z": [
          -0.006975629298880671,
          -0.0064447040017091735
         ]
        },
        {
         "line": {
          "color": "black",
          "width": 2
         },
         "mode": "lines",
         "showlegend": false,
         "type": "scatter3d",
         "x": [
          0.11083730236942735,
          -0.020308741478338277
         ],
         "y": [
          -0.07232566537623705,
          -0.010446154349990529
         ],
         "z": [
          -0.06960701276596024,
          -0.0064447040017091735
         ]
        },
        {
         "marker": {
          "color": "black",
          "size": 3
         },
         "mode": "markers",
         "showlegend": false,
         "type": "scatter3d",
         "x": [
          0.8433228613207568
         ],
         "y": [
          -0.41071999347333527
         ],
         "z": [
          0.3667586510532437
         ]
        },
        {
         "line": {
          "color": "black",
          "width": 2
         },
         "mode": "lines",
         "showlegend": false,
         "type": "scatter3d",
         "x": [
          0.8433228613207568,
          0.7374630502074238
         ],
         "y": [
          -0.41071999347333527,
          -0.6371916430163106
         ],
         "z": [
          0.3667586510532437,
          0.3688304484210355
         ]
        },
        {
         "marker": {
          "color": "black",
          "size": 3
         },
         "mode": "text",
         "showlegend": false,
         "text": [
          "[-1.  1.  0.  0.]"
         ],
         "textfont": {
          "color": "black",
          "size": 14
         },
         "textposition": "middle center",
         "type": "scatter3d",
         "x": [
          0.6951191257620905
         ],
         "y": [
          -0.7277803028335008
         ],
         "z": [
          0.36965916736815224
         ]
        },
        {
         "line": {
          "color": "black",
          "width": 2
         },
         "mode": "lines",
         "showlegend": false,
         "type": "scatter3d",
         "x": [
          -0.01874988144765677,
          -0.020308741478338277
         ],
         "y": [
          -0.010982972297879166,
          -0.010446154349990529
         ],
         "z": [
          0.014525774536810504,
          -0.0064447040017091735
         ]
        },
        {
         "line": {
          "color": "black",
          "width": 2
         },
         "mode": "lines",
         "showlegend": false,
         "type": "scatter3d",
         "x": [
          -0.01874988144765677,
          2.0350886256047325
         ],
         "y": [
          -0.010982972297879166,
          -0.9619680335018885
         ],
         "z": [
          0.014525774536810504,
          1.002943340893378
         ]
        },
        {
         "line": {
          "color": "black",
          "width": 2
         },
         "mode": "lines",
         "showlegend": false,
         "type": "scatter3d",
         "x": [
          0.11083730236942735,
          -0.020308741478338277
         ],
         "y": [
          -0.07232566537623705,
          -0.010446154349990529
         ],
         "z": [
          -0.06960701276596024,
          -0.0064447040017091735
         ]
        },
        {
         "line": {
          "color": "black",
          "width": 2
         },
         "mode": "lines",
         "showlegend": false,
         "type": "scatter3d",
         "x": [
          0.11083730236942735,
          2.1097470015556192
         ],
         "y": [
          -0.07232566537623705,
          -0.9978771418406811
         ],
         "z": [
          -0.06960701276596024,
          0.8923758566036991
         ]
        },
        {
         "line": {
          "color": "black",
          "width": 2
         },
         "mode": "lines",
         "showlegend": false,
         "type": "scatter3d",
         "x": [
          2.1097470015556192,
          2.0350886256047325
         ],
         "y": [
          -0.9978771418406811,
          -0.9619680335018885
         ],
         "z": [
          0.8923758566036991,
          1.002943340893378
         ]
        },
        {
         "marker": {
          "color": "black",
          "size": 3
         },
         "mode": "markers",
         "showlegend": false,
         "type": "scatter3d",
         "x": [
          0.8409218295554084
         ],
         "y": [
          0.4293640778545084
         ],
         "z": [
          -0.34928627801675094
         ]
        },
        {
         "line": {
          "color": "black",
          "width": 2
         },
         "mode": "lines",
         "showlegend": false,
         "type": "scatter3d",
         "x": [
          0.8409218295554084,
          0.7359927522137162
         ],
         "y": [
          0.4293640778545084,
          0.6558700949207871
         ],
         "z": [
          -0.34928627801675094,
          -0.3356880075020184
         ]
        },
        {
         "marker": {
          "color": "black",
          "size": 3
         },
         "mode": "text",
         "showlegend": false,
         "text": [
          "[ 0.  0.  1. -1.]"
         ],
         "textfont": {
          "color": "black",
          "size": 14
         },
         "textposition": "middle center",
         "type": "scatter3d",
         "x": [
          0.6940211212770393
         ],
         "y": [
          0.7464725017472986
         ],
         "z": [
          -0.3302486992961253
         ]
        },
        {
         "line": {
          "color": "black",
          "width": 2
         },
         "mode": "lines",
         "showlegend": false,
         "type": "scatter3d",
         "x": [
          2.0987346064230037,
          2.0189199118727807
         ],
         "y": [
          1.0426257509192047,
          1.0122658580436568
         ],
         "z": [
          -0.8586396426577916,
          -0.9688142300835623
         ]
        },
        {
         "line": {
          "color": "black",
          "width": 2
         },
         "mode": "lines",
         "showlegend": false,
         "type": "scatter3d",
         "x": [
          2.0987346064230037,
          0.12290954628605233
         ],
         "y": [
          1.0426257509192047,
          0.07133221126317776
         ],
         "z": [
          -0.8586396426577916,
          0.07400326271684088
         ]
        },
        {
         "line": {
          "color": "black",
          "width": 2
         },
         "mode": "lines",
         "showlegend": false,
         "type": "scatter3d",
         "x": [
          2.0189199118727807,
          -0.01875688841773826
         ],
         "y": [
          1.0122658580436568,
          0.010566693497195818
         ],
         "z": [
          -0.9688142300835623,
          -0.006975629298880671
         ]
        },
        {
         "line": {
          "color": "black",
          "width": 2
         },
         "mode": "lines",
         "showlegend": false,
         "type": "scatter3d",
         "x": [
          -0.01875688841773826,
          -0.017198028387057196
         ],
         "y": [
          0.010566693497195818,
          0.010029875549307184
         ],
         "z": [
          -0.006975629298880671,
          0.013994849239639017
         ]
        },
        {
         "line": {
          "color": "black",
          "width": 2
         },
         "mode": "lines",
         "showlegend": false,
         "type": "scatter3d",
         "x": [
          0.12290954628605233,
          -0.017198028387057196
         ],
         "y": [
          0.07133221126317776,
          0.010029875549307184
         ],
         "z": [
          0.07400326271684088,
          0.013994849239639017
         ]
        },
        {
         "marker": {
          "color": "black",
          "size": 3
         },
         "mode": "markers",
         "showlegend": false,
         "type": "scatter3d",
         "x": [
          0.8475369777386511
         ],
         "y": [
          -0.3485889063040104
         ],
         "z": [
          0.42769539764334275
         ]
        },
        {
         "line": {
          "color": "black",
          "width": 2
         },
         "mode": "lines",
         "showlegend": false,
         "type": "scatter3d",
         "x": [
          0.8475369777386511,
          0.7443315426901798
         ],
         "y": [
          -0.3485889063040104,
          -0.33522353579843445
         ],
         "z": [
          0.42769539764334275,
          0.6550057692670423
         ]
        },
        {
         "marker": {
          "color": "black",
          "size": 3
         },
         "mode": "text",
         "showlegend": false,
         "text": [
          "[ 0.  1.  0. -1.]"
         ],
         "textfont": {
          "color": "black",
          "size": 14
         },
         "textposition": "middle center",
         "type": "scatter3d",
         "x": [
          0.7030493686707912
         ],
         "y": [
          -0.32987738759620405
         ],
         "z": [
          0.7459299179165222
         ]
        },
        {
         "line": {
          "color": "black",
          "width": 2
         },
         "mode": "lines",
         "showlegend": false,
         "type": "scatter3d",
         "x": [
          2.1156346266371853,
          0.12290954628605233
         ],
         "y": [
          -0.8513556125327694,
          0.07133221126317776
         ],
         "z": [
          1.0330097608300446,
          0.07400326271684088
         ]
        },
        {
         "line": {
          "color": "black",
          "width": 2
         },
         "mode": "lines",
         "showlegend": false,
         "type": "scatter3d",
         "x": [
          2.1156346266371853,
          2.0350886256047325
         ],
         "y": [
          -0.8513556125327694,
          -0.9619680335018885
         ],
         "z": [
          1.0330097608300446,
          1.002943340893378
         ]
        },
        {
         "line": {
          "color": "black",
          "width": 2
         },
         "mode": "lines",
         "showlegend": false,
         "type": "scatter3d",
         "x": [
          0.12290954628605233,
          -0.017198028387057196
         ],
         "y": [
          0.07133221126317776,
          0.010029875549307184
         ],
         "z": [
          0.07400326271684088,
          0.013994849239639017
         ]
        },
        {
         "line": {
          "color": "black",
          "width": 2
         },
         "mode": "lines",
         "showlegend": false,
         "type": "scatter3d",
         "x": [
          -0.017198028387057196,
          -0.01874988144765677
         ],
         "y": [
          0.010029875549307184,
          -0.010982972297879166
         ],
         "z": [
          0.013994849239639017,
          0.014525774536810504
         ]
        },
        {
         "line": {
          "color": "black",
          "width": 2
         },
         "mode": "lines",
         "showlegend": false,
         "type": "scatter3d",
         "x": [
          -0.01874988144765677,
          2.0350886256047325
         ],
         "y": [
          -0.010982972297879166,
          -0.9619680335018885
         ],
         "z": [
          0.014525774536810504,
          1.002943340893378
         ]
        },
        {
         "marker": {
          "color": "black",
          "size": 3
         },
         "mode": "markers",
         "showlegend": false,
         "type": "scatter3d",
         "x": [
          2.08431969483656
         ],
         "y": [
          0.09297104788808322
         ],
         "z": [
          0.08941380569795301
         ]
        },
        {
         "line": {
          "color": "black",
          "width": 2
         },
         "mode": "lines",
         "showlegend": false,
         "type": "scatter3d",
         "x": [
          2.08431969483656,
          2.080981224146332
         ],
         "y": [
          0.09297104788808322,
          0.26960814815489254
         ],
         "z": [
          0.08941380569795301,
          0.26629848401346917
         ]
        },
        {
         "marker": {
          "color": "black",
          "size": 3
         },
         "mode": "text",
         "showlegend": false,
         "text": [
          "[ 1.  0.  0. -1.]"
         ],
         "textfont": {
          "color": "black",
          "size": 14
         },
         "textposition": "middle center",
         "type": "scatter3d",
         "x": [
          2.0796458358702408
         ],
         "y": [
          0.3402629882616163
         ],
         "z": [
          0.3370523553396757
         ]
        },
        {
         "line": {
          "color": "black",
          "width": 2
         },
         "mode": "lines",
         "showlegend": false,
         "type": "scatter3d",
         "x": [
          2.0987346064230037,
          3.999999999999999
         ],
         "y": [
          1.0426257509192047,
          0.10928184190271964
         ],
         "z": [
          -0.8586396426577916,
          0.10928184190271818
         ]
        },
        {
         "line": {
          "color": "black",
          "width": 2
         },
         "mode": "lines",
         "showlegend": false,
         "type": "scatter3d",
         "x": [
          2.0987346064230037,
          0.12290954628605233
         ],
         "y": [
          1.0426257509192047,
          0.07133221126317776
         ],
         "z": [
          -0.8586396426577916,
          0.07400326271684088
         ]
        },
        {
         "line": {
          "color": "black",
          "width": 2
         },
         "mode": "lines",
         "showlegend": false,
         "type": "scatter3d",
         "x": [
          3.999999999999999,
          2.1156346266371853
         ],
         "y": [
          0.10928184190271964,
          -0.8513556125327694
         ],
         "z": [
          0.10928184190271818,
          1.0330097608300446
         ]
        },
        {
         "line": {
          "color": "black",
          "width": 2
         },
         "mode": "lines",
         "showlegend": false,
         "type": "scatter3d",
         "x": [
          2.1156346266371853,
          0.12290954628605233
         ],
         "y": [
          -0.8513556125327694,
          0.07133221126317776
         ],
         "z": [
          1.0330097608300446,
          0.07400326271684088
         ]
        },
        {
         "marker": {
          "color": "black",
          "size": 3
         },
         "mode": "markers",
         "showlegend": false,
         "type": "scatter3d",
         "x": [
          null
         ],
         "y": [
          null
         ],
         "z": [
          null
         ]
        },
        {
         "line": {
          "color": "black",
          "width": 2
         },
         "mode": "lines",
         "showlegend": false,
         "type": "scatter3d",
         "x": [
          null,
          null
         ],
         "y": [
          null,
          null
         ],
         "z": [
          null,
          null
         ]
        },
        {
         "marker": {
          "color": "black",
          "size": 3
         },
         "mode": "text",
         "showlegend": false,
         "text": [
          "[0. 0. 0. 0.]"
         ],
         "textfont": {
          "color": "black",
          "size": 14
         },
         "textposition": "middle center",
         "type": "scatter3d",
         "x": [
          null
         ],
         "y": [
          null
         ],
         "z": [
          null
         ]
        },
        {
         "marker": {
          "color": "black",
          "size": 3
         },
         "mode": "markers",
         "showlegend": false,
         "type": "scatter3d",
         "x": [
          2.842097817689314
         ],
         "y": [
          0.6063874599677538
         ],
         "z": [
          -0.551514722342932
         ]
        },
        {
         "line": {
          "color": "black",
          "width": 2
         },
         "mode": "lines",
         "showlegend": false,
         "type": "scatter3d",
         "x": [
          2.842097817689314,
          2.9864353849867205
         ],
         "y": [
          0.6063874599677538,
          0.7507250272651602
         ],
         "z": [
          -0.551514722342932,
          -0.6958522896403385
         ]
        },
        {
         "marker": {
          "color": "black",
          "size": 3
         },
         "mode": "text",
         "showlegend": false,
         "text": [
          "[0. 0. 0. 0.]"
         ],
         "textfont": {
          "color": "black",
          "size": 14
         },
         "textposition": "middle center",
         "type": "scatter3d",
         "x": [
          3.0441704119056827
         ],
         "y": [
          0.8084600541841228
         ],
         "z": [
          -0.753587316559301
         ]
        },
        {
         "line": {
          "color": "black",
          "width": 2
         },
         "mode": "lines",
         "showlegend": false,
         "type": "scatter3d",
         "x": [
          2.0987346064230037,
          3.999999999999999
         ],
         "y": [
          1.0426257509192047,
          0.10928184190271964
         ],
         "z": [
          -0.8586396426577916,
          0.10928184190271818
         ]
        },
        {
         "line": {
          "color": "black",
          "width": 2
         },
         "mode": "lines",
         "showlegend": false,
         "type": "scatter3d",
         "x": [
          2.0987346064230037,
          2.0189199118727807
         ],
         "y": [
          1.0426257509192047,
          1.0122658580436568
         ],
         "z": [
          -0.8586396426577916,
          -0.9688142300835623
         ]
        },
        {
         "line": {
          "color": "black",
          "width": 2
         },
         "mode": "lines",
         "showlegend": false,
         "type": "scatter3d",
         "x": [
          3.999999999999999,
          3.999999999999999
         ],
         "y": [
          -0.0342382136724559,
          0.10928184190271964
         ],
         "z": [
          -0.03423821367245727,
          0.10928184190271818
         ]
        },
        {
         "line": {
          "color": "black",
          "width": 2
         },
         "mode": "lines",
         "showlegend": false,
         "type": "scatter3d",
         "x": [
          3.999999999999999,
          2.0928345701507887
         ],
         "y": [
          -0.0342382136724559,
          0.9020020626456439
         ],
         "z": [
          -0.03423821367245727,
          -1.0051633672035674
         ]
        },
        {
         "line": {
          "color": "black",
          "width": 2
         },
         "mode": "lines",
         "showlegend": false,
         "type": "scatter3d",
         "x": [
          2.0928345701507887,
          2.0189199118727807
         ],
         "y": [
          0.9020020626456439,
          1.0122658580436568
         ],
         "z": [
          -1.0051633672035674,
          -0.9688142300835623
         ]
        },
        {
         "marker": {
          "color": "black",
          "size": 3
         },
         "mode": "markers",
         "showlegend": false,
         "type": "scatter3d",
         "x": [
          2.852094050759507
         ],
         "y": [
          -0.547231431929015
         ],
         "z": [
          0.6006745173114766
         ]
        },
        {
         "line": {
          "color": "black",
          "width": 2
         },
         "mode": "lines",
         "showlegend": false,
         "type": "scatter3d",
         "x": [
          2.852094050759507,
          2.9964316180569135
         ],
         "y": [
          -0.547231431929015,
          -0.6915689992264213
         ],
         "z": [
          0.6006745173114766,
          0.745012084608883
         ]
        },
        {
         "marker": {
          "color": "black",
          "size": 3
         },
         "mode": "text",
         "showlegend": false,
         "text": [
          "[0. 0. 0. 0.]"
         ],
         "textfont": {
          "color": "black",
          "size": 14
         },
         "textposition": "middle center",
         "type": "scatter3d",
         "x": [
          3.054166644975876
         ],
         "y": [
          -0.7493040261453838
         ],
         "z": [
          0.8027471115278457
         ]
        },
        {
         "line": {
          "color": "black",
          "width": 2
         },
         "mode": "lines",
         "showlegend": false,
         "type": "scatter3d",
         "x": [
          3.999999999999999,
          3.999999999999999
         ],
         "y": [
          -0.0342382136724559,
          0.10928184190271964
         ],
         "z": [
          -0.03423821367245727,
          0.10928184190271818
         ]
        },
        {
         "line": {
          "color": "black",
          "width": 2
         },
         "mode": "lines",
         "showlegend": false,
         "type": "scatter3d",
         "x": [
          3.999999999999999,
          2.1097470015556192
         ],
         "y": [
          -0.0342382136724559,
          -0.9978771418406811
         ],
         "z": [
          -0.03423821367245727,
          0.8923758566036991
         ]
        },
        {
         "line": {
          "color": "black",
          "width": 2
         },
         "mode": "lines",
         "showlegend": false,
         "type": "scatter3d",
         "x": [
          3.999999999999999,
          2.1156346266371853
         ],
         "y": [
          0.10928184190271964,
          -0.8513556125327694
         ],
         "z": [
          0.10928184190271818,
          1.0330097608300446
         ]
        },
        {
         "line": {
          "color": "black",
          "width": 2
         },
         "mode": "lines",
         "showlegend": false,
         "type": "scatter3d",
         "x": [
          2.1156346266371853,
          2.0350886256047325
         ],
         "y": [
          -0.8513556125327694,
          -0.9619680335018885
         ],
         "z": [
          1.0330097608300446,
          1.002943340893378
         ]
        },
        {
         "line": {
          "color": "black",
          "width": 2
         },
         "mode": "lines",
         "showlegend": false,
         "type": "scatter3d",
         "x": [
          2.1097470015556192,
          2.0350886256047325
         ],
         "y": [
          -0.9978771418406811,
          -0.9619680335018885
         ],
         "z": [
          0.8923758566036991,
          1.002943340893378
         ]
        },
        {
         "marker": {
          "color": "black",
          "size": 3
         },
         "mode": "markers",
         "showlegend": false,
         "type": "scatter3d",
         "x": [
          null
         ],
         "y": [
          null
         ],
         "z": [
          null
         ]
        },
        {
         "line": {
          "color": "black",
          "width": 2
         },
         "mode": "lines",
         "showlegend": false,
         "type": "scatter3d",
         "x": [
          null,
          null
         ],
         "y": [
          null,
          null
         ],
         "z": [
          null,
          null
         ]
        },
        {
         "marker": {
          "color": "black",
          "size": 3
         },
         "mode": "text",
         "showlegend": false,
         "text": [
          "[0. 0. 0. 0.]"
         ],
         "textfont": {
          "color": "black",
          "size": 14
         },
         "textposition": "middle center",
         "type": "scatter3d",
         "x": [
          null
         ],
         "y": [
          null
         ],
         "z": [
          null
         ]
        }
       ],
       "layout": {
        "scene": {
         "xaxis": {
          "title": {
           "text": "V<sub>3</sub>"
          }
         },
         "yaxis": {
          "title": {
           "text": "V<sub>2</sub>"
          }
         },
         "zaxis": {
          "title": {
           "text": "V<sub>1</sub>"
          }
         }
        },
        "template": {
         "data": {
          "bar": [
           {
            "error_x": {
             "color": "#2a3f5f"
            },
            "error_y": {
             "color": "#2a3f5f"
            },
            "marker": {
             "line": {
              "color": "#E5ECF6",
              "width": 0.5
             },
             "pattern": {
              "fillmode": "overlay",
              "size": 10,
              "solidity": 0.2
             }
            },
            "type": "bar"
           }
          ],
          "barpolar": [
           {
            "marker": {
             "line": {
              "color": "#E5ECF6",
              "width": 0.5
             },
             "pattern": {
              "fillmode": "overlay",
              "size": 10,
              "solidity": 0.2
             }
            },
            "type": "barpolar"
           }
          ],
          "carpet": [
           {
            "aaxis": {
             "endlinecolor": "#2a3f5f",
             "gridcolor": "white",
             "linecolor": "white",
             "minorgridcolor": "white",
             "startlinecolor": "#2a3f5f"
            },
            "baxis": {
             "endlinecolor": "#2a3f5f",
             "gridcolor": "white",
             "linecolor": "white",
             "minorgridcolor": "white",
             "startlinecolor": "#2a3f5f"
            },
            "type": "carpet"
           }
          ],
          "choropleth": [
           {
            "colorbar": {
             "outlinewidth": 0,
             "ticks": ""
            },
            "type": "choropleth"
           }
          ],
          "contour": [
           {
            "colorbar": {
             "outlinewidth": 0,
             "ticks": ""
            },
            "colorscale": [
             [
              0,
              "#0d0887"
             ],
             [
              0.1111111111111111,
              "#46039f"
             ],
             [
              0.2222222222222222,
              "#7201a8"
             ],
             [
              0.3333333333333333,
              "#9c179e"
             ],
             [
              0.4444444444444444,
              "#bd3786"
             ],
             [
              0.5555555555555556,
              "#d8576b"
             ],
             [
              0.6666666666666666,
              "#ed7953"
             ],
             [
              0.7777777777777778,
              "#fb9f3a"
             ],
             [
              0.8888888888888888,
              "#fdca26"
             ],
             [
              1,
              "#f0f921"
             ]
            ],
            "type": "contour"
           }
          ],
          "contourcarpet": [
           {
            "colorbar": {
             "outlinewidth": 0,
             "ticks": ""
            },
            "type": "contourcarpet"
           }
          ],
          "heatmap": [
           {
            "colorbar": {
             "outlinewidth": 0,
             "ticks": ""
            },
            "colorscale": [
             [
              0,
              "#0d0887"
             ],
             [
              0.1111111111111111,
              "#46039f"
             ],
             [
              0.2222222222222222,
              "#7201a8"
             ],
             [
              0.3333333333333333,
              "#9c179e"
             ],
             [
              0.4444444444444444,
              "#bd3786"
             ],
             [
              0.5555555555555556,
              "#d8576b"
             ],
             [
              0.6666666666666666,
              "#ed7953"
             ],
             [
              0.7777777777777778,
              "#fb9f3a"
             ],
             [
              0.8888888888888888,
              "#fdca26"
             ],
             [
              1,
              "#f0f921"
             ]
            ],
            "type": "heatmap"
           }
          ],
          "heatmapgl": [
           {
            "colorbar": {
             "outlinewidth": 0,
             "ticks": ""
            },
            "colorscale": [
             [
              0,
              "#0d0887"
             ],
             [
              0.1111111111111111,
              "#46039f"
             ],
             [
              0.2222222222222222,
              "#7201a8"
             ],
             [
              0.3333333333333333,
              "#9c179e"
             ],
             [
              0.4444444444444444,
              "#bd3786"
             ],
             [
              0.5555555555555556,
              "#d8576b"
             ],
             [
              0.6666666666666666,
              "#ed7953"
             ],
             [
              0.7777777777777778,
              "#fb9f3a"
             ],
             [
              0.8888888888888888,
              "#fdca26"
             ],
             [
              1,
              "#f0f921"
             ]
            ],
            "type": "heatmapgl"
           }
          ],
          "histogram": [
           {
            "marker": {
             "pattern": {
              "fillmode": "overlay",
              "size": 10,
              "solidity": 0.2
             }
            },
            "type": "histogram"
           }
          ],
          "histogram2d": [
           {
            "colorbar": {
             "outlinewidth": 0,
             "ticks": ""
            },
            "colorscale": [
             [
              0,
              "#0d0887"
             ],
             [
              0.1111111111111111,
              "#46039f"
             ],
             [
              0.2222222222222222,
              "#7201a8"
             ],
             [
              0.3333333333333333,
              "#9c179e"
             ],
             [
              0.4444444444444444,
              "#bd3786"
             ],
             [
              0.5555555555555556,
              "#d8576b"
             ],
             [
              0.6666666666666666,
              "#ed7953"
             ],
             [
              0.7777777777777778,
              "#fb9f3a"
             ],
             [
              0.8888888888888888,
              "#fdca26"
             ],
             [
              1,
              "#f0f921"
             ]
            ],
            "type": "histogram2d"
           }
          ],
          "histogram2dcontour": [
           {
            "colorbar": {
             "outlinewidth": 0,
             "ticks": ""
            },
            "colorscale": [
             [
              0,
              "#0d0887"
             ],
             [
              0.1111111111111111,
              "#46039f"
             ],
             [
              0.2222222222222222,
              "#7201a8"
             ],
             [
              0.3333333333333333,
              "#9c179e"
             ],
             [
              0.4444444444444444,
              "#bd3786"
             ],
             [
              0.5555555555555556,
              "#d8576b"
             ],
             [
              0.6666666666666666,
              "#ed7953"
             ],
             [
              0.7777777777777778,
              "#fb9f3a"
             ],
             [
              0.8888888888888888,
              "#fdca26"
             ],
             [
              1,
              "#f0f921"
             ]
            ],
            "type": "histogram2dcontour"
           }
          ],
          "mesh3d": [
           {
            "colorbar": {
             "outlinewidth": 0,
             "ticks": ""
            },
            "type": "mesh3d"
           }
          ],
          "parcoords": [
           {
            "line": {
             "colorbar": {
              "outlinewidth": 0,
              "ticks": ""
             }
            },
            "type": "parcoords"
           }
          ],
          "pie": [
           {
            "automargin": true,
            "type": "pie"
           }
          ],
          "scatter": [
           {
            "marker": {
             "colorbar": {
              "outlinewidth": 0,
              "ticks": ""
             }
            },
            "type": "scatter"
           }
          ],
          "scatter3d": [
           {
            "line": {
             "colorbar": {
              "outlinewidth": 0,
              "ticks": ""
             }
            },
            "marker": {
             "colorbar": {
              "outlinewidth": 0,
              "ticks": ""
             }
            },
            "type": "scatter3d"
           }
          ],
          "scattercarpet": [
           {
            "marker": {
             "colorbar": {
              "outlinewidth": 0,
              "ticks": ""
             }
            },
            "type": "scattercarpet"
           }
          ],
          "scattergeo": [
           {
            "marker": {
             "colorbar": {
              "outlinewidth": 0,
              "ticks": ""
             }
            },
            "type": "scattergeo"
           }
          ],
          "scattergl": [
           {
            "marker": {
             "colorbar": {
              "outlinewidth": 0,
              "ticks": ""
             }
            },
            "type": "scattergl"
           }
          ],
          "scattermapbox": [
           {
            "marker": {
             "colorbar": {
              "outlinewidth": 0,
              "ticks": ""
             }
            },
            "type": "scattermapbox"
           }
          ],
          "scatterpolar": [
           {
            "marker": {
             "colorbar": {
              "outlinewidth": 0,
              "ticks": ""
             }
            },
            "type": "scatterpolar"
           }
          ],
          "scatterpolargl": [
           {
            "marker": {
             "colorbar": {
              "outlinewidth": 0,
              "ticks": ""
             }
            },
            "type": "scatterpolargl"
           }
          ],
          "scatterternary": [
           {
            "marker": {
             "colorbar": {
              "outlinewidth": 0,
              "ticks": ""
             }
            },
            "type": "scatterternary"
           }
          ],
          "surface": [
           {
            "colorbar": {
             "outlinewidth": 0,
             "ticks": ""
            },
            "colorscale": [
             [
              0,
              "#0d0887"
             ],
             [
              0.1111111111111111,
              "#46039f"
             ],
             [
              0.2222222222222222,
              "#7201a8"
             ],
             [
              0.3333333333333333,
              "#9c179e"
             ],
             [
              0.4444444444444444,
              "#bd3786"
             ],
             [
              0.5555555555555556,
              "#d8576b"
             ],
             [
              0.6666666666666666,
              "#ed7953"
             ],
             [
              0.7777777777777778,
              "#fb9f3a"
             ],
             [
              0.8888888888888888,
              "#fdca26"
             ],
             [
              1,
              "#f0f921"
             ]
            ],
            "type": "surface"
           }
          ],
          "table": [
           {
            "cells": {
             "fill": {
              "color": "#EBF0F8"
             },
             "line": {
              "color": "white"
             }
            },
            "header": {
             "fill": {
              "color": "#C8D4E3"
             },
             "line": {
              "color": "white"
             }
            },
            "type": "table"
           }
          ]
         },
         "layout": {
          "annotationdefaults": {
           "arrowcolor": "#2a3f5f",
           "arrowhead": 0,
           "arrowwidth": 1
          },
          "autotypenumbers": "strict",
          "coloraxis": {
           "colorbar": {
            "outlinewidth": 0,
            "ticks": ""
           }
          },
          "colorscale": {
           "diverging": [
            [
             0,
             "#8e0152"
            ],
            [
             0.1,
             "#c51b7d"
            ],
            [
             0.2,
             "#de77ae"
            ],
            [
             0.3,
             "#f1b6da"
            ],
            [
             0.4,
             "#fde0ef"
            ],
            [
             0.5,
             "#f7f7f7"
            ],
            [
             0.6,
             "#e6f5d0"
            ],
            [
             0.7,
             "#b8e186"
            ],
            [
             0.8,
             "#7fbc41"
            ],
            [
             0.9,
             "#4d9221"
            ],
            [
             1,
             "#276419"
            ]
           ],
           "sequential": [
            [
             0,
             "#0d0887"
            ],
            [
             0.1111111111111111,
             "#46039f"
            ],
            [
             0.2222222222222222,
             "#7201a8"
            ],
            [
             0.3333333333333333,
             "#9c179e"
            ],
            [
             0.4444444444444444,
             "#bd3786"
            ],
            [
             0.5555555555555556,
             "#d8576b"
            ],
            [
             0.6666666666666666,
             "#ed7953"
            ],
            [
             0.7777777777777778,
             "#fb9f3a"
            ],
            [
             0.8888888888888888,
             "#fdca26"
            ],
            [
             1,
             "#f0f921"
            ]
           ],
           "sequentialminus": [
            [
             0,
             "#0d0887"
            ],
            [
             0.1111111111111111,
             "#46039f"
            ],
            [
             0.2222222222222222,
             "#7201a8"
            ],
            [
             0.3333333333333333,
             "#9c179e"
            ],
            [
             0.4444444444444444,
             "#bd3786"
            ],
            [
             0.5555555555555556,
             "#d8576b"
            ],
            [
             0.6666666666666666,
             "#ed7953"
            ],
            [
             0.7777777777777778,
             "#fb9f3a"
            ],
            [
             0.8888888888888888,
             "#fdca26"
            ],
            [
             1,
             "#f0f921"
            ]
           ]
          },
          "colorway": [
           "#636efa",
           "#EF553B",
           "#00cc96",
           "#ab63fa",
           "#FFA15A",
           "#19d3f3",
           "#FF6692",
           "#B6E880",
           "#FF97FF",
           "#FECB52"
          ],
          "font": {
           "color": "#2a3f5f"
          },
          "geo": {
           "bgcolor": "white",
           "lakecolor": "white",
           "landcolor": "#E5ECF6",
           "showlakes": true,
           "showland": true,
           "subunitcolor": "white"
          },
          "hoverlabel": {
           "align": "left"
          },
          "hovermode": "closest",
          "mapbox": {
           "style": "light"
          },
          "paper_bgcolor": "white",
          "plot_bgcolor": "#E5ECF6",
          "polar": {
           "angularaxis": {
            "gridcolor": "white",
            "linecolor": "white",
            "ticks": ""
           },
           "bgcolor": "#E5ECF6",
           "radialaxis": {
            "gridcolor": "white",
            "linecolor": "white",
            "ticks": ""
           }
          },
          "scene": {
           "xaxis": {
            "backgroundcolor": "#E5ECF6",
            "gridcolor": "white",
            "gridwidth": 2,
            "linecolor": "white",
            "showbackground": true,
            "ticks": "",
            "zerolinecolor": "white"
           },
           "yaxis": {
            "backgroundcolor": "#E5ECF6",
            "gridcolor": "white",
            "gridwidth": 2,
            "linecolor": "white",
            "showbackground": true,
            "ticks": "",
            "zerolinecolor": "white"
           },
           "zaxis": {
            "backgroundcolor": "#E5ECF6",
            "gridcolor": "white",
            "gridwidth": 2,
            "linecolor": "white",
            "showbackground": true,
            "ticks": "",
            "zerolinecolor": "white"
           }
          },
          "shapedefaults": {
           "line": {
            "color": "#2a3f5f"
           }
          },
          "ternary": {
           "aaxis": {
            "gridcolor": "white",
            "linecolor": "white",
            "ticks": ""
           },
           "baxis": {
            "gridcolor": "white",
            "linecolor": "white",
            "ticks": ""
           },
           "bgcolor": "#E5ECF6",
           "caxis": {
            "gridcolor": "white",
            "linecolor": "white",
            "ticks": ""
           }
          },
          "title": {
           "x": 0.05
          },
          "xaxis": {
           "automargin": true,
           "gridcolor": "white",
           "linecolor": "white",
           "ticks": "",
           "title": {
            "standoff": 15
           },
           "zerolinecolor": "white",
           "zerolinewidth": 2
          },
          "yaxis": {
           "automargin": true,
           "gridcolor": "white",
           "linecolor": "white",
           "ticks": "",
           "title": {
            "standoff": 15
           },
           "zerolinecolor": "white",
           "zerolinewidth": 2
          }
         }
        }
       }
      },
      "text/html": [
       "<div>                            <div id=\"de656a56-fad4-474a-8c92-c53faaff0163\" class=\"plotly-graph-div\" style=\"height:525px; width:100%;\"></div>            <script type=\"text/javascript\">                require([\"plotly\"], function(Plotly) {                    window.PLOTLYENV=window.PLOTLYENV || {};                                    if (document.getElementById(\"de656a56-fad4-474a-8c92-c53faaff0163\")) {                    Plotly.newPlot(                        \"de656a56-fad4-474a-8c92-c53faaff0163\",                        [{\"alphahull\":0,\"color\":\"yellow\",\"opacity\":1.0,\"x\":[2.0987346064230037,3.999999999999999,3.999999999999999,2.0928345701507887,2.0189199118727807,-0.01875688841773826,2.1156346266371853,0.12290954628605233,-0.017198028387057196,-0.01874988144765677,0.11083730236942735,-0.020308741478338277,2.1097470015556192,2.0350886256047325],\"y\":[1.0426257509192047,-0.0342382136724559,0.10928184190271964,0.9020020626456439,1.0122658580436568,0.010566693497195818,-0.8513556125327694,0.07133221126317776,0.010029875549307184,-0.010982972297879166,-0.07232566537623705,-0.010446154349990529,-0.9978771418406811,-0.9619680335018885],\"z\":[-0.8586396426577916,-0.03423821367245727,0.10928184190271818,-1.0051633672035674,-0.9688142300835623,-0.006975629298880671,1.0330097608300446,0.07400326271684088,0.013994849239639017,0.014525774536810504,-0.06960701276596024,-0.0064447040017091735,0.8923758566036991,1.002943340893378],\"type\":\"mesh3d\"},{\"marker\":{\"color\":\"black\",\"size\":3},\"mode\":\"markers\",\"showlegend\":false,\"x\":[-0.018753384932697625],\"y\":[-0.00020813940034167342],\"z\":[0.0037750726189649192],\"type\":\"scatter3d\"},{\"line\":{\"color\":\"black\",\"width\":2},\"mode\":\"lines\",\"showlegend\":false,\"x\":[-0.018753384932697625,-0.26732072253175904],\"y\":[-0.00020813940034167342,0.018628248512658],\"z\":[0.0037750726189649192,0.022734744802450278],\"type\":\"scatter3d\"},{\"marker\":{\"color\":\"black\",\"size\":3},\"mode\":\"text\",\"showlegend\":false,\"text\":[\"[-1.  1.  1. -1.]\"],\"textfont\":{\"color\":\"black\",\"size\":14},\"textposition\":\"middle center\",\"x\":[-0.3667476575713836],\"y\":[0.026162803677857872],\"z\":[0.030318613675844427],\"type\":\"scatter3d\"},{\"line\":{\"color\":\"black\",\"width\":2},\"mode\":\"lines\",\"showlegend\":false,\"x\":[-0.01875688841773826,-0.017198028387057196],\"y\":[0.010566693497195818,0.010029875549307184],\"z\":[-0.006975629298880671,0.013994849239639017],\"type\":\"scatter3d\"},{\"line\":{\"color\":\"black\",\"width\":2},\"mode\":\"lines\",\"showlegend\":false,\"x\":[-0.01875688841773826,-0.020308741478338277],\"y\":[0.010566693497195818,-0.010446154349990529],\"z\":[-0.006975629298880671,-0.0064447040017091735],\"type\":\"scatter3d\"},{\"line\":{\"color\":\"black\",\"width\":2},\"mode\":\"lines\",\"showlegend\":false,\"x\":[-0.017198028387057196,-0.01874988144765677],\"y\":[0.010029875549307184,-0.010982972297879166],\"z\":[0.013994849239639017,0.014525774536810504],\"type\":\"scatter3d\"},{\"line\":{\"color\":\"black\",\"width\":2},\"mode\":\"lines\",\"showlegend\":false,\"x\":[-0.01874988144765677,-0.020308741478338277],\"y\":[-0.010982972297879166,-0.010446154349990529],\"z\":[0.014525774536810504,-0.0064447040017091735],\"type\":\"scatter3d\"},{\"marker\":{\"color\":\"black\",\"size\":3},\"mode\":\"markers\",\"showlegend\":false,\"x\":[2.0783547185189586],\"y\":[-0.050609739560932565],\"z\":[-0.054158184259571446],\"type\":\"scatter3d\"},{\"line\":{\"color\":\"black\",\"width\":2},\"mode\":\"lines\",\"showlegend\":false,\"x\":[2.0783547185189586,2.0816931892091866],\"y\":[-0.050609739560932565,-0.2272468398277419],\"z\":[-0.054158184259571446,-0.2310428625750876],\"type\":\"scatter3d\"},{\"marker\":{\"color\":\"black\",\"size\":3},\"mode\":\"text\",\"showlegend\":false,\"text\":[\"[-1.  0.  0.  1.]\"],\"textfont\":{\"color\":\"black\",\"size\":14},\"textposition\":\"middle center\",\"x\":[2.083028577485278],\"y\":[-0.29790167993446565],\"z\":[-0.30179673390129413],\"type\":\"scatter3d\"},{\"line\":{\"color\":\"black\",\"width\":2},\"mode\":\"lines\",\"showlegend\":false,\"x\":[3.999999999999999,2.0928345701507887],\"y\":[-0.0342382136724559,0.9020020626456439],\"z\":[-0.03423821367245727,-1.0051633672035674],\"type\":\"scatter3d\"},{\"line\":{\"color\":\"black\",\"width\":2},\"mode\":\"lines\",\"showlegend\":false,\"x\":[3.999999999999999,2.1097470015556192],\"y\":[-0.0342382136724559,-0.9978771418406811],\"z\":[-0.03423821367245727,0.8923758566036991],\"type\":\"scatter3d\"},{\"line\":{\"color\":\"black\",\"width\":2},\"mode\":\"lines\",\"showlegend\":false,\"x\":[2.0928345701507887,0.11083730236942735],\"y\":[0.9020020626456439,-0.07232566537623705],\"z\":[-1.0051633672035674,-0.06960701276596024],\"type\":\"scatter3d\"},{\"line\":{\"color\":\"black\",\"width\":2},\"mode\":\"lines\",\"showlegend\":false,\"x\":[0.11083730236942735,2.1097470015556192],\"y\":[-0.07232566537623705,-0.9978771418406811],\"z\":[-0.06960701276596024,0.8923758566036991],\"type\":\"scatter3d\"},{\"marker\":{\"color\":\"black\",\"size\":3},\"mode\":\"markers\",\"showlegend\":false,\"x\":[0.836705230899384],\"y\":[0.36841255889205377],\"z\":[-0.41140098867073593],\"type\":\"scatter3d\"},{\"line\":{\"color\":\"black\",\"width\":2},\"mode\":\"lines\",\"showlegend\":false,\"x\":[0.836705230899384,0.7290918438140769],\"y\":[0.36841255889205377,0.37065885684690847],\"z\":[-0.41140098867073593,-0.6370429906684267],\"type\":\"scatter3d\"},{\"marker\":{\"color\":\"black\",\"size\":3},\"mode\":\"text\",\"showlegend\":false,\"text\":[\"[-1.  0.  1.  0.]\"],\"textfont\":{\"color\":\"black\",\"size\":14},\"textposition\":\"middle center\",\"x\":[0.686046488979954],\"y\":[0.37155737602885036],\"z\":[-0.727299791467503],\"type\":\"scatter3d\"},{\"line\":{\"color\":\"black\",\"width\":2},\"mode\":\"lines\",\"showlegend\":false,\"x\":[2.0928345701507887,2.0189199118727807],\"y\":[0.9020020626456439,1.0122658580436568],\"z\":[-1.0051633672035674,-0.9688142300835623],\"type\":\"scatter3d\"},{\"line\":{\"color\":\"black\",\"width\":2},\"mode\":\"lines\",\"showlegend\":false,\"x\":[2.0928345701507887,0.11083730236942735],\"y\":[0.9020020626456439,-0.07232566537623705],\"z\":[-1.0051633672035674,-0.06960701276596024],\"type\":\"scatter3d\"},{\"line\":{\"color\":\"black\",\"width\":2},\"mode\":\"lines\",\"showlegend\":false,\"x\":[2.0189199118727807,-0.01875688841773826],\"y\":[1.0122658580436568,0.010566693497195818],\"z\":[-0.9688142300835623,-0.006975629298880671],\"type\":\"scatter3d\"},{\"line\":{\"color\":\"black\",\"width\":2},\"mode\":\"lines\",\"showlegend\":false,\"x\":[-0.01875688841773826,-0.020308741478338277],\"y\":[0.010566693497195818,-0.010446154349990529],\"z\":[-0.006975629298880671,-0.0064447040017091735],\"type\":\"scatter3d\"},{\"line\":{\"color\":\"black\",\"width\":2},\"mode\":\"lines\",\"showlegend\":false,\"x\":[0.11083730236942735,-0.020308741478338277],\"y\":[-0.07232566537623705,-0.010446154349990529],\"z\":[-0.06960701276596024,-0.0064447040017091735],\"type\":\"scatter3d\"},{\"marker\":{\"color\":\"black\",\"size\":3},\"mode\":\"markers\",\"showlegend\":false,\"x\":[0.8433228613207568],\"y\":[-0.41071999347333527],\"z\":[0.3667586510532437],\"type\":\"scatter3d\"},{\"line\":{\"color\":\"black\",\"width\":2},\"mode\":\"lines\",\"showlegend\":false,\"x\":[0.8433228613207568,0.7374630502074238],\"y\":[-0.41071999347333527,-0.6371916430163106],\"z\":[0.3667586510532437,0.3688304484210355],\"type\":\"scatter3d\"},{\"marker\":{\"color\":\"black\",\"size\":3},\"mode\":\"text\",\"showlegend\":false,\"text\":[\"[-1.  1.  0.  0.]\"],\"textfont\":{\"color\":\"black\",\"size\":14},\"textposition\":\"middle center\",\"x\":[0.6951191257620905],\"y\":[-0.7277803028335008],\"z\":[0.36965916736815224],\"type\":\"scatter3d\"},{\"line\":{\"color\":\"black\",\"width\":2},\"mode\":\"lines\",\"showlegend\":false,\"x\":[-0.01874988144765677,-0.020308741478338277],\"y\":[-0.010982972297879166,-0.010446154349990529],\"z\":[0.014525774536810504,-0.0064447040017091735],\"type\":\"scatter3d\"},{\"line\":{\"color\":\"black\",\"width\":2},\"mode\":\"lines\",\"showlegend\":false,\"x\":[-0.01874988144765677,2.0350886256047325],\"y\":[-0.010982972297879166,-0.9619680335018885],\"z\":[0.014525774536810504,1.002943340893378],\"type\":\"scatter3d\"},{\"line\":{\"color\":\"black\",\"width\":2},\"mode\":\"lines\",\"showlegend\":false,\"x\":[0.11083730236942735,-0.020308741478338277],\"y\":[-0.07232566537623705,-0.010446154349990529],\"z\":[-0.06960701276596024,-0.0064447040017091735],\"type\":\"scatter3d\"},{\"line\":{\"color\":\"black\",\"width\":2},\"mode\":\"lines\",\"showlegend\":false,\"x\":[0.11083730236942735,2.1097470015556192],\"y\":[-0.07232566537623705,-0.9978771418406811],\"z\":[-0.06960701276596024,0.8923758566036991],\"type\":\"scatter3d\"},{\"line\":{\"color\":\"black\",\"width\":2},\"mode\":\"lines\",\"showlegend\":false,\"x\":[2.1097470015556192,2.0350886256047325],\"y\":[-0.9978771418406811,-0.9619680335018885],\"z\":[0.8923758566036991,1.002943340893378],\"type\":\"scatter3d\"},{\"marker\":{\"color\":\"black\",\"size\":3},\"mode\":\"markers\",\"showlegend\":false,\"x\":[0.8409218295554084],\"y\":[0.4293640778545084],\"z\":[-0.34928627801675094],\"type\":\"scatter3d\"},{\"line\":{\"color\":\"black\",\"width\":2},\"mode\":\"lines\",\"showlegend\":false,\"x\":[0.8409218295554084,0.7359927522137162],\"y\":[0.4293640778545084,0.6558700949207871],\"z\":[-0.34928627801675094,-0.3356880075020184],\"type\":\"scatter3d\"},{\"marker\":{\"color\":\"black\",\"size\":3},\"mode\":\"text\",\"showlegend\":false,\"text\":[\"[ 0.  0.  1. -1.]\"],\"textfont\":{\"color\":\"black\",\"size\":14},\"textposition\":\"middle center\",\"x\":[0.6940211212770393],\"y\":[0.7464725017472986],\"z\":[-0.3302486992961253],\"type\":\"scatter3d\"},{\"line\":{\"color\":\"black\",\"width\":2},\"mode\":\"lines\",\"showlegend\":false,\"x\":[2.0987346064230037,2.0189199118727807],\"y\":[1.0426257509192047,1.0122658580436568],\"z\":[-0.8586396426577916,-0.9688142300835623],\"type\":\"scatter3d\"},{\"line\":{\"color\":\"black\",\"width\":2},\"mode\":\"lines\",\"showlegend\":false,\"x\":[2.0987346064230037,0.12290954628605233],\"y\":[1.0426257509192047,0.07133221126317776],\"z\":[-0.8586396426577916,0.07400326271684088],\"type\":\"scatter3d\"},{\"line\":{\"color\":\"black\",\"width\":2},\"mode\":\"lines\",\"showlegend\":false,\"x\":[2.0189199118727807,-0.01875688841773826],\"y\":[1.0122658580436568,0.010566693497195818],\"z\":[-0.9688142300835623,-0.006975629298880671],\"type\":\"scatter3d\"},{\"line\":{\"color\":\"black\",\"width\":2},\"mode\":\"lines\",\"showlegend\":false,\"x\":[-0.01875688841773826,-0.017198028387057196],\"y\":[0.010566693497195818,0.010029875549307184],\"z\":[-0.006975629298880671,0.013994849239639017],\"type\":\"scatter3d\"},{\"line\":{\"color\":\"black\",\"width\":2},\"mode\":\"lines\",\"showlegend\":false,\"x\":[0.12290954628605233,-0.017198028387057196],\"y\":[0.07133221126317776,0.010029875549307184],\"z\":[0.07400326271684088,0.013994849239639017],\"type\":\"scatter3d\"},{\"marker\":{\"color\":\"black\",\"size\":3},\"mode\":\"markers\",\"showlegend\":false,\"x\":[0.8475369777386511],\"y\":[-0.3485889063040104],\"z\":[0.42769539764334275],\"type\":\"scatter3d\"},{\"line\":{\"color\":\"black\",\"width\":2},\"mode\":\"lines\",\"showlegend\":false,\"x\":[0.8475369777386511,0.7443315426901798],\"y\":[-0.3485889063040104,-0.33522353579843445],\"z\":[0.42769539764334275,0.6550057692670423],\"type\":\"scatter3d\"},{\"marker\":{\"color\":\"black\",\"size\":3},\"mode\":\"text\",\"showlegend\":false,\"text\":[\"[ 0.  1.  0. -1.]\"],\"textfont\":{\"color\":\"black\",\"size\":14},\"textposition\":\"middle center\",\"x\":[0.7030493686707912],\"y\":[-0.32987738759620405],\"z\":[0.7459299179165222],\"type\":\"scatter3d\"},{\"line\":{\"color\":\"black\",\"width\":2},\"mode\":\"lines\",\"showlegend\":false,\"x\":[2.1156346266371853,0.12290954628605233],\"y\":[-0.8513556125327694,0.07133221126317776],\"z\":[1.0330097608300446,0.07400326271684088],\"type\":\"scatter3d\"},{\"line\":{\"color\":\"black\",\"width\":2},\"mode\":\"lines\",\"showlegend\":false,\"x\":[2.1156346266371853,2.0350886256047325],\"y\":[-0.8513556125327694,-0.9619680335018885],\"z\":[1.0330097608300446,1.002943340893378],\"type\":\"scatter3d\"},{\"line\":{\"color\":\"black\",\"width\":2},\"mode\":\"lines\",\"showlegend\":false,\"x\":[0.12290954628605233,-0.017198028387057196],\"y\":[0.07133221126317776,0.010029875549307184],\"z\":[0.07400326271684088,0.013994849239639017],\"type\":\"scatter3d\"},{\"line\":{\"color\":\"black\",\"width\":2},\"mode\":\"lines\",\"showlegend\":false,\"x\":[-0.017198028387057196,-0.01874988144765677],\"y\":[0.010029875549307184,-0.010982972297879166],\"z\":[0.013994849239639017,0.014525774536810504],\"type\":\"scatter3d\"},{\"line\":{\"color\":\"black\",\"width\":2},\"mode\":\"lines\",\"showlegend\":false,\"x\":[-0.01874988144765677,2.0350886256047325],\"y\":[-0.010982972297879166,-0.9619680335018885],\"z\":[0.014525774536810504,1.002943340893378],\"type\":\"scatter3d\"},{\"marker\":{\"color\":\"black\",\"size\":3},\"mode\":\"markers\",\"showlegend\":false,\"x\":[2.08431969483656],\"y\":[0.09297104788808322],\"z\":[0.08941380569795301],\"type\":\"scatter3d\"},{\"line\":{\"color\":\"black\",\"width\":2},\"mode\":\"lines\",\"showlegend\":false,\"x\":[2.08431969483656,2.080981224146332],\"y\":[0.09297104788808322,0.26960814815489254],\"z\":[0.08941380569795301,0.26629848401346917],\"type\":\"scatter3d\"},{\"marker\":{\"color\":\"black\",\"size\":3},\"mode\":\"text\",\"showlegend\":false,\"text\":[\"[ 1.  0.  0. -1.]\"],\"textfont\":{\"color\":\"black\",\"size\":14},\"textposition\":\"middle center\",\"x\":[2.0796458358702408],\"y\":[0.3402629882616163],\"z\":[0.3370523553396757],\"type\":\"scatter3d\"},{\"line\":{\"color\":\"black\",\"width\":2},\"mode\":\"lines\",\"showlegend\":false,\"x\":[2.0987346064230037,3.999999999999999],\"y\":[1.0426257509192047,0.10928184190271964],\"z\":[-0.8586396426577916,0.10928184190271818],\"type\":\"scatter3d\"},{\"line\":{\"color\":\"black\",\"width\":2},\"mode\":\"lines\",\"showlegend\":false,\"x\":[2.0987346064230037,0.12290954628605233],\"y\":[1.0426257509192047,0.07133221126317776],\"z\":[-0.8586396426577916,0.07400326271684088],\"type\":\"scatter3d\"},{\"line\":{\"color\":\"black\",\"width\":2},\"mode\":\"lines\",\"showlegend\":false,\"x\":[3.999999999999999,2.1156346266371853],\"y\":[0.10928184190271964,-0.8513556125327694],\"z\":[0.10928184190271818,1.0330097608300446],\"type\":\"scatter3d\"},{\"line\":{\"color\":\"black\",\"width\":2},\"mode\":\"lines\",\"showlegend\":false,\"x\":[2.1156346266371853,0.12290954628605233],\"y\":[-0.8513556125327694,0.07133221126317776],\"z\":[1.0330097608300446,0.07400326271684088],\"type\":\"scatter3d\"},{\"marker\":{\"color\":\"black\",\"size\":3},\"mode\":\"markers\",\"showlegend\":false,\"x\":[null],\"y\":[null],\"z\":[null],\"type\":\"scatter3d\"},{\"line\":{\"color\":\"black\",\"width\":2},\"mode\":\"lines\",\"showlegend\":false,\"x\":[null,null],\"y\":[null,null],\"z\":[null,null],\"type\":\"scatter3d\"},{\"marker\":{\"color\":\"black\",\"size\":3},\"mode\":\"text\",\"showlegend\":false,\"text\":[\"[0. 0. 0. 0.]\"],\"textfont\":{\"color\":\"black\",\"size\":14},\"textposition\":\"middle center\",\"x\":[null],\"y\":[null],\"z\":[null],\"type\":\"scatter3d\"},{\"marker\":{\"color\":\"black\",\"size\":3},\"mode\":\"markers\",\"showlegend\":false,\"x\":[2.842097817689314],\"y\":[0.6063874599677538],\"z\":[-0.551514722342932],\"type\":\"scatter3d\"},{\"line\":{\"color\":\"black\",\"width\":2},\"mode\":\"lines\",\"showlegend\":false,\"x\":[2.842097817689314,2.9864353849867205],\"y\":[0.6063874599677538,0.7507250272651602],\"z\":[-0.551514722342932,-0.6958522896403385],\"type\":\"scatter3d\"},{\"marker\":{\"color\":\"black\",\"size\":3},\"mode\":\"text\",\"showlegend\":false,\"text\":[\"[0. 0. 0. 0.]\"],\"textfont\":{\"color\":\"black\",\"size\":14},\"textposition\":\"middle center\",\"x\":[3.0441704119056827],\"y\":[0.8084600541841228],\"z\":[-0.753587316559301],\"type\":\"scatter3d\"},{\"line\":{\"color\":\"black\",\"width\":2},\"mode\":\"lines\",\"showlegend\":false,\"x\":[2.0987346064230037,3.999999999999999],\"y\":[1.0426257509192047,0.10928184190271964],\"z\":[-0.8586396426577916,0.10928184190271818],\"type\":\"scatter3d\"},{\"line\":{\"color\":\"black\",\"width\":2},\"mode\":\"lines\",\"showlegend\":false,\"x\":[2.0987346064230037,2.0189199118727807],\"y\":[1.0426257509192047,1.0122658580436568],\"z\":[-0.8586396426577916,-0.9688142300835623],\"type\":\"scatter3d\"},{\"line\":{\"color\":\"black\",\"width\":2},\"mode\":\"lines\",\"showlegend\":false,\"x\":[3.999999999999999,3.999999999999999],\"y\":[-0.0342382136724559,0.10928184190271964],\"z\":[-0.03423821367245727,0.10928184190271818],\"type\":\"scatter3d\"},{\"line\":{\"color\":\"black\",\"width\":2},\"mode\":\"lines\",\"showlegend\":false,\"x\":[3.999999999999999,2.0928345701507887],\"y\":[-0.0342382136724559,0.9020020626456439],\"z\":[-0.03423821367245727,-1.0051633672035674],\"type\":\"scatter3d\"},{\"line\":{\"color\":\"black\",\"width\":2},\"mode\":\"lines\",\"showlegend\":false,\"x\":[2.0928345701507887,2.0189199118727807],\"y\":[0.9020020626456439,1.0122658580436568],\"z\":[-1.0051633672035674,-0.9688142300835623],\"type\":\"scatter3d\"},{\"marker\":{\"color\":\"black\",\"size\":3},\"mode\":\"markers\",\"showlegend\":false,\"x\":[2.852094050759507],\"y\":[-0.547231431929015],\"z\":[0.6006745173114766],\"type\":\"scatter3d\"},{\"line\":{\"color\":\"black\",\"width\":2},\"mode\":\"lines\",\"showlegend\":false,\"x\":[2.852094050759507,2.9964316180569135],\"y\":[-0.547231431929015,-0.6915689992264213],\"z\":[0.6006745173114766,0.745012084608883],\"type\":\"scatter3d\"},{\"marker\":{\"color\":\"black\",\"size\":3},\"mode\":\"text\",\"showlegend\":false,\"text\":[\"[0. 0. 0. 0.]\"],\"textfont\":{\"color\":\"black\",\"size\":14},\"textposition\":\"middle center\",\"x\":[3.054166644975876],\"y\":[-0.7493040261453838],\"z\":[0.8027471115278457],\"type\":\"scatter3d\"},{\"line\":{\"color\":\"black\",\"width\":2},\"mode\":\"lines\",\"showlegend\":false,\"x\":[3.999999999999999,3.999999999999999],\"y\":[-0.0342382136724559,0.10928184190271964],\"z\":[-0.03423821367245727,0.10928184190271818],\"type\":\"scatter3d\"},{\"line\":{\"color\":\"black\",\"width\":2},\"mode\":\"lines\",\"showlegend\":false,\"x\":[3.999999999999999,2.1097470015556192],\"y\":[-0.0342382136724559,-0.9978771418406811],\"z\":[-0.03423821367245727,0.8923758566036991],\"type\":\"scatter3d\"},{\"line\":{\"color\":\"black\",\"width\":2},\"mode\":\"lines\",\"showlegend\":false,\"x\":[3.999999999999999,2.1156346266371853],\"y\":[0.10928184190271964,-0.8513556125327694],\"z\":[0.10928184190271818,1.0330097608300446],\"type\":\"scatter3d\"},{\"line\":{\"color\":\"black\",\"width\":2},\"mode\":\"lines\",\"showlegend\":false,\"x\":[2.1156346266371853,2.0350886256047325],\"y\":[-0.8513556125327694,-0.9619680335018885],\"z\":[1.0330097608300446,1.002943340893378],\"type\":\"scatter3d\"},{\"line\":{\"color\":\"black\",\"width\":2},\"mode\":\"lines\",\"showlegend\":false,\"x\":[2.1097470015556192,2.0350886256047325],\"y\":[-0.9978771418406811,-0.9619680335018885],\"z\":[0.8923758566036991,1.002943340893378],\"type\":\"scatter3d\"},{\"marker\":{\"color\":\"black\",\"size\":3},\"mode\":\"markers\",\"showlegend\":false,\"x\":[null],\"y\":[null],\"z\":[null],\"type\":\"scatter3d\"},{\"line\":{\"color\":\"black\",\"width\":2},\"mode\":\"lines\",\"showlegend\":false,\"x\":[null,null],\"y\":[null,null],\"z\":[null,null],\"type\":\"scatter3d\"},{\"marker\":{\"color\":\"black\",\"size\":3},\"mode\":\"text\",\"showlegend\":false,\"text\":[\"[0. 0. 0. 0.]\"],\"textfont\":{\"color\":\"black\",\"size\":14},\"textposition\":\"middle center\",\"x\":[null],\"y\":[null],\"z\":[null],\"type\":\"scatter3d\"}],                        {\"template\":{\"data\":{\"bar\":[{\"error_x\":{\"color\":\"#2a3f5f\"},\"error_y\":{\"color\":\"#2a3f5f\"},\"marker\":{\"line\":{\"color\":\"#E5ECF6\",\"width\":0.5},\"pattern\":{\"fillmode\":\"overlay\",\"size\":10,\"solidity\":0.2}},\"type\":\"bar\"}],\"barpolar\":[{\"marker\":{\"line\":{\"color\":\"#E5ECF6\",\"width\":0.5},\"pattern\":{\"fillmode\":\"overlay\",\"size\":10,\"solidity\":0.2}},\"type\":\"barpolar\"}],\"carpet\":[{\"aaxis\":{\"endlinecolor\":\"#2a3f5f\",\"gridcolor\":\"white\",\"linecolor\":\"white\",\"minorgridcolor\":\"white\",\"startlinecolor\":\"#2a3f5f\"},\"baxis\":{\"endlinecolor\":\"#2a3f5f\",\"gridcolor\":\"white\",\"linecolor\":\"white\",\"minorgridcolor\":\"white\",\"startlinecolor\":\"#2a3f5f\"},\"type\":\"carpet\"}],\"choropleth\":[{\"colorbar\":{\"outlinewidth\":0,\"ticks\":\"\"},\"type\":\"choropleth\"}],\"contour\":[{\"colorbar\":{\"outlinewidth\":0,\"ticks\":\"\"},\"colorscale\":[[0.0,\"#0d0887\"],[0.1111111111111111,\"#46039f\"],[0.2222222222222222,\"#7201a8\"],[0.3333333333333333,\"#9c179e\"],[0.4444444444444444,\"#bd3786\"],[0.5555555555555556,\"#d8576b\"],[0.6666666666666666,\"#ed7953\"],[0.7777777777777778,\"#fb9f3a\"],[0.8888888888888888,\"#fdca26\"],[1.0,\"#f0f921\"]],\"type\":\"contour\"}],\"contourcarpet\":[{\"colorbar\":{\"outlinewidth\":0,\"ticks\":\"\"},\"type\":\"contourcarpet\"}],\"heatmap\":[{\"colorbar\":{\"outlinewidth\":0,\"ticks\":\"\"},\"colorscale\":[[0.0,\"#0d0887\"],[0.1111111111111111,\"#46039f\"],[0.2222222222222222,\"#7201a8\"],[0.3333333333333333,\"#9c179e\"],[0.4444444444444444,\"#bd3786\"],[0.5555555555555556,\"#d8576b\"],[0.6666666666666666,\"#ed7953\"],[0.7777777777777778,\"#fb9f3a\"],[0.8888888888888888,\"#fdca26\"],[1.0,\"#f0f921\"]],\"type\":\"heatmap\"}],\"heatmapgl\":[{\"colorbar\":{\"outlinewidth\":0,\"ticks\":\"\"},\"colorscale\":[[0.0,\"#0d0887\"],[0.1111111111111111,\"#46039f\"],[0.2222222222222222,\"#7201a8\"],[0.3333333333333333,\"#9c179e\"],[0.4444444444444444,\"#bd3786\"],[0.5555555555555556,\"#d8576b\"],[0.6666666666666666,\"#ed7953\"],[0.7777777777777778,\"#fb9f3a\"],[0.8888888888888888,\"#fdca26\"],[1.0,\"#f0f921\"]],\"type\":\"heatmapgl\"}],\"histogram\":[{\"marker\":{\"pattern\":{\"fillmode\":\"overlay\",\"size\":10,\"solidity\":0.2}},\"type\":\"histogram\"}],\"histogram2d\":[{\"colorbar\":{\"outlinewidth\":0,\"ticks\":\"\"},\"colorscale\":[[0.0,\"#0d0887\"],[0.1111111111111111,\"#46039f\"],[0.2222222222222222,\"#7201a8\"],[0.3333333333333333,\"#9c179e\"],[0.4444444444444444,\"#bd3786\"],[0.5555555555555556,\"#d8576b\"],[0.6666666666666666,\"#ed7953\"],[0.7777777777777778,\"#fb9f3a\"],[0.8888888888888888,\"#fdca26\"],[1.0,\"#f0f921\"]],\"type\":\"histogram2d\"}],\"histogram2dcontour\":[{\"colorbar\":{\"outlinewidth\":0,\"ticks\":\"\"},\"colorscale\":[[0.0,\"#0d0887\"],[0.1111111111111111,\"#46039f\"],[0.2222222222222222,\"#7201a8\"],[0.3333333333333333,\"#9c179e\"],[0.4444444444444444,\"#bd3786\"],[0.5555555555555556,\"#d8576b\"],[0.6666666666666666,\"#ed7953\"],[0.7777777777777778,\"#fb9f3a\"],[0.8888888888888888,\"#fdca26\"],[1.0,\"#f0f921\"]],\"type\":\"histogram2dcontour\"}],\"mesh3d\":[{\"colorbar\":{\"outlinewidth\":0,\"ticks\":\"\"},\"type\":\"mesh3d\"}],\"parcoords\":[{\"line\":{\"colorbar\":{\"outlinewidth\":0,\"ticks\":\"\"}},\"type\":\"parcoords\"}],\"pie\":[{\"automargin\":true,\"type\":\"pie\"}],\"scatter\":[{\"marker\":{\"colorbar\":{\"outlinewidth\":0,\"ticks\":\"\"}},\"type\":\"scatter\"}],\"scatter3d\":[{\"line\":{\"colorbar\":{\"outlinewidth\":0,\"ticks\":\"\"}},\"marker\":{\"colorbar\":{\"outlinewidth\":0,\"ticks\":\"\"}},\"type\":\"scatter3d\"}],\"scattercarpet\":[{\"marker\":{\"colorbar\":{\"outlinewidth\":0,\"ticks\":\"\"}},\"type\":\"scattercarpet\"}],\"scattergeo\":[{\"marker\":{\"colorbar\":{\"outlinewidth\":0,\"ticks\":\"\"}},\"type\":\"scattergeo\"}],\"scattergl\":[{\"marker\":{\"colorbar\":{\"outlinewidth\":0,\"ticks\":\"\"}},\"type\":\"scattergl\"}],\"scattermapbox\":[{\"marker\":{\"colorbar\":{\"outlinewidth\":0,\"ticks\":\"\"}},\"type\":\"scattermapbox\"}],\"scatterpolar\":[{\"marker\":{\"colorbar\":{\"outlinewidth\":0,\"ticks\":\"\"}},\"type\":\"scatterpolar\"}],\"scatterpolargl\":[{\"marker\":{\"colorbar\":{\"outlinewidth\":0,\"ticks\":\"\"}},\"type\":\"scatterpolargl\"}],\"scatterternary\":[{\"marker\":{\"colorbar\":{\"outlinewidth\":0,\"ticks\":\"\"}},\"type\":\"scatterternary\"}],\"surface\":[{\"colorbar\":{\"outlinewidth\":0,\"ticks\":\"\"},\"colorscale\":[[0.0,\"#0d0887\"],[0.1111111111111111,\"#46039f\"],[0.2222222222222222,\"#7201a8\"],[0.3333333333333333,\"#9c179e\"],[0.4444444444444444,\"#bd3786\"],[0.5555555555555556,\"#d8576b\"],[0.6666666666666666,\"#ed7953\"],[0.7777777777777778,\"#fb9f3a\"],[0.8888888888888888,\"#fdca26\"],[1.0,\"#f0f921\"]],\"type\":\"surface\"}],\"table\":[{\"cells\":{\"fill\":{\"color\":\"#EBF0F8\"},\"line\":{\"color\":\"white\"}},\"header\":{\"fill\":{\"color\":\"#C8D4E3\"},\"line\":{\"color\":\"white\"}},\"type\":\"table\"}]},\"layout\":{\"annotationdefaults\":{\"arrowcolor\":\"#2a3f5f\",\"arrowhead\":0,\"arrowwidth\":1},\"autotypenumbers\":\"strict\",\"coloraxis\":{\"colorbar\":{\"outlinewidth\":0,\"ticks\":\"\"}},\"colorscale\":{\"diverging\":[[0,\"#8e0152\"],[0.1,\"#c51b7d\"],[0.2,\"#de77ae\"],[0.3,\"#f1b6da\"],[0.4,\"#fde0ef\"],[0.5,\"#f7f7f7\"],[0.6,\"#e6f5d0\"],[0.7,\"#b8e186\"],[0.8,\"#7fbc41\"],[0.9,\"#4d9221\"],[1,\"#276419\"]],\"sequential\":[[0.0,\"#0d0887\"],[0.1111111111111111,\"#46039f\"],[0.2222222222222222,\"#7201a8\"],[0.3333333333333333,\"#9c179e\"],[0.4444444444444444,\"#bd3786\"],[0.5555555555555556,\"#d8576b\"],[0.6666666666666666,\"#ed7953\"],[0.7777777777777778,\"#fb9f3a\"],[0.8888888888888888,\"#fdca26\"],[1.0,\"#f0f921\"]],\"sequentialminus\":[[0.0,\"#0d0887\"],[0.1111111111111111,\"#46039f\"],[0.2222222222222222,\"#7201a8\"],[0.3333333333333333,\"#9c179e\"],[0.4444444444444444,\"#bd3786\"],[0.5555555555555556,\"#d8576b\"],[0.6666666666666666,\"#ed7953\"],[0.7777777777777778,\"#fb9f3a\"],[0.8888888888888888,\"#fdca26\"],[1.0,\"#f0f921\"]]},\"colorway\":[\"#636efa\",\"#EF553B\",\"#00cc96\",\"#ab63fa\",\"#FFA15A\",\"#19d3f3\",\"#FF6692\",\"#B6E880\",\"#FF97FF\",\"#FECB52\"],\"font\":{\"color\":\"#2a3f5f\"},\"geo\":{\"bgcolor\":\"white\",\"lakecolor\":\"white\",\"landcolor\":\"#E5ECF6\",\"showlakes\":true,\"showland\":true,\"subunitcolor\":\"white\"},\"hoverlabel\":{\"align\":\"left\"},\"hovermode\":\"closest\",\"mapbox\":{\"style\":\"light\"},\"paper_bgcolor\":\"white\",\"plot_bgcolor\":\"#E5ECF6\",\"polar\":{\"angularaxis\":{\"gridcolor\":\"white\",\"linecolor\":\"white\",\"ticks\":\"\"},\"bgcolor\":\"#E5ECF6\",\"radialaxis\":{\"gridcolor\":\"white\",\"linecolor\":\"white\",\"ticks\":\"\"}},\"scene\":{\"xaxis\":{\"backgroundcolor\":\"#E5ECF6\",\"gridcolor\":\"white\",\"gridwidth\":2,\"linecolor\":\"white\",\"showbackground\":true,\"ticks\":\"\",\"zerolinecolor\":\"white\"},\"yaxis\":{\"backgroundcolor\":\"#E5ECF6\",\"gridcolor\":\"white\",\"gridwidth\":2,\"linecolor\":\"white\",\"showbackground\":true,\"ticks\":\"\",\"zerolinecolor\":\"white\"},\"zaxis\":{\"backgroundcolor\":\"#E5ECF6\",\"gridcolor\":\"white\",\"gridwidth\":2,\"linecolor\":\"white\",\"showbackground\":true,\"ticks\":\"\",\"zerolinecolor\":\"white\"}},\"shapedefaults\":{\"line\":{\"color\":\"#2a3f5f\"}},\"ternary\":{\"aaxis\":{\"gridcolor\":\"white\",\"linecolor\":\"white\",\"ticks\":\"\"},\"baxis\":{\"gridcolor\":\"white\",\"linecolor\":\"white\",\"ticks\":\"\"},\"bgcolor\":\"#E5ECF6\",\"caxis\":{\"gridcolor\":\"white\",\"linecolor\":\"white\",\"ticks\":\"\"}},\"title\":{\"x\":0.05},\"xaxis\":{\"automargin\":true,\"gridcolor\":\"white\",\"linecolor\":\"white\",\"ticks\":\"\",\"title\":{\"standoff\":15},\"zerolinecolor\":\"white\",\"zerolinewidth\":2},\"yaxis\":{\"automargin\":true,\"gridcolor\":\"white\",\"linecolor\":\"white\",\"ticks\":\"\",\"title\":{\"standoff\":15},\"zerolinecolor\":\"white\",\"zerolinewidth\":2}}},\"scene\":{\"xaxis\":{\"title\":{\"text\":\"V<sub>3</sub>\"}},\"yaxis\":{\"title\":{\"text\":\"V<sub>2</sub>\"}},\"zaxis\":{\"title\":{\"text\":\"V<sub>1</sub>\"}}}},                        {\"responsive\": true}                    ).then(function(){\n",
       "                            \n",
       "var gd = document.getElementById('de656a56-fad4-474a-8c92-c53faaff0163');\n",
       "var x = new MutationObserver(function (mutations, observer) {{\n",
       "        var display = window.getComputedStyle(gd).display;\n",
       "        if (!display || display === 'none') {{\n",
       "            console.log([gd, 'removed!']);\n",
       "            Plotly.purge(gd);\n",
       "            observer.disconnect();\n",
       "        }}\n",
       "}});\n",
       "\n",
       "// Listen for the removal of the full notebook cells\n",
       "var notebookContainer = gd.closest('#notebook-container');\n",
       "if (notebookContainer) {{\n",
       "    x.observe(notebookContainer, {childList: true});\n",
       "}}\n",
       "\n",
       "// Listen for the clearing of the current output cell\n",
       "var outputEl = gd.closest('.output');\n",
       "if (outputEl) {{\n",
       "    x.observe(outputEl, {childList: true});\n",
       "}}\n",
       "\n",
       "                        })                };                });            </script>        </div>"
      ]
     },
     "metadata": {},
     "output_type": "display_data"
    },
    {
     "name": "stdout",
     "output_type": "stream",
     "text": [
      "Facet after projection using estimated Gamma\n"
     ]
    },
    {
     "data": {
      "application/vnd.plotly.v1+json": {
       "config": {
        "plotlyServerURL": "https://plot.ly"
       },
       "data": [
        {
         "alphahull": 0,
         "color": "yellow",
         "opacity": 1,
         "type": "mesh3d",
         "x": [
          3.8549515746595313,
          3.87193570011216,
          2.041891478417889,
          2.090193779866383,
          -0.01859140958210137,
          0.12956342544895172,
          -0.016028474662873382,
          2.063018755615192,
          1.976985186214844,
          -0.018500431758996072,
          0.1039648187278166,
          -0.02106336667822495,
          2.06908739641309,
          2.00392061178567
         ],
         "y": [
          -0.21232176083042012,
          -0.06865753481577337,
          0.7852850964673851,
          -0.9269811249235738,
          0.011394241677086414,
          0.06585289419463411,
          0.010846499261414691,
          0.9266696205571587,
          0.8998687182257105,
          -0.010073338612479749,
          -0.07752236388477013,
          -0.009525596196807942,
          -1.072631177979879,
          -1.0341972426863377
         ],
         "z": [
          -0.22661570457091343,
          -0.0841001910701745,
          -1.0917449027665584,
          0.916494228089259,
          -0.00609141658672728,
          0.06748550172203513,
          0.014781266729045922,
          -0.9472524214012117,
          -1.0534325258733022,
          0.015491911393225533,
          -0.0746602858439657,
          -0.005380771922547559,
          0.7762937010087928,
          0.8912577641912778
         ]
        },
        {
         "marker": {
          "color": "black",
          "size": 3
         },
         "mode": "markers",
         "showlegend": false,
         "type": "scatter3d",
         "x": [
          -0.018545920670548943
         ],
         "y": [
          0.0006604515323033536
         ],
         "z": [
          0.004700247403249154
         ]
        },
        {
         "line": {
          "color": "black",
          "width": 2
         },
         "mode": "lines",
         "showlegend": false,
         "type": "scatter3d",
         "x": [
          -0.018545920670548943,
          -0.2647743960292081
         ],
         "y": [
          0.0006604515323033536,
          0.03080954745828266
         ],
         "z": [
          0.004700247403249154,
          0.035725558640951234
         ]
        },
        {
         "marker": {
          "color": "black",
          "size": 3
         },
         "mode": "text",
         "showlegend": false,
         "text": [
          "[-1.  1.  1. -1.]"
         ],
         "textfont": {
          "color": "black",
          "size": 14
         },
         "textposition": "middle center",
         "type": "scatter3d",
         "x": [
          -0.3632657861726718
         ],
         "y": [
          0.04286918582867439
         ],
         "z": [
          0.048135683136032066
         ]
        },
        {
         "line": {
          "color": "black",
          "width": 2
         },
         "mode": "lines",
         "showlegend": false,
         "type": "scatter3d",
         "x": [
          -0.01859140958210137,
          -0.016028474662873382
         ],
         "y": [
          0.011394241677086414,
          0.010846499261414691
         ],
         "z": [
          -0.00609141658672728,
          0.014781266729045922
         ]
        },
        {
         "line": {
          "color": "black",
          "width": 2
         },
         "mode": "lines",
         "showlegend": false,
         "type": "scatter3d",
         "x": [
          -0.01859140958210137,
          -0.02106336667822495
         ],
         "y": [
          0.011394241677086414,
          -0.009525596196807942
         ],
         "z": [
          -0.00609141658672728,
          -0.005380771922547559
         ]
        },
        {
         "line": {
          "color": "black",
          "width": 2
         },
         "mode": "lines",
         "showlegend": false,
         "type": "scatter3d",
         "x": [
          -0.016028474662873382,
          -0.018500431758996072
         ],
         "y": [
          0.010846499261414691,
          -0.010073338612479749
         ],
         "z": [
          0.014781266729045922,
          0.015491911393225533
         ]
        },
        {
         "line": {
          "color": "black",
          "width": 2
         },
         "mode": "lines",
         "showlegend": false,
         "type": "scatter3d",
         "x": [
          -0.018500431758996072,
          -0.02106336667822495
         ],
         "y": [
          -0.010073338612479749,
          -0.009525596196807942
         ],
         "z": [
          0.015491911393225533,
          -0.005380771922547559
         ]
        },
        {
         "marker": {
          "color": "black",
          "size": 3
         },
         "mode": "markers",
         "showlegend": false,
         "type": "scatter3d",
         "x": [
          2.0174738170545816
         ],
         "y": [
          -0.14429755155692103
         ],
         "z": [
          -0.1541817980431612
         ]
        },
        {
         "line": {
          "color": "black",
          "width": 2
         },
         "mode": "lines",
         "showlegend": false,
         "type": "scatter3d",
         "x": [
          2.0174738170545816,
          2.0039820316250627
         ],
         "y": [
          -0.14429755155692103,
          -0.32139371119149973
         ],
         "z": [
          -0.1541817980431612,
          -0.3301219070820261
         ]
        },
        {
         "marker": {
          "color": "black",
          "size": 3
         },
         "mode": "text",
         "showlegend": false,
         "text": [
          "[-1.  0.  0.  1.]"
         ],
         "textfont": {
          "color": "black",
          "size": 14
         },
         "textposition": "middle center",
         "type": "scatter3d",
         "x": [
          1.9985853174532553
         ],
         "y": [
          -0.3922321750453312
         ],
         "z": [
          -0.4004979506975721
         ]
        },
        {
         "line": {
          "color": "black",
          "width": 2
         },
         "mode": "lines",
         "showlegend": false,
         "type": "scatter3d",
         "x": [
          3.8549515746595313,
          2.041891478417889
         ],
         "y": [
          -0.21232176083042012,
          0.7852850964673851
         ],
         "z": [
          -0.22661570457091343,
          -1.0917449027665584
         ]
        },
        {
         "line": {
          "color": "black",
          "width": 2
         },
         "mode": "lines",
         "showlegend": false,
         "type": "scatter3d",
         "x": [
          3.8549515746595313,
          2.06908739641309
         ],
         "y": [
          -0.21232176083042012,
          -1.072631177979879
         ],
         "z": [
          -0.22661570457091343,
          0.7762937010087928
         ]
        },
        {
         "line": {
          "color": "black",
          "width": 2
         },
         "mode": "lines",
         "showlegend": false,
         "type": "scatter3d",
         "x": [
          2.041891478417889,
          0.1039648187278166
         ],
         "y": [
          0.7852850964673851,
          -0.07752236388477013
         ],
         "z": [
          -1.0917449027665584,
          -0.0746602858439657
         ]
        },
        {
         "line": {
          "color": "black",
          "width": 2
         },
         "mode": "lines",
         "showlegend": false,
         "type": "scatter3d",
         "x": [
          0.1039648187278166,
          2.06908739641309
         ],
         "y": [
          -0.07752236388477013,
          -1.072631177979879
         ],
         "z": [
          -0.0746602858439657,
          0.7762937010087928
         ]
        },
        {
         "marker": {
          "color": "black",
          "size": 3
         },
         "mode": "markers",
         "showlegend": false,
         "type": "scatter3d",
         "x": [
          0.8166373414200446
         ],
         "y": [
          0.3219000192577207
         ],
         "z": [
          -0.44626198059862016
         ]
        },
        {
         "line": {
          "color": "black",
          "width": 2
         },
         "mode": "lines",
         "showlegend": false,
         "type": "scatter3d",
         "x": [
          0.8166373414200446,
          0.6982294555679661
         ],
         "y": [
          0.3219000192577207,
          0.32841524371406416
         ],
         "z": [
          -0.44626198059862016,
          -0.6663463381034747
         ]
        },
        {
         "marker": {
          "color": "black",
          "size": 3
         },
         "mode": "text",
         "showlegend": false,
         "text": [
          "[-1.  0.  1.  0.]"
         ],
         "textfont": {
          "color": "black",
          "size": 14
         },
         "textposition": "middle center",
         "type": "scatter3d",
         "x": [
          0.6508663012271347
         ],
         "y": [
          0.3310213334966015
         ],
         "z": [
          -0.7543800811054164
         ]
        },
        {
         "line": {
          "color": "black",
          "width": 2
         },
         "mode": "lines",
         "showlegend": false,
         "type": "scatter3d",
         "x": [
          2.041891478417889,
          1.976985186214844
         ],
         "y": [
          0.7852850964673851,
          0.8998687182257105
         ],
         "z": [
          -1.0917449027665584,
          -1.0534325258733022
         ]
        },
        {
         "line": {
          "color": "black",
          "width": 2
         },
         "mode": "lines",
         "showlegend": false,
         "type": "scatter3d",
         "x": [
          2.041891478417889,
          0.1039648187278166
         ],
         "y": [
          0.7852850964673851,
          -0.07752236388477013
         ],
         "z": [
          -1.0917449027665584,
          -0.0746602858439657
         ]
        },
        {
         "line": {
          "color": "black",
          "width": 2
         },
         "mode": "lines",
         "showlegend": false,
         "type": "scatter3d",
         "x": [
          -0.01859140958210137,
          1.976985186214844
         ],
         "y": [
          0.011394241677086414,
          0.8998687182257105
         ],
         "z": [
          -0.00609141658672728,
          -1.0534325258733022
         ]
        },
        {
         "line": {
          "color": "black",
          "width": 2
         },
         "mode": "lines",
         "showlegend": false,
         "type": "scatter3d",
         "x": [
          -0.01859140958210137,
          -0.02106336667822495
         ],
         "y": [
          0.011394241677086414,
          -0.009525596196807942
         ],
         "z": [
          -0.00609141658672728,
          -0.005380771922547559
         ]
        },
        {
         "line": {
          "color": "black",
          "width": 2
         },
         "mode": "lines",
         "showlegend": false,
         "type": "scatter3d",
         "x": [
          0.1039648187278166,
          -0.02106336667822495
         ],
         "y": [
          -0.07752236388477013,
          -0.009525596196807942
         ],
         "z": [
          -0.0746602858439657,
          -0.005380771922547559
         ]
        },
        {
         "marker": {
          "color": "black",
          "size": 3
         },
         "mode": "markers",
         "showlegend": false,
         "type": "scatter3d",
         "x": [
          0.8274818056978711
         ],
         "y": [
          -0.44078994387205483
         ],
         "z": [
          0.32060046376535656
         ]
        },
        {
         "line": {
          "color": "black",
          "width": 2
         },
         "mode": "lines",
         "showlegend": false,
         "type": "scatter3d",
         "x": [
          0.8274818056978711,
          0.7117174971618292
         ],
         "y": [
          -0.44078994387205483,
          -0.6622126117211815
         ],
         "z": [
          0.32060046376535656,
          0.3290044528031535
         ]
        },
        {
         "marker": {
          "color": "black",
          "size": 3
         },
         "mode": "text",
         "showlegend": false,
         "text": [
          "[-1.  1.  0.  0.]"
         ],
         "textfont": {
          "color": "black",
          "size": 14
         },
         "textposition": "middle center",
         "type": "scatter3d",
         "x": [
          0.6654117737474126
         ],
         "y": [
          -0.7507816788608322
         ],
         "z": [
          0.3323660484182723
         ]
        },
        {
         "line": {
          "color": "black",
          "width": 2
         },
         "mode": "lines",
         "showlegend": false,
         "type": "scatter3d",
         "x": [
          -0.018500431758996072,
          -0.02106336667822495
         ],
         "y": [
          -0.010073338612479749,
          -0.009525596196807942
         ],
         "z": [
          0.015491911393225533,
          -0.005380771922547559
         ]
        },
        {
         "line": {
          "color": "black",
          "width": 2
         },
         "mode": "lines",
         "showlegend": false,
         "type": "scatter3d",
         "x": [
          -0.018500431758996072,
          2.00392061178567
         ],
         "y": [
          -0.010073338612479749,
          -1.0341972426863377
         ],
         "z": [
          0.015491911393225533,
          0.8912577641912778
         ]
        },
        {
         "line": {
          "color": "black",
          "width": 2
         },
         "mode": "lines",
         "showlegend": false,
         "type": "scatter3d",
         "x": [
          0.1039648187278166,
          -0.02106336667822495
         ],
         "y": [
          -0.07752236388477013,
          -0.009525596196807942
         ],
         "z": [
          -0.0746602858439657,
          -0.005380771922547559
         ]
        },
        {
         "line": {
          "color": "black",
          "width": 2
         },
         "mode": "lines",
         "showlegend": false,
         "type": "scatter3d",
         "x": [
          0.1039648187278166,
          2.06908739641309
         ],
         "y": [
          -0.07752236388477013,
          -1.072631177979879
         ],
         "z": [
          -0.0746602858439657,
          0.7762937010087928
         ]
        },
        {
         "line": {
          "color": "black",
          "width": 2
         },
         "mode": "lines",
         "showlegend": false,
         "type": "scatter3d",
         "x": [
          2.06908739641309,
          2.00392061178567
         ],
         "y": [
          -1.072631177979879,
          -1.0341972426863377
         ],
         "z": [
          0.7762937010087928,
          0.8912577641912778
         ]
        },
        {
         "marker": {
          "color": "black",
          "size": 3
         },
         "mode": "markers",
         "showlegend": false,
         "type": "scatter3d",
         "x": [
          0.8269894966068027
         ],
         "y": [
          0.38292639478320084
         ],
         "z": [
          -0.38490191908203203
         ]
        },
        {
         "line": {
          "color": "black",
          "width": 2
         },
         "mode": "lines",
         "showlegend": false,
         "type": "scatter3d",
         "x": [
          0.8269894966068027,
          0.7333106776395024
         ],
         "y": [
          0.38292639478320084,
          0.6140446614465747
         ],
         "z": [
          -0.38490191908203203,
          -0.3673341733128848
         ]
        },
        {
         "marker": {
          "color": "black",
          "size": 3
         },
         "mode": "text",
         "showlegend": false,
         "text": [
          "[ 0.  0.  1. -1.]"
         ],
         "textfont": {
          "color": "black",
          "size": 14
         },
         "textposition": "middle center",
         "type": "scatter3d",
         "x": [
          0.6958391500525823
         ],
         "y": [
          0.7064919681119243
         ],
         "z": [
          -0.3603070750052259
         ]
        },
        {
         "line": {
          "color": "black",
          "width": 2
         },
         "mode": "lines",
         "showlegend": false,
         "type": "scatter3d",
         "x": [
          -0.01859140958210137,
          -0.016028474662873382
         ],
         "y": [
          0.011394241677086414,
          0.010846499261414691
         ],
         "z": [
          -0.00609141658672728,
          0.014781266729045922
         ]
        },
        {
         "line": {
          "color": "black",
          "width": 2
         },
         "mode": "lines",
         "showlegend": false,
         "type": "scatter3d",
         "x": [
          -0.01859140958210137,
          1.976985186214844
         ],
         "y": [
          0.011394241677086414,
          0.8998687182257105
         ],
         "z": [
          -0.00609141658672728,
          -1.0534325258733022
         ]
        },
        {
         "line": {
          "color": "black",
          "width": 2
         },
         "mode": "lines",
         "showlegend": false,
         "type": "scatter3d",
         "x": [
          0.12956342544895172,
          -0.016028474662873382
         ],
         "y": [
          0.06585289419463411,
          0.010846499261414691
         ],
         "z": [
          0.06748550172203513,
          0.014781266729045922
         ]
        },
        {
         "line": {
          "color": "black",
          "width": 2
         },
         "mode": "lines",
         "showlegend": false,
         "type": "scatter3d",
         "x": [
          0.12956342544895172,
          2.063018755615192
         ],
         "y": [
          0.06585289419463411,
          0.9266696205571587
         ],
         "z": [
          0.06748550172203513,
          -0.9472524214012117
         ]
        },
        {
         "line": {
          "color": "black",
          "width": 2
         },
         "mode": "lines",
         "showlegend": false,
         "type": "scatter3d",
         "x": [
          2.063018755615192,
          1.976985186214844
         ],
         "y": [
          0.9266696205571587,
          0.8998687182257105
         ],
         "z": [
          -0.9472524214012117,
          -1.0534325258733022
         ]
        },
        {
         "marker": {
          "color": "black",
          "size": 3
         },
         "mode": "markers",
         "showlegend": false,
         "type": "scatter3d",
         "x": [
          0.837829782135827
         ],
         "y": [
          -0.3789104625532685
         ],
         "z": [
          0.38110213442496865
         ]
        },
        {
         "line": {
          "color": "black",
          "width": 2
         },
         "mode": "lines",
         "showlegend": false,
         "type": "scatter3d",
         "x": [
          0.837829782135827,
          0.7467732143300411
         ],
         "y": [
          -0.3789104625532685,
          -0.36026718482170816
         ],
         "z": [
          0.38110213442496865,
          0.6131821414373225
         ]
        },
        {
         "marker": {
          "color": "black",
          "size": 3
         },
         "mode": "text",
         "showlegend": false,
         "text": [
          "[ 0.  1.  0. -1.]"
         ],
         "textfont": {
          "color": "black",
          "size": 14
         },
         "textposition": "middle center",
         "type": "scatter3d",
         "x": [
          0.7103505872077267
         ],
         "y": [
          -0.35280987372908407
         ],
         "z": [
          0.706014144242264
         ]
        },
        {
         "line": {
          "color": "black",
          "width": 2
         },
         "mode": "lines",
         "showlegend": false,
         "type": "scatter3d",
         "x": [
          2.090193779866383,
          0.12956342544895172
         ],
         "y": [
          -0.9269811249235738,
          0.06585289419463411
         ],
         "z": [
          0.916494228089259,
          0.06748550172203513
         ]
        },
        {
         "line": {
          "color": "black",
          "width": 2
         },
         "mode": "lines",
         "showlegend": false,
         "type": "scatter3d",
         "x": [
          2.090193779866383,
          2.00392061178567
         ],
         "y": [
          -0.9269811249235738,
          -1.0341972426863377
         ],
         "z": [
          0.916494228089259,
          0.8912577641912778
         ]
        },
        {
         "line": {
          "color": "black",
          "width": 2
         },
         "mode": "lines",
         "showlegend": false,
         "type": "scatter3d",
         "x": [
          0.12956342544895172,
          -0.016028474662873382
         ],
         "y": [
          0.06585289419463411,
          0.010846499261414691
         ],
         "z": [
          0.06748550172203513,
          0.014781266729045922
         ]
        },
        {
         "line": {
          "color": "black",
          "width": 2
         },
         "mode": "lines",
         "showlegend": false,
         "type": "scatter3d",
         "x": [
          -0.016028474662873382,
          -0.018500431758996072
         ],
         "y": [
          0.010846499261414691,
          -0.010073338612479749
         ],
         "z": [
          0.014781266729045922,
          0.015491911393225533
         ]
        },
        {
         "line": {
          "color": "black",
          "width": 2
         },
         "mode": "lines",
         "showlegend": false,
         "type": "scatter3d",
         "x": [
          -0.018500431758996072,
          2.00392061178567
         ],
         "y": [
          -0.010073338612479749,
          -1.0341972426863377
         ],
         "z": [
          0.015491911393225533,
          0.8912577641912778
         ]
        },
        {
         "marker": {
          "color": "black",
          "size": 3
         },
         "mode": "markers",
         "showlegend": false,
         "type": "scatter3d",
         "x": [
          2.0386779152606715
         ],
         "y": [
          -0.0007790362468885759
         ],
         "z": [
          -0.011843220665023024
         ]
        },
        {
         "line": {
          "color": "black",
          "width": 2
         },
         "mode": "lines",
         "showlegend": false,
         "type": "scatter3d",
         "x": [
          2.0386779152606715,
          2.0521697006901904
         ],
         "y": [
          -0.0007790362468885759,
          0.1763171233876901
         ],
         "z": [
          -0.011843220665023024,
          0.16409688837384187
         ]
        },
        {
         "marker": {
          "color": "black",
          "size": 3
         },
         "mode": "text",
         "showlegend": false,
         "text": [
          "[ 1.  0.  0. -1.]"
         ],
         "textfont": {
          "color": "black",
          "size": 14
         },
         "textposition": "middle center",
         "type": "scatter3d",
         "x": [
          2.0575664148619977
         ],
         "y": [
          0.2471555872415216
         ],
         "z": [
          0.23447293198938784
         ]
        },
        {
         "line": {
          "color": "black",
          "width": 2
         },
         "mode": "lines",
         "showlegend": false,
         "type": "scatter3d",
         "x": [
          3.87193570011216,
          2.090193779866383
         ],
         "y": [
          -0.06865753481577337,
          -0.9269811249235738
         ],
         "z": [
          -0.0841001910701745,
          0.916494228089259
         ]
        },
        {
         "line": {
          "color": "black",
          "width": 2
         },
         "mode": "lines",
         "showlegend": false,
         "type": "scatter3d",
         "x": [
          3.87193570011216,
          2.063018755615192
         ],
         "y": [
          -0.06865753481577337,
          0.9266696205571587
         ],
         "z": [
          -0.0841001910701745,
          -0.9472524214012117
         ]
        },
        {
         "line": {
          "color": "black",
          "width": 2
         },
         "mode": "lines",
         "showlegend": false,
         "type": "scatter3d",
         "x": [
          2.090193779866383,
          0.12956342544895172
         ],
         "y": [
          -0.9269811249235738,
          0.06585289419463411
         ],
         "z": [
          0.916494228089259,
          0.06748550172203513
         ]
        },
        {
         "line": {
          "color": "black",
          "width": 2
         },
         "mode": "lines",
         "showlegend": false,
         "type": "scatter3d",
         "x": [
          0.12956342544895172,
          2.063018755615192
         ],
         "y": [
          0.06585289419463411,
          0.9266696205571587
         ],
         "z": [
          0.06748550172203513,
          -0.9472524214012117
         ]
        },
        {
         "marker": {
          "color": "black",
          "size": 3
         },
         "mode": "markers",
         "showlegend": false,
         "type": "scatter3d",
         "x": [
          null
         ],
         "y": [
          null
         ],
         "z": [
          null
         ]
        },
        {
         "line": {
          "color": "black",
          "width": 2
         },
         "mode": "lines",
         "showlegend": false,
         "type": "scatter3d",
         "x": [
          null,
          null
         ],
         "y": [
          null,
          null
         ],
         "z": [
          null,
          null
         ]
        },
        {
         "marker": {
          "color": "black",
          "size": 3
         },
         "mode": "text",
         "showlegend": false,
         "text": [
          "[0. 0. 0. 0.]"
         ],
         "textfont": {
          "color": "black",
          "size": 14
         },
         "textposition": "middle center",
         "type": "scatter3d",
         "x": [
          null
         ],
         "y": [
          null
         ],
         "z": [
          null
         ]
        },
        {
         "marker": {
          "color": "black",
          "size": 3
         },
         "mode": "markers",
         "showlegend": false,
         "type": "scatter3d",
         "x": [
          2.7617565390039234
         ],
         "y": [
          0.46616882792081216
         ],
         "z": [
          -0.680629149136432
         ]
        },
        {
         "line": {
          "color": "black",
          "width": 2
         },
         "mode": "lines",
         "showlegend": false,
         "type": "scatter3d",
         "x": [
          2.7617565390039234,
          2.9080500460670766
         ],
         "y": [
          0.46616882792081216,
          0.5999628637871193
         ],
         "z": [
          -0.680629149136432,
          -0.8329359636844635
         ]
        },
        {
         "marker": {
          "color": "black",
          "size": 3
         },
         "mode": "text",
         "showlegend": false,
         "text": [
          "[0. 0. 0. 0.]"
         ],
         "textfont": {
          "color": "black",
          "size": 14
         },
         "textposition": "middle center",
         "type": "scatter3d",
         "x": [
          2.966567448892338
         ],
         "y": [
          0.6534804781336421
         ],
         "z": [
          -0.8938586895036762
         ]
        },
        {
         "line": {
          "color": "black",
          "width": 2
         },
         "mode": "lines",
         "showlegend": false,
         "type": "scatter3d",
         "x": [
          3.8549515746595313,
          3.87193570011216
         ],
         "y": [
          -0.21232176083042012,
          -0.06865753481577337
         ],
         "z": [
          -0.22661570457091343,
          -0.0841001910701745
         ]
        },
        {
         "line": {
          "color": "black",
          "width": 2
         },
         "mode": "lines",
         "showlegend": false,
         "type": "scatter3d",
         "x": [
          3.8549515746595313,
          2.041891478417889
         ],
         "y": [
          -0.21232176083042012,
          0.7852850964673851
         ],
         "z": [
          -0.22661570457091343,
          -1.0917449027665584
         ]
        },
        {
         "line": {
          "color": "black",
          "width": 2
         },
         "mode": "lines",
         "showlegend": false,
         "type": "scatter3d",
         "x": [
          3.87193570011216,
          2.063018755615192
         ],
         "y": [
          -0.06865753481577337,
          0.9266696205571587
         ],
         "z": [
          -0.0841001910701745,
          -0.9472524214012117
         ]
        },
        {
         "line": {
          "color": "black",
          "width": 2
         },
         "mode": "lines",
         "showlegend": false,
         "type": "scatter3d",
         "x": [
          2.041891478417889,
          1.976985186214844
         ],
         "y": [
          0.7852850964673851,
          0.8998687182257105
         ],
         "z": [
          -1.0917449027665584,
          -1.0534325258733022
         ]
        },
        {
         "line": {
          "color": "black",
          "width": 2
         },
         "mode": "lines",
         "showlegend": false,
         "type": "scatter3d",
         "x": [
          2.063018755615192,
          1.976985186214844
         ],
         "y": [
          0.9266696205571587,
          0.8998687182257105
         ],
         "z": [
          -0.9472524214012117,
          -1.0534325258733022
         ]
        },
        {
         "marker": {
          "color": "black",
          "size": 3
         },
         "mode": "markers",
         "showlegend": false,
         "type": "scatter3d",
         "x": [
          2.778017812567367
         ],
         "y": [
          -0.6629577682471968
         ],
         "z": [
          0.45466595952964833
         ]
        },
        {
         "line": {
          "color": "black",
          "width": 2
         },
         "mode": "lines",
         "showlegend": false,
         "type": "scatter3d",
         "x": [
          2.778017812567367,
          2.9258496903042728
         ],
         "y": [
          -0.6629577682471968,
          -0.8134821241872265
         ],
         "z": [
          0.45466595952964833,
          0.5887858842001451
         ]
        },
        {
         "marker": {
          "color": "black",
          "size": 3
         },
         "mode": "text",
         "showlegend": false,
         "text": [
          "[0. 0. 0. 0.]"
         ],
         "textfont": {
          "color": "black",
          "size": 14
         },
         "textposition": "middle center",
         "type": "scatter3d",
         "x": [
          2.984982441399035
         ],
         "y": [
          -0.8736918665632385
         ],
         "z": [
          0.6424338540683439
         ]
        },
        {
         "line": {
          "color": "black",
          "width": 2
         },
         "mode": "lines",
         "showlegend": false,
         "type": "scatter3d",
         "x": [
          3.8549515746595313,
          3.87193570011216
         ],
         "y": [
          -0.21232176083042012,
          -0.06865753481577337
         ],
         "z": [
          -0.22661570457091343,
          -0.0841001910701745
         ]
        },
        {
         "line": {
          "color": "black",
          "width": 2
         },
         "mode": "lines",
         "showlegend": false,
         "type": "scatter3d",
         "x": [
          3.8549515746595313,
          2.06908739641309
         ],
         "y": [
          -0.21232176083042012,
          -1.072631177979879
         ],
         "z": [
          -0.22661570457091343,
          0.7762937010087928
         ]
        },
        {
         "line": {
          "color": "black",
          "width": 2
         },
         "mode": "lines",
         "showlegend": false,
         "type": "scatter3d",
         "x": [
          3.87193570011216,
          2.090193779866383
         ],
         "y": [
          -0.06865753481577337,
          -0.9269811249235738
         ],
         "z": [
          -0.0841001910701745,
          0.916494228089259
         ]
        },
        {
         "line": {
          "color": "black",
          "width": 2
         },
         "mode": "lines",
         "showlegend": false,
         "type": "scatter3d",
         "x": [
          2.090193779866383,
          2.00392061178567
         ],
         "y": [
          -0.9269811249235738,
          -1.0341972426863377
         ],
         "z": [
          0.916494228089259,
          0.8912577641912778
         ]
        },
        {
         "line": {
          "color": "black",
          "width": 2
         },
         "mode": "lines",
         "showlegend": false,
         "type": "scatter3d",
         "x": [
          2.06908739641309,
          2.00392061178567
         ],
         "y": [
          -1.072631177979879,
          -1.0341972426863377
         ],
         "z": [
          0.7762937010087928,
          0.8912577641912778
         ]
        },
        {
         "marker": {
          "color": "black",
          "size": 3
         },
         "mode": "markers",
         "showlegend": false,
         "type": "scatter3d",
         "x": [
          null
         ],
         "y": [
          null
         ],
         "z": [
          null
         ]
        },
        {
         "line": {
          "color": "black",
          "width": 2
         },
         "mode": "lines",
         "showlegend": false,
         "type": "scatter3d",
         "x": [
          null,
          null
         ],
         "y": [
          null,
          null
         ],
         "z": [
          null,
          null
         ]
        },
        {
         "marker": {
          "color": "black",
          "size": 3
         },
         "mode": "text",
         "showlegend": false,
         "text": [
          "[0. 0. 0. 0.]"
         ],
         "textfont": {
          "color": "black",
          "size": 14
         },
         "textposition": "middle center",
         "type": "scatter3d",
         "x": [
          null
         ],
         "y": [
          null
         ],
         "z": [
          null
         ]
        }
       ],
       "layout": {
        "scene": {
         "xaxis": {
          "title": {
           "text": "V<sub>3</sub>"
          }
         },
         "yaxis": {
          "title": {
           "text": "V<sub>2</sub>"
          }
         },
         "zaxis": {
          "title": {
           "text": "V<sub>1</sub>"
          }
         }
        },
        "template": {
         "data": {
          "bar": [
           {
            "error_x": {
             "color": "#2a3f5f"
            },
            "error_y": {
             "color": "#2a3f5f"
            },
            "marker": {
             "line": {
              "color": "#E5ECF6",
              "width": 0.5
             },
             "pattern": {
              "fillmode": "overlay",
              "size": 10,
              "solidity": 0.2
             }
            },
            "type": "bar"
           }
          ],
          "barpolar": [
           {
            "marker": {
             "line": {
              "color": "#E5ECF6",
              "width": 0.5
             },
             "pattern": {
              "fillmode": "overlay",
              "size": 10,
              "solidity": 0.2
             }
            },
            "type": "barpolar"
           }
          ],
          "carpet": [
           {
            "aaxis": {
             "endlinecolor": "#2a3f5f",
             "gridcolor": "white",
             "linecolor": "white",
             "minorgridcolor": "white",
             "startlinecolor": "#2a3f5f"
            },
            "baxis": {
             "endlinecolor": "#2a3f5f",
             "gridcolor": "white",
             "linecolor": "white",
             "minorgridcolor": "white",
             "startlinecolor": "#2a3f5f"
            },
            "type": "carpet"
           }
          ],
          "choropleth": [
           {
            "colorbar": {
             "outlinewidth": 0,
             "ticks": ""
            },
            "type": "choropleth"
           }
          ],
          "contour": [
           {
            "colorbar": {
             "outlinewidth": 0,
             "ticks": ""
            },
            "colorscale": [
             [
              0,
              "#0d0887"
             ],
             [
              0.1111111111111111,
              "#46039f"
             ],
             [
              0.2222222222222222,
              "#7201a8"
             ],
             [
              0.3333333333333333,
              "#9c179e"
             ],
             [
              0.4444444444444444,
              "#bd3786"
             ],
             [
              0.5555555555555556,
              "#d8576b"
             ],
             [
              0.6666666666666666,
              "#ed7953"
             ],
             [
              0.7777777777777778,
              "#fb9f3a"
             ],
             [
              0.8888888888888888,
              "#fdca26"
             ],
             [
              1,
              "#f0f921"
             ]
            ],
            "type": "contour"
           }
          ],
          "contourcarpet": [
           {
            "colorbar": {
             "outlinewidth": 0,
             "ticks": ""
            },
            "type": "contourcarpet"
           }
          ],
          "heatmap": [
           {
            "colorbar": {
             "outlinewidth": 0,
             "ticks": ""
            },
            "colorscale": [
             [
              0,
              "#0d0887"
             ],
             [
              0.1111111111111111,
              "#46039f"
             ],
             [
              0.2222222222222222,
              "#7201a8"
             ],
             [
              0.3333333333333333,
              "#9c179e"
             ],
             [
              0.4444444444444444,
              "#bd3786"
             ],
             [
              0.5555555555555556,
              "#d8576b"
             ],
             [
              0.6666666666666666,
              "#ed7953"
             ],
             [
              0.7777777777777778,
              "#fb9f3a"
             ],
             [
              0.8888888888888888,
              "#fdca26"
             ],
             [
              1,
              "#f0f921"
             ]
            ],
            "type": "heatmap"
           }
          ],
          "heatmapgl": [
           {
            "colorbar": {
             "outlinewidth": 0,
             "ticks": ""
            },
            "colorscale": [
             [
              0,
              "#0d0887"
             ],
             [
              0.1111111111111111,
              "#46039f"
             ],
             [
              0.2222222222222222,
              "#7201a8"
             ],
             [
              0.3333333333333333,
              "#9c179e"
             ],
             [
              0.4444444444444444,
              "#bd3786"
             ],
             [
              0.5555555555555556,
              "#d8576b"
             ],
             [
              0.6666666666666666,
              "#ed7953"
             ],
             [
              0.7777777777777778,
              "#fb9f3a"
             ],
             [
              0.8888888888888888,
              "#fdca26"
             ],
             [
              1,
              "#f0f921"
             ]
            ],
            "type": "heatmapgl"
           }
          ],
          "histogram": [
           {
            "marker": {
             "pattern": {
              "fillmode": "overlay",
              "size": 10,
              "solidity": 0.2
             }
            },
            "type": "histogram"
           }
          ],
          "histogram2d": [
           {
            "colorbar": {
             "outlinewidth": 0,
             "ticks": ""
            },
            "colorscale": [
             [
              0,
              "#0d0887"
             ],
             [
              0.1111111111111111,
              "#46039f"
             ],
             [
              0.2222222222222222,
              "#7201a8"
             ],
             [
              0.3333333333333333,
              "#9c179e"
             ],
             [
              0.4444444444444444,
              "#bd3786"
             ],
             [
              0.5555555555555556,
              "#d8576b"
             ],
             [
              0.6666666666666666,
              "#ed7953"
             ],
             [
              0.7777777777777778,
              "#fb9f3a"
             ],
             [
              0.8888888888888888,
              "#fdca26"
             ],
             [
              1,
              "#f0f921"
             ]
            ],
            "type": "histogram2d"
           }
          ],
          "histogram2dcontour": [
           {
            "colorbar": {
             "outlinewidth": 0,
             "ticks": ""
            },
            "colorscale": [
             [
              0,
              "#0d0887"
             ],
             [
              0.1111111111111111,
              "#46039f"
             ],
             [
              0.2222222222222222,
              "#7201a8"
             ],
             [
              0.3333333333333333,
              "#9c179e"
             ],
             [
              0.4444444444444444,
              "#bd3786"
             ],
             [
              0.5555555555555556,
              "#d8576b"
             ],
             [
              0.6666666666666666,
              "#ed7953"
             ],
             [
              0.7777777777777778,
              "#fb9f3a"
             ],
             [
              0.8888888888888888,
              "#fdca26"
             ],
             [
              1,
              "#f0f921"
             ]
            ],
            "type": "histogram2dcontour"
           }
          ],
          "mesh3d": [
           {
            "colorbar": {
             "outlinewidth": 0,
             "ticks": ""
            },
            "type": "mesh3d"
           }
          ],
          "parcoords": [
           {
            "line": {
             "colorbar": {
              "outlinewidth": 0,
              "ticks": ""
             }
            },
            "type": "parcoords"
           }
          ],
          "pie": [
           {
            "automargin": true,
            "type": "pie"
           }
          ],
          "scatter": [
           {
            "marker": {
             "colorbar": {
              "outlinewidth": 0,
              "ticks": ""
             }
            },
            "type": "scatter"
           }
          ],
          "scatter3d": [
           {
            "line": {
             "colorbar": {
              "outlinewidth": 0,
              "ticks": ""
             }
            },
            "marker": {
             "colorbar": {
              "outlinewidth": 0,
              "ticks": ""
             }
            },
            "type": "scatter3d"
           }
          ],
          "scattercarpet": [
           {
            "marker": {
             "colorbar": {
              "outlinewidth": 0,
              "ticks": ""
             }
            },
            "type": "scattercarpet"
           }
          ],
          "scattergeo": [
           {
            "marker": {
             "colorbar": {
              "outlinewidth": 0,
              "ticks": ""
             }
            },
            "type": "scattergeo"
           }
          ],
          "scattergl": [
           {
            "marker": {
             "colorbar": {
              "outlinewidth": 0,
              "ticks": ""
             }
            },
            "type": "scattergl"
           }
          ],
          "scattermapbox": [
           {
            "marker": {
             "colorbar": {
              "outlinewidth": 0,
              "ticks": ""
             }
            },
            "type": "scattermapbox"
           }
          ],
          "scatterpolar": [
           {
            "marker": {
             "colorbar": {
              "outlinewidth": 0,
              "ticks": ""
             }
            },
            "type": "scatterpolar"
           }
          ],
          "scatterpolargl": [
           {
            "marker": {
             "colorbar": {
              "outlinewidth": 0,
              "ticks": ""
             }
            },
            "type": "scatterpolargl"
           }
          ],
          "scatterternary": [
           {
            "marker": {
             "colorbar": {
              "outlinewidth": 0,
              "ticks": ""
             }
            },
            "type": "scatterternary"
           }
          ],
          "surface": [
           {
            "colorbar": {
             "outlinewidth": 0,
             "ticks": ""
            },
            "colorscale": [
             [
              0,
              "#0d0887"
             ],
             [
              0.1111111111111111,
              "#46039f"
             ],
             [
              0.2222222222222222,
              "#7201a8"
             ],
             [
              0.3333333333333333,
              "#9c179e"
             ],
             [
              0.4444444444444444,
              "#bd3786"
             ],
             [
              0.5555555555555556,
              "#d8576b"
             ],
             [
              0.6666666666666666,
              "#ed7953"
             ],
             [
              0.7777777777777778,
              "#fb9f3a"
             ],
             [
              0.8888888888888888,
              "#fdca26"
             ],
             [
              1,
              "#f0f921"
             ]
            ],
            "type": "surface"
           }
          ],
          "table": [
           {
            "cells": {
             "fill": {
              "color": "#EBF0F8"
             },
             "line": {
              "color": "white"
             }
            },
            "header": {
             "fill": {
              "color": "#C8D4E3"
             },
             "line": {
              "color": "white"
             }
            },
            "type": "table"
           }
          ]
         },
         "layout": {
          "annotationdefaults": {
           "arrowcolor": "#2a3f5f",
           "arrowhead": 0,
           "arrowwidth": 1
          },
          "autotypenumbers": "strict",
          "coloraxis": {
           "colorbar": {
            "outlinewidth": 0,
            "ticks": ""
           }
          },
          "colorscale": {
           "diverging": [
            [
             0,
             "#8e0152"
            ],
            [
             0.1,
             "#c51b7d"
            ],
            [
             0.2,
             "#de77ae"
            ],
            [
             0.3,
             "#f1b6da"
            ],
            [
             0.4,
             "#fde0ef"
            ],
            [
             0.5,
             "#f7f7f7"
            ],
            [
             0.6,
             "#e6f5d0"
            ],
            [
             0.7,
             "#b8e186"
            ],
            [
             0.8,
             "#7fbc41"
            ],
            [
             0.9,
             "#4d9221"
            ],
            [
             1,
             "#276419"
            ]
           ],
           "sequential": [
            [
             0,
             "#0d0887"
            ],
            [
             0.1111111111111111,
             "#46039f"
            ],
            [
             0.2222222222222222,
             "#7201a8"
            ],
            [
             0.3333333333333333,
             "#9c179e"
            ],
            [
             0.4444444444444444,
             "#bd3786"
            ],
            [
             0.5555555555555556,
             "#d8576b"
            ],
            [
             0.6666666666666666,
             "#ed7953"
            ],
            [
             0.7777777777777778,
             "#fb9f3a"
            ],
            [
             0.8888888888888888,
             "#fdca26"
            ],
            [
             1,
             "#f0f921"
            ]
           ],
           "sequentialminus": [
            [
             0,
             "#0d0887"
            ],
            [
             0.1111111111111111,
             "#46039f"
            ],
            [
             0.2222222222222222,
             "#7201a8"
            ],
            [
             0.3333333333333333,
             "#9c179e"
            ],
            [
             0.4444444444444444,
             "#bd3786"
            ],
            [
             0.5555555555555556,
             "#d8576b"
            ],
            [
             0.6666666666666666,
             "#ed7953"
            ],
            [
             0.7777777777777778,
             "#fb9f3a"
            ],
            [
             0.8888888888888888,
             "#fdca26"
            ],
            [
             1,
             "#f0f921"
            ]
           ]
          },
          "colorway": [
           "#636efa",
           "#EF553B",
           "#00cc96",
           "#ab63fa",
           "#FFA15A",
           "#19d3f3",
           "#FF6692",
           "#B6E880",
           "#FF97FF",
           "#FECB52"
          ],
          "font": {
           "color": "#2a3f5f"
          },
          "geo": {
           "bgcolor": "white",
           "lakecolor": "white",
           "landcolor": "#E5ECF6",
           "showlakes": true,
           "showland": true,
           "subunitcolor": "white"
          },
          "hoverlabel": {
           "align": "left"
          },
          "hovermode": "closest",
          "mapbox": {
           "style": "light"
          },
          "paper_bgcolor": "white",
          "plot_bgcolor": "#E5ECF6",
          "polar": {
           "angularaxis": {
            "gridcolor": "white",
            "linecolor": "white",
            "ticks": ""
           },
           "bgcolor": "#E5ECF6",
           "radialaxis": {
            "gridcolor": "white",
            "linecolor": "white",
            "ticks": ""
           }
          },
          "scene": {
           "xaxis": {
            "backgroundcolor": "#E5ECF6",
            "gridcolor": "white",
            "gridwidth": 2,
            "linecolor": "white",
            "showbackground": true,
            "ticks": "",
            "zerolinecolor": "white"
           },
           "yaxis": {
            "backgroundcolor": "#E5ECF6",
            "gridcolor": "white",
            "gridwidth": 2,
            "linecolor": "white",
            "showbackground": true,
            "ticks": "",
            "zerolinecolor": "white"
           },
           "zaxis": {
            "backgroundcolor": "#E5ECF6",
            "gridcolor": "white",
            "gridwidth": 2,
            "linecolor": "white",
            "showbackground": true,
            "ticks": "",
            "zerolinecolor": "white"
           }
          },
          "shapedefaults": {
           "line": {
            "color": "#2a3f5f"
           }
          },
          "ternary": {
           "aaxis": {
            "gridcolor": "white",
            "linecolor": "white",
            "ticks": ""
           },
           "baxis": {
            "gridcolor": "white",
            "linecolor": "white",
            "ticks": ""
           },
           "bgcolor": "#E5ECF6",
           "caxis": {
            "gridcolor": "white",
            "linecolor": "white",
            "ticks": ""
           }
          },
          "title": {
           "x": 0.05
          },
          "xaxis": {
           "automargin": true,
           "gridcolor": "white",
           "linecolor": "white",
           "ticks": "",
           "title": {
            "standoff": 15
           },
           "zerolinecolor": "white",
           "zerolinewidth": 2
          },
          "yaxis": {
           "automargin": true,
           "gridcolor": "white",
           "linecolor": "white",
           "ticks": "",
           "title": {
            "standoff": 15
           },
           "zerolinecolor": "white",
           "zerolinewidth": 2
          }
         }
        }
       }
      },
      "text/html": [
       "<div>                            <div id=\"2dcde083-ace8-44ce-9c30-c8f77e9b327b\" class=\"plotly-graph-div\" style=\"height:525px; width:100%;\"></div>            <script type=\"text/javascript\">                require([\"plotly\"], function(Plotly) {                    window.PLOTLYENV=window.PLOTLYENV || {};                                    if (document.getElementById(\"2dcde083-ace8-44ce-9c30-c8f77e9b327b\")) {                    Plotly.newPlot(                        \"2dcde083-ace8-44ce-9c30-c8f77e9b327b\",                        [{\"alphahull\":0,\"color\":\"yellow\",\"opacity\":1.0,\"x\":[3.8549515746595313,3.87193570011216,2.041891478417889,2.090193779866383,-0.01859140958210137,0.12956342544895172,-0.016028474662873382,2.063018755615192,1.976985186214844,-0.018500431758996072,0.1039648187278166,-0.02106336667822495,2.06908739641309,2.00392061178567],\"y\":[-0.21232176083042012,-0.06865753481577337,0.7852850964673851,-0.9269811249235738,0.011394241677086414,0.06585289419463411,0.010846499261414691,0.9266696205571587,0.8998687182257105,-0.010073338612479749,-0.07752236388477013,-0.009525596196807942,-1.072631177979879,-1.0341972426863377],\"z\":[-0.22661570457091343,-0.0841001910701745,-1.0917449027665584,0.916494228089259,-0.00609141658672728,0.06748550172203513,0.014781266729045922,-0.9472524214012117,-1.0534325258733022,0.015491911393225533,-0.0746602858439657,-0.005380771922547559,0.7762937010087928,0.8912577641912778],\"type\":\"mesh3d\"},{\"marker\":{\"color\":\"black\",\"size\":3},\"mode\":\"markers\",\"showlegend\":false,\"x\":[-0.018545920670548943],\"y\":[0.0006604515323033536],\"z\":[0.004700247403249154],\"type\":\"scatter3d\"},{\"line\":{\"color\":\"black\",\"width\":2},\"mode\":\"lines\",\"showlegend\":false,\"x\":[-0.018545920670548943,-0.2647743960292081],\"y\":[0.0006604515323033536,0.03080954745828266],\"z\":[0.004700247403249154,0.035725558640951234],\"type\":\"scatter3d\"},{\"marker\":{\"color\":\"black\",\"size\":3},\"mode\":\"text\",\"showlegend\":false,\"text\":[\"[-1.  1.  1. -1.]\"],\"textfont\":{\"color\":\"black\",\"size\":14},\"textposition\":\"middle center\",\"x\":[-0.3632657861726718],\"y\":[0.04286918582867439],\"z\":[0.048135683136032066],\"type\":\"scatter3d\"},{\"line\":{\"color\":\"black\",\"width\":2},\"mode\":\"lines\",\"showlegend\":false,\"x\":[-0.01859140958210137,-0.016028474662873382],\"y\":[0.011394241677086414,0.010846499261414691],\"z\":[-0.00609141658672728,0.014781266729045922],\"type\":\"scatter3d\"},{\"line\":{\"color\":\"black\",\"width\":2},\"mode\":\"lines\",\"showlegend\":false,\"x\":[-0.01859140958210137,-0.02106336667822495],\"y\":[0.011394241677086414,-0.009525596196807942],\"z\":[-0.00609141658672728,-0.005380771922547559],\"type\":\"scatter3d\"},{\"line\":{\"color\":\"black\",\"width\":2},\"mode\":\"lines\",\"showlegend\":false,\"x\":[-0.016028474662873382,-0.018500431758996072],\"y\":[0.010846499261414691,-0.010073338612479749],\"z\":[0.014781266729045922,0.015491911393225533],\"type\":\"scatter3d\"},{\"line\":{\"color\":\"black\",\"width\":2},\"mode\":\"lines\",\"showlegend\":false,\"x\":[-0.018500431758996072,-0.02106336667822495],\"y\":[-0.010073338612479749,-0.009525596196807942],\"z\":[0.015491911393225533,-0.005380771922547559],\"type\":\"scatter3d\"},{\"marker\":{\"color\":\"black\",\"size\":3},\"mode\":\"markers\",\"showlegend\":false,\"x\":[2.0174738170545816],\"y\":[-0.14429755155692103],\"z\":[-0.1541817980431612],\"type\":\"scatter3d\"},{\"line\":{\"color\":\"black\",\"width\":2},\"mode\":\"lines\",\"showlegend\":false,\"x\":[2.0174738170545816,2.0039820316250627],\"y\":[-0.14429755155692103,-0.32139371119149973],\"z\":[-0.1541817980431612,-0.3301219070820261],\"type\":\"scatter3d\"},{\"marker\":{\"color\":\"black\",\"size\":3},\"mode\":\"text\",\"showlegend\":false,\"text\":[\"[-1.  0.  0.  1.]\"],\"textfont\":{\"color\":\"black\",\"size\":14},\"textposition\":\"middle center\",\"x\":[1.9985853174532553],\"y\":[-0.3922321750453312],\"z\":[-0.4004979506975721],\"type\":\"scatter3d\"},{\"line\":{\"color\":\"black\",\"width\":2},\"mode\":\"lines\",\"showlegend\":false,\"x\":[3.8549515746595313,2.041891478417889],\"y\":[-0.21232176083042012,0.7852850964673851],\"z\":[-0.22661570457091343,-1.0917449027665584],\"type\":\"scatter3d\"},{\"line\":{\"color\":\"black\",\"width\":2},\"mode\":\"lines\",\"showlegend\":false,\"x\":[3.8549515746595313,2.06908739641309],\"y\":[-0.21232176083042012,-1.072631177979879],\"z\":[-0.22661570457091343,0.7762937010087928],\"type\":\"scatter3d\"},{\"line\":{\"color\":\"black\",\"width\":2},\"mode\":\"lines\",\"showlegend\":false,\"x\":[2.041891478417889,0.1039648187278166],\"y\":[0.7852850964673851,-0.07752236388477013],\"z\":[-1.0917449027665584,-0.0746602858439657],\"type\":\"scatter3d\"},{\"line\":{\"color\":\"black\",\"width\":2},\"mode\":\"lines\",\"showlegend\":false,\"x\":[0.1039648187278166,2.06908739641309],\"y\":[-0.07752236388477013,-1.072631177979879],\"z\":[-0.0746602858439657,0.7762937010087928],\"type\":\"scatter3d\"},{\"marker\":{\"color\":\"black\",\"size\":3},\"mode\":\"markers\",\"showlegend\":false,\"x\":[0.8166373414200446],\"y\":[0.3219000192577207],\"z\":[-0.44626198059862016],\"type\":\"scatter3d\"},{\"line\":{\"color\":\"black\",\"width\":2},\"mode\":\"lines\",\"showlegend\":false,\"x\":[0.8166373414200446,0.6982294555679661],\"y\":[0.3219000192577207,0.32841524371406416],\"z\":[-0.44626198059862016,-0.6663463381034747],\"type\":\"scatter3d\"},{\"marker\":{\"color\":\"black\",\"size\":3},\"mode\":\"text\",\"showlegend\":false,\"text\":[\"[-1.  0.  1.  0.]\"],\"textfont\":{\"color\":\"black\",\"size\":14},\"textposition\":\"middle center\",\"x\":[0.6508663012271347],\"y\":[0.3310213334966015],\"z\":[-0.7543800811054164],\"type\":\"scatter3d\"},{\"line\":{\"color\":\"black\",\"width\":2},\"mode\":\"lines\",\"showlegend\":false,\"x\":[2.041891478417889,1.976985186214844],\"y\":[0.7852850964673851,0.8998687182257105],\"z\":[-1.0917449027665584,-1.0534325258733022],\"type\":\"scatter3d\"},{\"line\":{\"color\":\"black\",\"width\":2},\"mode\":\"lines\",\"showlegend\":false,\"x\":[2.041891478417889,0.1039648187278166],\"y\":[0.7852850964673851,-0.07752236388477013],\"z\":[-1.0917449027665584,-0.0746602858439657],\"type\":\"scatter3d\"},{\"line\":{\"color\":\"black\",\"width\":2},\"mode\":\"lines\",\"showlegend\":false,\"x\":[-0.01859140958210137,1.976985186214844],\"y\":[0.011394241677086414,0.8998687182257105],\"z\":[-0.00609141658672728,-1.0534325258733022],\"type\":\"scatter3d\"},{\"line\":{\"color\":\"black\",\"width\":2},\"mode\":\"lines\",\"showlegend\":false,\"x\":[-0.01859140958210137,-0.02106336667822495],\"y\":[0.011394241677086414,-0.009525596196807942],\"z\":[-0.00609141658672728,-0.005380771922547559],\"type\":\"scatter3d\"},{\"line\":{\"color\":\"black\",\"width\":2},\"mode\":\"lines\",\"showlegend\":false,\"x\":[0.1039648187278166,-0.02106336667822495],\"y\":[-0.07752236388477013,-0.009525596196807942],\"z\":[-0.0746602858439657,-0.005380771922547559],\"type\":\"scatter3d\"},{\"marker\":{\"color\":\"black\",\"size\":3},\"mode\":\"markers\",\"showlegend\":false,\"x\":[0.8274818056978711],\"y\":[-0.44078994387205483],\"z\":[0.32060046376535656],\"type\":\"scatter3d\"},{\"line\":{\"color\":\"black\",\"width\":2},\"mode\":\"lines\",\"showlegend\":false,\"x\":[0.8274818056978711,0.7117174971618292],\"y\":[-0.44078994387205483,-0.6622126117211815],\"z\":[0.32060046376535656,0.3290044528031535],\"type\":\"scatter3d\"},{\"marker\":{\"color\":\"black\",\"size\":3},\"mode\":\"text\",\"showlegend\":false,\"text\":[\"[-1.  1.  0.  0.]\"],\"textfont\":{\"color\":\"black\",\"size\":14},\"textposition\":\"middle center\",\"x\":[0.6654117737474126],\"y\":[-0.7507816788608322],\"z\":[0.3323660484182723],\"type\":\"scatter3d\"},{\"line\":{\"color\":\"black\",\"width\":2},\"mode\":\"lines\",\"showlegend\":false,\"x\":[-0.018500431758996072,-0.02106336667822495],\"y\":[-0.010073338612479749,-0.009525596196807942],\"z\":[0.015491911393225533,-0.005380771922547559],\"type\":\"scatter3d\"},{\"line\":{\"color\":\"black\",\"width\":2},\"mode\":\"lines\",\"showlegend\":false,\"x\":[-0.018500431758996072,2.00392061178567],\"y\":[-0.010073338612479749,-1.0341972426863377],\"z\":[0.015491911393225533,0.8912577641912778],\"type\":\"scatter3d\"},{\"line\":{\"color\":\"black\",\"width\":2},\"mode\":\"lines\",\"showlegend\":false,\"x\":[0.1039648187278166,-0.02106336667822495],\"y\":[-0.07752236388477013,-0.009525596196807942],\"z\":[-0.0746602858439657,-0.005380771922547559],\"type\":\"scatter3d\"},{\"line\":{\"color\":\"black\",\"width\":2},\"mode\":\"lines\",\"showlegend\":false,\"x\":[0.1039648187278166,2.06908739641309],\"y\":[-0.07752236388477013,-1.072631177979879],\"z\":[-0.0746602858439657,0.7762937010087928],\"type\":\"scatter3d\"},{\"line\":{\"color\":\"black\",\"width\":2},\"mode\":\"lines\",\"showlegend\":false,\"x\":[2.06908739641309,2.00392061178567],\"y\":[-1.072631177979879,-1.0341972426863377],\"z\":[0.7762937010087928,0.8912577641912778],\"type\":\"scatter3d\"},{\"marker\":{\"color\":\"black\",\"size\":3},\"mode\":\"markers\",\"showlegend\":false,\"x\":[0.8269894966068027],\"y\":[0.38292639478320084],\"z\":[-0.38490191908203203],\"type\":\"scatter3d\"},{\"line\":{\"color\":\"black\",\"width\":2},\"mode\":\"lines\",\"showlegend\":false,\"x\":[0.8269894966068027,0.7333106776395024],\"y\":[0.38292639478320084,0.6140446614465747],\"z\":[-0.38490191908203203,-0.3673341733128848],\"type\":\"scatter3d\"},{\"marker\":{\"color\":\"black\",\"size\":3},\"mode\":\"text\",\"showlegend\":false,\"text\":[\"[ 0.  0.  1. -1.]\"],\"textfont\":{\"color\":\"black\",\"size\":14},\"textposition\":\"middle center\",\"x\":[0.6958391500525823],\"y\":[0.7064919681119243],\"z\":[-0.3603070750052259],\"type\":\"scatter3d\"},{\"line\":{\"color\":\"black\",\"width\":2},\"mode\":\"lines\",\"showlegend\":false,\"x\":[-0.01859140958210137,-0.016028474662873382],\"y\":[0.011394241677086414,0.010846499261414691],\"z\":[-0.00609141658672728,0.014781266729045922],\"type\":\"scatter3d\"},{\"line\":{\"color\":\"black\",\"width\":2},\"mode\":\"lines\",\"showlegend\":false,\"x\":[-0.01859140958210137,1.976985186214844],\"y\":[0.011394241677086414,0.8998687182257105],\"z\":[-0.00609141658672728,-1.0534325258733022],\"type\":\"scatter3d\"},{\"line\":{\"color\":\"black\",\"width\":2},\"mode\":\"lines\",\"showlegend\":false,\"x\":[0.12956342544895172,-0.016028474662873382],\"y\":[0.06585289419463411,0.010846499261414691],\"z\":[0.06748550172203513,0.014781266729045922],\"type\":\"scatter3d\"},{\"line\":{\"color\":\"black\",\"width\":2},\"mode\":\"lines\",\"showlegend\":false,\"x\":[0.12956342544895172,2.063018755615192],\"y\":[0.06585289419463411,0.9266696205571587],\"z\":[0.06748550172203513,-0.9472524214012117],\"type\":\"scatter3d\"},{\"line\":{\"color\":\"black\",\"width\":2},\"mode\":\"lines\",\"showlegend\":false,\"x\":[2.063018755615192,1.976985186214844],\"y\":[0.9266696205571587,0.8998687182257105],\"z\":[-0.9472524214012117,-1.0534325258733022],\"type\":\"scatter3d\"},{\"marker\":{\"color\":\"black\",\"size\":3},\"mode\":\"markers\",\"showlegend\":false,\"x\":[0.837829782135827],\"y\":[-0.3789104625532685],\"z\":[0.38110213442496865],\"type\":\"scatter3d\"},{\"line\":{\"color\":\"black\",\"width\":2},\"mode\":\"lines\",\"showlegend\":false,\"x\":[0.837829782135827,0.7467732143300411],\"y\":[-0.3789104625532685,-0.36026718482170816],\"z\":[0.38110213442496865,0.6131821414373225],\"type\":\"scatter3d\"},{\"marker\":{\"color\":\"black\",\"size\":3},\"mode\":\"text\",\"showlegend\":false,\"text\":[\"[ 0.  1.  0. -1.]\"],\"textfont\":{\"color\":\"black\",\"size\":14},\"textposition\":\"middle center\",\"x\":[0.7103505872077267],\"y\":[-0.35280987372908407],\"z\":[0.706014144242264],\"type\":\"scatter3d\"},{\"line\":{\"color\":\"black\",\"width\":2},\"mode\":\"lines\",\"showlegend\":false,\"x\":[2.090193779866383,0.12956342544895172],\"y\":[-0.9269811249235738,0.06585289419463411],\"z\":[0.916494228089259,0.06748550172203513],\"type\":\"scatter3d\"},{\"line\":{\"color\":\"black\",\"width\":2},\"mode\":\"lines\",\"showlegend\":false,\"x\":[2.090193779866383,2.00392061178567],\"y\":[-0.9269811249235738,-1.0341972426863377],\"z\":[0.916494228089259,0.8912577641912778],\"type\":\"scatter3d\"},{\"line\":{\"color\":\"black\",\"width\":2},\"mode\":\"lines\",\"showlegend\":false,\"x\":[0.12956342544895172,-0.016028474662873382],\"y\":[0.06585289419463411,0.010846499261414691],\"z\":[0.06748550172203513,0.014781266729045922],\"type\":\"scatter3d\"},{\"line\":{\"color\":\"black\",\"width\":2},\"mode\":\"lines\",\"showlegend\":false,\"x\":[-0.016028474662873382,-0.018500431758996072],\"y\":[0.010846499261414691,-0.010073338612479749],\"z\":[0.014781266729045922,0.015491911393225533],\"type\":\"scatter3d\"},{\"line\":{\"color\":\"black\",\"width\":2},\"mode\":\"lines\",\"showlegend\":false,\"x\":[-0.018500431758996072,2.00392061178567],\"y\":[-0.010073338612479749,-1.0341972426863377],\"z\":[0.015491911393225533,0.8912577641912778],\"type\":\"scatter3d\"},{\"marker\":{\"color\":\"black\",\"size\":3},\"mode\":\"markers\",\"showlegend\":false,\"x\":[2.0386779152606715],\"y\":[-0.0007790362468885759],\"z\":[-0.011843220665023024],\"type\":\"scatter3d\"},{\"line\":{\"color\":\"black\",\"width\":2},\"mode\":\"lines\",\"showlegend\":false,\"x\":[2.0386779152606715,2.0521697006901904],\"y\":[-0.0007790362468885759,0.1763171233876901],\"z\":[-0.011843220665023024,0.16409688837384187],\"type\":\"scatter3d\"},{\"marker\":{\"color\":\"black\",\"size\":3},\"mode\":\"text\",\"showlegend\":false,\"text\":[\"[ 1.  0.  0. -1.]\"],\"textfont\":{\"color\":\"black\",\"size\":14},\"textposition\":\"middle center\",\"x\":[2.0575664148619977],\"y\":[0.2471555872415216],\"z\":[0.23447293198938784],\"type\":\"scatter3d\"},{\"line\":{\"color\":\"black\",\"width\":2},\"mode\":\"lines\",\"showlegend\":false,\"x\":[3.87193570011216,2.090193779866383],\"y\":[-0.06865753481577337,-0.9269811249235738],\"z\":[-0.0841001910701745,0.916494228089259],\"type\":\"scatter3d\"},{\"line\":{\"color\":\"black\",\"width\":2},\"mode\":\"lines\",\"showlegend\":false,\"x\":[3.87193570011216,2.063018755615192],\"y\":[-0.06865753481577337,0.9266696205571587],\"z\":[-0.0841001910701745,-0.9472524214012117],\"type\":\"scatter3d\"},{\"line\":{\"color\":\"black\",\"width\":2},\"mode\":\"lines\",\"showlegend\":false,\"x\":[2.090193779866383,0.12956342544895172],\"y\":[-0.9269811249235738,0.06585289419463411],\"z\":[0.916494228089259,0.06748550172203513],\"type\":\"scatter3d\"},{\"line\":{\"color\":\"black\",\"width\":2},\"mode\":\"lines\",\"showlegend\":false,\"x\":[0.12956342544895172,2.063018755615192],\"y\":[0.06585289419463411,0.9266696205571587],\"z\":[0.06748550172203513,-0.9472524214012117],\"type\":\"scatter3d\"},{\"marker\":{\"color\":\"black\",\"size\":3},\"mode\":\"markers\",\"showlegend\":false,\"x\":[null],\"y\":[null],\"z\":[null],\"type\":\"scatter3d\"},{\"line\":{\"color\":\"black\",\"width\":2},\"mode\":\"lines\",\"showlegend\":false,\"x\":[null,null],\"y\":[null,null],\"z\":[null,null],\"type\":\"scatter3d\"},{\"marker\":{\"color\":\"black\",\"size\":3},\"mode\":\"text\",\"showlegend\":false,\"text\":[\"[0. 0. 0. 0.]\"],\"textfont\":{\"color\":\"black\",\"size\":14},\"textposition\":\"middle center\",\"x\":[null],\"y\":[null],\"z\":[null],\"type\":\"scatter3d\"},{\"marker\":{\"color\":\"black\",\"size\":3},\"mode\":\"markers\",\"showlegend\":false,\"x\":[2.7617565390039234],\"y\":[0.46616882792081216],\"z\":[-0.680629149136432],\"type\":\"scatter3d\"},{\"line\":{\"color\":\"black\",\"width\":2},\"mode\":\"lines\",\"showlegend\":false,\"x\":[2.7617565390039234,2.9080500460670766],\"y\":[0.46616882792081216,0.5999628637871193],\"z\":[-0.680629149136432,-0.8329359636844635],\"type\":\"scatter3d\"},{\"marker\":{\"color\":\"black\",\"size\":3},\"mode\":\"text\",\"showlegend\":false,\"text\":[\"[0. 0. 0. 0.]\"],\"textfont\":{\"color\":\"black\",\"size\":14},\"textposition\":\"middle center\",\"x\":[2.966567448892338],\"y\":[0.6534804781336421],\"z\":[-0.8938586895036762],\"type\":\"scatter3d\"},{\"line\":{\"color\":\"black\",\"width\":2},\"mode\":\"lines\",\"showlegend\":false,\"x\":[3.8549515746595313,3.87193570011216],\"y\":[-0.21232176083042012,-0.06865753481577337],\"z\":[-0.22661570457091343,-0.0841001910701745],\"type\":\"scatter3d\"},{\"line\":{\"color\":\"black\",\"width\":2},\"mode\":\"lines\",\"showlegend\":false,\"x\":[3.8549515746595313,2.041891478417889],\"y\":[-0.21232176083042012,0.7852850964673851],\"z\":[-0.22661570457091343,-1.0917449027665584],\"type\":\"scatter3d\"},{\"line\":{\"color\":\"black\",\"width\":2},\"mode\":\"lines\",\"showlegend\":false,\"x\":[3.87193570011216,2.063018755615192],\"y\":[-0.06865753481577337,0.9266696205571587],\"z\":[-0.0841001910701745,-0.9472524214012117],\"type\":\"scatter3d\"},{\"line\":{\"color\":\"black\",\"width\":2},\"mode\":\"lines\",\"showlegend\":false,\"x\":[2.041891478417889,1.976985186214844],\"y\":[0.7852850964673851,0.8998687182257105],\"z\":[-1.0917449027665584,-1.0534325258733022],\"type\":\"scatter3d\"},{\"line\":{\"color\":\"black\",\"width\":2},\"mode\":\"lines\",\"showlegend\":false,\"x\":[2.063018755615192,1.976985186214844],\"y\":[0.9266696205571587,0.8998687182257105],\"z\":[-0.9472524214012117,-1.0534325258733022],\"type\":\"scatter3d\"},{\"marker\":{\"color\":\"black\",\"size\":3},\"mode\":\"markers\",\"showlegend\":false,\"x\":[2.778017812567367],\"y\":[-0.6629577682471968],\"z\":[0.45466595952964833],\"type\":\"scatter3d\"},{\"line\":{\"color\":\"black\",\"width\":2},\"mode\":\"lines\",\"showlegend\":false,\"x\":[2.778017812567367,2.9258496903042728],\"y\":[-0.6629577682471968,-0.8134821241872265],\"z\":[0.45466595952964833,0.5887858842001451],\"type\":\"scatter3d\"},{\"marker\":{\"color\":\"black\",\"size\":3},\"mode\":\"text\",\"showlegend\":false,\"text\":[\"[0. 0. 0. 0.]\"],\"textfont\":{\"color\":\"black\",\"size\":14},\"textposition\":\"middle center\",\"x\":[2.984982441399035],\"y\":[-0.8736918665632385],\"z\":[0.6424338540683439],\"type\":\"scatter3d\"},{\"line\":{\"color\":\"black\",\"width\":2},\"mode\":\"lines\",\"showlegend\":false,\"x\":[3.8549515746595313,3.87193570011216],\"y\":[-0.21232176083042012,-0.06865753481577337],\"z\":[-0.22661570457091343,-0.0841001910701745],\"type\":\"scatter3d\"},{\"line\":{\"color\":\"black\",\"width\":2},\"mode\":\"lines\",\"showlegend\":false,\"x\":[3.8549515746595313,2.06908739641309],\"y\":[-0.21232176083042012,-1.072631177979879],\"z\":[-0.22661570457091343,0.7762937010087928],\"type\":\"scatter3d\"},{\"line\":{\"color\":\"black\",\"width\":2},\"mode\":\"lines\",\"showlegend\":false,\"x\":[3.87193570011216,2.090193779866383],\"y\":[-0.06865753481577337,-0.9269811249235738],\"z\":[-0.0841001910701745,0.916494228089259],\"type\":\"scatter3d\"},{\"line\":{\"color\":\"black\",\"width\":2},\"mode\":\"lines\",\"showlegend\":false,\"x\":[2.090193779866383,2.00392061178567],\"y\":[-0.9269811249235738,-1.0341972426863377],\"z\":[0.916494228089259,0.8912577641912778],\"type\":\"scatter3d\"},{\"line\":{\"color\":\"black\",\"width\":2},\"mode\":\"lines\",\"showlegend\":false,\"x\":[2.06908739641309,2.00392061178567],\"y\":[-1.072631177979879,-1.0341972426863377],\"z\":[0.7762937010087928,0.8912577641912778],\"type\":\"scatter3d\"},{\"marker\":{\"color\":\"black\",\"size\":3},\"mode\":\"markers\",\"showlegend\":false,\"x\":[null],\"y\":[null],\"z\":[null],\"type\":\"scatter3d\"},{\"line\":{\"color\":\"black\",\"width\":2},\"mode\":\"lines\",\"showlegend\":false,\"x\":[null,null],\"y\":[null,null],\"z\":[null,null],\"type\":\"scatter3d\"},{\"marker\":{\"color\":\"black\",\"size\":3},\"mode\":\"text\",\"showlegend\":false,\"text\":[\"[0. 0. 0. 0.]\"],\"textfont\":{\"color\":\"black\",\"size\":14},\"textposition\":\"middle center\",\"x\":[null],\"y\":[null],\"z\":[null],\"type\":\"scatter3d\"}],                        {\"template\":{\"data\":{\"bar\":[{\"error_x\":{\"color\":\"#2a3f5f\"},\"error_y\":{\"color\":\"#2a3f5f\"},\"marker\":{\"line\":{\"color\":\"#E5ECF6\",\"width\":0.5},\"pattern\":{\"fillmode\":\"overlay\",\"size\":10,\"solidity\":0.2}},\"type\":\"bar\"}],\"barpolar\":[{\"marker\":{\"line\":{\"color\":\"#E5ECF6\",\"width\":0.5},\"pattern\":{\"fillmode\":\"overlay\",\"size\":10,\"solidity\":0.2}},\"type\":\"barpolar\"}],\"carpet\":[{\"aaxis\":{\"endlinecolor\":\"#2a3f5f\",\"gridcolor\":\"white\",\"linecolor\":\"white\",\"minorgridcolor\":\"white\",\"startlinecolor\":\"#2a3f5f\"},\"baxis\":{\"endlinecolor\":\"#2a3f5f\",\"gridcolor\":\"white\",\"linecolor\":\"white\",\"minorgridcolor\":\"white\",\"startlinecolor\":\"#2a3f5f\"},\"type\":\"carpet\"}],\"choropleth\":[{\"colorbar\":{\"outlinewidth\":0,\"ticks\":\"\"},\"type\":\"choropleth\"}],\"contour\":[{\"colorbar\":{\"outlinewidth\":0,\"ticks\":\"\"},\"colorscale\":[[0.0,\"#0d0887\"],[0.1111111111111111,\"#46039f\"],[0.2222222222222222,\"#7201a8\"],[0.3333333333333333,\"#9c179e\"],[0.4444444444444444,\"#bd3786\"],[0.5555555555555556,\"#d8576b\"],[0.6666666666666666,\"#ed7953\"],[0.7777777777777778,\"#fb9f3a\"],[0.8888888888888888,\"#fdca26\"],[1.0,\"#f0f921\"]],\"type\":\"contour\"}],\"contourcarpet\":[{\"colorbar\":{\"outlinewidth\":0,\"ticks\":\"\"},\"type\":\"contourcarpet\"}],\"heatmap\":[{\"colorbar\":{\"outlinewidth\":0,\"ticks\":\"\"},\"colorscale\":[[0.0,\"#0d0887\"],[0.1111111111111111,\"#46039f\"],[0.2222222222222222,\"#7201a8\"],[0.3333333333333333,\"#9c179e\"],[0.4444444444444444,\"#bd3786\"],[0.5555555555555556,\"#d8576b\"],[0.6666666666666666,\"#ed7953\"],[0.7777777777777778,\"#fb9f3a\"],[0.8888888888888888,\"#fdca26\"],[1.0,\"#f0f921\"]],\"type\":\"heatmap\"}],\"heatmapgl\":[{\"colorbar\":{\"outlinewidth\":0,\"ticks\":\"\"},\"colorscale\":[[0.0,\"#0d0887\"],[0.1111111111111111,\"#46039f\"],[0.2222222222222222,\"#7201a8\"],[0.3333333333333333,\"#9c179e\"],[0.4444444444444444,\"#bd3786\"],[0.5555555555555556,\"#d8576b\"],[0.6666666666666666,\"#ed7953\"],[0.7777777777777778,\"#fb9f3a\"],[0.8888888888888888,\"#fdca26\"],[1.0,\"#f0f921\"]],\"type\":\"heatmapgl\"}],\"histogram\":[{\"marker\":{\"pattern\":{\"fillmode\":\"overlay\",\"size\":10,\"solidity\":0.2}},\"type\":\"histogram\"}],\"histogram2d\":[{\"colorbar\":{\"outlinewidth\":0,\"ticks\":\"\"},\"colorscale\":[[0.0,\"#0d0887\"],[0.1111111111111111,\"#46039f\"],[0.2222222222222222,\"#7201a8\"],[0.3333333333333333,\"#9c179e\"],[0.4444444444444444,\"#bd3786\"],[0.5555555555555556,\"#d8576b\"],[0.6666666666666666,\"#ed7953\"],[0.7777777777777778,\"#fb9f3a\"],[0.8888888888888888,\"#fdca26\"],[1.0,\"#f0f921\"]],\"type\":\"histogram2d\"}],\"histogram2dcontour\":[{\"colorbar\":{\"outlinewidth\":0,\"ticks\":\"\"},\"colorscale\":[[0.0,\"#0d0887\"],[0.1111111111111111,\"#46039f\"],[0.2222222222222222,\"#7201a8\"],[0.3333333333333333,\"#9c179e\"],[0.4444444444444444,\"#bd3786\"],[0.5555555555555556,\"#d8576b\"],[0.6666666666666666,\"#ed7953\"],[0.7777777777777778,\"#fb9f3a\"],[0.8888888888888888,\"#fdca26\"],[1.0,\"#f0f921\"]],\"type\":\"histogram2dcontour\"}],\"mesh3d\":[{\"colorbar\":{\"outlinewidth\":0,\"ticks\":\"\"},\"type\":\"mesh3d\"}],\"parcoords\":[{\"line\":{\"colorbar\":{\"outlinewidth\":0,\"ticks\":\"\"}},\"type\":\"parcoords\"}],\"pie\":[{\"automargin\":true,\"type\":\"pie\"}],\"scatter\":[{\"marker\":{\"colorbar\":{\"outlinewidth\":0,\"ticks\":\"\"}},\"type\":\"scatter\"}],\"scatter3d\":[{\"line\":{\"colorbar\":{\"outlinewidth\":0,\"ticks\":\"\"}},\"marker\":{\"colorbar\":{\"outlinewidth\":0,\"ticks\":\"\"}},\"type\":\"scatter3d\"}],\"scattercarpet\":[{\"marker\":{\"colorbar\":{\"outlinewidth\":0,\"ticks\":\"\"}},\"type\":\"scattercarpet\"}],\"scattergeo\":[{\"marker\":{\"colorbar\":{\"outlinewidth\":0,\"ticks\":\"\"}},\"type\":\"scattergeo\"}],\"scattergl\":[{\"marker\":{\"colorbar\":{\"outlinewidth\":0,\"ticks\":\"\"}},\"type\":\"scattergl\"}],\"scattermapbox\":[{\"marker\":{\"colorbar\":{\"outlinewidth\":0,\"ticks\":\"\"}},\"type\":\"scattermapbox\"}],\"scatterpolar\":[{\"marker\":{\"colorbar\":{\"outlinewidth\":0,\"ticks\":\"\"}},\"type\":\"scatterpolar\"}],\"scatterpolargl\":[{\"marker\":{\"colorbar\":{\"outlinewidth\":0,\"ticks\":\"\"}},\"type\":\"scatterpolargl\"}],\"scatterternary\":[{\"marker\":{\"colorbar\":{\"outlinewidth\":0,\"ticks\":\"\"}},\"type\":\"scatterternary\"}],\"surface\":[{\"colorbar\":{\"outlinewidth\":0,\"ticks\":\"\"},\"colorscale\":[[0.0,\"#0d0887\"],[0.1111111111111111,\"#46039f\"],[0.2222222222222222,\"#7201a8\"],[0.3333333333333333,\"#9c179e\"],[0.4444444444444444,\"#bd3786\"],[0.5555555555555556,\"#d8576b\"],[0.6666666666666666,\"#ed7953\"],[0.7777777777777778,\"#fb9f3a\"],[0.8888888888888888,\"#fdca26\"],[1.0,\"#f0f921\"]],\"type\":\"surface\"}],\"table\":[{\"cells\":{\"fill\":{\"color\":\"#EBF0F8\"},\"line\":{\"color\":\"white\"}},\"header\":{\"fill\":{\"color\":\"#C8D4E3\"},\"line\":{\"color\":\"white\"}},\"type\":\"table\"}]},\"layout\":{\"annotationdefaults\":{\"arrowcolor\":\"#2a3f5f\",\"arrowhead\":0,\"arrowwidth\":1},\"autotypenumbers\":\"strict\",\"coloraxis\":{\"colorbar\":{\"outlinewidth\":0,\"ticks\":\"\"}},\"colorscale\":{\"diverging\":[[0,\"#8e0152\"],[0.1,\"#c51b7d\"],[0.2,\"#de77ae\"],[0.3,\"#f1b6da\"],[0.4,\"#fde0ef\"],[0.5,\"#f7f7f7\"],[0.6,\"#e6f5d0\"],[0.7,\"#b8e186\"],[0.8,\"#7fbc41\"],[0.9,\"#4d9221\"],[1,\"#276419\"]],\"sequential\":[[0.0,\"#0d0887\"],[0.1111111111111111,\"#46039f\"],[0.2222222222222222,\"#7201a8\"],[0.3333333333333333,\"#9c179e\"],[0.4444444444444444,\"#bd3786\"],[0.5555555555555556,\"#d8576b\"],[0.6666666666666666,\"#ed7953\"],[0.7777777777777778,\"#fb9f3a\"],[0.8888888888888888,\"#fdca26\"],[1.0,\"#f0f921\"]],\"sequentialminus\":[[0.0,\"#0d0887\"],[0.1111111111111111,\"#46039f\"],[0.2222222222222222,\"#7201a8\"],[0.3333333333333333,\"#9c179e\"],[0.4444444444444444,\"#bd3786\"],[0.5555555555555556,\"#d8576b\"],[0.6666666666666666,\"#ed7953\"],[0.7777777777777778,\"#fb9f3a\"],[0.8888888888888888,\"#fdca26\"],[1.0,\"#f0f921\"]]},\"colorway\":[\"#636efa\",\"#EF553B\",\"#00cc96\",\"#ab63fa\",\"#FFA15A\",\"#19d3f3\",\"#FF6692\",\"#B6E880\",\"#FF97FF\",\"#FECB52\"],\"font\":{\"color\":\"#2a3f5f\"},\"geo\":{\"bgcolor\":\"white\",\"lakecolor\":\"white\",\"landcolor\":\"#E5ECF6\",\"showlakes\":true,\"showland\":true,\"subunitcolor\":\"white\"},\"hoverlabel\":{\"align\":\"left\"},\"hovermode\":\"closest\",\"mapbox\":{\"style\":\"light\"},\"paper_bgcolor\":\"white\",\"plot_bgcolor\":\"#E5ECF6\",\"polar\":{\"angularaxis\":{\"gridcolor\":\"white\",\"linecolor\":\"white\",\"ticks\":\"\"},\"bgcolor\":\"#E5ECF6\",\"radialaxis\":{\"gridcolor\":\"white\",\"linecolor\":\"white\",\"ticks\":\"\"}},\"scene\":{\"xaxis\":{\"backgroundcolor\":\"#E5ECF6\",\"gridcolor\":\"white\",\"gridwidth\":2,\"linecolor\":\"white\",\"showbackground\":true,\"ticks\":\"\",\"zerolinecolor\":\"white\"},\"yaxis\":{\"backgroundcolor\":\"#E5ECF6\",\"gridcolor\":\"white\",\"gridwidth\":2,\"linecolor\":\"white\",\"showbackground\":true,\"ticks\":\"\",\"zerolinecolor\":\"white\"},\"zaxis\":{\"backgroundcolor\":\"#E5ECF6\",\"gridcolor\":\"white\",\"gridwidth\":2,\"linecolor\":\"white\",\"showbackground\":true,\"ticks\":\"\",\"zerolinecolor\":\"white\"}},\"shapedefaults\":{\"line\":{\"color\":\"#2a3f5f\"}},\"ternary\":{\"aaxis\":{\"gridcolor\":\"white\",\"linecolor\":\"white\",\"ticks\":\"\"},\"baxis\":{\"gridcolor\":\"white\",\"linecolor\":\"white\",\"ticks\":\"\"},\"bgcolor\":\"#E5ECF6\",\"caxis\":{\"gridcolor\":\"white\",\"linecolor\":\"white\",\"ticks\":\"\"}},\"title\":{\"x\":0.05},\"xaxis\":{\"automargin\":true,\"gridcolor\":\"white\",\"linecolor\":\"white\",\"ticks\":\"\",\"title\":{\"standoff\":15},\"zerolinecolor\":\"white\",\"zerolinewidth\":2},\"yaxis\":{\"automargin\":true,\"gridcolor\":\"white\",\"linecolor\":\"white\",\"ticks\":\"\",\"title\":{\"standoff\":15},\"zerolinecolor\":\"white\",\"zerolinewidth\":2}}},\"scene\":{\"xaxis\":{\"title\":{\"text\":\"V<sub>3</sub>\"}},\"yaxis\":{\"title\":{\"text\":\"V<sub>2</sub>\"}},\"zaxis\":{\"title\":{\"text\":\"V<sub>1</sub>\"}}}},                        {\"responsive\": true}                    ).then(function(){\n",
       "                            \n",
       "var gd = document.getElementById('2dcde083-ace8-44ce-9c30-c8f77e9b327b');\n",
       "var x = new MutationObserver(function (mutations, observer) {{\n",
       "        var display = window.getComputedStyle(gd).display;\n",
       "        if (!display || display === 'none') {{\n",
       "            console.log([gd, 'removed!']);\n",
       "            Plotly.purge(gd);\n",
       "            observer.disconnect();\n",
       "        }}\n",
       "}});\n",
       "\n",
       "// Listen for the removal of the full notebook cells\n",
       "var notebookContainer = gd.closest('#notebook-container');\n",
       "if (notebookContainer) {{\n",
       "    x.observe(notebookContainer, {childList: true});\n",
       "}}\n",
       "\n",
       "// Listen for the clearing of the current output cell\n",
       "var outputEl = gd.closest('.output');\n",
       "if (outputEl) {{\n",
       "    x.observe(outputEl, {childList: true});\n",
       "}}\n",
       "\n",
       "                        })                };                });            </script>        </div>"
      ]
     },
     "metadata": {},
     "output_type": "display_data"
    }
   ],
   "source": [
    "#now disable the reservoir, we don't need it anymore\n",
    "sim.set_reservoir(False)\n",
    "#initialize device in target state\n",
    "target_state=np.array([1,0, 0, 1],dtype=np.int64)\n",
    "sim.activate_state(target_state)\n",
    "\n",
    "#now compute the projection of the simulation to remove the axis where the polytopes in the reservoir-free\n",
    "#array are unbounded. this allows us to plot the 3d projection of the 4d facet\n",
    "def compute_projection(sim, gamma):\n",
    "    # Compute v such, that for any t with sum(t)=0: t^TAv = 0\n",
    "    v = np.linalg.inv(gamma)@np.ones(sim.num_dots)\n",
    "    v /= np.linalg.norm(v)\n",
    "    \n",
    "    # Project away the vector direction v\n",
    "    # We remove the vector by defining a householder transformation that would move v->(1,0,...,0)\n",
    "    # and then we remove the first element (we make use of the fact that the householder transformation is its own inverse)\n",
    "    h = v.copy()\n",
    "    h[0] -= 1.0\n",
    "    h /= np.linalg.norm(h)\n",
    "    P = np.eye(sim.num_dots) - 2*np.outer(h,h)\n",
    "    P = P[:,1:]\n",
    "\n",
    "    sim_proj = sim.slice(P, np.zeros(sim.num_dots))\n",
    "    gamma_proj = gamma@P\n",
    "    return sim_proj, gamma_proj\n",
    "\n",
    "sim_proj_est, gamma_proj = compute_projection(sim,gamma)\n",
    "sim_proj_real, _ = compute_projection(sim, sim.Cinv@sim.C_g)\n",
    "\n",
    "#visualize both projections\n",
    "\n",
    "#first the true one\n",
    "poly_real = sim_proj_real.boundaries()\n",
    "print(\"projected facet labels\")\n",
    "print(poly_real.labels)\n",
    "print(\"Real facet after projection\")\n",
    "halfspaces=np.hstack([poly_real.A,poly_real.b.reshape(-1,1)])\n",
    "#polytope not bounded, so add lower bounds as well\n",
    "lower_bound = np.hstack([sim_proj_real.boundsA,sim_proj_real.boundsb.reshape(-1,1)])\n",
    "halfspaces = np.vstack([halfspaces,lower_bound])\n",
    "labels = np.vstack([poly_real.labels,np.zeros((4,4),dtype=np.int64)])\n",
    "plot_facet(halfspaces, labels, text_dist_multiplier=5.0)\n",
    "\n",
    "print(\"Facet after projection using estimated Gamma\")\n",
    "#now using the estimated gamma\n",
    "poly_est = sim_proj_est.boundaries()\n",
    "halfspaces=np.hstack([poly_est.A,poly_est.b.reshape(-1,1)])\n",
    "#polytope not bounded, so add lower bounds as well\n",
    "lower_bound = np.hstack([sim_proj_est.boundsA,sim_proj_est.boundsb.reshape(-1,1)])\n",
    "halfspaces = np.vstack([halfspaces,lower_bound])\n",
    "labels = np.vstack([poly_est.labels,np.zeros((4,4),dtype=np.int64)])\n",
    "plot_facet(halfspaces, labels, text_dist_multiplier=5.0)"
   ]
  },
  {
   "cell_type": "markdown",
   "id": "c92411f4-d88d-4b00-80ea-ec475827c6a5",
   "metadata": {},
   "source": [
    "### Now learn all of the other polytopes that are relevant to the target states\n",
    "\n",
    "We first search for all transitions in the state. for this, we call ``generate_transitions_for_state`` with arguments ``max_k=3`` and ``max_moves = 2``. ``max_k`` indicates the maximum number of sites in the array that can be changed by a transition. ``max_moves`` limits the amount of electrons that can move in a transition. e.g., transition (1,-1,1) has at least 2 moving electrons: one moving from the middle to the sides and then another added to the array.\n",
    "\n",
    "Afterwards we plot the learned facet and repeat the array with only one electron moving at most (And thus at most 2 sites can be affected). This excludes two facets in our example and we show that we can still learn the polytope reasonably well. In this example we also plot the points our algorithm took during its run"
   ]
  },
  {
   "cell_type": "code",
   "execution_count": 10,
   "id": "884d6afa-249e-4a06-a2c6-6ffce1a2e7da",
   "metadata": {
    "tags": []
   },
   "outputs": [
    {
     "name": "stdout",
     "output_type": "stream",
     "text": [
      "searching for transitions\n",
      "[[-1  0  0  1]\n",
      " [-1  0  1  0]\n",
      " [-1  1  0  0]\n",
      " [ 0  0  1 -1]\n",
      " [ 0  1  0 -1]\n",
      " [ 1  0  0 -1]\n",
      " [-1  1  1 -1]]\n",
      "start point: [-0.06644321 -0.05158848  1.53701152]\n",
      "Number of searches:  37 / 500\n",
      "Number of searches:  56 / 500\n",
      "Number of searches:  71 / 500\n",
      "Number of searches:  86 / 500\n",
      "Number of searches:  98 / 500\n",
      "Number of searches:  110 / 500\n",
      "Finished learning polytope\n",
      "Number of transitions found: 7\n",
      "max_rad not found: 0.0\n",
      "[-1.  0.  0.  1.] 17 1.0063778017688698\n",
      "[-1.  0.  1.  0.] 15 0.06717569063654799\n",
      "[-1.  1.  0.  0.] 17 0.0672543687357991\n",
      "[ 0.  0.  1. -1.] 18 0.06739480399456954\n",
      "[ 0.  1.  0. -1.] 18 0.06758196575792164\n",
      "[ 1.  0.  0. -1.] 17 1.0040832203535517\n",
      "[-1.  1.  1. -1.] 9 0.010593288253030617\n"
     ]
    }
   ],
   "source": [
    "# Set a seed for reproducability\n",
    "np.random.seed(0)\n",
    "\n",
    "#we now sue the projected simulation to learn its facets\n",
    "\n",
    "# Generate the transitions we want to look for\n",
    "T = generate_transitions_for_state(target_state, max_k=4, max_moves = 2,has_reservoir=False)\n",
    "print(\"searching for transitions\")\n",
    "print(T)\n",
    "\n",
    "# we need a starting point to create a polytope\n",
    "#this is slightly cheating, since we compute a point from the ground turth polytope\n",
    "startpoint = sim_proj_est.boundaries().point_inside\n",
    "#this is less cheating and how we do it in the paper.\n",
    "#startpoint, _, _ = sim.line_search(sim.boundaries().point_inside, np.random.randn(sim.num_inputs))\n",
    "#startpoint = 0.95*startpoint + 0.05 * sim.boundaries().point_inside\n",
    "print(\"start point:\", startpoint)\n",
    "# Learn the polytope (set verbose = 2 for more output, such as the convergence of the max likelihood)\n",
    "# note that we use here the projected simulation and the projected gamme.\n",
    "A_res, b_res, x_m, x_p, found, num_searches = learn_convex_polytope(sim_proj_est, delta, startpoint, T.astype(float), gamma_proj, max_searches=500, verbose=1)"
   ]
  },
  {
   "cell_type": "code",
   "execution_count": 11,
   "id": "540634a5-a223-4702-a26a-ed2a5e8b652b",
   "metadata": {},
   "outputs": [
    {
     "name": "stdout",
     "output_type": "stream",
     "text": [
      "Plot of learned projected facet\n"
     ]
    },
    {
     "data": {
      "application/vnd.plotly.v1+json": {
       "config": {
        "plotlyServerURL": "https://plot.ly"
       },
       "data": [
        {
         "alphahull": 0,
         "color": "yellow",
         "opacity": 1,
         "type": "mesh3d",
         "x": [
          0.1040127182612386,
          -0.018229733296495132,
          -0.020829597089959684,
          2.0903449743943723,
          2.004188577607766,
          2.0692849504742092,
          0.12946269317722736,
          -0.015751400528651427,
          -0.018351264322116007,
          2.041884203224021,
          3.8549415915879788,
          1.976916129120172,
          3.8719263731033595,
          2.062915754028121
         ],
         "y": [
          -0.07750616980473338,
          -0.010087192459196094,
          -0.00954114440213509,
          -0.9267742008376524,
          -1.033917362801016,
          -1.0724066774919903,
          0.06590393561630653,
          0.011060287731312391,
          0.011606335788373393,
          0.7851262269487054,
          -0.21240620499282165,
          0.89978819259616,
          -0.06873642951684433,
          0.9265694961728728
         ],
         "z": [
          -0.07452674883023233,
          0.015680751580342885,
          -0.005359777695172407,
          0.916559809275704,
          0.8912765149386788,
          0.7763279092261723,
          0.06760575826610621,
          0.014967959832767306,
          -0.006072569442747975,
          -1.0918914497728236,
          -0.2266994735334487,
          -1.053569594287459,
          -0.084178454943843,
          -0.9474393106678044
         ]
        },
        {
         "marker": {
          "color": "black",
          "size": 3
         },
         "mode": "markers",
         "showlegend": false,
         "type": "scatter3d",
         "x": [
          2.017530865886862
         ],
         "y": [
          -0.14429820633521
         ],
         "z": [
          -0.15419744072758307
         ]
        },
        {
         "line": {
          "color": "black",
          "width": 2
         },
         "mode": "lines",
         "showlegend": false,
         "type": "scatter3d",
         "x": [
          2.017530865886862,
          2.004024105872647
         ],
         "y": [
          -0.14429820633521,
          -0.3214213092398106
         ],
         "z": [
          -0.15419744072758307,
          -0.33010927617751706
         ]
        },
        {
         "marker": {
          "color": "black",
          "size": 3
         },
         "mode": "text",
         "showlegend": false,
         "text": [
          "[-1  0  0  1]"
         ],
         "textfont": {
          "color": "black",
          "size": 14
         },
         "textposition": "middle center",
         "type": "scatter3d",
         "x": [
          1.998621401866961
         ],
         "y": [
          -0.39227055040165093
         ],
         "z": [
          -0.4004740103574907
         ]
        },
        {
         "line": {
          "color": "black",
          "width": 2
         },
         "mode": "lines",
         "showlegend": false,
         "type": "scatter3d",
         "x": [
          0.1040127182612386,
          2.0692849504742092
         ],
         "y": [
          -0.07750616980473338,
          -1.0724066774919903
         ],
         "z": [
          -0.07452674883023233,
          0.7763279092261723
         ]
        },
        {
         "line": {
          "color": "black",
          "width": 2
         },
         "mode": "lines",
         "showlegend": false,
         "type": "scatter3d",
         "x": [
          0.1040127182612386,
          2.041884203224021
         ],
         "y": [
          -0.07750616980473338,
          0.7851262269487054
         ],
         "z": [
          -0.07452674883023233,
          -1.0918914497728236
         ]
        },
        {
         "line": {
          "color": "black",
          "width": 2
         },
         "mode": "lines",
         "showlegend": false,
         "type": "scatter3d",
         "x": [
          2.0692849504742092,
          3.8549415915879788
         ],
         "y": [
          -1.0724066774919903,
          -0.21240620499282165
         ],
         "z": [
          0.7763279092261723,
          -0.2266994735334487
         ]
        },
        {
         "line": {
          "color": "black",
          "width": 2
         },
         "mode": "lines",
         "showlegend": false,
         "type": "scatter3d",
         "x": [
          2.041884203224021,
          3.8549415915879788
         ],
         "y": [
          0.7851262269487054,
          -0.21240620499282165
         ],
         "z": [
          -1.0918914497728236,
          -0.2266994735334487
         ]
        },
        {
         "marker": {
          "color": "black",
          "size": 3
         },
         "mode": "markers",
         "showlegend": false,
         "type": "scatter3d",
         "x": [
          0.8167264378386712
         ],
         "y": [
          0.3218946882252741
         ],
         "z": [
          -0.446284028005687
         ]
        },
        {
         "line": {
          "color": "black",
          "width": 2
         },
         "mode": "lines",
         "showlegend": false,
         "type": "scatter3d",
         "x": [
          0.8167264378386712,
          0.6983102440272997
         ],
         "y": [
          0.3218946882252741,
          0.3283542017914793
         ],
         "z": [
          -0.446284028005687,
          -0.6663655577343667
         ]
        },
        {
         "marker": {
          "color": "black",
          "size": 3
         },
         "mode": "text",
         "showlegend": false,
         "text": [
          "[-1  0  1  0]"
         ],
         "textfont": {
          "color": "black",
          "size": 14
         },
         "textposition": "middle center",
         "type": "scatter3d",
         "x": [
          0.6509437665027511
         ],
         "y": [
          0.33093800721796135
         ],
         "z": [
          -0.7543981696258386
         ]
        },
        {
         "line": {
          "color": "black",
          "width": 2
         },
         "mode": "lines",
         "showlegend": false,
         "type": "scatter3d",
         "x": [
          0.1040127182612386,
          -0.020829597089959684
         ],
         "y": [
          -0.07750616980473338,
          -0.00954114440213509
         ],
         "z": [
          -0.07452674883023233,
          -0.005359777695172407
         ]
        },
        {
         "line": {
          "color": "black",
          "width": 2
         },
         "mode": "lines",
         "showlegend": false,
         "type": "scatter3d",
         "x": [
          0.1040127182612386,
          2.041884203224021
         ],
         "y": [
          -0.07750616980473338,
          0.7851262269487054
         ],
         "z": [
          -0.07452674883023233,
          -1.0918914497728236
         ]
        },
        {
         "line": {
          "color": "black",
          "width": 2
         },
         "mode": "lines",
         "showlegend": false,
         "type": "scatter3d",
         "x": [
          -0.020829597089959684,
          -0.018351264322116007
         ],
         "y": [
          -0.00954114440213509,
          0.011606335788373393
         ],
         "z": [
          -0.005359777695172407,
          -0.006072569442747975
         ]
        },
        {
         "line": {
          "color": "black",
          "width": 2
         },
         "mode": "lines",
         "showlegend": false,
         "type": "scatter3d",
         "x": [
          -0.018351264322116007,
          1.976916129120172
         ],
         "y": [
          0.011606335788373393,
          0.89978819259616
         ],
         "z": [
          -0.006072569442747975,
          -1.053569594287459
         ]
        },
        {
         "line": {
          "color": "black",
          "width": 2
         },
         "mode": "lines",
         "showlegend": false,
         "type": "scatter3d",
         "x": [
          2.041884203224021,
          1.976916129120172
         ],
         "y": [
          0.7851262269487054,
          0.89978819259616
         ],
         "z": [
          -1.0918914497728236,
          -1.053569594287459
         ]
        },
        {
         "marker": {
          "color": "black",
          "size": 3
         },
         "mode": "markers",
         "showlegend": false,
         "type": "scatter3d",
         "x": [
          0.8276853831913519
         ],
         "y": [
          -0.4406917093918142
         ],
         "z": [
          0.3206797298439579
         ]
        },
        {
         "line": {
          "color": "black",
          "width": 2
         },
         "mode": "lines",
         "showlegend": false,
         "type": "scatter3d",
         "x": [
          0.8276853831913519,
          0.7118953875244525
         ],
         "y": [
          -0.4406917093918142,
          -0.6620949054568556
         ],
         "z": [
          0.3206797298439579,
          0.32924136961938916
         ]
        },
        {
         "marker": {
          "color": "black",
          "size": 3
         },
         "mode": "text",
         "showlegend": false,
         "text": [
          "[-1  1  0  0]"
         ],
         "textfont": {
          "color": "black",
          "size": 14
         },
         "textposition": "middle center",
         "type": "scatter3d",
         "x": [
          0.6655793892576927
         ],
         "y": [
          -0.7506561838828723
         ],
         "z": [
          0.3326660255295617
         ]
        },
        {
         "line": {
          "color": "black",
          "width": 2
         },
         "mode": "lines",
         "showlegend": false,
         "type": "scatter3d",
         "x": [
          0.1040127182612386,
          -0.020829597089959684
         ],
         "y": [
          -0.07750616980473338,
          -0.00954114440213509
         ],
         "z": [
          -0.07452674883023233,
          -0.005359777695172407
         ]
        },
        {
         "line": {
          "color": "black",
          "width": 2
         },
         "mode": "lines",
         "showlegend": false,
         "type": "scatter3d",
         "x": [
          0.1040127182612386,
          2.0692849504742092
         ],
         "y": [
          -0.07750616980473338,
          -1.0724066774919903
         ],
         "z": [
          -0.07452674883023233,
          0.7763279092261723
         ]
        },
        {
         "line": {
          "color": "black",
          "width": 2
         },
         "mode": "lines",
         "showlegend": false,
         "type": "scatter3d",
         "x": [
          -0.018229733296495132,
          -0.020829597089959684
         ],
         "y": [
          -0.010087192459196094,
          -0.00954114440213509
         ],
         "z": [
          0.015680751580342885,
          -0.005359777695172407
         ]
        },
        {
         "line": {
          "color": "black",
          "width": 2
         },
         "mode": "lines",
         "showlegend": false,
         "type": "scatter3d",
         "x": [
          -0.018229733296495132,
          2.004188577607766
         ],
         "y": [
          -0.010087192459196094,
          -1.033917362801016
         ],
         "z": [
          0.015680751580342885,
          0.8912765149386788
         ]
        },
        {
         "line": {
          "color": "black",
          "width": 2
         },
         "mode": "lines",
         "showlegend": false,
         "type": "scatter3d",
         "x": [
          2.004188577607766,
          2.0692849504742092
         ],
         "y": [
          -1.033917362801016,
          -1.0724066774919903
         ],
         "z": [
          0.8912765149386788,
          0.7763279092261723
         ]
        },
        {
         "marker": {
          "color": "black",
          "size": 3
         },
         "mode": "markers",
         "showlegend": false,
         "type": "scatter3d",
         "x": [
          0.8270383822949505
         ],
         "y": [
          0.382985649581005
         ],
         "z": [
          -0.38490155125982756
         ]
        },
        {
         "line": {
          "color": "black",
          "width": 2
         },
         "mode": "lines",
         "showlegend": false,
         "type": "scatter3d",
         "x": [
          0.8270383822949505,
          0.7333787918464465
         ],
         "y": [
          0.382985649581005,
          0.6141114443549607
         ],
         "z": [
          -0.38490155125982756,
          -0.3673303217318228
         ]
        },
        {
         "marker": {
          "color": "black",
          "size": 3
         },
         "mode": "text",
         "showlegend": false,
         "text": [
          "[ 0  0  1 -1]"
         ],
         "textfont": {
          "color": "black",
          "size": 14
         },
         "textposition": "middle center",
         "type": "scatter3d",
         "x": [
          0.6959149556670449
         ],
         "y": [
          0.706561762264543
         ],
         "z": [
          -0.3603018299206208
         ]
        },
        {
         "line": {
          "color": "black",
          "width": 2
         },
         "mode": "lines",
         "showlegend": false,
         "type": "scatter3d",
         "x": [
          0.12946269317722736,
          -0.015751400528651427
         ],
         "y": [
          0.06590393561630653,
          0.011060287731312391
         ],
         "z": [
          0.06760575826610621,
          0.014967959832767306
         ]
        },
        {
         "line": {
          "color": "black",
          "width": 2
         },
         "mode": "lines",
         "showlegend": false,
         "type": "scatter3d",
         "x": [
          0.12946269317722736,
          2.062915754028121
         ],
         "y": [
          0.06590393561630653,
          0.9265694961728728
         ],
         "z": [
          0.06760575826610621,
          -0.9474393106678044
         ]
        },
        {
         "line": {
          "color": "black",
          "width": 2
         },
         "mode": "lines",
         "showlegend": false,
         "type": "scatter3d",
         "x": [
          -0.015751400528651427,
          -0.018351264322116007
         ],
         "y": [
          0.011060287731312391,
          0.011606335788373393
         ],
         "z": [
          0.014967959832767306,
          -0.006072569442747975
         ]
        },
        {
         "line": {
          "color": "black",
          "width": 2
         },
         "mode": "lines",
         "showlegend": false,
         "type": "scatter3d",
         "x": [
          -0.018351264322116007,
          1.976916129120172
         ],
         "y": [
          0.011606335788373393,
          0.89978819259616
         ],
         "z": [
          -0.006072569442747975,
          -1.053569594287459
         ]
        },
        {
         "line": {
          "color": "black",
          "width": 2
         },
         "mode": "lines",
         "showlegend": false,
         "type": "scatter3d",
         "x": [
          1.976916129120172,
          2.062915754028121
         ],
         "y": [
          0.89978819259616,
          0.9265694961728728
         ],
         "z": [
          -1.053569594287459,
          -0.9474393106678044
         ]
        },
        {
         "marker": {
          "color": "black",
          "size": 3
         },
         "mode": "markers",
         "showlegend": false,
         "type": "scatter3d",
         "x": [
          0.8380030222708438
         ],
         "y": [
          -0.3787629065500491
         ],
         "z": [
          0.38121815877871984
         ]
        },
        {
         "line": {
          "color": "black",
          "width": 2
         },
         "mode": "lines",
         "showlegend": false,
         "type": "scatter3d",
         "x": [
          0.8380030222708438,
          0.7468942118937867
         ],
         "y": [
          -0.3787629065500491,
          -0.36026348010082865
         ],
         "z": [
          0.38121815877871984,
          0.6132891735408554
         ]
        },
        {
         "marker": {
          "color": "black",
          "size": 3
         },
         "mode": "text",
         "showlegend": false,
         "text": [
          "[ 0  1  0 -1]"
         ],
         "textfont": {
          "color": "black",
          "size": 14
         },
         "textposition": "middle center",
         "type": "scatter3d",
         "x": [
          0.7104506877429639
         ],
         "y": [
          -0.3528637095211405
         ],
         "z": [
          0.7061175794457096
         ]
        },
        {
         "line": {
          "color": "black",
          "width": 2
         },
         "mode": "lines",
         "showlegend": false,
         "type": "scatter3d",
         "x": [
          -0.018229733296495132,
          2.004188577607766
         ],
         "y": [
          -0.010087192459196094,
          -1.033917362801016
         ],
         "z": [
          0.015680751580342885,
          0.8912765149386788
         ]
        },
        {
         "line": {
          "color": "black",
          "width": 2
         },
         "mode": "lines",
         "showlegend": false,
         "type": "scatter3d",
         "x": [
          -0.018229733296495132,
          -0.015751400528651427
         ],
         "y": [
          -0.010087192459196094,
          0.011060287731312391
         ],
         "z": [
          0.015680751580342885,
          0.014967959832767306
         ]
        },
        {
         "line": {
          "color": "black",
          "width": 2
         },
         "mode": "lines",
         "showlegend": false,
         "type": "scatter3d",
         "x": [
          2.0903449743943723,
          2.004188577607766
         ],
         "y": [
          -0.9267742008376524,
          -1.033917362801016
         ],
         "z": [
          0.916559809275704,
          0.8912765149386788
         ]
        },
        {
         "line": {
          "color": "black",
          "width": 2
         },
         "mode": "lines",
         "showlegend": false,
         "type": "scatter3d",
         "x": [
          2.0903449743943723,
          0.12946269317722736
         ],
         "y": [
          -0.9267742008376524,
          0.06590393561630653
         ],
         "z": [
          0.916559809275704,
          0.06760575826610621
         ]
        },
        {
         "line": {
          "color": "black",
          "width": 2
         },
         "mode": "lines",
         "showlegend": false,
         "type": "scatter3d",
         "x": [
          0.12946269317722736,
          -0.015751400528651427
         ],
         "y": [
          0.06590393561630653,
          0.011060287731312391
         ],
         "z": [
          0.06760575826610621,
          0.014967959832767306
         ]
        },
        {
         "marker": {
          "color": "black",
          "size": 3
         },
         "mode": "markers",
         "showlegend": false,
         "type": "scatter3d",
         "x": [
          2.03866244867577
         ],
         "y": [
          -0.0007592996413293418
         ],
         "z": [
          -0.011863049517459312
         ]
        },
        {
         "line": {
          "color": "black",
          "width": 2
         },
         "mode": "lines",
         "showlegend": false,
         "type": "scatter3d",
         "x": [
          2.03866244867577,
          2.052169208689985
         ],
         "y": [
          -0.0007592996413293418,
          0.17636380326327128
         ],
         "z": [
          -0.011863049517459312,
          0.16404878593247468
         ]
        },
        {
         "marker": {
          "color": "black",
          "size": 3
         },
         "mode": "text",
         "showlegend": false,
         "text": [
          "[ 1  0  0 -1]"
         ],
         "textfont": {
          "color": "black",
          "size": 14
         },
         "textposition": "middle center",
         "type": "scatter3d",
         "x": [
          2.057571912695671
         ],
         "y": [
          0.24721304442511158
         ],
         "z": [
          0.2344135201124483
         ]
        },
        {
         "line": {
          "color": "black",
          "width": 2
         },
         "mode": "lines",
         "showlegend": false,
         "type": "scatter3d",
         "x": [
          2.0903449743943723,
          0.12946269317722736
         ],
         "y": [
          -0.9267742008376524,
          0.06590393561630653
         ],
         "z": [
          0.916559809275704,
          0.06760575826610621
         ]
        },
        {
         "line": {
          "color": "black",
          "width": 2
         },
         "mode": "lines",
         "showlegend": false,
         "type": "scatter3d",
         "x": [
          2.0903449743943723,
          3.8719263731033595
         ],
         "y": [
          -0.9267742008376524,
          -0.06873642951684433
         ],
         "z": [
          0.916559809275704,
          -0.084178454943843
         ]
        },
        {
         "line": {
          "color": "black",
          "width": 2
         },
         "mode": "lines",
         "showlegend": false,
         "type": "scatter3d",
         "x": [
          0.12946269317722736,
          2.062915754028121
         ],
         "y": [
          0.06590393561630653,
          0.9265694961728728
         ],
         "z": [
          0.06760575826610621,
          -0.9474393106678044
         ]
        },
        {
         "line": {
          "color": "black",
          "width": 2
         },
         "mode": "lines",
         "showlegend": false,
         "type": "scatter3d",
         "x": [
          3.8719263731033595,
          2.062915754028121
         ],
         "y": [
          -0.06873642951684433,
          0.9265694961728728
         ],
         "z": [
          -0.084178454943843,
          -0.9474393106678044
         ]
        },
        {
         "marker": {
          "color": "black",
          "size": 3
         },
         "mode": "markers",
         "showlegend": false,
         "type": "scatter3d",
         "x": [
          -0.018290498809305562
         ],
         "y": [
          0.0007595716645886503
         ],
         "z": [
          0.004804091068797452
         ]
        },
        {
         "line": {
          "color": "black",
          "width": 2
         },
         "mode": "lines",
         "showlegend": false,
         "type": "scatter3d",
         "x": [
          -0.018290498809305562,
          -0.2645259411812398
         ],
         "y": [
          0.0007595716645886503,
          0.030668289406761938
         ],
         "z": [
          0.004804091068797452,
          0.036006262834827975
         ]
        },
        {
         "marker": {
          "color": "black",
          "size": 3
         },
         "mode": "text",
         "showlegend": false,
         "text": [
          "[-1  1  1 -1]"
         ],
         "textfont": {
          "color": "black",
          "size": 14
         },
         "textposition": "middle center",
         "type": "scatter3d",
         "x": [
          -0.3630201181300135
         ],
         "y": [
          0.04263177650363125
         ],
         "z": [
          0.04848713154124019
         ]
        },
        {
         "line": {
          "color": "black",
          "width": 2
         },
         "mode": "lines",
         "showlegend": false,
         "type": "scatter3d",
         "x": [
          -0.018229733296495132,
          -0.020829597089959684
         ],
         "y": [
          -0.010087192459196094,
          -0.00954114440213509
         ],
         "z": [
          0.015680751580342885,
          -0.005359777695172407
         ]
        },
        {
         "line": {
          "color": "black",
          "width": 2
         },
         "mode": "lines",
         "showlegend": false,
         "type": "scatter3d",
         "x": [
          -0.018229733296495132,
          -0.015751400528651427
         ],
         "y": [
          -0.010087192459196094,
          0.011060287731312391
         ],
         "z": [
          0.015680751580342885,
          0.014967959832767306
         ]
        },
        {
         "line": {
          "color": "black",
          "width": 2
         },
         "mode": "lines",
         "showlegend": false,
         "type": "scatter3d",
         "x": [
          -0.020829597089959684,
          -0.018351264322116007
         ],
         "y": [
          -0.00954114440213509,
          0.011606335788373393
         ],
         "z": [
          -0.005359777695172407,
          -0.006072569442747975
         ]
        },
        {
         "line": {
          "color": "black",
          "width": 2
         },
         "mode": "lines",
         "showlegend": false,
         "type": "scatter3d",
         "x": [
          -0.015751400528651427,
          -0.018351264322116007
         ],
         "y": [
          0.011060287731312391,
          0.011606335788373393
         ],
         "z": [
          0.014967959832767306,
          -0.006072569442747975
         ]
        },
        {
         "marker": {
          "color": "black",
          "size": 3
         },
         "mode": "markers",
         "showlegend": false,
         "type": "scatter3d",
         "x": [
          null
         ],
         "y": [
          null
         ],
         "z": [
          null
         ]
        },
        {
         "line": {
          "color": "black",
          "width": 2
         },
         "mode": "lines",
         "showlegend": false,
         "type": "scatter3d",
         "x": [
          null,
          null
         ],
         "y": [
          null,
          null
         ],
         "z": [
          null,
          null
         ]
        },
        {
         "marker": {
          "color": "black",
          "size": 3
         },
         "mode": "text",
         "showlegend": false,
         "text": [
          "[0 0 0 0]"
         ],
         "textfont": {
          "color": "black",
          "size": 14
         },
         "textposition": "middle center",
         "type": "scatter3d",
         "x": [
          null
         ],
         "y": [
          null
         ],
         "z": [
          null
         ]
        },
        {
         "marker": {
          "color": "black",
          "size": 3
         },
         "mode": "markers",
         "showlegend": false,
         "type": "scatter3d",
         "x": [
          2.761716810212731
         ],
         "y": [
          0.4660682562416144
         ],
         "z": [
          -0.6807556566410758
         ]
        },
        {
         "line": {
          "color": "black",
          "width": 2
         },
         "mode": "lines",
         "showlegend": false,
         "type": "scatter3d",
         "x": [
          2.761716810212731,
          2.908010317275884
         ],
         "y": [
          0.4660682562416144,
          0.5998622921079215
         ],
         "z": [
          -0.6807556566410758,
          -0.8330624711891075
         ]
        },
        {
         "marker": {
          "color": "black",
          "size": 3
         },
         "mode": "text",
         "showlegend": false,
         "text": [
          "[0 0 0 0]"
         ],
         "textfont": {
          "color": "black",
          "size": 14
         },
         "textposition": "middle center",
         "type": "scatter3d",
         "x": [
          2.9665277201011455
         ],
         "y": [
          0.6533799064544443
         ],
         "z": [
          -0.8939851970083201
         ]
        },
        {
         "line": {
          "color": "black",
          "width": 2
         },
         "mode": "lines",
         "showlegend": false,
         "type": "scatter3d",
         "x": [
          2.041884203224021,
          3.8549415915879788
         ],
         "y": [
          0.7851262269487054,
          -0.21240620499282165
         ],
         "z": [
          -1.0918914497728236,
          -0.2266994735334487
         ]
        },
        {
         "line": {
          "color": "black",
          "width": 2
         },
         "mode": "lines",
         "showlegend": false,
         "type": "scatter3d",
         "x": [
          2.041884203224021,
          1.976916129120172
         ],
         "y": [
          0.7851262269487054,
          0.89978819259616
         ],
         "z": [
          -1.0918914497728236,
          -1.053569594287459
         ]
        },
        {
         "line": {
          "color": "black",
          "width": 2
         },
         "mode": "lines",
         "showlegend": false,
         "type": "scatter3d",
         "x": [
          3.8549415915879788,
          3.8719263731033595
         ],
         "y": [
          -0.21240620499282165,
          -0.06873642951684433
         ],
         "z": [
          -0.2266994735334487,
          -0.084178454943843
         ]
        },
        {
         "line": {
          "color": "black",
          "width": 2
         },
         "mode": "lines",
         "showlegend": false,
         "type": "scatter3d",
         "x": [
          1.976916129120172,
          2.062915754028121
         ],
         "y": [
          0.89978819259616,
          0.9265694961728728
         ],
         "z": [
          -1.053569594287459,
          -0.9474393106678044
         ]
        },
        {
         "line": {
          "color": "black",
          "width": 2
         },
         "mode": "lines",
         "showlegend": false,
         "type": "scatter3d",
         "x": [
          3.8719263731033595,
          2.062915754028121
         ],
         "y": [
          -0.06873642951684433,
          0.9265694961728728
         ],
         "z": [
          -0.084178454943843,
          -0.9474393106678044
         ]
        },
        {
         "marker": {
          "color": "black",
          "size": 3
         },
         "mode": "markers",
         "showlegend": false,
         "type": "scatter3d",
         "x": [
          2.778137293433537
         ],
         "y": [
          -0.6628481751280648
         ],
         "z": [
          0.45465726099265263
         ]
        },
        {
         "line": {
          "color": "black",
          "width": 2
         },
         "mode": "lines",
         "showlegend": false,
         "type": "scatter3d",
         "x": [
          2.778137293433537,
          2.925969171170443
         ],
         "y": [
          -0.6628481751280648,
          -0.8133725310680946
         ],
         "z": [
          0.45465726099265263,
          0.5887771856631494
         ]
        },
        {
         "marker": {
          "color": "black",
          "size": 3
         },
         "mode": "text",
         "showlegend": false,
         "text": [
          "[0 0 0 0]"
         ],
         "textfont": {
          "color": "black",
          "size": 14
         },
         "textposition": "middle center",
         "type": "scatter3d",
         "x": [
          2.9851019222652053
         ],
         "y": [
          -0.8735822734441065
         ],
         "z": [
          0.6424251555313482
         ]
        },
        {
         "line": {
          "color": "black",
          "width": 2
         },
         "mode": "lines",
         "showlegend": false,
         "type": "scatter3d",
         "x": [
          2.0903449743943723,
          2.004188577607766
         ],
         "y": [
          -0.9267742008376524,
          -1.033917362801016
         ],
         "z": [
          0.916559809275704,
          0.8912765149386788
         ]
        },
        {
         "line": {
          "color": "black",
          "width": 2
         },
         "mode": "lines",
         "showlegend": false,
         "type": "scatter3d",
         "x": [
          2.0903449743943723,
          3.8719263731033595
         ],
         "y": [
          -0.9267742008376524,
          -0.06873642951684433
         ],
         "z": [
          0.916559809275704,
          -0.084178454943843
         ]
        },
        {
         "line": {
          "color": "black",
          "width": 2
         },
         "mode": "lines",
         "showlegend": false,
         "type": "scatter3d",
         "x": [
          2.004188577607766,
          2.0692849504742092
         ],
         "y": [
          -1.033917362801016,
          -1.0724066774919903
         ],
         "z": [
          0.8912765149386788,
          0.7763279092261723
         ]
        },
        {
         "line": {
          "color": "black",
          "width": 2
         },
         "mode": "lines",
         "showlegend": false,
         "type": "scatter3d",
         "x": [
          2.0692849504742092,
          3.8549415915879788
         ],
         "y": [
          -1.0724066774919903,
          -0.21240620499282165
         ],
         "z": [
          0.7763279092261723,
          -0.2266994735334487
         ]
        },
        {
         "line": {
          "color": "black",
          "width": 2
         },
         "mode": "lines",
         "showlegend": false,
         "type": "scatter3d",
         "x": [
          3.8549415915879788,
          3.8719263731033595
         ],
         "y": [
          -0.21240620499282165,
          -0.06873642951684433
         ],
         "z": [
          -0.2266994735334487,
          -0.084178454943843
         ]
        },
        {
         "marker": {
          "color": "black",
          "size": 3
         },
         "mode": "markers",
         "showlegend": false,
         "type": "scatter3d",
         "x": [
          null
         ],
         "y": [
          null
         ],
         "z": [
          null
         ]
        },
        {
         "line": {
          "color": "black",
          "width": 2
         },
         "mode": "lines",
         "showlegend": false,
         "type": "scatter3d",
         "x": [
          null,
          null
         ],
         "y": [
          null,
          null
         ],
         "z": [
          null,
          null
         ]
        },
        {
         "marker": {
          "color": "black",
          "size": 3
         },
         "mode": "text",
         "showlegend": false,
         "text": [
          "[0 0 0 0]"
         ],
         "textfont": {
          "color": "black",
          "size": 14
         },
         "textposition": "middle center",
         "type": "scatter3d",
         "x": [
          null
         ],
         "y": [
          null
         ],
         "z": [
          null
         ]
        },
        {
         "marker": {
          "color": "red",
          "size": 3
         },
         "mode": "markers",
         "showlegend": false,
         "type": "scatter3d",
         "x": [
          1.6002445702375805,
          1.7211121825380726,
          1.601839068599741,
          1.579107870642443,
          1.5716085889843865,
          1.6651299497563672,
          2.6609971914244017,
          1.2628845083923426,
          1.500681833665603,
          1.3407537935878309,
          1.5331481865607572,
          1.363928349582423,
          1.1718597478038033,
          1.401811460552703,
          1.531657007797142,
          1.4442791583782506,
          1.9875909124342594,
          1.6064708396338505,
          2.513949073321105,
          1.4531163456816123,
          1.4338998434300887,
          1.3919141290724513,
          1.3209247088910416,
          1.2046266162761468,
          1.2436133339945505,
          1.3453112140535062,
          1.3836567980177374,
          1.3201480149169877,
          1.398027776928066,
          1.396467157209394,
          1.3901555330209485,
          2.0085695902495164,
          2.2833762829120134,
          1.4786743402701927,
          0.9126911469518012,
          0.8995944168162631,
          0.9300157237063907,
          1.9182993020185513,
          1.8824343916430064,
          1.749685944657895,
          1.0353550348965415,
          1.1019321217986633,
          0.9010792944469627,
          0.9826992456010039,
          0.9664770389983376,
          0.9900333118759711,
          1.0254022431465766,
          1.0030703265352512,
          0.9941619375502707,
          1.0237377400531593,
          1.8952781649448671,
          1.4242513719199377,
          0.9236711333089571,
          0.7649686999875737,
          0.31069637045083254,
          0.1605612009800157,
          0.39242322186886636,
          0.37298831329367776,
          0.3932248966392766,
          0.35670881504208674,
          0.3734100884551437,
          0.35844035375280003,
          0.3789010102284305,
          0.4212150947455686,
          0.35032307682729624,
          0.42830552498453867,
          0.4774566048602149,
          0.41828780683282973,
          0.035031753190966075,
          0.11018114941558865,
          0.09260509325675748,
          0.2985531694820711,
          0.2353065882053137,
          0.26003549270591775,
          0.24196552410836436,
          0.2385266969602785,
          0.29879464520303967,
          0.21835757664639466,
          0.2544522579614663,
          0.2078293606532462,
          0.23342820333294179,
          0.2811741365850918,
          0.28776654248944034,
          -0.019321116858685095,
          -0.019426670494028686,
          -0.019104400196451765,
          0.2234817032383961,
          0.2602254423227801,
          0.24193184773475085,
          0.24749753914982942,
          0.23510268386154565,
          0.2337998212792396,
          0.22574434401865773,
          0.25156458790024105,
          0.23493108040832122,
          -0.01858926090717128,
          -0.016901192257559705,
          -0.01804457954651384,
          0.19782450434060728,
          0.30806566269442887,
          0.27299478089226237,
          0.2693706056790949,
          0.2287976097788577,
          0.250822162586201,
          0.22677339304724725,
          0.23452576722875046,
          0.2546401325645959,
          -0.02000822767668231,
          -0.01901601602130243,
          -0.018958004060514733
         ],
         "y": [
          -0.02573564033333864,
          -0.13034584796323095,
          0.1332034765090531,
          -0.016384980987730446,
          -0.07426049556545841,
          -0.045293525295804035,
          -0.4191096425615995,
          0.06517906001880935,
          -0.03781191888147486,
          -0.10817051008799056,
          -0.020858876562981236,
          -0.11211176843543744,
          -0.5388354751620275,
          0.050816987273270435,
          0.029844413274624636,
          -0.10161052722212499,
          0.04513715172638974,
          -0.4183415448146169,
          -0.25210633508255115,
          0.13913441130159626,
          0.42821634433821903,
          0.23539129676082782,
          -0.6900987012902848,
          -0.5771048788498616,
          -0.6065074130622264,
          0.5286776335426877,
          0.264898091467347,
          0.4146155328530996,
          -0.6172157020921402,
          -0.6013136658059954,
          -0.6367457194192578,
          -0.18838925897313052,
          -0.058718309634860924,
          -0.35762271948071467,
          -0.44681852810318945,
          -0.4767576549625013,
          -0.4557592349641303,
          -0.4892655951171989,
          -0.8534705916911927,
          0.058111752812066195,
          0.47449448821220874,
          0.5075770465276787,
          0.350563273254766,
          -0.5197325742505858,
          -0.5119609349301818,
          -0.5236240631642777,
          0.46572770474795155,
          -0.4877558696934277,
          -0.4063760062050335,
          -0.4186531821738981,
          0.007880713378663834,
          0.2776632081596127,
          0.016591485011303198,
          0.10539935581138381,
          0.1573258540905888,
          0.05034229545955286,
          0.12143892261583392,
          0.0995111266069767,
          0.09121649372921264,
          -0.2026794769115549,
          -0.20949355591025082,
          -0.20445695853446078,
          0.1828915897036267,
          0.20029623971271918,
          0.17197457526893564,
          -0.15838179477770586,
          -0.1679157474807445,
          -0.12179827043704805,
          0.03150300555702408,
          0.06663948345016815,
          0.0009694513864119403,
          0.10022589648436236,
          0.06110290741826699,
          0.0459267172342854,
          -0.14496244979236214,
          -0.1425273341242388,
          -0.17366592406642378,
          0.11262905801113893,
          0.12503884266758644,
          0.10842885233699945,
          -0.1128408709560941,
          -0.08270177400853487,
          -0.06924726749469606,
          -0.0006491810659422503,
          -0.00540780228771108,
          -0.005546297486944948,
          0.014942351176874744,
          0.06410306555686247,
          0.020167291530140283,
          -0.1483423157739971,
          -0.14243749304988812,
          -0.14033656685563053,
          0.12005752710807675,
          0.1262408880169794,
          0.11789365676691586,
          0.006163943128936603,
          0.008076727925300342,
          0.005725619145741073,
          0.0671083246532721,
          0.0662951310799571,
          0.006214781787058761,
          -0.1591942506751173,
          -0.13836783362580501,
          -0.14921721619618344,
          0.11273656102334521,
          0.11766985307112336,
          0.12683908124047927,
          0.000977936889932099,
          0.0036089156746430748,
          -0.004600645111480346
         ],
         "z": [
          0.04752642114223063,
          0.14298102302317084,
          -0.11289738550465887,
          0.03926448484380515,
          0.09866725817142816,
          -0.22722879955934636,
          0.3616268050045285,
          -0.018599151689286872,
          -0.2220342482913475,
          -0.13893919789379994,
          -0.2420215494551595,
          -0.13685552255141498,
          0.5257350443947064,
          -0.3034555758683061,
          -0.2924511854000162,
          -0.15391629174987334,
          -0.3427239510239565,
          0.15310022932551592,
          -0.08377718129146275,
          -0.3964214843353502,
          -0.6857155103290572,
          -0.4884747541771925,
          0.5589958805682299,
          0.541270889075488,
          0.5588103282515607,
          -0.4914239070609935,
          -0.22871328926825446,
          -0.37460035712974127,
          0.6206750357914443,
          0.6181933470348822,
          0.6187202610619438,
          0.17946987706681605,
          0.027897915439550627,
          0.39052572011064896,
          0.41670217107885016,
          0.37908534610149924,
          0.42401112909144384,
          0.20061611785647268,
          0.569893021423299,
          -0.3375576019418912,
          -0.4698961637225774,
          -0.5490666097951277,
          -0.4909698950208521,
          0.37943200777735736,
          0.36102767896400567,
          0.37952995980154774,
          -0.41362249010667096,
          0.4552147550148499,
          0.4454213993769244,
          0.45774020123391107,
          -0.009287517862421314,
          -0.24471026165749546,
          0.05640025814972843,
          -0.02099528665895692,
          -0.16244954128607914,
          -0.10146007340932933,
          -0.22406543685195646,
          -0.2145386395320995,
          -0.2253246799493481,
          0.11631321336747395,
          0.16281952775308586,
          0.0878436466123287,
          -0.14114284635144234,
          -0.13876456622219377,
          -0.14842688595588083,
          0.20307072340461846,
          0.22334678769768693,
          0.19618395058088975,
          0.020107971630465207,
          -0.04518604801048702,
          0.058640353212451896,
          -0.17413162447460342,
          -0.14138852639626404,
          -0.15518190298607143,
          0.049912144994465266,
          0.0662971381518782,
          0.08483151375604693,
          -0.06720500277622626,
          -0.03952391625273542,
          -0.06878197116260155,
          0.12288655516701207,
          0.13936482388368224,
          0.14062073286941137,
          0.004749121702764367,
          0.0044423465558463895,
          0.0065565674765380826,
          -0.13672215767183205,
          -0.15469887608902727,
          -0.14668475245521984,
          0.04570773565907854,
          0.029140862470573,
          0.06373182197246202,
          -0.12520793577920203,
          -0.06972080348800412,
          -0.05026243866589783,
          0.002007006860569243,
          0.011447827476123756,
          0.006793550569312558,
          -0.12096017387754682,
          -0.18042204146436416,
          -0.16338419237915097,
          0.06486889669430707,
          0.05717772355640504,
          0.07687401894947252,
          -0.02390064082402206,
          -0.04920090353478514,
          -0.06328926583811001,
          -0.005407387368123157,
          -0.0015670623356298721,
          0.013591303397057459
         ]
        }
       ],
       "layout": {
        "scene": {
         "xaxis": {
          "title": {
           "text": "V<sub>3</sub>"
          }
         },
         "yaxis": {
          "title": {
           "text": "V<sub>2</sub>"
          }
         },
         "zaxis": {
          "title": {
           "text": "V<sub>1</sub>"
          }
         }
        },
        "template": {
         "data": {
          "bar": [
           {
            "error_x": {
             "color": "#2a3f5f"
            },
            "error_y": {
             "color": "#2a3f5f"
            },
            "marker": {
             "line": {
              "color": "#E5ECF6",
              "width": 0.5
             },
             "pattern": {
              "fillmode": "overlay",
              "size": 10,
              "solidity": 0.2
             }
            },
            "type": "bar"
           }
          ],
          "barpolar": [
           {
            "marker": {
             "line": {
              "color": "#E5ECF6",
              "width": 0.5
             },
             "pattern": {
              "fillmode": "overlay",
              "size": 10,
              "solidity": 0.2
             }
            },
            "type": "barpolar"
           }
          ],
          "carpet": [
           {
            "aaxis": {
             "endlinecolor": "#2a3f5f",
             "gridcolor": "white",
             "linecolor": "white",
             "minorgridcolor": "white",
             "startlinecolor": "#2a3f5f"
            },
            "baxis": {
             "endlinecolor": "#2a3f5f",
             "gridcolor": "white",
             "linecolor": "white",
             "minorgridcolor": "white",
             "startlinecolor": "#2a3f5f"
            },
            "type": "carpet"
           }
          ],
          "choropleth": [
           {
            "colorbar": {
             "outlinewidth": 0,
             "ticks": ""
            },
            "type": "choropleth"
           }
          ],
          "contour": [
           {
            "colorbar": {
             "outlinewidth": 0,
             "ticks": ""
            },
            "colorscale": [
             [
              0,
              "#0d0887"
             ],
             [
              0.1111111111111111,
              "#46039f"
             ],
             [
              0.2222222222222222,
              "#7201a8"
             ],
             [
              0.3333333333333333,
              "#9c179e"
             ],
             [
              0.4444444444444444,
              "#bd3786"
             ],
             [
              0.5555555555555556,
              "#d8576b"
             ],
             [
              0.6666666666666666,
              "#ed7953"
             ],
             [
              0.7777777777777778,
              "#fb9f3a"
             ],
             [
              0.8888888888888888,
              "#fdca26"
             ],
             [
              1,
              "#f0f921"
             ]
            ],
            "type": "contour"
           }
          ],
          "contourcarpet": [
           {
            "colorbar": {
             "outlinewidth": 0,
             "ticks": ""
            },
            "type": "contourcarpet"
           }
          ],
          "heatmap": [
           {
            "colorbar": {
             "outlinewidth": 0,
             "ticks": ""
            },
            "colorscale": [
             [
              0,
              "#0d0887"
             ],
             [
              0.1111111111111111,
              "#46039f"
             ],
             [
              0.2222222222222222,
              "#7201a8"
             ],
             [
              0.3333333333333333,
              "#9c179e"
             ],
             [
              0.4444444444444444,
              "#bd3786"
             ],
             [
              0.5555555555555556,
              "#d8576b"
             ],
             [
              0.6666666666666666,
              "#ed7953"
             ],
             [
              0.7777777777777778,
              "#fb9f3a"
             ],
             [
              0.8888888888888888,
              "#fdca26"
             ],
             [
              1,
              "#f0f921"
             ]
            ],
            "type": "heatmap"
           }
          ],
          "heatmapgl": [
           {
            "colorbar": {
             "outlinewidth": 0,
             "ticks": ""
            },
            "colorscale": [
             [
              0,
              "#0d0887"
             ],
             [
              0.1111111111111111,
              "#46039f"
             ],
             [
              0.2222222222222222,
              "#7201a8"
             ],
             [
              0.3333333333333333,
              "#9c179e"
             ],
             [
              0.4444444444444444,
              "#bd3786"
             ],
             [
              0.5555555555555556,
              "#d8576b"
             ],
             [
              0.6666666666666666,
              "#ed7953"
             ],
             [
              0.7777777777777778,
              "#fb9f3a"
             ],
             [
              0.8888888888888888,
              "#fdca26"
             ],
             [
              1,
              "#f0f921"
             ]
            ],
            "type": "heatmapgl"
           }
          ],
          "histogram": [
           {
            "marker": {
             "pattern": {
              "fillmode": "overlay",
              "size": 10,
              "solidity": 0.2
             }
            },
            "type": "histogram"
           }
          ],
          "histogram2d": [
           {
            "colorbar": {
             "outlinewidth": 0,
             "ticks": ""
            },
            "colorscale": [
             [
              0,
              "#0d0887"
             ],
             [
              0.1111111111111111,
              "#46039f"
             ],
             [
              0.2222222222222222,
              "#7201a8"
             ],
             [
              0.3333333333333333,
              "#9c179e"
             ],
             [
              0.4444444444444444,
              "#bd3786"
             ],
             [
              0.5555555555555556,
              "#d8576b"
             ],
             [
              0.6666666666666666,
              "#ed7953"
             ],
             [
              0.7777777777777778,
              "#fb9f3a"
             ],
             [
              0.8888888888888888,
              "#fdca26"
             ],
             [
              1,
              "#f0f921"
             ]
            ],
            "type": "histogram2d"
           }
          ],
          "histogram2dcontour": [
           {
            "colorbar": {
             "outlinewidth": 0,
             "ticks": ""
            },
            "colorscale": [
             [
              0,
              "#0d0887"
             ],
             [
              0.1111111111111111,
              "#46039f"
             ],
             [
              0.2222222222222222,
              "#7201a8"
             ],
             [
              0.3333333333333333,
              "#9c179e"
             ],
             [
              0.4444444444444444,
              "#bd3786"
             ],
             [
              0.5555555555555556,
              "#d8576b"
             ],
             [
              0.6666666666666666,
              "#ed7953"
             ],
             [
              0.7777777777777778,
              "#fb9f3a"
             ],
             [
              0.8888888888888888,
              "#fdca26"
             ],
             [
              1,
              "#f0f921"
             ]
            ],
            "type": "histogram2dcontour"
           }
          ],
          "mesh3d": [
           {
            "colorbar": {
             "outlinewidth": 0,
             "ticks": ""
            },
            "type": "mesh3d"
           }
          ],
          "parcoords": [
           {
            "line": {
             "colorbar": {
              "outlinewidth": 0,
              "ticks": ""
             }
            },
            "type": "parcoords"
           }
          ],
          "pie": [
           {
            "automargin": true,
            "type": "pie"
           }
          ],
          "scatter": [
           {
            "marker": {
             "colorbar": {
              "outlinewidth": 0,
              "ticks": ""
             }
            },
            "type": "scatter"
           }
          ],
          "scatter3d": [
           {
            "line": {
             "colorbar": {
              "outlinewidth": 0,
              "ticks": ""
             }
            },
            "marker": {
             "colorbar": {
              "outlinewidth": 0,
              "ticks": ""
             }
            },
            "type": "scatter3d"
           }
          ],
          "scattercarpet": [
           {
            "marker": {
             "colorbar": {
              "outlinewidth": 0,
              "ticks": ""
             }
            },
            "type": "scattercarpet"
           }
          ],
          "scattergeo": [
           {
            "marker": {
             "colorbar": {
              "outlinewidth": 0,
              "ticks": ""
             }
            },
            "type": "scattergeo"
           }
          ],
          "scattergl": [
           {
            "marker": {
             "colorbar": {
              "outlinewidth": 0,
              "ticks": ""
             }
            },
            "type": "scattergl"
           }
          ],
          "scattermapbox": [
           {
            "marker": {
             "colorbar": {
              "outlinewidth": 0,
              "ticks": ""
             }
            },
            "type": "scattermapbox"
           }
          ],
          "scatterpolar": [
           {
            "marker": {
             "colorbar": {
              "outlinewidth": 0,
              "ticks": ""
             }
            },
            "type": "scatterpolar"
           }
          ],
          "scatterpolargl": [
           {
            "marker": {
             "colorbar": {
              "outlinewidth": 0,
              "ticks": ""
             }
            },
            "type": "scatterpolargl"
           }
          ],
          "scatterternary": [
           {
            "marker": {
             "colorbar": {
              "outlinewidth": 0,
              "ticks": ""
             }
            },
            "type": "scatterternary"
           }
          ],
          "surface": [
           {
            "colorbar": {
             "outlinewidth": 0,
             "ticks": ""
            },
            "colorscale": [
             [
              0,
              "#0d0887"
             ],
             [
              0.1111111111111111,
              "#46039f"
             ],
             [
              0.2222222222222222,
              "#7201a8"
             ],
             [
              0.3333333333333333,
              "#9c179e"
             ],
             [
              0.4444444444444444,
              "#bd3786"
             ],
             [
              0.5555555555555556,
              "#d8576b"
             ],
             [
              0.6666666666666666,
              "#ed7953"
             ],
             [
              0.7777777777777778,
              "#fb9f3a"
             ],
             [
              0.8888888888888888,
              "#fdca26"
             ],
             [
              1,
              "#f0f921"
             ]
            ],
            "type": "surface"
           }
          ],
          "table": [
           {
            "cells": {
             "fill": {
              "color": "#EBF0F8"
             },
             "line": {
              "color": "white"
             }
            },
            "header": {
             "fill": {
              "color": "#C8D4E3"
             },
             "line": {
              "color": "white"
             }
            },
            "type": "table"
           }
          ]
         },
         "layout": {
          "annotationdefaults": {
           "arrowcolor": "#2a3f5f",
           "arrowhead": 0,
           "arrowwidth": 1
          },
          "autotypenumbers": "strict",
          "coloraxis": {
           "colorbar": {
            "outlinewidth": 0,
            "ticks": ""
           }
          },
          "colorscale": {
           "diverging": [
            [
             0,
             "#8e0152"
            ],
            [
             0.1,
             "#c51b7d"
            ],
            [
             0.2,
             "#de77ae"
            ],
            [
             0.3,
             "#f1b6da"
            ],
            [
             0.4,
             "#fde0ef"
            ],
            [
             0.5,
             "#f7f7f7"
            ],
            [
             0.6,
             "#e6f5d0"
            ],
            [
             0.7,
             "#b8e186"
            ],
            [
             0.8,
             "#7fbc41"
            ],
            [
             0.9,
             "#4d9221"
            ],
            [
             1,
             "#276419"
            ]
           ],
           "sequential": [
            [
             0,
             "#0d0887"
            ],
            [
             0.1111111111111111,
             "#46039f"
            ],
            [
             0.2222222222222222,
             "#7201a8"
            ],
            [
             0.3333333333333333,
             "#9c179e"
            ],
            [
             0.4444444444444444,
             "#bd3786"
            ],
            [
             0.5555555555555556,
             "#d8576b"
            ],
            [
             0.6666666666666666,
             "#ed7953"
            ],
            [
             0.7777777777777778,
             "#fb9f3a"
            ],
            [
             0.8888888888888888,
             "#fdca26"
            ],
            [
             1,
             "#f0f921"
            ]
           ],
           "sequentialminus": [
            [
             0,
             "#0d0887"
            ],
            [
             0.1111111111111111,
             "#46039f"
            ],
            [
             0.2222222222222222,
             "#7201a8"
            ],
            [
             0.3333333333333333,
             "#9c179e"
            ],
            [
             0.4444444444444444,
             "#bd3786"
            ],
            [
             0.5555555555555556,
             "#d8576b"
            ],
            [
             0.6666666666666666,
             "#ed7953"
            ],
            [
             0.7777777777777778,
             "#fb9f3a"
            ],
            [
             0.8888888888888888,
             "#fdca26"
            ],
            [
             1,
             "#f0f921"
            ]
           ]
          },
          "colorway": [
           "#636efa",
           "#EF553B",
           "#00cc96",
           "#ab63fa",
           "#FFA15A",
           "#19d3f3",
           "#FF6692",
           "#B6E880",
           "#FF97FF",
           "#FECB52"
          ],
          "font": {
           "color": "#2a3f5f"
          },
          "geo": {
           "bgcolor": "white",
           "lakecolor": "white",
           "landcolor": "#E5ECF6",
           "showlakes": true,
           "showland": true,
           "subunitcolor": "white"
          },
          "hoverlabel": {
           "align": "left"
          },
          "hovermode": "closest",
          "mapbox": {
           "style": "light"
          },
          "paper_bgcolor": "white",
          "plot_bgcolor": "#E5ECF6",
          "polar": {
           "angularaxis": {
            "gridcolor": "white",
            "linecolor": "white",
            "ticks": ""
           },
           "bgcolor": "#E5ECF6",
           "radialaxis": {
            "gridcolor": "white",
            "linecolor": "white",
            "ticks": ""
           }
          },
          "scene": {
           "xaxis": {
            "backgroundcolor": "#E5ECF6",
            "gridcolor": "white",
            "gridwidth": 2,
            "linecolor": "white",
            "showbackground": true,
            "ticks": "",
            "zerolinecolor": "white"
           },
           "yaxis": {
            "backgroundcolor": "#E5ECF6",
            "gridcolor": "white",
            "gridwidth": 2,
            "linecolor": "white",
            "showbackground": true,
            "ticks": "",
            "zerolinecolor": "white"
           },
           "zaxis": {
            "backgroundcolor": "#E5ECF6",
            "gridcolor": "white",
            "gridwidth": 2,
            "linecolor": "white",
            "showbackground": true,
            "ticks": "",
            "zerolinecolor": "white"
           }
          },
          "shapedefaults": {
           "line": {
            "color": "#2a3f5f"
           }
          },
          "ternary": {
           "aaxis": {
            "gridcolor": "white",
            "linecolor": "white",
            "ticks": ""
           },
           "baxis": {
            "gridcolor": "white",
            "linecolor": "white",
            "ticks": ""
           },
           "bgcolor": "#E5ECF6",
           "caxis": {
            "gridcolor": "white",
            "linecolor": "white",
            "ticks": ""
           }
          },
          "title": {
           "x": 0.05
          },
          "xaxis": {
           "automargin": true,
           "gridcolor": "white",
           "linecolor": "white",
           "ticks": "",
           "title": {
            "standoff": 15
           },
           "zerolinecolor": "white",
           "zerolinewidth": 2
          },
          "yaxis": {
           "automargin": true,
           "gridcolor": "white",
           "linecolor": "white",
           "ticks": "",
           "title": {
            "standoff": 15
           },
           "zerolinecolor": "white",
           "zerolinewidth": 2
          }
         }
        }
       }
      },
      "text/html": [
       "<div>                            <div id=\"7b26c435-a12a-4ccb-baff-5d3c5c021004\" class=\"plotly-graph-div\" style=\"height:525px; width:100%;\"></div>            <script type=\"text/javascript\">                require([\"plotly\"], function(Plotly) {                    window.PLOTLYENV=window.PLOTLYENV || {};                                    if (document.getElementById(\"7b26c435-a12a-4ccb-baff-5d3c5c021004\")) {                    Plotly.newPlot(                        \"7b26c435-a12a-4ccb-baff-5d3c5c021004\",                        [{\"alphahull\":0,\"color\":\"yellow\",\"opacity\":1.0,\"x\":[0.1040127182612386,-0.018229733296495132,-0.020829597089959684,2.0903449743943723,2.004188577607766,2.0692849504742092,0.12946269317722736,-0.015751400528651427,-0.018351264322116007,2.041884203224021,3.8549415915879788,1.976916129120172,3.8719263731033595,2.062915754028121],\"y\":[-0.07750616980473338,-0.010087192459196094,-0.00954114440213509,-0.9267742008376524,-1.033917362801016,-1.0724066774919903,0.06590393561630653,0.011060287731312391,0.011606335788373393,0.7851262269487054,-0.21240620499282165,0.89978819259616,-0.06873642951684433,0.9265694961728728],\"z\":[-0.07452674883023233,0.015680751580342885,-0.005359777695172407,0.916559809275704,0.8912765149386788,0.7763279092261723,0.06760575826610621,0.014967959832767306,-0.006072569442747975,-1.0918914497728236,-0.2266994735334487,-1.053569594287459,-0.084178454943843,-0.9474393106678044],\"type\":\"mesh3d\"},{\"marker\":{\"color\":\"black\",\"size\":3},\"mode\":\"markers\",\"showlegend\":false,\"x\":[2.017530865886862],\"y\":[-0.14429820633521],\"z\":[-0.15419744072758307],\"type\":\"scatter3d\"},{\"line\":{\"color\":\"black\",\"width\":2},\"mode\":\"lines\",\"showlegend\":false,\"x\":[2.017530865886862,2.004024105872647],\"y\":[-0.14429820633521,-0.3214213092398106],\"z\":[-0.15419744072758307,-0.33010927617751706],\"type\":\"scatter3d\"},{\"marker\":{\"color\":\"black\",\"size\":3},\"mode\":\"text\",\"showlegend\":false,\"text\":[\"[-1  0  0  1]\"],\"textfont\":{\"color\":\"black\",\"size\":14},\"textposition\":\"middle center\",\"x\":[1.998621401866961],\"y\":[-0.39227055040165093],\"z\":[-0.4004740103574907],\"type\":\"scatter3d\"},{\"line\":{\"color\":\"black\",\"width\":2},\"mode\":\"lines\",\"showlegend\":false,\"x\":[0.1040127182612386,2.0692849504742092],\"y\":[-0.07750616980473338,-1.0724066774919903],\"z\":[-0.07452674883023233,0.7763279092261723],\"type\":\"scatter3d\"},{\"line\":{\"color\":\"black\",\"width\":2},\"mode\":\"lines\",\"showlegend\":false,\"x\":[0.1040127182612386,2.041884203224021],\"y\":[-0.07750616980473338,0.7851262269487054],\"z\":[-0.07452674883023233,-1.0918914497728236],\"type\":\"scatter3d\"},{\"line\":{\"color\":\"black\",\"width\":2},\"mode\":\"lines\",\"showlegend\":false,\"x\":[2.0692849504742092,3.8549415915879788],\"y\":[-1.0724066774919903,-0.21240620499282165],\"z\":[0.7763279092261723,-0.2266994735334487],\"type\":\"scatter3d\"},{\"line\":{\"color\":\"black\",\"width\":2},\"mode\":\"lines\",\"showlegend\":false,\"x\":[2.041884203224021,3.8549415915879788],\"y\":[0.7851262269487054,-0.21240620499282165],\"z\":[-1.0918914497728236,-0.2266994735334487],\"type\":\"scatter3d\"},{\"marker\":{\"color\":\"black\",\"size\":3},\"mode\":\"markers\",\"showlegend\":false,\"x\":[0.8167264378386712],\"y\":[0.3218946882252741],\"z\":[-0.446284028005687],\"type\":\"scatter3d\"},{\"line\":{\"color\":\"black\",\"width\":2},\"mode\":\"lines\",\"showlegend\":false,\"x\":[0.8167264378386712,0.6983102440272997],\"y\":[0.3218946882252741,0.3283542017914793],\"z\":[-0.446284028005687,-0.6663655577343667],\"type\":\"scatter3d\"},{\"marker\":{\"color\":\"black\",\"size\":3},\"mode\":\"text\",\"showlegend\":false,\"text\":[\"[-1  0  1  0]\"],\"textfont\":{\"color\":\"black\",\"size\":14},\"textposition\":\"middle center\",\"x\":[0.6509437665027511],\"y\":[0.33093800721796135],\"z\":[-0.7543981696258386],\"type\":\"scatter3d\"},{\"line\":{\"color\":\"black\",\"width\":2},\"mode\":\"lines\",\"showlegend\":false,\"x\":[0.1040127182612386,-0.020829597089959684],\"y\":[-0.07750616980473338,-0.00954114440213509],\"z\":[-0.07452674883023233,-0.005359777695172407],\"type\":\"scatter3d\"},{\"line\":{\"color\":\"black\",\"width\":2},\"mode\":\"lines\",\"showlegend\":false,\"x\":[0.1040127182612386,2.041884203224021],\"y\":[-0.07750616980473338,0.7851262269487054],\"z\":[-0.07452674883023233,-1.0918914497728236],\"type\":\"scatter3d\"},{\"line\":{\"color\":\"black\",\"width\":2},\"mode\":\"lines\",\"showlegend\":false,\"x\":[-0.020829597089959684,-0.018351264322116007],\"y\":[-0.00954114440213509,0.011606335788373393],\"z\":[-0.005359777695172407,-0.006072569442747975],\"type\":\"scatter3d\"},{\"line\":{\"color\":\"black\",\"width\":2},\"mode\":\"lines\",\"showlegend\":false,\"x\":[-0.018351264322116007,1.976916129120172],\"y\":[0.011606335788373393,0.89978819259616],\"z\":[-0.006072569442747975,-1.053569594287459],\"type\":\"scatter3d\"},{\"line\":{\"color\":\"black\",\"width\":2},\"mode\":\"lines\",\"showlegend\":false,\"x\":[2.041884203224021,1.976916129120172],\"y\":[0.7851262269487054,0.89978819259616],\"z\":[-1.0918914497728236,-1.053569594287459],\"type\":\"scatter3d\"},{\"marker\":{\"color\":\"black\",\"size\":3},\"mode\":\"markers\",\"showlegend\":false,\"x\":[0.8276853831913519],\"y\":[-0.4406917093918142],\"z\":[0.3206797298439579],\"type\":\"scatter3d\"},{\"line\":{\"color\":\"black\",\"width\":2},\"mode\":\"lines\",\"showlegend\":false,\"x\":[0.8276853831913519,0.7118953875244525],\"y\":[-0.4406917093918142,-0.6620949054568556],\"z\":[0.3206797298439579,0.32924136961938916],\"type\":\"scatter3d\"},{\"marker\":{\"color\":\"black\",\"size\":3},\"mode\":\"text\",\"showlegend\":false,\"text\":[\"[-1  1  0  0]\"],\"textfont\":{\"color\":\"black\",\"size\":14},\"textposition\":\"middle center\",\"x\":[0.6655793892576927],\"y\":[-0.7506561838828723],\"z\":[0.3326660255295617],\"type\":\"scatter3d\"},{\"line\":{\"color\":\"black\",\"width\":2},\"mode\":\"lines\",\"showlegend\":false,\"x\":[0.1040127182612386,-0.020829597089959684],\"y\":[-0.07750616980473338,-0.00954114440213509],\"z\":[-0.07452674883023233,-0.005359777695172407],\"type\":\"scatter3d\"},{\"line\":{\"color\":\"black\",\"width\":2},\"mode\":\"lines\",\"showlegend\":false,\"x\":[0.1040127182612386,2.0692849504742092],\"y\":[-0.07750616980473338,-1.0724066774919903],\"z\":[-0.07452674883023233,0.7763279092261723],\"type\":\"scatter3d\"},{\"line\":{\"color\":\"black\",\"width\":2},\"mode\":\"lines\",\"showlegend\":false,\"x\":[-0.018229733296495132,-0.020829597089959684],\"y\":[-0.010087192459196094,-0.00954114440213509],\"z\":[0.015680751580342885,-0.005359777695172407],\"type\":\"scatter3d\"},{\"line\":{\"color\":\"black\",\"width\":2},\"mode\":\"lines\",\"showlegend\":false,\"x\":[-0.018229733296495132,2.004188577607766],\"y\":[-0.010087192459196094,-1.033917362801016],\"z\":[0.015680751580342885,0.8912765149386788],\"type\":\"scatter3d\"},{\"line\":{\"color\":\"black\",\"width\":2},\"mode\":\"lines\",\"showlegend\":false,\"x\":[2.004188577607766,2.0692849504742092],\"y\":[-1.033917362801016,-1.0724066774919903],\"z\":[0.8912765149386788,0.7763279092261723],\"type\":\"scatter3d\"},{\"marker\":{\"color\":\"black\",\"size\":3},\"mode\":\"markers\",\"showlegend\":false,\"x\":[0.8270383822949505],\"y\":[0.382985649581005],\"z\":[-0.38490155125982756],\"type\":\"scatter3d\"},{\"line\":{\"color\":\"black\",\"width\":2},\"mode\":\"lines\",\"showlegend\":false,\"x\":[0.8270383822949505,0.7333787918464465],\"y\":[0.382985649581005,0.6141114443549607],\"z\":[-0.38490155125982756,-0.3673303217318228],\"type\":\"scatter3d\"},{\"marker\":{\"color\":\"black\",\"size\":3},\"mode\":\"text\",\"showlegend\":false,\"text\":[\"[ 0  0  1 -1]\"],\"textfont\":{\"color\":\"black\",\"size\":14},\"textposition\":\"middle center\",\"x\":[0.6959149556670449],\"y\":[0.706561762264543],\"z\":[-0.3603018299206208],\"type\":\"scatter3d\"},{\"line\":{\"color\":\"black\",\"width\":2},\"mode\":\"lines\",\"showlegend\":false,\"x\":[0.12946269317722736,-0.015751400528651427],\"y\":[0.06590393561630653,0.011060287731312391],\"z\":[0.06760575826610621,0.014967959832767306],\"type\":\"scatter3d\"},{\"line\":{\"color\":\"black\",\"width\":2},\"mode\":\"lines\",\"showlegend\":false,\"x\":[0.12946269317722736,2.062915754028121],\"y\":[0.06590393561630653,0.9265694961728728],\"z\":[0.06760575826610621,-0.9474393106678044],\"type\":\"scatter3d\"},{\"line\":{\"color\":\"black\",\"width\":2},\"mode\":\"lines\",\"showlegend\":false,\"x\":[-0.015751400528651427,-0.018351264322116007],\"y\":[0.011060287731312391,0.011606335788373393],\"z\":[0.014967959832767306,-0.006072569442747975],\"type\":\"scatter3d\"},{\"line\":{\"color\":\"black\",\"width\":2},\"mode\":\"lines\",\"showlegend\":false,\"x\":[-0.018351264322116007,1.976916129120172],\"y\":[0.011606335788373393,0.89978819259616],\"z\":[-0.006072569442747975,-1.053569594287459],\"type\":\"scatter3d\"},{\"line\":{\"color\":\"black\",\"width\":2},\"mode\":\"lines\",\"showlegend\":false,\"x\":[1.976916129120172,2.062915754028121],\"y\":[0.89978819259616,0.9265694961728728],\"z\":[-1.053569594287459,-0.9474393106678044],\"type\":\"scatter3d\"},{\"marker\":{\"color\":\"black\",\"size\":3},\"mode\":\"markers\",\"showlegend\":false,\"x\":[0.8380030222708438],\"y\":[-0.3787629065500491],\"z\":[0.38121815877871984],\"type\":\"scatter3d\"},{\"line\":{\"color\":\"black\",\"width\":2},\"mode\":\"lines\",\"showlegend\":false,\"x\":[0.8380030222708438,0.7468942118937867],\"y\":[-0.3787629065500491,-0.36026348010082865],\"z\":[0.38121815877871984,0.6132891735408554],\"type\":\"scatter3d\"},{\"marker\":{\"color\":\"black\",\"size\":3},\"mode\":\"text\",\"showlegend\":false,\"text\":[\"[ 0  1  0 -1]\"],\"textfont\":{\"color\":\"black\",\"size\":14},\"textposition\":\"middle center\",\"x\":[0.7104506877429639],\"y\":[-0.3528637095211405],\"z\":[0.7061175794457096],\"type\":\"scatter3d\"},{\"line\":{\"color\":\"black\",\"width\":2},\"mode\":\"lines\",\"showlegend\":false,\"x\":[-0.018229733296495132,2.004188577607766],\"y\":[-0.010087192459196094,-1.033917362801016],\"z\":[0.015680751580342885,0.8912765149386788],\"type\":\"scatter3d\"},{\"line\":{\"color\":\"black\",\"width\":2},\"mode\":\"lines\",\"showlegend\":false,\"x\":[-0.018229733296495132,-0.015751400528651427],\"y\":[-0.010087192459196094,0.011060287731312391],\"z\":[0.015680751580342885,0.014967959832767306],\"type\":\"scatter3d\"},{\"line\":{\"color\":\"black\",\"width\":2},\"mode\":\"lines\",\"showlegend\":false,\"x\":[2.0903449743943723,2.004188577607766],\"y\":[-0.9267742008376524,-1.033917362801016],\"z\":[0.916559809275704,0.8912765149386788],\"type\":\"scatter3d\"},{\"line\":{\"color\":\"black\",\"width\":2},\"mode\":\"lines\",\"showlegend\":false,\"x\":[2.0903449743943723,0.12946269317722736],\"y\":[-0.9267742008376524,0.06590393561630653],\"z\":[0.916559809275704,0.06760575826610621],\"type\":\"scatter3d\"},{\"line\":{\"color\":\"black\",\"width\":2},\"mode\":\"lines\",\"showlegend\":false,\"x\":[0.12946269317722736,-0.015751400528651427],\"y\":[0.06590393561630653,0.011060287731312391],\"z\":[0.06760575826610621,0.014967959832767306],\"type\":\"scatter3d\"},{\"marker\":{\"color\":\"black\",\"size\":3},\"mode\":\"markers\",\"showlegend\":false,\"x\":[2.03866244867577],\"y\":[-0.0007592996413293418],\"z\":[-0.011863049517459312],\"type\":\"scatter3d\"},{\"line\":{\"color\":\"black\",\"width\":2},\"mode\":\"lines\",\"showlegend\":false,\"x\":[2.03866244867577,2.052169208689985],\"y\":[-0.0007592996413293418,0.17636380326327128],\"z\":[-0.011863049517459312,0.16404878593247468],\"type\":\"scatter3d\"},{\"marker\":{\"color\":\"black\",\"size\":3},\"mode\":\"text\",\"showlegend\":false,\"text\":[\"[ 1  0  0 -1]\"],\"textfont\":{\"color\":\"black\",\"size\":14},\"textposition\":\"middle center\",\"x\":[2.057571912695671],\"y\":[0.24721304442511158],\"z\":[0.2344135201124483],\"type\":\"scatter3d\"},{\"line\":{\"color\":\"black\",\"width\":2},\"mode\":\"lines\",\"showlegend\":false,\"x\":[2.0903449743943723,0.12946269317722736],\"y\":[-0.9267742008376524,0.06590393561630653],\"z\":[0.916559809275704,0.06760575826610621],\"type\":\"scatter3d\"},{\"line\":{\"color\":\"black\",\"width\":2},\"mode\":\"lines\",\"showlegend\":false,\"x\":[2.0903449743943723,3.8719263731033595],\"y\":[-0.9267742008376524,-0.06873642951684433],\"z\":[0.916559809275704,-0.084178454943843],\"type\":\"scatter3d\"},{\"line\":{\"color\":\"black\",\"width\":2},\"mode\":\"lines\",\"showlegend\":false,\"x\":[0.12946269317722736,2.062915754028121],\"y\":[0.06590393561630653,0.9265694961728728],\"z\":[0.06760575826610621,-0.9474393106678044],\"type\":\"scatter3d\"},{\"line\":{\"color\":\"black\",\"width\":2},\"mode\":\"lines\",\"showlegend\":false,\"x\":[3.8719263731033595,2.062915754028121],\"y\":[-0.06873642951684433,0.9265694961728728],\"z\":[-0.084178454943843,-0.9474393106678044],\"type\":\"scatter3d\"},{\"marker\":{\"color\":\"black\",\"size\":3},\"mode\":\"markers\",\"showlegend\":false,\"x\":[-0.018290498809305562],\"y\":[0.0007595716645886503],\"z\":[0.004804091068797452],\"type\":\"scatter3d\"},{\"line\":{\"color\":\"black\",\"width\":2},\"mode\":\"lines\",\"showlegend\":false,\"x\":[-0.018290498809305562,-0.2645259411812398],\"y\":[0.0007595716645886503,0.030668289406761938],\"z\":[0.004804091068797452,0.036006262834827975],\"type\":\"scatter3d\"},{\"marker\":{\"color\":\"black\",\"size\":3},\"mode\":\"text\",\"showlegend\":false,\"text\":[\"[-1  1  1 -1]\"],\"textfont\":{\"color\":\"black\",\"size\":14},\"textposition\":\"middle center\",\"x\":[-0.3630201181300135],\"y\":[0.04263177650363125],\"z\":[0.04848713154124019],\"type\":\"scatter3d\"},{\"line\":{\"color\":\"black\",\"width\":2},\"mode\":\"lines\",\"showlegend\":false,\"x\":[-0.018229733296495132,-0.020829597089959684],\"y\":[-0.010087192459196094,-0.00954114440213509],\"z\":[0.015680751580342885,-0.005359777695172407],\"type\":\"scatter3d\"},{\"line\":{\"color\":\"black\",\"width\":2},\"mode\":\"lines\",\"showlegend\":false,\"x\":[-0.018229733296495132,-0.015751400528651427],\"y\":[-0.010087192459196094,0.011060287731312391],\"z\":[0.015680751580342885,0.014967959832767306],\"type\":\"scatter3d\"},{\"line\":{\"color\":\"black\",\"width\":2},\"mode\":\"lines\",\"showlegend\":false,\"x\":[-0.020829597089959684,-0.018351264322116007],\"y\":[-0.00954114440213509,0.011606335788373393],\"z\":[-0.005359777695172407,-0.006072569442747975],\"type\":\"scatter3d\"},{\"line\":{\"color\":\"black\",\"width\":2},\"mode\":\"lines\",\"showlegend\":false,\"x\":[-0.015751400528651427,-0.018351264322116007],\"y\":[0.011060287731312391,0.011606335788373393],\"z\":[0.014967959832767306,-0.006072569442747975],\"type\":\"scatter3d\"},{\"marker\":{\"color\":\"black\",\"size\":3},\"mode\":\"markers\",\"showlegend\":false,\"x\":[null],\"y\":[null],\"z\":[null],\"type\":\"scatter3d\"},{\"line\":{\"color\":\"black\",\"width\":2},\"mode\":\"lines\",\"showlegend\":false,\"x\":[null,null],\"y\":[null,null],\"z\":[null,null],\"type\":\"scatter3d\"},{\"marker\":{\"color\":\"black\",\"size\":3},\"mode\":\"text\",\"showlegend\":false,\"text\":[\"[0 0 0 0]\"],\"textfont\":{\"color\":\"black\",\"size\":14},\"textposition\":\"middle center\",\"x\":[null],\"y\":[null],\"z\":[null],\"type\":\"scatter3d\"},{\"marker\":{\"color\":\"black\",\"size\":3},\"mode\":\"markers\",\"showlegend\":false,\"x\":[2.761716810212731],\"y\":[0.4660682562416144],\"z\":[-0.6807556566410758],\"type\":\"scatter3d\"},{\"line\":{\"color\":\"black\",\"width\":2},\"mode\":\"lines\",\"showlegend\":false,\"x\":[2.761716810212731,2.908010317275884],\"y\":[0.4660682562416144,0.5998622921079215],\"z\":[-0.6807556566410758,-0.8330624711891075],\"type\":\"scatter3d\"},{\"marker\":{\"color\":\"black\",\"size\":3},\"mode\":\"text\",\"showlegend\":false,\"text\":[\"[0 0 0 0]\"],\"textfont\":{\"color\":\"black\",\"size\":14},\"textposition\":\"middle center\",\"x\":[2.9665277201011455],\"y\":[0.6533799064544443],\"z\":[-0.8939851970083201],\"type\":\"scatter3d\"},{\"line\":{\"color\":\"black\",\"width\":2},\"mode\":\"lines\",\"showlegend\":false,\"x\":[2.041884203224021,3.8549415915879788],\"y\":[0.7851262269487054,-0.21240620499282165],\"z\":[-1.0918914497728236,-0.2266994735334487],\"type\":\"scatter3d\"},{\"line\":{\"color\":\"black\",\"width\":2},\"mode\":\"lines\",\"showlegend\":false,\"x\":[2.041884203224021,1.976916129120172],\"y\":[0.7851262269487054,0.89978819259616],\"z\":[-1.0918914497728236,-1.053569594287459],\"type\":\"scatter3d\"},{\"line\":{\"color\":\"black\",\"width\":2},\"mode\":\"lines\",\"showlegend\":false,\"x\":[3.8549415915879788,3.8719263731033595],\"y\":[-0.21240620499282165,-0.06873642951684433],\"z\":[-0.2266994735334487,-0.084178454943843],\"type\":\"scatter3d\"},{\"line\":{\"color\":\"black\",\"width\":2},\"mode\":\"lines\",\"showlegend\":false,\"x\":[1.976916129120172,2.062915754028121],\"y\":[0.89978819259616,0.9265694961728728],\"z\":[-1.053569594287459,-0.9474393106678044],\"type\":\"scatter3d\"},{\"line\":{\"color\":\"black\",\"width\":2},\"mode\":\"lines\",\"showlegend\":false,\"x\":[3.8719263731033595,2.062915754028121],\"y\":[-0.06873642951684433,0.9265694961728728],\"z\":[-0.084178454943843,-0.9474393106678044],\"type\":\"scatter3d\"},{\"marker\":{\"color\":\"black\",\"size\":3},\"mode\":\"markers\",\"showlegend\":false,\"x\":[2.778137293433537],\"y\":[-0.6628481751280648],\"z\":[0.45465726099265263],\"type\":\"scatter3d\"},{\"line\":{\"color\":\"black\",\"width\":2},\"mode\":\"lines\",\"showlegend\":false,\"x\":[2.778137293433537,2.925969171170443],\"y\":[-0.6628481751280648,-0.8133725310680946],\"z\":[0.45465726099265263,0.5887771856631494],\"type\":\"scatter3d\"},{\"marker\":{\"color\":\"black\",\"size\":3},\"mode\":\"text\",\"showlegend\":false,\"text\":[\"[0 0 0 0]\"],\"textfont\":{\"color\":\"black\",\"size\":14},\"textposition\":\"middle center\",\"x\":[2.9851019222652053],\"y\":[-0.8735822734441065],\"z\":[0.6424251555313482],\"type\":\"scatter3d\"},{\"line\":{\"color\":\"black\",\"width\":2},\"mode\":\"lines\",\"showlegend\":false,\"x\":[2.0903449743943723,2.004188577607766],\"y\":[-0.9267742008376524,-1.033917362801016],\"z\":[0.916559809275704,0.8912765149386788],\"type\":\"scatter3d\"},{\"line\":{\"color\":\"black\",\"width\":2},\"mode\":\"lines\",\"showlegend\":false,\"x\":[2.0903449743943723,3.8719263731033595],\"y\":[-0.9267742008376524,-0.06873642951684433],\"z\":[0.916559809275704,-0.084178454943843],\"type\":\"scatter3d\"},{\"line\":{\"color\":\"black\",\"width\":2},\"mode\":\"lines\",\"showlegend\":false,\"x\":[2.004188577607766,2.0692849504742092],\"y\":[-1.033917362801016,-1.0724066774919903],\"z\":[0.8912765149386788,0.7763279092261723],\"type\":\"scatter3d\"},{\"line\":{\"color\":\"black\",\"width\":2},\"mode\":\"lines\",\"showlegend\":false,\"x\":[2.0692849504742092,3.8549415915879788],\"y\":[-1.0724066774919903,-0.21240620499282165],\"z\":[0.7763279092261723,-0.2266994735334487],\"type\":\"scatter3d\"},{\"line\":{\"color\":\"black\",\"width\":2},\"mode\":\"lines\",\"showlegend\":false,\"x\":[3.8549415915879788,3.8719263731033595],\"y\":[-0.21240620499282165,-0.06873642951684433],\"z\":[-0.2266994735334487,-0.084178454943843],\"type\":\"scatter3d\"},{\"marker\":{\"color\":\"black\",\"size\":3},\"mode\":\"markers\",\"showlegend\":false,\"x\":[null],\"y\":[null],\"z\":[null],\"type\":\"scatter3d\"},{\"line\":{\"color\":\"black\",\"width\":2},\"mode\":\"lines\",\"showlegend\":false,\"x\":[null,null],\"y\":[null,null],\"z\":[null,null],\"type\":\"scatter3d\"},{\"marker\":{\"color\":\"black\",\"size\":3},\"mode\":\"text\",\"showlegend\":false,\"text\":[\"[0 0 0 0]\"],\"textfont\":{\"color\":\"black\",\"size\":14},\"textposition\":\"middle center\",\"x\":[null],\"y\":[null],\"z\":[null],\"type\":\"scatter3d\"},{\"marker\":{\"color\":\"red\",\"size\":3},\"mode\":\"markers\",\"showlegend\":false,\"x\":[1.6002445702375805,1.7211121825380726,1.601839068599741,1.579107870642443,1.5716085889843865,1.6651299497563672,2.6609971914244017,1.2628845083923426,1.500681833665603,1.3407537935878309,1.5331481865607572,1.363928349582423,1.1718597478038033,1.401811460552703,1.531657007797142,1.4442791583782506,1.9875909124342594,1.6064708396338505,2.513949073321105,1.4531163456816123,1.4338998434300887,1.3919141290724513,1.3209247088910416,1.2046266162761468,1.2436133339945505,1.3453112140535062,1.3836567980177374,1.3201480149169877,1.398027776928066,1.396467157209394,1.3901555330209485,2.0085695902495164,2.2833762829120134,1.4786743402701927,0.9126911469518012,0.8995944168162631,0.9300157237063907,1.9182993020185513,1.8824343916430064,1.749685944657895,1.0353550348965415,1.1019321217986633,0.9010792944469627,0.9826992456010039,0.9664770389983376,0.9900333118759711,1.0254022431465766,1.0030703265352512,0.9941619375502707,1.0237377400531593,1.8952781649448671,1.4242513719199377,0.9236711333089571,0.7649686999875737,0.31069637045083254,0.1605612009800157,0.39242322186886636,0.37298831329367776,0.3932248966392766,0.35670881504208674,0.3734100884551437,0.35844035375280003,0.3789010102284305,0.4212150947455686,0.35032307682729624,0.42830552498453867,0.4774566048602149,0.41828780683282973,0.035031753190966075,0.11018114941558865,0.09260509325675748,0.2985531694820711,0.2353065882053137,0.26003549270591775,0.24196552410836436,0.2385266969602785,0.29879464520303967,0.21835757664639466,0.2544522579614663,0.2078293606532462,0.23342820333294179,0.2811741365850918,0.28776654248944034,-0.019321116858685095,-0.019426670494028686,-0.019104400196451765,0.2234817032383961,0.2602254423227801,0.24193184773475085,0.24749753914982942,0.23510268386154565,0.2337998212792396,0.22574434401865773,0.25156458790024105,0.23493108040832122,-0.01858926090717128,-0.016901192257559705,-0.01804457954651384,0.19782450434060728,0.30806566269442887,0.27299478089226237,0.2693706056790949,0.2287976097788577,0.250822162586201,0.22677339304724725,0.23452576722875046,0.2546401325645959,-0.02000822767668231,-0.01901601602130243,-0.018958004060514733],\"y\":[-0.02573564033333864,-0.13034584796323095,0.1332034765090531,-0.016384980987730446,-0.07426049556545841,-0.045293525295804035,-0.4191096425615995,0.06517906001880935,-0.03781191888147486,-0.10817051008799056,-0.020858876562981236,-0.11211176843543744,-0.5388354751620275,0.050816987273270435,0.029844413274624636,-0.10161052722212499,0.04513715172638974,-0.4183415448146169,-0.25210633508255115,0.13913441130159626,0.42821634433821903,0.23539129676082782,-0.6900987012902848,-0.5771048788498616,-0.6065074130622264,0.5286776335426877,0.264898091467347,0.4146155328530996,-0.6172157020921402,-0.6013136658059954,-0.6367457194192578,-0.18838925897313052,-0.058718309634860924,-0.35762271948071467,-0.44681852810318945,-0.4767576549625013,-0.4557592349641303,-0.4892655951171989,-0.8534705916911927,0.058111752812066195,0.47449448821220874,0.5075770465276787,0.350563273254766,-0.5197325742505858,-0.5119609349301818,-0.5236240631642777,0.46572770474795155,-0.4877558696934277,-0.4063760062050335,-0.4186531821738981,0.007880713378663834,0.2776632081596127,0.016591485011303198,0.10539935581138381,0.1573258540905888,0.05034229545955286,0.12143892261583392,0.0995111266069767,0.09121649372921264,-0.2026794769115549,-0.20949355591025082,-0.20445695853446078,0.1828915897036267,0.20029623971271918,0.17197457526893564,-0.15838179477770586,-0.1679157474807445,-0.12179827043704805,0.03150300555702408,0.06663948345016815,0.0009694513864119403,0.10022589648436236,0.06110290741826699,0.0459267172342854,-0.14496244979236214,-0.1425273341242388,-0.17366592406642378,0.11262905801113893,0.12503884266758644,0.10842885233699945,-0.1128408709560941,-0.08270177400853487,-0.06924726749469606,-0.0006491810659422503,-0.00540780228771108,-0.005546297486944948,0.014942351176874744,0.06410306555686247,0.020167291530140283,-0.1483423157739971,-0.14243749304988812,-0.14033656685563053,0.12005752710807675,0.1262408880169794,0.11789365676691586,0.006163943128936603,0.008076727925300342,0.005725619145741073,0.0671083246532721,0.0662951310799571,0.006214781787058761,-0.1591942506751173,-0.13836783362580501,-0.14921721619618344,0.11273656102334521,0.11766985307112336,0.12683908124047927,0.000977936889932099,0.0036089156746430748,-0.004600645111480346],\"z\":[0.04752642114223063,0.14298102302317084,-0.11289738550465887,0.03926448484380515,0.09866725817142816,-0.22722879955934636,0.3616268050045285,-0.018599151689286872,-0.2220342482913475,-0.13893919789379994,-0.2420215494551595,-0.13685552255141498,0.5257350443947064,-0.3034555758683061,-0.2924511854000162,-0.15391629174987334,-0.3427239510239565,0.15310022932551592,-0.08377718129146275,-0.3964214843353502,-0.6857155103290572,-0.4884747541771925,0.5589958805682299,0.541270889075488,0.5588103282515607,-0.4914239070609935,-0.22871328926825446,-0.37460035712974127,0.6206750357914443,0.6181933470348822,0.6187202610619438,0.17946987706681605,0.027897915439550627,0.39052572011064896,0.41670217107885016,0.37908534610149924,0.42401112909144384,0.20061611785647268,0.569893021423299,-0.3375576019418912,-0.4698961637225774,-0.5490666097951277,-0.4909698950208521,0.37943200777735736,0.36102767896400567,0.37952995980154774,-0.41362249010667096,0.4552147550148499,0.4454213993769244,0.45774020123391107,-0.009287517862421314,-0.24471026165749546,0.05640025814972843,-0.02099528665895692,-0.16244954128607914,-0.10146007340932933,-0.22406543685195646,-0.2145386395320995,-0.2253246799493481,0.11631321336747395,0.16281952775308586,0.0878436466123287,-0.14114284635144234,-0.13876456622219377,-0.14842688595588083,0.20307072340461846,0.22334678769768693,0.19618395058088975,0.020107971630465207,-0.04518604801048702,0.058640353212451896,-0.17413162447460342,-0.14138852639626404,-0.15518190298607143,0.049912144994465266,0.0662971381518782,0.08483151375604693,-0.06720500277622626,-0.03952391625273542,-0.06878197116260155,0.12288655516701207,0.13936482388368224,0.14062073286941137,0.004749121702764367,0.0044423465558463895,0.0065565674765380826,-0.13672215767183205,-0.15469887608902727,-0.14668475245521984,0.04570773565907854,0.029140862470573,0.06373182197246202,-0.12520793577920203,-0.06972080348800412,-0.05026243866589783,0.002007006860569243,0.011447827476123756,0.006793550569312558,-0.12096017387754682,-0.18042204146436416,-0.16338419237915097,0.06486889669430707,0.05717772355640504,0.07687401894947252,-0.02390064082402206,-0.04920090353478514,-0.06328926583811001,-0.005407387368123157,-0.0015670623356298721,0.013591303397057459],\"type\":\"scatter3d\"}],                        {\"template\":{\"data\":{\"bar\":[{\"error_x\":{\"color\":\"#2a3f5f\"},\"error_y\":{\"color\":\"#2a3f5f\"},\"marker\":{\"line\":{\"color\":\"#E5ECF6\",\"width\":0.5},\"pattern\":{\"fillmode\":\"overlay\",\"size\":10,\"solidity\":0.2}},\"type\":\"bar\"}],\"barpolar\":[{\"marker\":{\"line\":{\"color\":\"#E5ECF6\",\"width\":0.5},\"pattern\":{\"fillmode\":\"overlay\",\"size\":10,\"solidity\":0.2}},\"type\":\"barpolar\"}],\"carpet\":[{\"aaxis\":{\"endlinecolor\":\"#2a3f5f\",\"gridcolor\":\"white\",\"linecolor\":\"white\",\"minorgridcolor\":\"white\",\"startlinecolor\":\"#2a3f5f\"},\"baxis\":{\"endlinecolor\":\"#2a3f5f\",\"gridcolor\":\"white\",\"linecolor\":\"white\",\"minorgridcolor\":\"white\",\"startlinecolor\":\"#2a3f5f\"},\"type\":\"carpet\"}],\"choropleth\":[{\"colorbar\":{\"outlinewidth\":0,\"ticks\":\"\"},\"type\":\"choropleth\"}],\"contour\":[{\"colorbar\":{\"outlinewidth\":0,\"ticks\":\"\"},\"colorscale\":[[0.0,\"#0d0887\"],[0.1111111111111111,\"#46039f\"],[0.2222222222222222,\"#7201a8\"],[0.3333333333333333,\"#9c179e\"],[0.4444444444444444,\"#bd3786\"],[0.5555555555555556,\"#d8576b\"],[0.6666666666666666,\"#ed7953\"],[0.7777777777777778,\"#fb9f3a\"],[0.8888888888888888,\"#fdca26\"],[1.0,\"#f0f921\"]],\"type\":\"contour\"}],\"contourcarpet\":[{\"colorbar\":{\"outlinewidth\":0,\"ticks\":\"\"},\"type\":\"contourcarpet\"}],\"heatmap\":[{\"colorbar\":{\"outlinewidth\":0,\"ticks\":\"\"},\"colorscale\":[[0.0,\"#0d0887\"],[0.1111111111111111,\"#46039f\"],[0.2222222222222222,\"#7201a8\"],[0.3333333333333333,\"#9c179e\"],[0.4444444444444444,\"#bd3786\"],[0.5555555555555556,\"#d8576b\"],[0.6666666666666666,\"#ed7953\"],[0.7777777777777778,\"#fb9f3a\"],[0.8888888888888888,\"#fdca26\"],[1.0,\"#f0f921\"]],\"type\":\"heatmap\"}],\"heatmapgl\":[{\"colorbar\":{\"outlinewidth\":0,\"ticks\":\"\"},\"colorscale\":[[0.0,\"#0d0887\"],[0.1111111111111111,\"#46039f\"],[0.2222222222222222,\"#7201a8\"],[0.3333333333333333,\"#9c179e\"],[0.4444444444444444,\"#bd3786\"],[0.5555555555555556,\"#d8576b\"],[0.6666666666666666,\"#ed7953\"],[0.7777777777777778,\"#fb9f3a\"],[0.8888888888888888,\"#fdca26\"],[1.0,\"#f0f921\"]],\"type\":\"heatmapgl\"}],\"histogram\":[{\"marker\":{\"pattern\":{\"fillmode\":\"overlay\",\"size\":10,\"solidity\":0.2}},\"type\":\"histogram\"}],\"histogram2d\":[{\"colorbar\":{\"outlinewidth\":0,\"ticks\":\"\"},\"colorscale\":[[0.0,\"#0d0887\"],[0.1111111111111111,\"#46039f\"],[0.2222222222222222,\"#7201a8\"],[0.3333333333333333,\"#9c179e\"],[0.4444444444444444,\"#bd3786\"],[0.5555555555555556,\"#d8576b\"],[0.6666666666666666,\"#ed7953\"],[0.7777777777777778,\"#fb9f3a\"],[0.8888888888888888,\"#fdca26\"],[1.0,\"#f0f921\"]],\"type\":\"histogram2d\"}],\"histogram2dcontour\":[{\"colorbar\":{\"outlinewidth\":0,\"ticks\":\"\"},\"colorscale\":[[0.0,\"#0d0887\"],[0.1111111111111111,\"#46039f\"],[0.2222222222222222,\"#7201a8\"],[0.3333333333333333,\"#9c179e\"],[0.4444444444444444,\"#bd3786\"],[0.5555555555555556,\"#d8576b\"],[0.6666666666666666,\"#ed7953\"],[0.7777777777777778,\"#fb9f3a\"],[0.8888888888888888,\"#fdca26\"],[1.0,\"#f0f921\"]],\"type\":\"histogram2dcontour\"}],\"mesh3d\":[{\"colorbar\":{\"outlinewidth\":0,\"ticks\":\"\"},\"type\":\"mesh3d\"}],\"parcoords\":[{\"line\":{\"colorbar\":{\"outlinewidth\":0,\"ticks\":\"\"}},\"type\":\"parcoords\"}],\"pie\":[{\"automargin\":true,\"type\":\"pie\"}],\"scatter\":[{\"marker\":{\"colorbar\":{\"outlinewidth\":0,\"ticks\":\"\"}},\"type\":\"scatter\"}],\"scatter3d\":[{\"line\":{\"colorbar\":{\"outlinewidth\":0,\"ticks\":\"\"}},\"marker\":{\"colorbar\":{\"outlinewidth\":0,\"ticks\":\"\"}},\"type\":\"scatter3d\"}],\"scattercarpet\":[{\"marker\":{\"colorbar\":{\"outlinewidth\":0,\"ticks\":\"\"}},\"type\":\"scattercarpet\"}],\"scattergeo\":[{\"marker\":{\"colorbar\":{\"outlinewidth\":0,\"ticks\":\"\"}},\"type\":\"scattergeo\"}],\"scattergl\":[{\"marker\":{\"colorbar\":{\"outlinewidth\":0,\"ticks\":\"\"}},\"type\":\"scattergl\"}],\"scattermapbox\":[{\"marker\":{\"colorbar\":{\"outlinewidth\":0,\"ticks\":\"\"}},\"type\":\"scattermapbox\"}],\"scatterpolar\":[{\"marker\":{\"colorbar\":{\"outlinewidth\":0,\"ticks\":\"\"}},\"type\":\"scatterpolar\"}],\"scatterpolargl\":[{\"marker\":{\"colorbar\":{\"outlinewidth\":0,\"ticks\":\"\"}},\"type\":\"scatterpolargl\"}],\"scatterternary\":[{\"marker\":{\"colorbar\":{\"outlinewidth\":0,\"ticks\":\"\"}},\"type\":\"scatterternary\"}],\"surface\":[{\"colorbar\":{\"outlinewidth\":0,\"ticks\":\"\"},\"colorscale\":[[0.0,\"#0d0887\"],[0.1111111111111111,\"#46039f\"],[0.2222222222222222,\"#7201a8\"],[0.3333333333333333,\"#9c179e\"],[0.4444444444444444,\"#bd3786\"],[0.5555555555555556,\"#d8576b\"],[0.6666666666666666,\"#ed7953\"],[0.7777777777777778,\"#fb9f3a\"],[0.8888888888888888,\"#fdca26\"],[1.0,\"#f0f921\"]],\"type\":\"surface\"}],\"table\":[{\"cells\":{\"fill\":{\"color\":\"#EBF0F8\"},\"line\":{\"color\":\"white\"}},\"header\":{\"fill\":{\"color\":\"#C8D4E3\"},\"line\":{\"color\":\"white\"}},\"type\":\"table\"}]},\"layout\":{\"annotationdefaults\":{\"arrowcolor\":\"#2a3f5f\",\"arrowhead\":0,\"arrowwidth\":1},\"autotypenumbers\":\"strict\",\"coloraxis\":{\"colorbar\":{\"outlinewidth\":0,\"ticks\":\"\"}},\"colorscale\":{\"diverging\":[[0,\"#8e0152\"],[0.1,\"#c51b7d\"],[0.2,\"#de77ae\"],[0.3,\"#f1b6da\"],[0.4,\"#fde0ef\"],[0.5,\"#f7f7f7\"],[0.6,\"#e6f5d0\"],[0.7,\"#b8e186\"],[0.8,\"#7fbc41\"],[0.9,\"#4d9221\"],[1,\"#276419\"]],\"sequential\":[[0.0,\"#0d0887\"],[0.1111111111111111,\"#46039f\"],[0.2222222222222222,\"#7201a8\"],[0.3333333333333333,\"#9c179e\"],[0.4444444444444444,\"#bd3786\"],[0.5555555555555556,\"#d8576b\"],[0.6666666666666666,\"#ed7953\"],[0.7777777777777778,\"#fb9f3a\"],[0.8888888888888888,\"#fdca26\"],[1.0,\"#f0f921\"]],\"sequentialminus\":[[0.0,\"#0d0887\"],[0.1111111111111111,\"#46039f\"],[0.2222222222222222,\"#7201a8\"],[0.3333333333333333,\"#9c179e\"],[0.4444444444444444,\"#bd3786\"],[0.5555555555555556,\"#d8576b\"],[0.6666666666666666,\"#ed7953\"],[0.7777777777777778,\"#fb9f3a\"],[0.8888888888888888,\"#fdca26\"],[1.0,\"#f0f921\"]]},\"colorway\":[\"#636efa\",\"#EF553B\",\"#00cc96\",\"#ab63fa\",\"#FFA15A\",\"#19d3f3\",\"#FF6692\",\"#B6E880\",\"#FF97FF\",\"#FECB52\"],\"font\":{\"color\":\"#2a3f5f\"},\"geo\":{\"bgcolor\":\"white\",\"lakecolor\":\"white\",\"landcolor\":\"#E5ECF6\",\"showlakes\":true,\"showland\":true,\"subunitcolor\":\"white\"},\"hoverlabel\":{\"align\":\"left\"},\"hovermode\":\"closest\",\"mapbox\":{\"style\":\"light\"},\"paper_bgcolor\":\"white\",\"plot_bgcolor\":\"#E5ECF6\",\"polar\":{\"angularaxis\":{\"gridcolor\":\"white\",\"linecolor\":\"white\",\"ticks\":\"\"},\"bgcolor\":\"#E5ECF6\",\"radialaxis\":{\"gridcolor\":\"white\",\"linecolor\":\"white\",\"ticks\":\"\"}},\"scene\":{\"xaxis\":{\"backgroundcolor\":\"#E5ECF6\",\"gridcolor\":\"white\",\"gridwidth\":2,\"linecolor\":\"white\",\"showbackground\":true,\"ticks\":\"\",\"zerolinecolor\":\"white\"},\"yaxis\":{\"backgroundcolor\":\"#E5ECF6\",\"gridcolor\":\"white\",\"gridwidth\":2,\"linecolor\":\"white\",\"showbackground\":true,\"ticks\":\"\",\"zerolinecolor\":\"white\"},\"zaxis\":{\"backgroundcolor\":\"#E5ECF6\",\"gridcolor\":\"white\",\"gridwidth\":2,\"linecolor\":\"white\",\"showbackground\":true,\"ticks\":\"\",\"zerolinecolor\":\"white\"}},\"shapedefaults\":{\"line\":{\"color\":\"#2a3f5f\"}},\"ternary\":{\"aaxis\":{\"gridcolor\":\"white\",\"linecolor\":\"white\",\"ticks\":\"\"},\"baxis\":{\"gridcolor\":\"white\",\"linecolor\":\"white\",\"ticks\":\"\"},\"bgcolor\":\"#E5ECF6\",\"caxis\":{\"gridcolor\":\"white\",\"linecolor\":\"white\",\"ticks\":\"\"}},\"title\":{\"x\":0.05},\"xaxis\":{\"automargin\":true,\"gridcolor\":\"white\",\"linecolor\":\"white\",\"ticks\":\"\",\"title\":{\"standoff\":15},\"zerolinecolor\":\"white\",\"zerolinewidth\":2},\"yaxis\":{\"automargin\":true,\"gridcolor\":\"white\",\"linecolor\":\"white\",\"ticks\":\"\",\"title\":{\"standoff\":15},\"zerolinecolor\":\"white\",\"zerolinewidth\":2}}},\"scene\":{\"xaxis\":{\"title\":{\"text\":\"V<sub>3</sub>\"}},\"yaxis\":{\"title\":{\"text\":\"V<sub>2</sub>\"}},\"zaxis\":{\"title\":{\"text\":\"V<sub>1</sub>\"}}}},                        {\"responsive\": true}                    ).then(function(){\n",
       "                            \n",
       "var gd = document.getElementById('7b26c435-a12a-4ccb-baff-5d3c5c021004');\n",
       "var x = new MutationObserver(function (mutations, observer) {{\n",
       "        var display = window.getComputedStyle(gd).display;\n",
       "        if (!display || display === 'none') {{\n",
       "            console.log([gd, 'removed!']);\n",
       "            Plotly.purge(gd);\n",
       "            observer.disconnect();\n",
       "        }}\n",
       "}});\n",
       "\n",
       "// Listen for the removal of the full notebook cells\n",
       "var notebookContainer = gd.closest('#notebook-container');\n",
       "if (notebookContainer) {{\n",
       "    x.observe(notebookContainer, {childList: true});\n",
       "}}\n",
       "\n",
       "// Listen for the clearing of the current output cell\n",
       "var outputEl = gd.closest('.output');\n",
       "if (outputEl) {{\n",
       "    x.observe(outputEl, {childList: true});\n",
       "}}\n",
       "\n",
       "                        })                };                });            </script>        </div>"
      ]
     },
     "metadata": {},
     "output_type": "display_data"
    }
   ],
   "source": [
    "print(\"Plot of learned projected facet\")\n",
    "#now using the estimated gamma\n",
    "halfspaces=np.hstack([A_res[found],b_res[found].reshape(-1,1)])\n",
    "#polytope not bounded, so add lower bounds as well\n",
    "lower_bound = np.hstack([sim_proj_est.boundsA,sim_proj_est.boundsb.reshape(-1,1)])\n",
    "halfspaces = np.vstack([halfspaces,lower_bound])\n",
    "labels = np.vstack([T[found],np.zeros((4,4),dtype=np.int64)])\n",
    "plot_facet(halfspaces, labels,points=x_p, text_dist_multiplier=5.0)"
   ]
  },
  {
   "cell_type": "code",
   "execution_count": null,
   "id": "59378ebb",
   "metadata": {},
   "outputs": [],
   "source": []
  }
 ],
 "metadata": {
  "kernelspec": {
   "display_name": "Python 3 (ipykernel)",
   "language": "python",
   "name": "python3"
  },
  "language_info": {
   "codemirror_mode": {
    "name": "ipython",
    "version": 3
   },
   "file_extension": ".py",
   "mimetype": "text/x-python",
   "name": "python",
   "nbconvert_exporter": "python",
   "pygments_lexer": "ipython3",
   "version": "3.7.5"
  }
 },
 "nbformat": 4,
 "nbformat_minor": 5
}
