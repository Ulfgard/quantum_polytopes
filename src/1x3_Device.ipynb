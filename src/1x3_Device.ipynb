{
 "cells": [
  {
   "cell_type": "markdown",
   "id": "a8d798c8",
   "metadata": {},
   "source": [
    "## Example: Learning the state transitions of a triple-dot array.\n",
    "\n",
    "In this notebook we want to show how our algorithm can be used on a tripple-dot array to discover the transition of a given state. We choose this example, because it can be easily visualized in 3D still.\n"
   ]
  },
  {
   "cell_type": "code",
   "execution_count": 8,
   "id": "112fc52b",
   "metadata": {},
   "outputs": [],
   "source": [
    "#import our simulation\n",
    "from simulator import sim_NxM, Simulator\n",
    "\n",
    "#for the algorithm\n",
    "import numpy as np\n",
    "from fit_zero_boundary import learn_zero_polytope\n",
    "from fit_convex_polytope import learn_convex_polytope, generate_transitions_for_state, sample_boundary_points\n",
    "\n",
    "#for plotting\n",
    "import plotly.graph_objects as go\n",
    "from scipy.spatial import HalfspaceIntersection\n",
    "from scipy.optimize import linprog\n",
    "\n",
    "#some helper code:\n",
    "\n",
    "#function that finds a point inside a given polytope\n",
    "def find_feasible_point(halfspaces):\n",
    "    norm_vector = np.reshape(np.linalg.norm(halfspaces[:, :-1], axis=1), (halfspaces.shape[0], 1))\n",
    "    c = np.zeros((halfspaces.shape[1],))\n",
    "    c[-1] = -1\n",
    "    A = np.hstack((halfspaces[:, :-1], norm_vector))\n",
    "    b = - halfspaces[:, -1:]\n",
    "    res = linprog(c, A_ub=A, b_ub=b, bounds = (None,None))\n",
    "    return res.x[:-1]\n",
    "\n",
    "def plot_facet(halfspaces, labels = None, points = None):\n",
    "    startpoint = find_feasible_point(halfspaces)\n",
    "    vertices=HalfspaceIntersection(halfspaces, startpoint).intersections\n",
    "    \n",
    "    \n",
    "    \n",
    "    fig = go.Figure()\n",
    "    fig.add_trace(go.Mesh3d(x=vertices[:, 2],\n",
    "                           y=vertices[:, 1],\n",
    "                           z=vertices[:, 0],\n",
    "                           color=\"yellow\",\n",
    "                           opacity=1.0,\n",
    "                           alphahull=0))\n",
    "    for i in range(halfspaces.shape[0]):\n",
    "        Ai = halfspaces[i,:-1]\n",
    "        bi = halfspaces[i,-1]\n",
    "        distance = np.max(np.abs(vertices@Ai.reshape(-1,1)+ bi.reshape(1,-1)),axis=1)\n",
    "        vi = vertices[distance < 1.e-5]\n",
    "\n",
    "        mean = np.mean(vi,axis=0)\n",
    "        \n",
    "        #add annotation\n",
    "        if not labels is None:\n",
    "            text_pos = mean + 0.07*Ai/np.linalg.norm(Ai)\n",
    "            arrow_end = mean + 0.05*Ai/np.linalg.norm(Ai)\n",
    "            text = str(labels[i])\n",
    "            #annotations.append(annotation)\n",
    "            fig.add_trace(go.Scatter3d(x=mean[2:3],\n",
    "                            y=mean[1:2],\n",
    "                            z=mean[0:1],\n",
    "                            showlegend=False,\n",
    "                            mode=\"markers\",\n",
    "                            marker=dict(color= 'black',size=3)))\n",
    "            fig.add_trace(go.Scatter3d(x=[mean[2],arrow_end[2]],\n",
    "                        y=[mean[1],arrow_end[1]],\n",
    "                        z=[mean[0],arrow_end[0]],\n",
    "                        mode='lines',\n",
    "                        showlegend=False,\n",
    "                        line=dict(color= 'black', width=2)))\n",
    "            fig.add_trace(go.Scatter3d(x=text_pos[2:3],\n",
    "                            y=text_pos[1:2],\n",
    "                            z=text_pos[0:1],\n",
    "                            showlegend=False,\n",
    "                            textfont=dict(\n",
    "                                color=\"black\",\n",
    "                                size=14\n",
    "                            ),\n",
    "                            mode=\"text\", textposition=\"middle center\",\n",
    "                            marker=dict(color= 'black',size=3), text=[text]))\n",
    "        #plot mesh\n",
    "        for j in range(vi.shape[0]):\n",
    "            for k in range(j+1,vi.shape[0]):\n",
    "                #check if midpoint is inside to filter out lines inside a facet.\n",
    "                mid = (vi[j]+vi[k])/2\n",
    "                di = halfspaces[:,:-1]@mid+ halfspaces[:,-1]\n",
    "                di[i] = -1\n",
    "                if np.all(di<-1.e-5):\n",
    "                    continue\n",
    "                fig.add_trace(go.Scatter3d(x=vi[[j,k], 2],\n",
    "                        y=vi[[j,k], 1],\n",
    "                        z=vi[[j,k], 0],\n",
    "                        mode='lines',\n",
    "                        showlegend=False,\n",
    "                        line=dict(color= 'black', width=2)))\n",
    "    \n",
    "    if not points is None:\n",
    "        fig.add_trace(go.Scatter3d(x=points[:,2],\n",
    "                            y=points[:,1],\n",
    "                            z=points[:,0],\n",
    "                            mode='markers', marker=dict(color= 'red',size=3)))\n",
    "    fig.update_layout(scene=dict( xaxis_title=r'V<sub>3</sub>', yaxis_title=r'V<sub>2</sub>',zaxis_title=r'V<sub>1</sub>'))\n",
    "    fig.show()"
   ]
  },
  {
   "cell_type": "markdown",
   "id": "e08ee284",
   "metadata": {},
   "source": [
    "## Step 1: initializing the simulation\n",
    "\n",
    "First, we create the simulation. We simulate a 1x3 array according to the constant interaction model and plot the (1,1,1) facet"
   ]
  },
  {
   "cell_type": "code",
   "execution_count": 9,
   "id": "3f9df7cb",
   "metadata": {},
   "outputs": [
    {
     "name": "stdout",
     "output_type": "stream",
     "text": [
      "labels of transitions present in the state\n",
      "[[ 1. -1.  1.]\n",
      " [-1.  1. -1.]\n",
      " [-1.  0.  0.]\n",
      " [-1.  0.  1.]\n",
      " [-1.  1.  0.]\n",
      " [ 0. -1.  0.]\n",
      " [ 0. -1.  1.]\n",
      " [ 0.  0. -1.]\n",
      " [ 0.  0.  1.]\n",
      " [ 0.  1. -1.]\n",
      " [ 0.  1.  0.]\n",
      " [ 1. -1.  0.]\n",
      " [ 1.  0. -1.]\n",
      " [ 1.  0.  0.]]\n",
      "plot of the device\n"
     ]
    },
    {
     "data": {
      "application/vnd.plotly.v1+json": {
       "config": {
        "plotlyServerURL": "https://plot.ly"
       },
       "data": [
        {
         "alphahull": 0,
         "color": "yellow",
         "opacity": 1,
         "type": "mesh3d",
         "x": [
          0.1894000433527483,
          0.1882599300665627,
          0.052497431481735676,
          0.05135731819555009,
          0.0679095943230611,
          0.1896372802596316,
          0.19040645206410772,
          0.04496212019180869,
          0.05273466838861898,
          0.04281559819426364,
          0.05058814639107395,
          0.044724883284925396,
          0.04395571148044923,
          0.21234751748400066,
          0.21335392619536014,
          0.21449403948154575,
          0.20481220619407373,
          0.21258475439088403,
          0.20457496928719038,
          0.0676723574161778,
          0.20595231948025935,
          0.20672149128473544,
          0.06904970760924668,
          0.06690318561170165
         ],
         "y": [
          0.17472704930572602,
          0.2017167907144123,
          0.2008828391937427,
          0.227872580602429,
          0.07306454247259803,
          0.19023401128096346,
          0.19100318308543957,
          0.2064084633508711,
          0.2163898011689801,
          0.21712207097984387,
          0.22710340879795285,
          0.19090150137563378,
          0.1901323295711576,
          0.04138312842745294,
          0.05765926220716641,
          0.030669520798480163,
          0.04690875258458134,
          0.05689009040269033,
          0.03140179060934395,
          0.05755758049736061,
          0.019919011175895063,
          0.020688182980371186,
          0.04607480106391176,
          0.05678840869288444
         ],
         "z": [
          0.1741470557182931,
          0.04836534613402606,
          0.17226597426774082,
          0.046484264683473775,
          0.06339986816421701,
          0.03909378547769264,
          0.03986295728216878,
          0.03922716210077096,
          0.03721270402714036,
          0.047729550952628264,
          0.04571509287899765,
          0.17428043234137142,
          0.17351126053689525,
          0.19831976178173916,
          0.0640356633456148,
          0.18981737292988182,
          0.0652809496147693,
          0.0632664915411387,
          0.20033421985536976,
          0.1984531384048175,
          0.19106265919903637,
          0.19183183100351242,
          0.18918157774848404,
          0.1976839666003413
         ]
        },
        {
         "marker": {
          "color": "black",
          "size": 3
         },
         "mode": "markers",
         "showlegend": false,
         "type": "scatter3d",
         "x": [
          0.20953450438436805
         ],
         "y": [
          0.03103565570391206
         ],
         "z": [
          0.1950757963926258
         ]
        },
        {
         "line": {
          "color": "black",
          "width": 2
         },
         "mode": "lines",
         "showlegend": false,
         "type": "scatter3d",
         "x": [
          0.20953450438436805,
          0.24247472408098547
         ],
         "y": [
          0.03103565570391206,
          0.011923613851748484
         ],
         "z": [
          0.1950757963926258,
          0.22747443498408093
         ]
        },
        {
         "marker": {
          "color": "black",
          "size": 3
         },
         "mode": "text",
         "showlegend": false,
         "text": [
          "[ 1. -1.  1.]"
         ],
         "textfont": {
          "color": "black",
          "size": 14
         },
         "textposition": "middle center",
         "type": "scatter3d",
         "x": [
          0.2556508119596324
         ],
         "y": [
          0.00427879711088305
         ],
         "z": [
          0.240433890420663
         ]
        },
        {
         "line": {
          "color": "black",
          "width": 2
         },
         "mode": "lines",
         "showlegend": false,
         "type": "scatter3d",
         "x": [
          0.21234751748400066,
          0.21449403948154575
         ],
         "y": [
          0.04138312842745294,
          0.030669520798480163
         ],
         "z": [
          0.19831976178173916,
          0.18981737292988182
         ]
        },
        {
         "line": {
          "color": "black",
          "width": 2
         },
         "mode": "lines",
         "showlegend": false,
         "type": "scatter3d",
         "x": [
          0.21234751748400066,
          0.20457496928719038
         ],
         "y": [
          0.04138312842745294,
          0.03140179060934395
         ],
         "z": [
          0.19831976178173916,
          0.20033421985536976
         ]
        },
        {
         "line": {
          "color": "black",
          "width": 2
         },
         "mode": "lines",
         "showlegend": false,
         "type": "scatter3d",
         "x": [
          0.21449403948154575,
          0.20672149128473544
         ],
         "y": [
          0.030669520798480163,
          0.020688182980371186
         ],
         "z": [
          0.18981737292988182,
          0.19183183100351242
         ]
        },
        {
         "line": {
          "color": "black",
          "width": 2
         },
         "mode": "lines",
         "showlegend": false,
         "type": "scatter3d",
         "x": [
          0.20457496928719038,
          0.20672149128473544
         ],
         "y": [
          0.03140179060934395,
          0.020688182980371186
         ],
         "z": [
          0.20033421985536976,
          0.19183183100351242
         ]
        },
        {
         "marker": {
          "color": "black",
          "size": 3
         },
         "mode": "markers",
         "showlegend": false,
         "type": "scatter3d",
         "x": [
          0.04777513329144131
         ],
         "y": [
          0.216755936074412
         ],
         "z": [
          0.04247112748988431
         ]
        },
        {
         "line": {
          "color": "black",
          "width": 2
         },
         "mode": "lines",
         "showlegend": false,
         "type": "scatter3d",
         "x": [
          0.04777513329144131,
          0.014834913594823897
         ],
         "y": [
          0.216755936074412,
          0.23586797792657557
         ],
         "z": [
          0.04247112748988431,
          0.010072488898429169
         ]
        },
        {
         "marker": {
          "color": "black",
          "size": 3
         },
         "mode": "text",
         "showlegend": false,
         "text": [
          "[-1.  1. -1.]"
         ],
         "textfont": {
          "color": "black",
          "size": 14
         },
         "textposition": "middle center",
         "type": "scatter3d",
         "x": [
          0.001658825716176933
         ],
         "y": [
          0.243512794667441
         ],
         "z": [
          -0.002886966538152895
         ]
        },
        {
         "line": {
          "color": "black",
          "width": 2
         },
         "mode": "lines",
         "showlegend": false,
         "type": "scatter3d",
         "x": [
          0.04496212019180869,
          0.05273466838861898
         ],
         "y": [
          0.2064084633508711,
          0.2163898011689801
         ],
         "z": [
          0.03922716210077096,
          0.03721270402714036
         ]
        },
        {
         "line": {
          "color": "black",
          "width": 2
         },
         "mode": "lines",
         "showlegend": false,
         "type": "scatter3d",
         "x": [
          0.04496212019180869,
          0.04281559819426364
         ],
         "y": [
          0.2064084633508711,
          0.21712207097984387
         ],
         "z": [
          0.03922716210077096,
          0.047729550952628264
         ]
        },
        {
         "line": {
          "color": "black",
          "width": 2
         },
         "mode": "lines",
         "showlegend": false,
         "type": "scatter3d",
         "x": [
          0.05273466838861898,
          0.05058814639107395
         ],
         "y": [
          0.2163898011689801,
          0.22710340879795285
         ],
         "z": [
          0.03721270402714036,
          0.04571509287899765
         ]
        },
        {
         "line": {
          "color": "black",
          "width": 2
         },
         "mode": "lines",
         "showlegend": false,
         "type": "scatter3d",
         "x": [
          0.04281559819426364,
          0.05058814639107395
         ],
         "y": [
          0.21712207097984387,
          0.22710340879795285
         ],
         "z": [
          0.047729550952628264,
          0.04571509287899765
         ]
        },
        {
         "marker": {
          "color": "black",
          "size": 3
         },
         "mode": "markers",
         "showlegend": false,
         "type": "scatter3d",
         "x": [
          0.12877343729134635
         ],
         "y": [
          0.1316492768767807
         ],
         "z": [
          0.05124682682095483
         ]
        },
        {
         "line": {
          "color": "black",
          "width": 2
         },
         "mode": "lines",
         "showlegend": false,
         "type": "scatter3d",
         "x": [
          0.12877343729134635,
          0.12771147654760917
         ],
         "y": [
          0.1316492768767807,
          0.12255572249411023
         ],
         "z": [
          0.05124682682095483,
          0.002092177925166999
         ]
        },
        {
         "marker": {
          "color": "black",
          "size": 3
         },
         "mode": "text",
         "showlegend": false,
         "text": [
          "[-1.  0.  0.]"
         ],
         "textfont": {
          "color": "black",
          "size": 14
         },
         "textposition": "middle center",
         "type": "scatter3d",
         "x": [
          0.12728669225011427
         ],
         "y": [
          0.11891830074104204
         ],
         "z": [
          -0.017569681633148135
         ]
        },
        {
         "line": {
          "color": "black",
          "width": 2
         },
         "mode": "lines",
         "showlegend": false,
         "type": "scatter3d",
         "x": [
          0.0679095943230611,
          0.04496212019180869
         ],
         "y": [
          0.07306454247259803,
          0.2064084633508711
         ],
         "z": [
          0.06339986816421701,
          0.03922716210077096
         ]
        },
        {
         "line": {
          "color": "black",
          "width": 2
         },
         "mode": "lines",
         "showlegend": false,
         "type": "scatter3d",
         "x": [
          0.0679095943230611,
          0.20481220619407373
         ],
         "y": [
          0.07306454247259803,
          0.04690875258458134
         ],
         "z": [
          0.06339986816421701,
          0.0652809496147693
         ]
        },
        {
         "line": {
          "color": "black",
          "width": 2
         },
         "mode": "lines",
         "showlegend": false,
         "type": "scatter3d",
         "x": [
          0.1896372802596316,
          0.05273466838861898
         ],
         "y": [
          0.19023401128096346,
          0.2163898011689801
         ],
         "z": [
          0.03909378547769264,
          0.03721270402714036
         ]
        },
        {
         "line": {
          "color": "black",
          "width": 2
         },
         "mode": "lines",
         "showlegend": false,
         "type": "scatter3d",
         "x": [
          0.1896372802596316,
          0.21258475439088403
         ],
         "y": [
          0.19023401128096346,
          0.05689009040269033
         ],
         "z": [
          0.03909378547769264,
          0.0632664915411387
         ]
        },
        {
         "line": {
          "color": "black",
          "width": 2
         },
         "mode": "lines",
         "showlegend": false,
         "type": "scatter3d",
         "x": [
          0.04496212019180869,
          0.05273466838861898
         ],
         "y": [
          0.2064084633508711,
          0.2163898011689801
         ],
         "z": [
          0.03922716210077096,
          0.03721270402714036
         ]
        },
        {
         "line": {
          "color": "black",
          "width": 2
         },
         "mode": "lines",
         "showlegend": false,
         "type": "scatter3d",
         "x": [
          0.20481220619407373,
          0.21258475439088403
         ],
         "y": [
          0.04690875258458134,
          0.05689009040269033
         ],
         "z": [
          0.0652809496147693,
          0.0632664915411387
         ]
        },
        {
         "marker": {
          "color": "black",
          "size": 3
         },
         "mode": "markers",
         "showlegend": false,
         "type": "scatter3d",
         "x": [
          0.20149560322749588
         ],
         "y": [
          0.12394663674406495
         ],
         "z": [
          0.051564724411653724
         ]
        },
        {
         "line": {
          "color": "black",
          "width": 2
         },
         "mode": "lines",
         "showlegend": false,
         "type": "scatter3d",
         "x": [
          0.20149560322749588,
          0.23698817207867476
         ],
         "y": [
          0.12394663674406495,
          0.12367056030974583
         ],
         "z": [
          0.051564724411653724,
          0.016348231994793967
         ]
        },
        {
         "marker": {
          "color": "black",
          "size": 3
         },
         "mode": "text",
         "showlegend": false,
         "text": [
          "[-1.  0.  1.]"
         ],
         "textfont": {
          "color": "black",
          "size": 14
         },
         "textposition": "middle center",
         "type": "scatter3d",
         "x": [
          0.2511851996191463
         ],
         "y": [
          0.12356012973601817
         ],
         "z": [
          0.0022616350280500602
         ]
        },
        {
         "line": {
          "color": "black",
          "width": 2
         },
         "mode": "lines",
         "showlegend": false,
         "type": "scatter3d",
         "x": [
          0.1896372802596316,
          0.19040645206410772
         ],
         "y": [
          0.19023401128096346,
          0.19100318308543957
         ],
         "z": [
          0.03909378547769264,
          0.03986295728216878
         ]
        },
        {
         "line": {
          "color": "black",
          "width": 2
         },
         "mode": "lines",
         "showlegend": false,
         "type": "scatter3d",
         "x": [
          0.1896372802596316,
          0.21258475439088403
         ],
         "y": [
          0.19023401128096346,
          0.05689009040269033
         ],
         "z": [
          0.03909378547769264,
          0.0632664915411387
         ]
        },
        {
         "line": {
          "color": "black",
          "width": 2
         },
         "mode": "lines",
         "showlegend": false,
         "type": "scatter3d",
         "x": [
          0.19040645206410772,
          0.21335392619536014
         ],
         "y": [
          0.19100318308543957,
          0.05765926220716641
         ],
         "z": [
          0.03986295728216878,
          0.0640356633456148
         ]
        },
        {
         "line": {
          "color": "black",
          "width": 2
         },
         "mode": "lines",
         "showlegend": false,
         "type": "scatter3d",
         "x": [
          0.21335392619536014,
          0.21258475439088403
         ],
         "y": [
          0.05765926220716641,
          0.05689009040269033
         ],
         "z": [
          0.0640356633456148,
          0.0632664915411387
         ]
        },
        {
         "marker": {
          "color": "black",
          "size": 3
         },
         "mode": "markers",
         "showlegend": false,
         "type": "scatter3d",
         "x": [
          0.12049729922759085
         ],
         "y": [
          0.2090532959416962
         ],
         "z": [
          0.04278902508058321
         ]
        },
        {
         "line": {
          "color": "black",
          "width": 2
         },
         "mode": "lines",
         "showlegend": false,
         "type": "scatter3d",
         "x": [
          0.12049729922759085,
          0.12706167892086792
         ],
         "y": [
          0.2090532959416962,
          0.24066640218825436
         ],
         "z": [
          0.04278902508058321,
          0.004611539140747974
         ]
        },
        {
         "marker": {
          "color": "black",
          "size": 3
         },
         "mode": "text",
         "showlegend": false,
         "text": [
          "[-1.  1.  0.]"
         ],
         "textfont": {
          "color": "black",
          "size": 14
         },
         "textposition": "middle center",
         "type": "scatter3d",
         "x": [
          0.12968743079817877
         ],
         "y": [
          0.2533116446868776
         ],
         "z": [
          -0.010659455235186119
         ]
        },
        {
         "line": {
          "color": "black",
          "width": 2
         },
         "mode": "lines",
         "showlegend": false,
         "type": "scatter3d",
         "x": [
          0.1882599300665627,
          0.05135731819555009
         ],
         "y": [
          0.2017167907144123,
          0.227872580602429
         ],
         "z": [
          0.04836534613402606,
          0.046484264683473775
         ]
        },
        {
         "line": {
          "color": "black",
          "width": 2
         },
         "mode": "lines",
         "showlegend": false,
         "type": "scatter3d",
         "x": [
          0.1882599300665627,
          0.19040645206410772
         ],
         "y": [
          0.2017167907144123,
          0.19100318308543957
         ],
         "z": [
          0.04836534613402606,
          0.03986295728216878
         ]
        },
        {
         "line": {
          "color": "black",
          "width": 2
         },
         "mode": "lines",
         "showlegend": false,
         "type": "scatter3d",
         "x": [
          0.05135731819555009,
          0.05058814639107395
         ],
         "y": [
          0.227872580602429,
          0.22710340879795285
         ],
         "z": [
          0.046484264683473775,
          0.04571509287899765
         ]
        },
        {
         "line": {
          "color": "black",
          "width": 2
         },
         "mode": "lines",
         "showlegend": false,
         "type": "scatter3d",
         "x": [
          0.1896372802596316,
          0.19040645206410772
         ],
         "y": [
          0.19023401128096346,
          0.19100318308543957
         ],
         "z": [
          0.03909378547769264,
          0.03986295728216878
         ]
        },
        {
         "line": {
          "color": "black",
          "width": 2
         },
         "mode": "lines",
         "showlegend": false,
         "type": "scatter3d",
         "x": [
          0.1896372802596316,
          0.05273466838861898
         ],
         "y": [
          0.19023401128096346,
          0.2163898011689801
         ],
         "z": [
          0.03909378547769264,
          0.03721270402714036
         ]
        },
        {
         "line": {
          "color": "black",
          "width": 2
         },
         "mode": "lines",
         "showlegend": false,
         "type": "scatter3d",
         "x": [
          0.05273466838861898,
          0.05058814639107395
         ],
         "y": [
          0.2163898011689801,
          0.22710340879795285
         ],
         "z": [
          0.03721270402714036,
          0.04571509287899765
         ]
        },
        {
         "marker": {
          "color": "black",
          "size": 3
         },
         "mode": "markers",
         "showlegend": false,
         "type": "scatter3d",
         "x": [
          0.1369309569016602
         ],
         "y": [
          0.046491776824246545
         ],
         "z": [
          0.12723126368162668
         ]
        },
        {
         "line": {
          "color": "black",
          "width": 2
         },
         "mode": "lines",
         "showlegend": false,
         "type": "scatter3d",
         "x": [
          0.1369309569016602,
          0.12788255148077113
         ],
         "y": [
          0.046491776824246545,
          -0.00160501589792085
         ],
         "z": [
          0.12723126368162668,
          0.11699286101421363
         ]
        },
        {
         "marker": {
          "color": "black",
          "size": 3
         },
         "mode": "text",
         "showlegend": false,
         "text": [
          "[ 0. -1.  0.]"
         ],
         "textfont": {
          "color": "black",
          "size": 14
         },
         "textposition": "middle center",
         "type": "scatter3d",
         "x": [
          0.1242631893124155
         ],
         "y": [
          -0.020843732986787808
         ],
         "z": [
          0.11289749994724842
         ]
        },
        {
         "line": {
          "color": "black",
          "width": 2
         },
         "mode": "lines",
         "showlegend": false,
         "type": "scatter3d",
         "x": [
          0.0679095943230611,
          0.20481220619407373
         ],
         "y": [
          0.07306454247259803,
          0.04690875258458134
         ],
         "z": [
          0.06339986816421701,
          0.0652809496147693
         ]
        },
        {
         "line": {
          "color": "black",
          "width": 2
         },
         "mode": "lines",
         "showlegend": false,
         "type": "scatter3d",
         "x": [
          0.0679095943230611,
          0.06904970760924668
         ],
         "y": [
          0.07306454247259803,
          0.04607480106391176
         ],
         "z": [
          0.06339986816421701,
          0.18918157774848404
         ]
        },
        {
         "line": {
          "color": "black",
          "width": 2
         },
         "mode": "lines",
         "showlegend": false,
         "type": "scatter3d",
         "x": [
          0.20481220619407373,
          0.20595231948025935
         ],
         "y": [
          0.04690875258458134,
          0.019919011175895063
         ],
         "z": [
          0.0652809496147693,
          0.19106265919903637
         ]
        },
        {
         "line": {
          "color": "black",
          "width": 2
         },
         "mode": "lines",
         "showlegend": false,
         "type": "scatter3d",
         "x": [
          0.20595231948025935,
          0.06904970760924668
         ],
         "y": [
          0.019919011175895063,
          0.04607480106391176
         ],
         "z": [
          0.19106265919903637,
          0.18918157774848404
         ]
        },
        {
         "marker": {
          "color": "black",
          "size": 3
         },
         "mode": "markers",
         "showlegend": false,
         "type": "scatter3d",
         "x": [
          0.2096531228378097
         ],
         "y": [
          0.03878913669153075
         ],
         "z": [
          0.12754916127232557
         ]
        },
        {
         "line": {
          "color": "black",
          "width": 2
         },
         "mode": "lines",
         "showlegend": false,
         "type": "scatter3d",
         "x": [
          0.2096531228378097,
          0.24800647901319764
         ],
         "y": [
          0.03878913669153075,
          0.00749779589442244
         ],
         "z": [
          0.12754916127232557,
          0.12048714589404594
         ]
        },
        {
         "marker": {
          "color": "black",
          "size": 3
         },
         "mode": "text",
         "showlegend": false,
         "text": [
          "[ 0. -1.  1.]"
         ],
         "textfont": {
          "color": "black",
          "size": 14
         },
         "textposition": "middle center",
         "type": "scatter3d",
         "x": [
          0.2633478214833528
         ],
         "y": [
          -0.005018740424420881
         ],
         "z": [
          0.11766233974273409
         ]
        },
        {
         "line": {
          "color": "black",
          "width": 2
         },
         "mode": "lines",
         "showlegend": false,
         "type": "scatter3d",
         "x": [
          0.21335392619536014,
          0.21449403948154575
         ],
         "y": [
          0.05765926220716641,
          0.030669520798480163
         ],
         "z": [
          0.0640356633456148,
          0.18981737292988182
         ]
        },
        {
         "line": {
          "color": "black",
          "width": 2
         },
         "mode": "lines",
         "showlegend": false,
         "type": "scatter3d",
         "x": [
          0.21335392619536014,
          0.21258475439088403
         ],
         "y": [
          0.05765926220716641,
          0.05689009040269033
         ],
         "z": [
          0.0640356633456148,
          0.0632664915411387
         ]
        },
        {
         "line": {
          "color": "black",
          "width": 2
         },
         "mode": "lines",
         "showlegend": false,
         "type": "scatter3d",
         "x": [
          0.21449403948154575,
          0.20672149128473544
         ],
         "y": [
          0.030669520798480163,
          0.020688182980371186
         ],
         "z": [
          0.18981737292988182,
          0.19183183100351242
         ]
        },
        {
         "line": {
          "color": "black",
          "width": 2
         },
         "mode": "lines",
         "showlegend": false,
         "type": "scatter3d",
         "x": [
          0.20481220619407373,
          0.21258475439088403
         ],
         "y": [
          0.04690875258458134,
          0.05689009040269033
         ],
         "z": [
          0.0652809496147693,
          0.0632664915411387
         ]
        },
        {
         "line": {
          "color": "black",
          "width": 2
         },
         "mode": "lines",
         "showlegend": false,
         "type": "scatter3d",
         "x": [
          0.20481220619407373,
          0.20595231948025935
         ],
         "y": [
          0.04690875258458134,
          0.019919011175895063
         ],
         "z": [
          0.0652809496147693,
          0.19106265919903637
         ]
        },
        {
         "line": {
          "color": "black",
          "width": 2
         },
         "mode": "lines",
         "showlegend": false,
         "type": "scatter3d",
         "x": [
          0.20595231948025935,
          0.20672149128473544
         ],
         "y": [
          0.019919011175895063,
          0.020688182980371186
         ],
         "z": [
          0.19106265919903637,
          0.19183183100351242
         ]
        },
        {
         "marker": {
          "color": "black",
          "size": 3
         },
         "mode": "markers",
         "showlegend": false,
         "type": "scatter3d",
         "x": [
          0.05593265290175517
         ],
         "y": [
          0.13159843602187782
         ],
         "z": [
          0.11845556435055614
         ]
        },
        {
         "line": {
          "color": "black",
          "width": 2
         },
         "mode": "lines",
         "showlegend": false,
         "type": "scatter3d",
         "x": [
          0.05593265290175517,
          0.006720928808803026
         ],
         "y": [
          0.13159843602187782,
          0.12287084549964021
         ],
         "z": [
          0.11845556435055614,
          0.11702889849083192
         ]
        },
        {
         "marker": {
          "color": "black",
          "size": 3
         },
         "mode": "text",
         "showlegend": false,
         "text": [
          "[ 0.  0. -1.]"
         ],
         "textfont": {
          "color": "black",
          "size": 14
         },
         "textposition": "middle center",
         "type": "scatter3d",
         "x": [
          -0.01296376082837783
         ],
         "y": [
          0.11937980929074517
         ],
         "z": [
          0.11645823214694224
         ]
        },
        {
         "line": {
          "color": "black",
          "width": 2
         },
         "mode": "lines",
         "showlegend": false,
         "type": "scatter3d",
         "x": [
          0.0679095943230611,
          0.04496212019180869
         ],
         "y": [
          0.07306454247259803,
          0.2064084633508711
         ],
         "z": [
          0.06339986816421701,
          0.03922716210077096
         ]
        },
        {
         "line": {
          "color": "black",
          "width": 2
         },
         "mode": "lines",
         "showlegend": false,
         "type": "scatter3d",
         "x": [
          0.0679095943230611,
          0.06904970760924668
         ],
         "y": [
          0.07306454247259803,
          0.04607480106391176
         ],
         "z": [
          0.06339986816421701,
          0.18918157774848404
         ]
        },
        {
         "line": {
          "color": "black",
          "width": 2
         },
         "mode": "lines",
         "showlegend": false,
         "type": "scatter3d",
         "x": [
          0.04496212019180869,
          0.04281559819426364
         ],
         "y": [
          0.2064084633508711,
          0.21712207097984387
         ],
         "z": [
          0.03922716210077096,
          0.047729550952628264
         ]
        },
        {
         "line": {
          "color": "black",
          "width": 2
         },
         "mode": "lines",
         "showlegend": false,
         "type": "scatter3d",
         "x": [
          0.04281559819426364,
          0.04395571148044923
         ],
         "y": [
          0.21712207097984387,
          0.1901323295711576
         ],
         "z": [
          0.047729550952628264,
          0.17351126053689525
         ]
        },
        {
         "line": {
          "color": "black",
          "width": 2
         },
         "mode": "lines",
         "showlegend": false,
         "type": "scatter3d",
         "x": [
          0.04395571148044923,
          0.06690318561170165
         ],
         "y": [
          0.1901323295711576,
          0.05678840869288444
         ],
         "z": [
          0.17351126053689525,
          0.1976839666003413
         ]
        },
        {
         "line": {
          "color": "black",
          "width": 2
         },
         "mode": "lines",
         "showlegend": false,
         "type": "scatter3d",
         "x": [
          0.06904970760924668,
          0.06690318561170165
         ],
         "y": [
          0.04607480106391176,
          0.05678840869288444
         ],
         "z": [
          0.18918157774848404,
          0.1976839666003413
         ]
        },
        {
         "marker": {
          "color": "black",
          "size": 3
         },
         "mode": "markers",
         "showlegend": false,
         "type": "scatter3d",
         "x": [
          0.2013769847740542
         ],
         "y": [
          0.11619315575644625
         ],
         "z": [
          0.11909135953195393
         ]
        },
        {
         "line": {
          "color": "black",
          "width": 2
         },
         "mode": "lines",
         "showlegend": false,
         "type": "scatter3d",
         "x": [
          0.2013769847740542,
          0.25058870886700635
         ],
         "y": [
          0.11619315575644625,
          0.12492074627868385
         ],
         "z": [
          0.11909135953195393,
          0.12051802539167815
         ]
        },
        {
         "marker": {
          "color": "black",
          "size": 3
         },
         "mode": "text",
         "showlegend": false,
         "text": [
          "[0. 0. 1.]"
         ],
         "textfont": {
          "color": "black",
          "size": 14
         },
         "textposition": "middle center",
         "type": "scatter3d",
         "x": [
          0.2702733985041872
         ],
         "y": [
          0.1284117824875789
         ],
         "z": [
          0.12108869173556783
         ]
        },
        {
         "line": {
          "color": "black",
          "width": 2
         },
         "mode": "lines",
         "showlegend": false,
         "type": "scatter3d",
         "x": [
          0.1894000433527483,
          0.1882599300665627
         ],
         "y": [
          0.17472704930572602,
          0.2017167907144123
         ],
         "z": [
          0.1741470557182931,
          0.04836534613402606
         ]
        },
        {
         "line": {
          "color": "black",
          "width": 2
         },
         "mode": "lines",
         "showlegend": false,
         "type": "scatter3d",
         "x": [
          0.1894000433527483,
          0.21234751748400066
         ],
         "y": [
          0.17472704930572602,
          0.04138312842745294
         ],
         "z": [
          0.1741470557182931,
          0.19831976178173916
         ]
        },
        {
         "line": {
          "color": "black",
          "width": 2
         },
         "mode": "lines",
         "showlegend": false,
         "type": "scatter3d",
         "x": [
          0.1882599300665627,
          0.19040645206410772
         ],
         "y": [
          0.2017167907144123,
          0.19100318308543957
         ],
         "z": [
          0.04836534613402606,
          0.03986295728216878
         ]
        },
        {
         "line": {
          "color": "black",
          "width": 2
         },
         "mode": "lines",
         "showlegend": false,
         "type": "scatter3d",
         "x": [
          0.19040645206410772,
          0.21335392619536014
         ],
         "y": [
          0.19100318308543957,
          0.05765926220716641
         ],
         "z": [
          0.03986295728216878,
          0.0640356633456148
         ]
        },
        {
         "line": {
          "color": "black",
          "width": 2
         },
         "mode": "lines",
         "showlegend": false,
         "type": "scatter3d",
         "x": [
          0.21234751748400066,
          0.21449403948154575
         ],
         "y": [
          0.04138312842745294,
          0.030669520798480163
         ],
         "z": [
          0.19831976178173916,
          0.18981737292988182
         ]
        },
        {
         "line": {
          "color": "black",
          "width": 2
         },
         "mode": "lines",
         "showlegend": false,
         "type": "scatter3d",
         "x": [
          0.21335392619536014,
          0.21449403948154575
         ],
         "y": [
          0.05765926220716641,
          0.030669520798480163
         ],
         "z": [
          0.0640356633456148,
          0.18981737292988182
         ]
        },
        {
         "marker": {
          "color": "black",
          "size": 3
         },
         "mode": "markers",
         "showlegend": false,
         "type": "scatter3d",
         "x": [
          0.047656514837999674
         ],
         "y": [
          0.20900245508679335
         ],
         "z": [
          0.10999776261018453
         ]
        },
        {
         "line": {
          "color": "black",
          "width": 2
         },
         "mode": "lines",
         "showlegend": false,
         "type": "scatter3d",
         "x": [
          0.047656514837999674,
          0.009303158662611742
         ],
         "y": [
          0.20900245508679335,
          0.24029379588390165
         ],
         "z": [
          0.10999776261018453,
          0.11705977798846416
         ]
        },
        {
         "marker": {
          "color": "black",
          "size": 3
         },
         "mode": "text",
         "showlegend": false,
         "text": [
          "[ 0.  1. -1.]"
         ],
         "textfont": {
          "color": "black",
          "size": 14
         },
         "textposition": "middle center",
         "type": "scatter3d",
         "x": [
          -0.0060381838075434305
         ],
         "y": [
          0.25281033220274496
         ],
         "z": [
          0.11988458413977601
         ]
        },
        {
         "line": {
          "color": "black",
          "width": 2
         },
         "mode": "lines",
         "showlegend": false,
         "type": "scatter3d",
         "x": [
          0.052497431481735676,
          0.05135731819555009
         ],
         "y": [
          0.2008828391937427,
          0.227872580602429
         ],
         "z": [
          0.17226597426774082,
          0.046484264683473775
         ]
        },
        {
         "line": {
          "color": "black",
          "width": 2
         },
         "mode": "lines",
         "showlegend": false,
         "type": "scatter3d",
         "x": [
          0.052497431481735676,
          0.044724883284925396
         ],
         "y": [
          0.2008828391937427,
          0.19090150137563378
         ],
         "z": [
          0.17226597426774082,
          0.17428043234137142
         ]
        },
        {
         "line": {
          "color": "black",
          "width": 2
         },
         "mode": "lines",
         "showlegend": false,
         "type": "scatter3d",
         "x": [
          0.05135731819555009,
          0.05058814639107395
         ],
         "y": [
          0.227872580602429,
          0.22710340879795285
         ],
         "z": [
          0.046484264683473775,
          0.04571509287899765
         ]
        },
        {
         "line": {
          "color": "black",
          "width": 2
         },
         "mode": "lines",
         "showlegend": false,
         "type": "scatter3d",
         "x": [
          0.04281559819426364,
          0.05058814639107395
         ],
         "y": [
          0.21712207097984387,
          0.22710340879795285
         ],
         "z": [
          0.047729550952628264,
          0.04571509287899765
         ]
        },
        {
         "line": {
          "color": "black",
          "width": 2
         },
         "mode": "lines",
         "showlegend": false,
         "type": "scatter3d",
         "x": [
          0.04281559819426364,
          0.04395571148044923
         ],
         "y": [
          0.21712207097984387,
          0.1901323295711576
         ],
         "z": [
          0.047729550952628264,
          0.17351126053689525
         ]
        },
        {
         "line": {
          "color": "black",
          "width": 2
         },
         "mode": "lines",
         "showlegend": false,
         "type": "scatter3d",
         "x": [
          0.044724883284925396,
          0.04395571148044923
         ],
         "y": [
          0.19090150137563378,
          0.1901323295711576
         ],
         "z": [
          0.17428043234137142,
          0.17351126053689525
         ]
        },
        {
         "marker": {
          "color": "black",
          "size": 3
         },
         "mode": "markers",
         "showlegend": false,
         "type": "scatter3d",
         "x": [
          0.1203786807741492
         ],
         "y": [
          0.2012998149540775
         ],
         "z": [
          0.11031566020088343
         ]
        },
        {
         "line": {
          "color": "black",
          "width": 2
         },
         "mode": "lines",
         "showlegend": false,
         "type": "scatter3d",
         "x": [
          0.1203786807741492,
          0.1294270861950383
         ],
         "y": [
          0.2012998149540775,
          0.24939660767624489
         ],
         "z": [
          0.11031566020088343,
          0.12055406286829648
         ]
        },
        {
         "marker": {
          "color": "black",
          "size": 3
         },
         "mode": "text",
         "showlegend": false,
         "text": [
          "[0. 1. 0.]"
         ],
         "textfont": {
          "color": "black",
          "size": 14
         },
         "textposition": "middle center",
         "type": "scatter3d",
         "x": [
          0.1330464483633939
         ],
         "y": [
          0.26863532476511187
         ],
         "z": [
          0.1246494239352617
         ]
        },
        {
         "line": {
          "color": "black",
          "width": 2
         },
         "mode": "lines",
         "showlegend": false,
         "type": "scatter3d",
         "x": [
          0.1894000433527483,
          0.1882599300665627
         ],
         "y": [
          0.17472704930572602,
          0.2017167907144123
         ],
         "z": [
          0.1741470557182931,
          0.04836534613402606
         ]
        },
        {
         "line": {
          "color": "black",
          "width": 2
         },
         "mode": "lines",
         "showlegend": false,
         "type": "scatter3d",
         "x": [
          0.1894000433527483,
          0.052497431481735676
         ],
         "y": [
          0.17472704930572602,
          0.2008828391937427
         ],
         "z": [
          0.1741470557182931,
          0.17226597426774082
         ]
        },
        {
         "line": {
          "color": "black",
          "width": 2
         },
         "mode": "lines",
         "showlegend": false,
         "type": "scatter3d",
         "x": [
          0.1882599300665627,
          0.05135731819555009
         ],
         "y": [
          0.2017167907144123,
          0.227872580602429
         ],
         "z": [
          0.04836534613402606,
          0.046484264683473775
         ]
        },
        {
         "line": {
          "color": "black",
          "width": 2
         },
         "mode": "lines",
         "showlegend": false,
         "type": "scatter3d",
         "x": [
          0.052497431481735676,
          0.05135731819555009
         ],
         "y": [
          0.2008828391937427,
          0.227872580602429
         ],
         "z": [
          0.17226597426774082,
          0.046484264683473775
         ]
        },
        {
         "marker": {
          "color": "black",
          "size": 3
         },
         "mode": "markers",
         "showlegend": false,
         "type": "scatter3d",
         "x": [
          0.13681233844821855
         ],
         "y": [
          0.038738295836627835
         ],
         "z": [
          0.19475789880192693
         ]
        },
        {
         "line": {
          "color": "black",
          "width": 2
         },
         "mode": "lines",
         "showlegend": false,
         "type": "scatter3d",
         "x": [
          0.13681233844821855,
          0.13024795875494147
         ],
         "y": [
          0.038738295836627835,
          0.007125189590069671
         ],
         "z": [
          0.19475789880192693,
          0.23293538474176217
         ]
        },
        {
         "marker": {
          "color": "black",
          "size": 3
         },
         "mode": "text",
         "showlegend": false,
         "text": [
          "[ 1. -1.  0.]"
         ],
         "textfont": {
          "color": "black",
          "size": 14
         },
         "textposition": "middle center",
         "type": "scatter3d",
         "x": [
          0.12762220687763065
         ],
         "y": [
          -0.005520052908553598
         ],
         "z": [
          0.24820637911769625
         ]
        },
        {
         "line": {
          "color": "black",
          "width": 2
         },
         "mode": "lines",
         "showlegend": false,
         "type": "scatter3d",
         "x": [
          0.20457496928719038,
          0.0676723574161778
         ],
         "y": [
          0.03140179060934395,
          0.05755758049736061
         ],
         "z": [
          0.20033421985536976,
          0.1984531384048175
         ]
        },
        {
         "line": {
          "color": "black",
          "width": 2
         },
         "mode": "lines",
         "showlegend": false,
         "type": "scatter3d",
         "x": [
          0.20457496928719038,
          0.20672149128473544
         ],
         "y": [
          0.03140179060934395,
          0.020688182980371186
         ],
         "z": [
          0.20033421985536976,
          0.19183183100351242
         ]
        },
        {
         "line": {
          "color": "black",
          "width": 2
         },
         "mode": "lines",
         "showlegend": false,
         "type": "scatter3d",
         "x": [
          0.0676723574161778,
          0.06690318561170165
         ],
         "y": [
          0.05755758049736061,
          0.05678840869288444
         ],
         "z": [
          0.1984531384048175,
          0.1976839666003413
         ]
        },
        {
         "line": {
          "color": "black",
          "width": 2
         },
         "mode": "lines",
         "showlegend": false,
         "type": "scatter3d",
         "x": [
          0.20595231948025935,
          0.20672149128473544
         ],
         "y": [
          0.019919011175895063,
          0.020688182980371186
         ],
         "z": [
          0.19106265919903637,
          0.19183183100351242
         ]
        },
        {
         "line": {
          "color": "black",
          "width": 2
         },
         "mode": "lines",
         "showlegend": false,
         "type": "scatter3d",
         "x": [
          0.20595231948025935,
          0.06904970760924668
         ],
         "y": [
          0.019919011175895063,
          0.04607480106391176
         ],
         "z": [
          0.19106265919903637,
          0.18918157774848404
         ]
        },
        {
         "line": {
          "color": "black",
          "width": 2
         },
         "mode": "lines",
         "showlegend": false,
         "type": "scatter3d",
         "x": [
          0.06904970760924668,
          0.06690318561170165
         ],
         "y": [
          0.04607480106391176,
          0.05678840869288444
         ],
         "z": [
          0.18918157774848404,
          0.1976839666003413
         ]
        },
        {
         "marker": {
          "color": "black",
          "size": 3
         },
         "mode": "markers",
         "showlegend": false,
         "type": "scatter3d",
         "x": [
          0.055814034448313524
         ],
         "y": [
          0.1238449550342591
         ],
         "z": [
          0.18598219947085634
         ]
        },
        {
         "line": {
          "color": "black",
          "width": 2
         },
         "mode": "lines",
         "showlegend": false,
         "type": "scatter3d",
         "x": [
          0.055814034448313524,
          0.020321465597134644
         ],
         "y": [
          0.1238449550342591,
          0.12412103146857822
         ],
         "z": [
          0.18598219947085634,
          0.2211986918877161
         ]
        },
        {
         "marker": {
          "color": "black",
          "size": 3
         },
         "mode": "text",
         "showlegend": false,
         "text": [
          "[ 1.  0. -1.]"
         ],
         "textfont": {
          "color": "black",
          "size": 14
         },
         "textposition": "middle center",
         "type": "scatter3d",
         "x": [
          0.006124438056663094
         ],
         "y": [
          0.12423146204230588
         ],
         "z": [
          0.23528528885446
         ]
        },
        {
         "line": {
          "color": "black",
          "width": 2
         },
         "mode": "lines",
         "showlegend": false,
         "type": "scatter3d",
         "x": [
          0.044724883284925396,
          0.04395571148044923
         ],
         "y": [
          0.19090150137563378,
          0.1901323295711576
         ],
         "z": [
          0.17428043234137142,
          0.17351126053689525
         ]
        },
        {
         "line": {
          "color": "black",
          "width": 2
         },
         "mode": "lines",
         "showlegend": false,
         "type": "scatter3d",
         "x": [
          0.044724883284925396,
          0.0676723574161778
         ],
         "y": [
          0.19090150137563378,
          0.05755758049736061
         ],
         "z": [
          0.17428043234137142,
          0.1984531384048175
         ]
        },
        {
         "line": {
          "color": "black",
          "width": 2
         },
         "mode": "lines",
         "showlegend": false,
         "type": "scatter3d",
         "x": [
          0.04395571148044923,
          0.06690318561170165
         ],
         "y": [
          0.1901323295711576,
          0.05678840869288444
         ],
         "z": [
          0.17351126053689525,
          0.1976839666003413
         ]
        },
        {
         "line": {
          "color": "black",
          "width": 2
         },
         "mode": "lines",
         "showlegend": false,
         "type": "scatter3d",
         "x": [
          0.0676723574161778,
          0.06690318561170165
         ],
         "y": [
          0.05755758049736061,
          0.05678840869288444
         ],
         "z": [
          0.1984531384048175,
          0.1976839666003413
         ]
        },
        {
         "marker": {
          "color": "black",
          "size": 3
         },
         "mode": "markers",
         "showlegend": false,
         "type": "scatter3d",
         "x": [
          0.12853620038446303
         ],
         "y": [
          0.11614231490154335
         ],
         "z": [
          0.1863000970615553
         ]
        },
        {
         "line": {
          "color": "black",
          "width": 2
         },
         "mode": "lines",
         "showlegend": false,
         "type": "scatter3d",
         "x": [
          0.12853620038446303,
          0.12959816112820022
         ],
         "y": [
          0.11614231490154335,
          0.12523586928421385
         ],
         "z": [
          0.1863000970615553,
          0.23545474595734311
         ]
        },
        {
         "marker": {
          "color": "black",
          "size": 3
         },
         "mode": "text",
         "showlegend": false,
         "text": [
          "[1. 0. 0.]"
         ],
         "textfont": {
          "color": "black",
          "size": 14
         },
         "textposition": "middle center",
         "type": "scatter3d",
         "x": [
          0.13002294542569512
         ],
         "y": [
          0.12887329103728204
         ],
         "z": [
          0.25511660551565823
         ]
        },
        {
         "line": {
          "color": "black",
          "width": 2
         },
         "mode": "lines",
         "showlegend": false,
         "type": "scatter3d",
         "x": [
          0.1894000433527483,
          0.052497431481735676
         ],
         "y": [
          0.17472704930572602,
          0.2008828391937427
         ],
         "z": [
          0.1741470557182931,
          0.17226597426774082
         ]
        },
        {
         "line": {
          "color": "black",
          "width": 2
         },
         "mode": "lines",
         "showlegend": false,
         "type": "scatter3d",
         "x": [
          0.1894000433527483,
          0.21234751748400066
         ],
         "y": [
          0.17472704930572602,
          0.04138312842745294
         ],
         "z": [
          0.1741470557182931,
          0.19831976178173916
         ]
        },
        {
         "line": {
          "color": "black",
          "width": 2
         },
         "mode": "lines",
         "showlegend": false,
         "type": "scatter3d",
         "x": [
          0.052497431481735676,
          0.044724883284925396
         ],
         "y": [
          0.2008828391937427,
          0.19090150137563378
         ],
         "z": [
          0.17226597426774082,
          0.17428043234137142
         ]
        },
        {
         "line": {
          "color": "black",
          "width": 2
         },
         "mode": "lines",
         "showlegend": false,
         "type": "scatter3d",
         "x": [
          0.044724883284925396,
          0.0676723574161778
         ],
         "y": [
          0.19090150137563378,
          0.05755758049736061
         ],
         "z": [
          0.17428043234137142,
          0.1984531384048175
         ]
        },
        {
         "line": {
          "color": "black",
          "width": 2
         },
         "mode": "lines",
         "showlegend": false,
         "type": "scatter3d",
         "x": [
          0.21234751748400066,
          0.20457496928719038
         ],
         "y": [
          0.04138312842745294,
          0.03140179060934395
         ],
         "z": [
          0.19831976178173916,
          0.20033421985536976
         ]
        },
        {
         "line": {
          "color": "black",
          "width": 2
         },
         "mode": "lines",
         "showlegend": false,
         "type": "scatter3d",
         "x": [
          0.20457496928719038,
          0.0676723574161778
         ],
         "y": [
          0.03140179060934395,
          0.05755758049736061
         ],
         "z": [
          0.20033421985536976,
          0.1984531384048175
         ]
        }
       ],
       "layout": {
        "scene": {
         "xaxis": {
          "title": {
           "text": "V<sub>3</sub>"
          }
         },
         "yaxis": {
          "title": {
           "text": "V<sub>2</sub>"
          }
         },
         "zaxis": {
          "title": {
           "text": "V<sub>1</sub>"
          }
         }
        },
        "template": {
         "data": {
          "bar": [
           {
            "error_x": {
             "color": "#2a3f5f"
            },
            "error_y": {
             "color": "#2a3f5f"
            },
            "marker": {
             "line": {
              "color": "#E5ECF6",
              "width": 0.5
             },
             "pattern": {
              "fillmode": "overlay",
              "size": 10,
              "solidity": 0.2
             }
            },
            "type": "bar"
           }
          ],
          "barpolar": [
           {
            "marker": {
             "line": {
              "color": "#E5ECF6",
              "width": 0.5
             },
             "pattern": {
              "fillmode": "overlay",
              "size": 10,
              "solidity": 0.2
             }
            },
            "type": "barpolar"
           }
          ],
          "carpet": [
           {
            "aaxis": {
             "endlinecolor": "#2a3f5f",
             "gridcolor": "white",
             "linecolor": "white",
             "minorgridcolor": "white",
             "startlinecolor": "#2a3f5f"
            },
            "baxis": {
             "endlinecolor": "#2a3f5f",
             "gridcolor": "white",
             "linecolor": "white",
             "minorgridcolor": "white",
             "startlinecolor": "#2a3f5f"
            },
            "type": "carpet"
           }
          ],
          "choropleth": [
           {
            "colorbar": {
             "outlinewidth": 0,
             "ticks": ""
            },
            "type": "choropleth"
           }
          ],
          "contour": [
           {
            "colorbar": {
             "outlinewidth": 0,
             "ticks": ""
            },
            "colorscale": [
             [
              0,
              "#0d0887"
             ],
             [
              0.1111111111111111,
              "#46039f"
             ],
             [
              0.2222222222222222,
              "#7201a8"
             ],
             [
              0.3333333333333333,
              "#9c179e"
             ],
             [
              0.4444444444444444,
              "#bd3786"
             ],
             [
              0.5555555555555556,
              "#d8576b"
             ],
             [
              0.6666666666666666,
              "#ed7953"
             ],
             [
              0.7777777777777778,
              "#fb9f3a"
             ],
             [
              0.8888888888888888,
              "#fdca26"
             ],
             [
              1,
              "#f0f921"
             ]
            ],
            "type": "contour"
           }
          ],
          "contourcarpet": [
           {
            "colorbar": {
             "outlinewidth": 0,
             "ticks": ""
            },
            "type": "contourcarpet"
           }
          ],
          "heatmap": [
           {
            "colorbar": {
             "outlinewidth": 0,
             "ticks": ""
            },
            "colorscale": [
             [
              0,
              "#0d0887"
             ],
             [
              0.1111111111111111,
              "#46039f"
             ],
             [
              0.2222222222222222,
              "#7201a8"
             ],
             [
              0.3333333333333333,
              "#9c179e"
             ],
             [
              0.4444444444444444,
              "#bd3786"
             ],
             [
              0.5555555555555556,
              "#d8576b"
             ],
             [
              0.6666666666666666,
              "#ed7953"
             ],
             [
              0.7777777777777778,
              "#fb9f3a"
             ],
             [
              0.8888888888888888,
              "#fdca26"
             ],
             [
              1,
              "#f0f921"
             ]
            ],
            "type": "heatmap"
           }
          ],
          "heatmapgl": [
           {
            "colorbar": {
             "outlinewidth": 0,
             "ticks": ""
            },
            "colorscale": [
             [
              0,
              "#0d0887"
             ],
             [
              0.1111111111111111,
              "#46039f"
             ],
             [
              0.2222222222222222,
              "#7201a8"
             ],
             [
              0.3333333333333333,
              "#9c179e"
             ],
             [
              0.4444444444444444,
              "#bd3786"
             ],
             [
              0.5555555555555556,
              "#d8576b"
             ],
             [
              0.6666666666666666,
              "#ed7953"
             ],
             [
              0.7777777777777778,
              "#fb9f3a"
             ],
             [
              0.8888888888888888,
              "#fdca26"
             ],
             [
              1,
              "#f0f921"
             ]
            ],
            "type": "heatmapgl"
           }
          ],
          "histogram": [
           {
            "marker": {
             "pattern": {
              "fillmode": "overlay",
              "size": 10,
              "solidity": 0.2
             }
            },
            "type": "histogram"
           }
          ],
          "histogram2d": [
           {
            "colorbar": {
             "outlinewidth": 0,
             "ticks": ""
            },
            "colorscale": [
             [
              0,
              "#0d0887"
             ],
             [
              0.1111111111111111,
              "#46039f"
             ],
             [
              0.2222222222222222,
              "#7201a8"
             ],
             [
              0.3333333333333333,
              "#9c179e"
             ],
             [
              0.4444444444444444,
              "#bd3786"
             ],
             [
              0.5555555555555556,
              "#d8576b"
             ],
             [
              0.6666666666666666,
              "#ed7953"
             ],
             [
              0.7777777777777778,
              "#fb9f3a"
             ],
             [
              0.8888888888888888,
              "#fdca26"
             ],
             [
              1,
              "#f0f921"
             ]
            ],
            "type": "histogram2d"
           }
          ],
          "histogram2dcontour": [
           {
            "colorbar": {
             "outlinewidth": 0,
             "ticks": ""
            },
            "colorscale": [
             [
              0,
              "#0d0887"
             ],
             [
              0.1111111111111111,
              "#46039f"
             ],
             [
              0.2222222222222222,
              "#7201a8"
             ],
             [
              0.3333333333333333,
              "#9c179e"
             ],
             [
              0.4444444444444444,
              "#bd3786"
             ],
             [
              0.5555555555555556,
              "#d8576b"
             ],
             [
              0.6666666666666666,
              "#ed7953"
             ],
             [
              0.7777777777777778,
              "#fb9f3a"
             ],
             [
              0.8888888888888888,
              "#fdca26"
             ],
             [
              1,
              "#f0f921"
             ]
            ],
            "type": "histogram2dcontour"
           }
          ],
          "mesh3d": [
           {
            "colorbar": {
             "outlinewidth": 0,
             "ticks": ""
            },
            "type": "mesh3d"
           }
          ],
          "parcoords": [
           {
            "line": {
             "colorbar": {
              "outlinewidth": 0,
              "ticks": ""
             }
            },
            "type": "parcoords"
           }
          ],
          "pie": [
           {
            "automargin": true,
            "type": "pie"
           }
          ],
          "scatter": [
           {
            "marker": {
             "colorbar": {
              "outlinewidth": 0,
              "ticks": ""
             }
            },
            "type": "scatter"
           }
          ],
          "scatter3d": [
           {
            "line": {
             "colorbar": {
              "outlinewidth": 0,
              "ticks": ""
             }
            },
            "marker": {
             "colorbar": {
              "outlinewidth": 0,
              "ticks": ""
             }
            },
            "type": "scatter3d"
           }
          ],
          "scattercarpet": [
           {
            "marker": {
             "colorbar": {
              "outlinewidth": 0,
              "ticks": ""
             }
            },
            "type": "scattercarpet"
           }
          ],
          "scattergeo": [
           {
            "marker": {
             "colorbar": {
              "outlinewidth": 0,
              "ticks": ""
             }
            },
            "type": "scattergeo"
           }
          ],
          "scattergl": [
           {
            "marker": {
             "colorbar": {
              "outlinewidth": 0,
              "ticks": ""
             }
            },
            "type": "scattergl"
           }
          ],
          "scattermapbox": [
           {
            "marker": {
             "colorbar": {
              "outlinewidth": 0,
              "ticks": ""
             }
            },
            "type": "scattermapbox"
           }
          ],
          "scatterpolar": [
           {
            "marker": {
             "colorbar": {
              "outlinewidth": 0,
              "ticks": ""
             }
            },
            "type": "scatterpolar"
           }
          ],
          "scatterpolargl": [
           {
            "marker": {
             "colorbar": {
              "outlinewidth": 0,
              "ticks": ""
             }
            },
            "type": "scatterpolargl"
           }
          ],
          "scatterternary": [
           {
            "marker": {
             "colorbar": {
              "outlinewidth": 0,
              "ticks": ""
             }
            },
            "type": "scatterternary"
           }
          ],
          "surface": [
           {
            "colorbar": {
             "outlinewidth": 0,
             "ticks": ""
            },
            "colorscale": [
             [
              0,
              "#0d0887"
             ],
             [
              0.1111111111111111,
              "#46039f"
             ],
             [
              0.2222222222222222,
              "#7201a8"
             ],
             [
              0.3333333333333333,
              "#9c179e"
             ],
             [
              0.4444444444444444,
              "#bd3786"
             ],
             [
              0.5555555555555556,
              "#d8576b"
             ],
             [
              0.6666666666666666,
              "#ed7953"
             ],
             [
              0.7777777777777778,
              "#fb9f3a"
             ],
             [
              0.8888888888888888,
              "#fdca26"
             ],
             [
              1,
              "#f0f921"
             ]
            ],
            "type": "surface"
           }
          ],
          "table": [
           {
            "cells": {
             "fill": {
              "color": "#EBF0F8"
             },
             "line": {
              "color": "white"
             }
            },
            "header": {
             "fill": {
              "color": "#C8D4E3"
             },
             "line": {
              "color": "white"
             }
            },
            "type": "table"
           }
          ]
         },
         "layout": {
          "annotationdefaults": {
           "arrowcolor": "#2a3f5f",
           "arrowhead": 0,
           "arrowwidth": 1
          },
          "autotypenumbers": "strict",
          "coloraxis": {
           "colorbar": {
            "outlinewidth": 0,
            "ticks": ""
           }
          },
          "colorscale": {
           "diverging": [
            [
             0,
             "#8e0152"
            ],
            [
             0.1,
             "#c51b7d"
            ],
            [
             0.2,
             "#de77ae"
            ],
            [
             0.3,
             "#f1b6da"
            ],
            [
             0.4,
             "#fde0ef"
            ],
            [
             0.5,
             "#f7f7f7"
            ],
            [
             0.6,
             "#e6f5d0"
            ],
            [
             0.7,
             "#b8e186"
            ],
            [
             0.8,
             "#7fbc41"
            ],
            [
             0.9,
             "#4d9221"
            ],
            [
             1,
             "#276419"
            ]
           ],
           "sequential": [
            [
             0,
             "#0d0887"
            ],
            [
             0.1111111111111111,
             "#46039f"
            ],
            [
             0.2222222222222222,
             "#7201a8"
            ],
            [
             0.3333333333333333,
             "#9c179e"
            ],
            [
             0.4444444444444444,
             "#bd3786"
            ],
            [
             0.5555555555555556,
             "#d8576b"
            ],
            [
             0.6666666666666666,
             "#ed7953"
            ],
            [
             0.7777777777777778,
             "#fb9f3a"
            ],
            [
             0.8888888888888888,
             "#fdca26"
            ],
            [
             1,
             "#f0f921"
            ]
           ],
           "sequentialminus": [
            [
             0,
             "#0d0887"
            ],
            [
             0.1111111111111111,
             "#46039f"
            ],
            [
             0.2222222222222222,
             "#7201a8"
            ],
            [
             0.3333333333333333,
             "#9c179e"
            ],
            [
             0.4444444444444444,
             "#bd3786"
            ],
            [
             0.5555555555555556,
             "#d8576b"
            ],
            [
             0.6666666666666666,
             "#ed7953"
            ],
            [
             0.7777777777777778,
             "#fb9f3a"
            ],
            [
             0.8888888888888888,
             "#fdca26"
            ],
            [
             1,
             "#f0f921"
            ]
           ]
          },
          "colorway": [
           "#636efa",
           "#EF553B",
           "#00cc96",
           "#ab63fa",
           "#FFA15A",
           "#19d3f3",
           "#FF6692",
           "#B6E880",
           "#FF97FF",
           "#FECB52"
          ],
          "font": {
           "color": "#2a3f5f"
          },
          "geo": {
           "bgcolor": "white",
           "lakecolor": "white",
           "landcolor": "#E5ECF6",
           "showlakes": true,
           "showland": true,
           "subunitcolor": "white"
          },
          "hoverlabel": {
           "align": "left"
          },
          "hovermode": "closest",
          "mapbox": {
           "style": "light"
          },
          "paper_bgcolor": "white",
          "plot_bgcolor": "#E5ECF6",
          "polar": {
           "angularaxis": {
            "gridcolor": "white",
            "linecolor": "white",
            "ticks": ""
           },
           "bgcolor": "#E5ECF6",
           "radialaxis": {
            "gridcolor": "white",
            "linecolor": "white",
            "ticks": ""
           }
          },
          "scene": {
           "xaxis": {
            "backgroundcolor": "#E5ECF6",
            "gridcolor": "white",
            "gridwidth": 2,
            "linecolor": "white",
            "showbackground": true,
            "ticks": "",
            "zerolinecolor": "white"
           },
           "yaxis": {
            "backgroundcolor": "#E5ECF6",
            "gridcolor": "white",
            "gridwidth": 2,
            "linecolor": "white",
            "showbackground": true,
            "ticks": "",
            "zerolinecolor": "white"
           },
           "zaxis": {
            "backgroundcolor": "#E5ECF6",
            "gridcolor": "white",
            "gridwidth": 2,
            "linecolor": "white",
            "showbackground": true,
            "ticks": "",
            "zerolinecolor": "white"
           }
          },
          "shapedefaults": {
           "line": {
            "color": "#2a3f5f"
           }
          },
          "ternary": {
           "aaxis": {
            "gridcolor": "white",
            "linecolor": "white",
            "ticks": ""
           },
           "baxis": {
            "gridcolor": "white",
            "linecolor": "white",
            "ticks": ""
           },
           "bgcolor": "#E5ECF6",
           "caxis": {
            "gridcolor": "white",
            "linecolor": "white",
            "ticks": ""
           }
          },
          "title": {
           "x": 0.05
          },
          "xaxis": {
           "automargin": true,
           "gridcolor": "white",
           "linecolor": "white",
           "ticks": "",
           "title": {
            "standoff": 15
           },
           "zerolinecolor": "white",
           "zerolinewidth": 2
          },
          "yaxis": {
           "automargin": true,
           "gridcolor": "white",
           "linecolor": "white",
           "ticks": "",
           "title": {
            "standoff": 15
           },
           "zerolinecolor": "white",
           "zerolinewidth": 2
          }
         }
        }
       }
      },
      "text/html": [
       "<div>                            <div id=\"4614cb00-006c-4381-bcfc-27ce921f7411\" class=\"plotly-graph-div\" style=\"height:525px; width:100%;\"></div>            <script type=\"text/javascript\">                require([\"plotly\"], function(Plotly) {                    window.PLOTLYENV=window.PLOTLYENV || {};                                    if (document.getElementById(\"4614cb00-006c-4381-bcfc-27ce921f7411\")) {                    Plotly.newPlot(                        \"4614cb00-006c-4381-bcfc-27ce921f7411\",                        [{\"alphahull\":0,\"color\":\"yellow\",\"opacity\":1.0,\"type\":\"mesh3d\",\"x\":[0.1894000433527483,0.1882599300665627,0.052497431481735676,0.05135731819555009,0.0679095943230611,0.1896372802596316,0.19040645206410772,0.04496212019180869,0.05273466838861898,0.04281559819426364,0.05058814639107395,0.044724883284925396,0.04395571148044923,0.21234751748400066,0.21335392619536014,0.21449403948154575,0.20481220619407373,0.21258475439088403,0.20457496928719038,0.0676723574161778,0.20595231948025935,0.20672149128473544,0.06904970760924668,0.06690318561170165],\"y\":[0.17472704930572602,0.2017167907144123,0.2008828391937427,0.227872580602429,0.07306454247259803,0.19023401128096346,0.19100318308543957,0.2064084633508711,0.2163898011689801,0.21712207097984387,0.22710340879795285,0.19090150137563378,0.1901323295711576,0.04138312842745294,0.05765926220716641,0.030669520798480163,0.04690875258458134,0.05689009040269033,0.03140179060934395,0.05755758049736061,0.019919011175895063,0.020688182980371186,0.04607480106391176,0.05678840869288444],\"z\":[0.1741470557182931,0.04836534613402606,0.17226597426774082,0.046484264683473775,0.06339986816421701,0.03909378547769264,0.03986295728216878,0.03922716210077096,0.03721270402714036,0.047729550952628264,0.04571509287899765,0.17428043234137142,0.17351126053689525,0.19831976178173916,0.0640356633456148,0.18981737292988182,0.0652809496147693,0.0632664915411387,0.20033421985536976,0.1984531384048175,0.19106265919903637,0.19183183100351242,0.18918157774848404,0.1976839666003413]},{\"marker\":{\"color\":\"black\",\"size\":3},\"mode\":\"markers\",\"showlegend\":false,\"type\":\"scatter3d\",\"x\":[0.20953450438436805],\"y\":[0.03103565570391206],\"z\":[0.1950757963926258]},{\"line\":{\"color\":\"black\",\"width\":2},\"mode\":\"lines\",\"showlegend\":false,\"type\":\"scatter3d\",\"x\":[0.20953450438436805,0.24247472408098547],\"y\":[0.03103565570391206,0.011923613851748484],\"z\":[0.1950757963926258,0.22747443498408093]},{\"marker\":{\"color\":\"black\",\"size\":3},\"mode\":\"text\",\"showlegend\":false,\"text\":[\"[ 1. -1.  1.]\"],\"textfont\":{\"color\":\"black\",\"size\":14},\"textposition\":\"middle center\",\"type\":\"scatter3d\",\"x\":[0.2556508119596324],\"y\":[0.00427879711088305],\"z\":[0.240433890420663]},{\"line\":{\"color\":\"black\",\"width\":2},\"mode\":\"lines\",\"showlegend\":false,\"type\":\"scatter3d\",\"x\":[0.21234751748400066,0.21449403948154575],\"y\":[0.04138312842745294,0.030669520798480163],\"z\":[0.19831976178173916,0.18981737292988182]},{\"line\":{\"color\":\"black\",\"width\":2},\"mode\":\"lines\",\"showlegend\":false,\"type\":\"scatter3d\",\"x\":[0.21234751748400066,0.20457496928719038],\"y\":[0.04138312842745294,0.03140179060934395],\"z\":[0.19831976178173916,0.20033421985536976]},{\"line\":{\"color\":\"black\",\"width\":2},\"mode\":\"lines\",\"showlegend\":false,\"type\":\"scatter3d\",\"x\":[0.21449403948154575,0.20672149128473544],\"y\":[0.030669520798480163,0.020688182980371186],\"z\":[0.18981737292988182,0.19183183100351242]},{\"line\":{\"color\":\"black\",\"width\":2},\"mode\":\"lines\",\"showlegend\":false,\"type\":\"scatter3d\",\"x\":[0.20457496928719038,0.20672149128473544],\"y\":[0.03140179060934395,0.020688182980371186],\"z\":[0.20033421985536976,0.19183183100351242]},{\"marker\":{\"color\":\"black\",\"size\":3},\"mode\":\"markers\",\"showlegend\":false,\"type\":\"scatter3d\",\"x\":[0.04777513329144131],\"y\":[0.216755936074412],\"z\":[0.04247112748988431]},{\"line\":{\"color\":\"black\",\"width\":2},\"mode\":\"lines\",\"showlegend\":false,\"type\":\"scatter3d\",\"x\":[0.04777513329144131,0.014834913594823897],\"y\":[0.216755936074412,0.23586797792657557],\"z\":[0.04247112748988431,0.010072488898429169]},{\"marker\":{\"color\":\"black\",\"size\":3},\"mode\":\"text\",\"showlegend\":false,\"text\":[\"[-1.  1. -1.]\"],\"textfont\":{\"color\":\"black\",\"size\":14},\"textposition\":\"middle center\",\"type\":\"scatter3d\",\"x\":[0.001658825716176933],\"y\":[0.243512794667441],\"z\":[-0.002886966538152895]},{\"line\":{\"color\":\"black\",\"width\":2},\"mode\":\"lines\",\"showlegend\":false,\"type\":\"scatter3d\",\"x\":[0.04496212019180869,0.05273466838861898],\"y\":[0.2064084633508711,0.2163898011689801],\"z\":[0.03922716210077096,0.03721270402714036]},{\"line\":{\"color\":\"black\",\"width\":2},\"mode\":\"lines\",\"showlegend\":false,\"type\":\"scatter3d\",\"x\":[0.04496212019180869,0.04281559819426364],\"y\":[0.2064084633508711,0.21712207097984387],\"z\":[0.03922716210077096,0.047729550952628264]},{\"line\":{\"color\":\"black\",\"width\":2},\"mode\":\"lines\",\"showlegend\":false,\"type\":\"scatter3d\",\"x\":[0.05273466838861898,0.05058814639107395],\"y\":[0.2163898011689801,0.22710340879795285],\"z\":[0.03721270402714036,0.04571509287899765]},{\"line\":{\"color\":\"black\",\"width\":2},\"mode\":\"lines\",\"showlegend\":false,\"type\":\"scatter3d\",\"x\":[0.04281559819426364,0.05058814639107395],\"y\":[0.21712207097984387,0.22710340879795285],\"z\":[0.047729550952628264,0.04571509287899765]},{\"marker\":{\"color\":\"black\",\"size\":3},\"mode\":\"markers\",\"showlegend\":false,\"type\":\"scatter3d\",\"x\":[0.12877343729134635],\"y\":[0.1316492768767807],\"z\":[0.05124682682095483]},{\"line\":{\"color\":\"black\",\"width\":2},\"mode\":\"lines\",\"showlegend\":false,\"type\":\"scatter3d\",\"x\":[0.12877343729134635,0.12771147654760917],\"y\":[0.1316492768767807,0.12255572249411023],\"z\":[0.05124682682095483,0.002092177925166999]},{\"marker\":{\"color\":\"black\",\"size\":3},\"mode\":\"text\",\"showlegend\":false,\"text\":[\"[-1.  0.  0.]\"],\"textfont\":{\"color\":\"black\",\"size\":14},\"textposition\":\"middle center\",\"type\":\"scatter3d\",\"x\":[0.12728669225011427],\"y\":[0.11891830074104204],\"z\":[-0.017569681633148135]},{\"line\":{\"color\":\"black\",\"width\":2},\"mode\":\"lines\",\"showlegend\":false,\"type\":\"scatter3d\",\"x\":[0.0679095943230611,0.04496212019180869],\"y\":[0.07306454247259803,0.2064084633508711],\"z\":[0.06339986816421701,0.03922716210077096]},{\"line\":{\"color\":\"black\",\"width\":2},\"mode\":\"lines\",\"showlegend\":false,\"type\":\"scatter3d\",\"x\":[0.0679095943230611,0.20481220619407373],\"y\":[0.07306454247259803,0.04690875258458134],\"z\":[0.06339986816421701,0.0652809496147693]},{\"line\":{\"color\":\"black\",\"width\":2},\"mode\":\"lines\",\"showlegend\":false,\"type\":\"scatter3d\",\"x\":[0.1896372802596316,0.05273466838861898],\"y\":[0.19023401128096346,0.2163898011689801],\"z\":[0.03909378547769264,0.03721270402714036]},{\"line\":{\"color\":\"black\",\"width\":2},\"mode\":\"lines\",\"showlegend\":false,\"type\":\"scatter3d\",\"x\":[0.1896372802596316,0.21258475439088403],\"y\":[0.19023401128096346,0.05689009040269033],\"z\":[0.03909378547769264,0.0632664915411387]},{\"line\":{\"color\":\"black\",\"width\":2},\"mode\":\"lines\",\"showlegend\":false,\"type\":\"scatter3d\",\"x\":[0.04496212019180869,0.05273466838861898],\"y\":[0.2064084633508711,0.2163898011689801],\"z\":[0.03922716210077096,0.03721270402714036]},{\"line\":{\"color\":\"black\",\"width\":2},\"mode\":\"lines\",\"showlegend\":false,\"type\":\"scatter3d\",\"x\":[0.20481220619407373,0.21258475439088403],\"y\":[0.04690875258458134,0.05689009040269033],\"z\":[0.0652809496147693,0.0632664915411387]},{\"marker\":{\"color\":\"black\",\"size\":3},\"mode\":\"markers\",\"showlegend\":false,\"type\":\"scatter3d\",\"x\":[0.20149560322749588],\"y\":[0.12394663674406495],\"z\":[0.051564724411653724]},{\"line\":{\"color\":\"black\",\"width\":2},\"mode\":\"lines\",\"showlegend\":false,\"type\":\"scatter3d\",\"x\":[0.20149560322749588,0.23698817207867476],\"y\":[0.12394663674406495,0.12367056030974583],\"z\":[0.051564724411653724,0.016348231994793967]},{\"marker\":{\"color\":\"black\",\"size\":3},\"mode\":\"text\",\"showlegend\":false,\"text\":[\"[-1.  0.  1.]\"],\"textfont\":{\"color\":\"black\",\"size\":14},\"textposition\":\"middle center\",\"type\":\"scatter3d\",\"x\":[0.2511851996191463],\"y\":[0.12356012973601817],\"z\":[0.0022616350280500602]},{\"line\":{\"color\":\"black\",\"width\":2},\"mode\":\"lines\",\"showlegend\":false,\"type\":\"scatter3d\",\"x\":[0.1896372802596316,0.19040645206410772],\"y\":[0.19023401128096346,0.19100318308543957],\"z\":[0.03909378547769264,0.03986295728216878]},{\"line\":{\"color\":\"black\",\"width\":2},\"mode\":\"lines\",\"showlegend\":false,\"type\":\"scatter3d\",\"x\":[0.1896372802596316,0.21258475439088403],\"y\":[0.19023401128096346,0.05689009040269033],\"z\":[0.03909378547769264,0.0632664915411387]},{\"line\":{\"color\":\"black\",\"width\":2},\"mode\":\"lines\",\"showlegend\":false,\"type\":\"scatter3d\",\"x\":[0.19040645206410772,0.21335392619536014],\"y\":[0.19100318308543957,0.05765926220716641],\"z\":[0.03986295728216878,0.0640356633456148]},{\"line\":{\"color\":\"black\",\"width\":2},\"mode\":\"lines\",\"showlegend\":false,\"type\":\"scatter3d\",\"x\":[0.21335392619536014,0.21258475439088403],\"y\":[0.05765926220716641,0.05689009040269033],\"z\":[0.0640356633456148,0.0632664915411387]},{\"marker\":{\"color\":\"black\",\"size\":3},\"mode\":\"markers\",\"showlegend\":false,\"type\":\"scatter3d\",\"x\":[0.12049729922759085],\"y\":[0.2090532959416962],\"z\":[0.04278902508058321]},{\"line\":{\"color\":\"black\",\"width\":2},\"mode\":\"lines\",\"showlegend\":false,\"type\":\"scatter3d\",\"x\":[0.12049729922759085,0.12706167892086792],\"y\":[0.2090532959416962,0.24066640218825436],\"z\":[0.04278902508058321,0.004611539140747974]},{\"marker\":{\"color\":\"black\",\"size\":3},\"mode\":\"text\",\"showlegend\":false,\"text\":[\"[-1.  1.  0.]\"],\"textfont\":{\"color\":\"black\",\"size\":14},\"textposition\":\"middle center\",\"type\":\"scatter3d\",\"x\":[0.12968743079817877],\"y\":[0.2533116446868776],\"z\":[-0.010659455235186119]},{\"line\":{\"color\":\"black\",\"width\":2},\"mode\":\"lines\",\"showlegend\":false,\"type\":\"scatter3d\",\"x\":[0.1882599300665627,0.05135731819555009],\"y\":[0.2017167907144123,0.227872580602429],\"z\":[0.04836534613402606,0.046484264683473775]},{\"line\":{\"color\":\"black\",\"width\":2},\"mode\":\"lines\",\"showlegend\":false,\"type\":\"scatter3d\",\"x\":[0.1882599300665627,0.19040645206410772],\"y\":[0.2017167907144123,0.19100318308543957],\"z\":[0.04836534613402606,0.03986295728216878]},{\"line\":{\"color\":\"black\",\"width\":2},\"mode\":\"lines\",\"showlegend\":false,\"type\":\"scatter3d\",\"x\":[0.05135731819555009,0.05058814639107395],\"y\":[0.227872580602429,0.22710340879795285],\"z\":[0.046484264683473775,0.04571509287899765]},{\"line\":{\"color\":\"black\",\"width\":2},\"mode\":\"lines\",\"showlegend\":false,\"type\":\"scatter3d\",\"x\":[0.1896372802596316,0.19040645206410772],\"y\":[0.19023401128096346,0.19100318308543957],\"z\":[0.03909378547769264,0.03986295728216878]},{\"line\":{\"color\":\"black\",\"width\":2},\"mode\":\"lines\",\"showlegend\":false,\"type\":\"scatter3d\",\"x\":[0.1896372802596316,0.05273466838861898],\"y\":[0.19023401128096346,0.2163898011689801],\"z\":[0.03909378547769264,0.03721270402714036]},{\"line\":{\"color\":\"black\",\"width\":2},\"mode\":\"lines\",\"showlegend\":false,\"type\":\"scatter3d\",\"x\":[0.05273466838861898,0.05058814639107395],\"y\":[0.2163898011689801,0.22710340879795285],\"z\":[0.03721270402714036,0.04571509287899765]},{\"marker\":{\"color\":\"black\",\"size\":3},\"mode\":\"markers\",\"showlegend\":false,\"type\":\"scatter3d\",\"x\":[0.1369309569016602],\"y\":[0.046491776824246545],\"z\":[0.12723126368162668]},{\"line\":{\"color\":\"black\",\"width\":2},\"mode\":\"lines\",\"showlegend\":false,\"type\":\"scatter3d\",\"x\":[0.1369309569016602,0.12788255148077113],\"y\":[0.046491776824246545,-0.00160501589792085],\"z\":[0.12723126368162668,0.11699286101421363]},{\"marker\":{\"color\":\"black\",\"size\":3},\"mode\":\"text\",\"showlegend\":false,\"text\":[\"[ 0. -1.  0.]\"],\"textfont\":{\"color\":\"black\",\"size\":14},\"textposition\":\"middle center\",\"type\":\"scatter3d\",\"x\":[0.1242631893124155],\"y\":[-0.020843732986787808],\"z\":[0.11289749994724842]},{\"line\":{\"color\":\"black\",\"width\":2},\"mode\":\"lines\",\"showlegend\":false,\"type\":\"scatter3d\",\"x\":[0.0679095943230611,0.20481220619407373],\"y\":[0.07306454247259803,0.04690875258458134],\"z\":[0.06339986816421701,0.0652809496147693]},{\"line\":{\"color\":\"black\",\"width\":2},\"mode\":\"lines\",\"showlegend\":false,\"type\":\"scatter3d\",\"x\":[0.0679095943230611,0.06904970760924668],\"y\":[0.07306454247259803,0.04607480106391176],\"z\":[0.06339986816421701,0.18918157774848404]},{\"line\":{\"color\":\"black\",\"width\":2},\"mode\":\"lines\",\"showlegend\":false,\"type\":\"scatter3d\",\"x\":[0.20481220619407373,0.20595231948025935],\"y\":[0.04690875258458134,0.019919011175895063],\"z\":[0.0652809496147693,0.19106265919903637]},{\"line\":{\"color\":\"black\",\"width\":2},\"mode\":\"lines\",\"showlegend\":false,\"type\":\"scatter3d\",\"x\":[0.20595231948025935,0.06904970760924668],\"y\":[0.019919011175895063,0.04607480106391176],\"z\":[0.19106265919903637,0.18918157774848404]},{\"marker\":{\"color\":\"black\",\"size\":3},\"mode\":\"markers\",\"showlegend\":false,\"type\":\"scatter3d\",\"x\":[0.2096531228378097],\"y\":[0.03878913669153075],\"z\":[0.12754916127232557]},{\"line\":{\"color\":\"black\",\"width\":2},\"mode\":\"lines\",\"showlegend\":false,\"type\":\"scatter3d\",\"x\":[0.2096531228378097,0.24800647901319764],\"y\":[0.03878913669153075,0.00749779589442244],\"z\":[0.12754916127232557,0.12048714589404594]},{\"marker\":{\"color\":\"black\",\"size\":3},\"mode\":\"text\",\"showlegend\":false,\"text\":[\"[ 0. -1.  1.]\"],\"textfont\":{\"color\":\"black\",\"size\":14},\"textposition\":\"middle center\",\"type\":\"scatter3d\",\"x\":[0.2633478214833528],\"y\":[-0.005018740424420881],\"z\":[0.11766233974273409]},{\"line\":{\"color\":\"black\",\"width\":2},\"mode\":\"lines\",\"showlegend\":false,\"type\":\"scatter3d\",\"x\":[0.21335392619536014,0.21449403948154575],\"y\":[0.05765926220716641,0.030669520798480163],\"z\":[0.0640356633456148,0.18981737292988182]},{\"line\":{\"color\":\"black\",\"width\":2},\"mode\":\"lines\",\"showlegend\":false,\"type\":\"scatter3d\",\"x\":[0.21335392619536014,0.21258475439088403],\"y\":[0.05765926220716641,0.05689009040269033],\"z\":[0.0640356633456148,0.0632664915411387]},{\"line\":{\"color\":\"black\",\"width\":2},\"mode\":\"lines\",\"showlegend\":false,\"type\":\"scatter3d\",\"x\":[0.21449403948154575,0.20672149128473544],\"y\":[0.030669520798480163,0.020688182980371186],\"z\":[0.18981737292988182,0.19183183100351242]},{\"line\":{\"color\":\"black\",\"width\":2},\"mode\":\"lines\",\"showlegend\":false,\"type\":\"scatter3d\",\"x\":[0.20481220619407373,0.21258475439088403],\"y\":[0.04690875258458134,0.05689009040269033],\"z\":[0.0652809496147693,0.0632664915411387]},{\"line\":{\"color\":\"black\",\"width\":2},\"mode\":\"lines\",\"showlegend\":false,\"type\":\"scatter3d\",\"x\":[0.20481220619407373,0.20595231948025935],\"y\":[0.04690875258458134,0.019919011175895063],\"z\":[0.0652809496147693,0.19106265919903637]},{\"line\":{\"color\":\"black\",\"width\":2},\"mode\":\"lines\",\"showlegend\":false,\"type\":\"scatter3d\",\"x\":[0.20595231948025935,0.20672149128473544],\"y\":[0.019919011175895063,0.020688182980371186],\"z\":[0.19106265919903637,0.19183183100351242]},{\"marker\":{\"color\":\"black\",\"size\":3},\"mode\":\"markers\",\"showlegend\":false,\"type\":\"scatter3d\",\"x\":[0.05593265290175517],\"y\":[0.13159843602187782],\"z\":[0.11845556435055614]},{\"line\":{\"color\":\"black\",\"width\":2},\"mode\":\"lines\",\"showlegend\":false,\"type\":\"scatter3d\",\"x\":[0.05593265290175517,0.006720928808803026],\"y\":[0.13159843602187782,0.12287084549964021],\"z\":[0.11845556435055614,0.11702889849083192]},{\"marker\":{\"color\":\"black\",\"size\":3},\"mode\":\"text\",\"showlegend\":false,\"text\":[\"[ 0.  0. -1.]\"],\"textfont\":{\"color\":\"black\",\"size\":14},\"textposition\":\"middle center\",\"type\":\"scatter3d\",\"x\":[-0.01296376082837783],\"y\":[0.11937980929074517],\"z\":[0.11645823214694224]},{\"line\":{\"color\":\"black\",\"width\":2},\"mode\":\"lines\",\"showlegend\":false,\"type\":\"scatter3d\",\"x\":[0.0679095943230611,0.04496212019180869],\"y\":[0.07306454247259803,0.2064084633508711],\"z\":[0.06339986816421701,0.03922716210077096]},{\"line\":{\"color\":\"black\",\"width\":2},\"mode\":\"lines\",\"showlegend\":false,\"type\":\"scatter3d\",\"x\":[0.0679095943230611,0.06904970760924668],\"y\":[0.07306454247259803,0.04607480106391176],\"z\":[0.06339986816421701,0.18918157774848404]},{\"line\":{\"color\":\"black\",\"width\":2},\"mode\":\"lines\",\"showlegend\":false,\"type\":\"scatter3d\",\"x\":[0.04496212019180869,0.04281559819426364],\"y\":[0.2064084633508711,0.21712207097984387],\"z\":[0.03922716210077096,0.047729550952628264]},{\"line\":{\"color\":\"black\",\"width\":2},\"mode\":\"lines\",\"showlegend\":false,\"type\":\"scatter3d\",\"x\":[0.04281559819426364,0.04395571148044923],\"y\":[0.21712207097984387,0.1901323295711576],\"z\":[0.047729550952628264,0.17351126053689525]},{\"line\":{\"color\":\"black\",\"width\":2},\"mode\":\"lines\",\"showlegend\":false,\"type\":\"scatter3d\",\"x\":[0.04395571148044923,0.06690318561170165],\"y\":[0.1901323295711576,0.05678840869288444],\"z\":[0.17351126053689525,0.1976839666003413]},{\"line\":{\"color\":\"black\",\"width\":2},\"mode\":\"lines\",\"showlegend\":false,\"type\":\"scatter3d\",\"x\":[0.06904970760924668,0.06690318561170165],\"y\":[0.04607480106391176,0.05678840869288444],\"z\":[0.18918157774848404,0.1976839666003413]},{\"marker\":{\"color\":\"black\",\"size\":3},\"mode\":\"markers\",\"showlegend\":false,\"type\":\"scatter3d\",\"x\":[0.2013769847740542],\"y\":[0.11619315575644625],\"z\":[0.11909135953195393]},{\"line\":{\"color\":\"black\",\"width\":2},\"mode\":\"lines\",\"showlegend\":false,\"type\":\"scatter3d\",\"x\":[0.2013769847740542,0.25058870886700635],\"y\":[0.11619315575644625,0.12492074627868385],\"z\":[0.11909135953195393,0.12051802539167815]},{\"marker\":{\"color\":\"black\",\"size\":3},\"mode\":\"text\",\"showlegend\":false,\"text\":[\"[0. 0. 1.]\"],\"textfont\":{\"color\":\"black\",\"size\":14},\"textposition\":\"middle center\",\"type\":\"scatter3d\",\"x\":[0.2702733985041872],\"y\":[0.1284117824875789],\"z\":[0.12108869173556783]},{\"line\":{\"color\":\"black\",\"width\":2},\"mode\":\"lines\",\"showlegend\":false,\"type\":\"scatter3d\",\"x\":[0.1894000433527483,0.1882599300665627],\"y\":[0.17472704930572602,0.2017167907144123],\"z\":[0.1741470557182931,0.04836534613402606]},{\"line\":{\"color\":\"black\",\"width\":2},\"mode\":\"lines\",\"showlegend\":false,\"type\":\"scatter3d\",\"x\":[0.1894000433527483,0.21234751748400066],\"y\":[0.17472704930572602,0.04138312842745294],\"z\":[0.1741470557182931,0.19831976178173916]},{\"line\":{\"color\":\"black\",\"width\":2},\"mode\":\"lines\",\"showlegend\":false,\"type\":\"scatter3d\",\"x\":[0.1882599300665627,0.19040645206410772],\"y\":[0.2017167907144123,0.19100318308543957],\"z\":[0.04836534613402606,0.03986295728216878]},{\"line\":{\"color\":\"black\",\"width\":2},\"mode\":\"lines\",\"showlegend\":false,\"type\":\"scatter3d\",\"x\":[0.19040645206410772,0.21335392619536014],\"y\":[0.19100318308543957,0.05765926220716641],\"z\":[0.03986295728216878,0.0640356633456148]},{\"line\":{\"color\":\"black\",\"width\":2},\"mode\":\"lines\",\"showlegend\":false,\"type\":\"scatter3d\",\"x\":[0.21234751748400066,0.21449403948154575],\"y\":[0.04138312842745294,0.030669520798480163],\"z\":[0.19831976178173916,0.18981737292988182]},{\"line\":{\"color\":\"black\",\"width\":2},\"mode\":\"lines\",\"showlegend\":false,\"type\":\"scatter3d\",\"x\":[0.21335392619536014,0.21449403948154575],\"y\":[0.05765926220716641,0.030669520798480163],\"z\":[0.0640356633456148,0.18981737292988182]},{\"marker\":{\"color\":\"black\",\"size\":3},\"mode\":\"markers\",\"showlegend\":false,\"type\":\"scatter3d\",\"x\":[0.047656514837999674],\"y\":[0.20900245508679335],\"z\":[0.10999776261018453]},{\"line\":{\"color\":\"black\",\"width\":2},\"mode\":\"lines\",\"showlegend\":false,\"type\":\"scatter3d\",\"x\":[0.047656514837999674,0.009303158662611742],\"y\":[0.20900245508679335,0.24029379588390165],\"z\":[0.10999776261018453,0.11705977798846416]},{\"marker\":{\"color\":\"black\",\"size\":3},\"mode\":\"text\",\"showlegend\":false,\"text\":[\"[ 0.  1. -1.]\"],\"textfont\":{\"color\":\"black\",\"size\":14},\"textposition\":\"middle center\",\"type\":\"scatter3d\",\"x\":[-0.0060381838075434305],\"y\":[0.25281033220274496],\"z\":[0.11988458413977601]},{\"line\":{\"color\":\"black\",\"width\":2},\"mode\":\"lines\",\"showlegend\":false,\"type\":\"scatter3d\",\"x\":[0.052497431481735676,0.05135731819555009],\"y\":[0.2008828391937427,0.227872580602429],\"z\":[0.17226597426774082,0.046484264683473775]},{\"line\":{\"color\":\"black\",\"width\":2},\"mode\":\"lines\",\"showlegend\":false,\"type\":\"scatter3d\",\"x\":[0.052497431481735676,0.044724883284925396],\"y\":[0.2008828391937427,0.19090150137563378],\"z\":[0.17226597426774082,0.17428043234137142]},{\"line\":{\"color\":\"black\",\"width\":2},\"mode\":\"lines\",\"showlegend\":false,\"type\":\"scatter3d\",\"x\":[0.05135731819555009,0.05058814639107395],\"y\":[0.227872580602429,0.22710340879795285],\"z\":[0.046484264683473775,0.04571509287899765]},{\"line\":{\"color\":\"black\",\"width\":2},\"mode\":\"lines\",\"showlegend\":false,\"type\":\"scatter3d\",\"x\":[0.04281559819426364,0.05058814639107395],\"y\":[0.21712207097984387,0.22710340879795285],\"z\":[0.047729550952628264,0.04571509287899765]},{\"line\":{\"color\":\"black\",\"width\":2},\"mode\":\"lines\",\"showlegend\":false,\"type\":\"scatter3d\",\"x\":[0.04281559819426364,0.04395571148044923],\"y\":[0.21712207097984387,0.1901323295711576],\"z\":[0.047729550952628264,0.17351126053689525]},{\"line\":{\"color\":\"black\",\"width\":2},\"mode\":\"lines\",\"showlegend\":false,\"type\":\"scatter3d\",\"x\":[0.044724883284925396,0.04395571148044923],\"y\":[0.19090150137563378,0.1901323295711576],\"z\":[0.17428043234137142,0.17351126053689525]},{\"marker\":{\"color\":\"black\",\"size\":3},\"mode\":\"markers\",\"showlegend\":false,\"type\":\"scatter3d\",\"x\":[0.1203786807741492],\"y\":[0.2012998149540775],\"z\":[0.11031566020088343]},{\"line\":{\"color\":\"black\",\"width\":2},\"mode\":\"lines\",\"showlegend\":false,\"type\":\"scatter3d\",\"x\":[0.1203786807741492,0.1294270861950383],\"y\":[0.2012998149540775,0.24939660767624489],\"z\":[0.11031566020088343,0.12055406286829648]},{\"marker\":{\"color\":\"black\",\"size\":3},\"mode\":\"text\",\"showlegend\":false,\"text\":[\"[0. 1. 0.]\"],\"textfont\":{\"color\":\"black\",\"size\":14},\"textposition\":\"middle center\",\"type\":\"scatter3d\",\"x\":[0.1330464483633939],\"y\":[0.26863532476511187],\"z\":[0.1246494239352617]},{\"line\":{\"color\":\"black\",\"width\":2},\"mode\":\"lines\",\"showlegend\":false,\"type\":\"scatter3d\",\"x\":[0.1894000433527483,0.1882599300665627],\"y\":[0.17472704930572602,0.2017167907144123],\"z\":[0.1741470557182931,0.04836534613402606]},{\"line\":{\"color\":\"black\",\"width\":2},\"mode\":\"lines\",\"showlegend\":false,\"type\":\"scatter3d\",\"x\":[0.1894000433527483,0.052497431481735676],\"y\":[0.17472704930572602,0.2008828391937427],\"z\":[0.1741470557182931,0.17226597426774082]},{\"line\":{\"color\":\"black\",\"width\":2},\"mode\":\"lines\",\"showlegend\":false,\"type\":\"scatter3d\",\"x\":[0.1882599300665627,0.05135731819555009],\"y\":[0.2017167907144123,0.227872580602429],\"z\":[0.04836534613402606,0.046484264683473775]},{\"line\":{\"color\":\"black\",\"width\":2},\"mode\":\"lines\",\"showlegend\":false,\"type\":\"scatter3d\",\"x\":[0.052497431481735676,0.05135731819555009],\"y\":[0.2008828391937427,0.227872580602429],\"z\":[0.17226597426774082,0.046484264683473775]},{\"marker\":{\"color\":\"black\",\"size\":3},\"mode\":\"markers\",\"showlegend\":false,\"type\":\"scatter3d\",\"x\":[0.13681233844821855],\"y\":[0.038738295836627835],\"z\":[0.19475789880192693]},{\"line\":{\"color\":\"black\",\"width\":2},\"mode\":\"lines\",\"showlegend\":false,\"type\":\"scatter3d\",\"x\":[0.13681233844821855,0.13024795875494147],\"y\":[0.038738295836627835,0.007125189590069671],\"z\":[0.19475789880192693,0.23293538474176217]},{\"marker\":{\"color\":\"black\",\"size\":3},\"mode\":\"text\",\"showlegend\":false,\"text\":[\"[ 1. -1.  0.]\"],\"textfont\":{\"color\":\"black\",\"size\":14},\"textposition\":\"middle center\",\"type\":\"scatter3d\",\"x\":[0.12762220687763065],\"y\":[-0.005520052908553598],\"z\":[0.24820637911769625]},{\"line\":{\"color\":\"black\",\"width\":2},\"mode\":\"lines\",\"showlegend\":false,\"type\":\"scatter3d\",\"x\":[0.20457496928719038,0.0676723574161778],\"y\":[0.03140179060934395,0.05755758049736061],\"z\":[0.20033421985536976,0.1984531384048175]},{\"line\":{\"color\":\"black\",\"width\":2},\"mode\":\"lines\",\"showlegend\":false,\"type\":\"scatter3d\",\"x\":[0.20457496928719038,0.20672149128473544],\"y\":[0.03140179060934395,0.020688182980371186],\"z\":[0.20033421985536976,0.19183183100351242]},{\"line\":{\"color\":\"black\",\"width\":2},\"mode\":\"lines\",\"showlegend\":false,\"type\":\"scatter3d\",\"x\":[0.0676723574161778,0.06690318561170165],\"y\":[0.05755758049736061,0.05678840869288444],\"z\":[0.1984531384048175,0.1976839666003413]},{\"line\":{\"color\":\"black\",\"width\":2},\"mode\":\"lines\",\"showlegend\":false,\"type\":\"scatter3d\",\"x\":[0.20595231948025935,0.20672149128473544],\"y\":[0.019919011175895063,0.020688182980371186],\"z\":[0.19106265919903637,0.19183183100351242]},{\"line\":{\"color\":\"black\",\"width\":2},\"mode\":\"lines\",\"showlegend\":false,\"type\":\"scatter3d\",\"x\":[0.20595231948025935,0.06904970760924668],\"y\":[0.019919011175895063,0.04607480106391176],\"z\":[0.19106265919903637,0.18918157774848404]},{\"line\":{\"color\":\"black\",\"width\":2},\"mode\":\"lines\",\"showlegend\":false,\"type\":\"scatter3d\",\"x\":[0.06904970760924668,0.06690318561170165],\"y\":[0.04607480106391176,0.05678840869288444],\"z\":[0.18918157774848404,0.1976839666003413]},{\"marker\":{\"color\":\"black\",\"size\":3},\"mode\":\"markers\",\"showlegend\":false,\"type\":\"scatter3d\",\"x\":[0.055814034448313524],\"y\":[0.1238449550342591],\"z\":[0.18598219947085634]},{\"line\":{\"color\":\"black\",\"width\":2},\"mode\":\"lines\",\"showlegend\":false,\"type\":\"scatter3d\",\"x\":[0.055814034448313524,0.020321465597134644],\"y\":[0.1238449550342591,0.12412103146857822],\"z\":[0.18598219947085634,0.2211986918877161]},{\"marker\":{\"color\":\"black\",\"size\":3},\"mode\":\"text\",\"showlegend\":false,\"text\":[\"[ 1.  0. -1.]\"],\"textfont\":{\"color\":\"black\",\"size\":14},\"textposition\":\"middle center\",\"type\":\"scatter3d\",\"x\":[0.006124438056663094],\"y\":[0.12423146204230588],\"z\":[0.23528528885446]},{\"line\":{\"color\":\"black\",\"width\":2},\"mode\":\"lines\",\"showlegend\":false,\"type\":\"scatter3d\",\"x\":[0.044724883284925396,0.04395571148044923],\"y\":[0.19090150137563378,0.1901323295711576],\"z\":[0.17428043234137142,0.17351126053689525]},{\"line\":{\"color\":\"black\",\"width\":2},\"mode\":\"lines\",\"showlegend\":false,\"type\":\"scatter3d\",\"x\":[0.044724883284925396,0.0676723574161778],\"y\":[0.19090150137563378,0.05755758049736061],\"z\":[0.17428043234137142,0.1984531384048175]},{\"line\":{\"color\":\"black\",\"width\":2},\"mode\":\"lines\",\"showlegend\":false,\"type\":\"scatter3d\",\"x\":[0.04395571148044923,0.06690318561170165],\"y\":[0.1901323295711576,0.05678840869288444],\"z\":[0.17351126053689525,0.1976839666003413]},{\"line\":{\"color\":\"black\",\"width\":2},\"mode\":\"lines\",\"showlegend\":false,\"type\":\"scatter3d\",\"x\":[0.0676723574161778,0.06690318561170165],\"y\":[0.05755758049736061,0.05678840869288444],\"z\":[0.1984531384048175,0.1976839666003413]},{\"marker\":{\"color\":\"black\",\"size\":3},\"mode\":\"markers\",\"showlegend\":false,\"type\":\"scatter3d\",\"x\":[0.12853620038446303],\"y\":[0.11614231490154335],\"z\":[0.1863000970615553]},{\"line\":{\"color\":\"black\",\"width\":2},\"mode\":\"lines\",\"showlegend\":false,\"type\":\"scatter3d\",\"x\":[0.12853620038446303,0.12959816112820022],\"y\":[0.11614231490154335,0.12523586928421385],\"z\":[0.1863000970615553,0.23545474595734311]},{\"marker\":{\"color\":\"black\",\"size\":3},\"mode\":\"text\",\"showlegend\":false,\"text\":[\"[1. 0. 0.]\"],\"textfont\":{\"color\":\"black\",\"size\":14},\"textposition\":\"middle center\",\"type\":\"scatter3d\",\"x\":[0.13002294542569512],\"y\":[0.12887329103728204],\"z\":[0.25511660551565823]},{\"line\":{\"color\":\"black\",\"width\":2},\"mode\":\"lines\",\"showlegend\":false,\"type\":\"scatter3d\",\"x\":[0.1894000433527483,0.052497431481735676],\"y\":[0.17472704930572602,0.2008828391937427],\"z\":[0.1741470557182931,0.17226597426774082]},{\"line\":{\"color\":\"black\",\"width\":2},\"mode\":\"lines\",\"showlegend\":false,\"type\":\"scatter3d\",\"x\":[0.1894000433527483,0.21234751748400066],\"y\":[0.17472704930572602,0.04138312842745294],\"z\":[0.1741470557182931,0.19831976178173916]},{\"line\":{\"color\":\"black\",\"width\":2},\"mode\":\"lines\",\"showlegend\":false,\"type\":\"scatter3d\",\"x\":[0.052497431481735676,0.044724883284925396],\"y\":[0.2008828391937427,0.19090150137563378],\"z\":[0.17226597426774082,0.17428043234137142]},{\"line\":{\"color\":\"black\",\"width\":2},\"mode\":\"lines\",\"showlegend\":false,\"type\":\"scatter3d\",\"x\":[0.044724883284925396,0.0676723574161778],\"y\":[0.19090150137563378,0.05755758049736061],\"z\":[0.17428043234137142,0.1984531384048175]},{\"line\":{\"color\":\"black\",\"width\":2},\"mode\":\"lines\",\"showlegend\":false,\"type\":\"scatter3d\",\"x\":[0.21234751748400066,0.20457496928719038],\"y\":[0.04138312842745294,0.03140179060934395],\"z\":[0.19831976178173916,0.20033421985536976]},{\"line\":{\"color\":\"black\",\"width\":2},\"mode\":\"lines\",\"showlegend\":false,\"type\":\"scatter3d\",\"x\":[0.20457496928719038,0.0676723574161778],\"y\":[0.03140179060934395,0.05755758049736061],\"z\":[0.20033421985536976,0.1984531384048175]}],                        {\"scene\":{\"xaxis\":{\"title\":{\"text\":\"V<sub>3</sub>\"}},\"yaxis\":{\"title\":{\"text\":\"V<sub>2</sub>\"}},\"zaxis\":{\"title\":{\"text\":\"V<sub>1</sub>\"}}},\"template\":{\"data\":{\"bar\":[{\"error_x\":{\"color\":\"#2a3f5f\"},\"error_y\":{\"color\":\"#2a3f5f\"},\"marker\":{\"line\":{\"color\":\"#E5ECF6\",\"width\":0.5},\"pattern\":{\"fillmode\":\"overlay\",\"size\":10,\"solidity\":0.2}},\"type\":\"bar\"}],\"barpolar\":[{\"marker\":{\"line\":{\"color\":\"#E5ECF6\",\"width\":0.5},\"pattern\":{\"fillmode\":\"overlay\",\"size\":10,\"solidity\":0.2}},\"type\":\"barpolar\"}],\"carpet\":[{\"aaxis\":{\"endlinecolor\":\"#2a3f5f\",\"gridcolor\":\"white\",\"linecolor\":\"white\",\"minorgridcolor\":\"white\",\"startlinecolor\":\"#2a3f5f\"},\"baxis\":{\"endlinecolor\":\"#2a3f5f\",\"gridcolor\":\"white\",\"linecolor\":\"white\",\"minorgridcolor\":\"white\",\"startlinecolor\":\"#2a3f5f\"},\"type\":\"carpet\"}],\"choropleth\":[{\"colorbar\":{\"outlinewidth\":0,\"ticks\":\"\"},\"type\":\"choropleth\"}],\"contour\":[{\"colorbar\":{\"outlinewidth\":0,\"ticks\":\"\"},\"colorscale\":[[0.0,\"#0d0887\"],[0.1111111111111111,\"#46039f\"],[0.2222222222222222,\"#7201a8\"],[0.3333333333333333,\"#9c179e\"],[0.4444444444444444,\"#bd3786\"],[0.5555555555555556,\"#d8576b\"],[0.6666666666666666,\"#ed7953\"],[0.7777777777777778,\"#fb9f3a\"],[0.8888888888888888,\"#fdca26\"],[1.0,\"#f0f921\"]],\"type\":\"contour\"}],\"contourcarpet\":[{\"colorbar\":{\"outlinewidth\":0,\"ticks\":\"\"},\"type\":\"contourcarpet\"}],\"heatmap\":[{\"colorbar\":{\"outlinewidth\":0,\"ticks\":\"\"},\"colorscale\":[[0.0,\"#0d0887\"],[0.1111111111111111,\"#46039f\"],[0.2222222222222222,\"#7201a8\"],[0.3333333333333333,\"#9c179e\"],[0.4444444444444444,\"#bd3786\"],[0.5555555555555556,\"#d8576b\"],[0.6666666666666666,\"#ed7953\"],[0.7777777777777778,\"#fb9f3a\"],[0.8888888888888888,\"#fdca26\"],[1.0,\"#f0f921\"]],\"type\":\"heatmap\"}],\"heatmapgl\":[{\"colorbar\":{\"outlinewidth\":0,\"ticks\":\"\"},\"colorscale\":[[0.0,\"#0d0887\"],[0.1111111111111111,\"#46039f\"],[0.2222222222222222,\"#7201a8\"],[0.3333333333333333,\"#9c179e\"],[0.4444444444444444,\"#bd3786\"],[0.5555555555555556,\"#d8576b\"],[0.6666666666666666,\"#ed7953\"],[0.7777777777777778,\"#fb9f3a\"],[0.8888888888888888,\"#fdca26\"],[1.0,\"#f0f921\"]],\"type\":\"heatmapgl\"}],\"histogram\":[{\"marker\":{\"pattern\":{\"fillmode\":\"overlay\",\"size\":10,\"solidity\":0.2}},\"type\":\"histogram\"}],\"histogram2d\":[{\"colorbar\":{\"outlinewidth\":0,\"ticks\":\"\"},\"colorscale\":[[0.0,\"#0d0887\"],[0.1111111111111111,\"#46039f\"],[0.2222222222222222,\"#7201a8\"],[0.3333333333333333,\"#9c179e\"],[0.4444444444444444,\"#bd3786\"],[0.5555555555555556,\"#d8576b\"],[0.6666666666666666,\"#ed7953\"],[0.7777777777777778,\"#fb9f3a\"],[0.8888888888888888,\"#fdca26\"],[1.0,\"#f0f921\"]],\"type\":\"histogram2d\"}],\"histogram2dcontour\":[{\"colorbar\":{\"outlinewidth\":0,\"ticks\":\"\"},\"colorscale\":[[0.0,\"#0d0887\"],[0.1111111111111111,\"#46039f\"],[0.2222222222222222,\"#7201a8\"],[0.3333333333333333,\"#9c179e\"],[0.4444444444444444,\"#bd3786\"],[0.5555555555555556,\"#d8576b\"],[0.6666666666666666,\"#ed7953\"],[0.7777777777777778,\"#fb9f3a\"],[0.8888888888888888,\"#fdca26\"],[1.0,\"#f0f921\"]],\"type\":\"histogram2dcontour\"}],\"mesh3d\":[{\"colorbar\":{\"outlinewidth\":0,\"ticks\":\"\"},\"type\":\"mesh3d\"}],\"parcoords\":[{\"line\":{\"colorbar\":{\"outlinewidth\":0,\"ticks\":\"\"}},\"type\":\"parcoords\"}],\"pie\":[{\"automargin\":true,\"type\":\"pie\"}],\"scatter\":[{\"marker\":{\"colorbar\":{\"outlinewidth\":0,\"ticks\":\"\"}},\"type\":\"scatter\"}],\"scatter3d\":[{\"line\":{\"colorbar\":{\"outlinewidth\":0,\"ticks\":\"\"}},\"marker\":{\"colorbar\":{\"outlinewidth\":0,\"ticks\":\"\"}},\"type\":\"scatter3d\"}],\"scattercarpet\":[{\"marker\":{\"colorbar\":{\"outlinewidth\":0,\"ticks\":\"\"}},\"type\":\"scattercarpet\"}],\"scattergeo\":[{\"marker\":{\"colorbar\":{\"outlinewidth\":0,\"ticks\":\"\"}},\"type\":\"scattergeo\"}],\"scattergl\":[{\"marker\":{\"colorbar\":{\"outlinewidth\":0,\"ticks\":\"\"}},\"type\":\"scattergl\"}],\"scattermapbox\":[{\"marker\":{\"colorbar\":{\"outlinewidth\":0,\"ticks\":\"\"}},\"type\":\"scattermapbox\"}],\"scatterpolar\":[{\"marker\":{\"colorbar\":{\"outlinewidth\":0,\"ticks\":\"\"}},\"type\":\"scatterpolar\"}],\"scatterpolargl\":[{\"marker\":{\"colorbar\":{\"outlinewidth\":0,\"ticks\":\"\"}},\"type\":\"scatterpolargl\"}],\"scatterternary\":[{\"marker\":{\"colorbar\":{\"outlinewidth\":0,\"ticks\":\"\"}},\"type\":\"scatterternary\"}],\"surface\":[{\"colorbar\":{\"outlinewidth\":0,\"ticks\":\"\"},\"colorscale\":[[0.0,\"#0d0887\"],[0.1111111111111111,\"#46039f\"],[0.2222222222222222,\"#7201a8\"],[0.3333333333333333,\"#9c179e\"],[0.4444444444444444,\"#bd3786\"],[0.5555555555555556,\"#d8576b\"],[0.6666666666666666,\"#ed7953\"],[0.7777777777777778,\"#fb9f3a\"],[0.8888888888888888,\"#fdca26\"],[1.0,\"#f0f921\"]],\"type\":\"surface\"}],\"table\":[{\"cells\":{\"fill\":{\"color\":\"#EBF0F8\"},\"line\":{\"color\":\"white\"}},\"header\":{\"fill\":{\"color\":\"#C8D4E3\"},\"line\":{\"color\":\"white\"}},\"type\":\"table\"}]},\"layout\":{\"annotationdefaults\":{\"arrowcolor\":\"#2a3f5f\",\"arrowhead\":0,\"arrowwidth\":1},\"autotypenumbers\":\"strict\",\"coloraxis\":{\"colorbar\":{\"outlinewidth\":0,\"ticks\":\"\"}},\"colorscale\":{\"diverging\":[[0,\"#8e0152\"],[0.1,\"#c51b7d\"],[0.2,\"#de77ae\"],[0.3,\"#f1b6da\"],[0.4,\"#fde0ef\"],[0.5,\"#f7f7f7\"],[0.6,\"#e6f5d0\"],[0.7,\"#b8e186\"],[0.8,\"#7fbc41\"],[0.9,\"#4d9221\"],[1,\"#276419\"]],\"sequential\":[[0.0,\"#0d0887\"],[0.1111111111111111,\"#46039f\"],[0.2222222222222222,\"#7201a8\"],[0.3333333333333333,\"#9c179e\"],[0.4444444444444444,\"#bd3786\"],[0.5555555555555556,\"#d8576b\"],[0.6666666666666666,\"#ed7953\"],[0.7777777777777778,\"#fb9f3a\"],[0.8888888888888888,\"#fdca26\"],[1.0,\"#f0f921\"]],\"sequentialminus\":[[0.0,\"#0d0887\"],[0.1111111111111111,\"#46039f\"],[0.2222222222222222,\"#7201a8\"],[0.3333333333333333,\"#9c179e\"],[0.4444444444444444,\"#bd3786\"],[0.5555555555555556,\"#d8576b\"],[0.6666666666666666,\"#ed7953\"],[0.7777777777777778,\"#fb9f3a\"],[0.8888888888888888,\"#fdca26\"],[1.0,\"#f0f921\"]]},\"colorway\":[\"#636efa\",\"#EF553B\",\"#00cc96\",\"#ab63fa\",\"#FFA15A\",\"#19d3f3\",\"#FF6692\",\"#B6E880\",\"#FF97FF\",\"#FECB52\"],\"font\":{\"color\":\"#2a3f5f\"},\"geo\":{\"bgcolor\":\"white\",\"lakecolor\":\"white\",\"landcolor\":\"#E5ECF6\",\"showlakes\":true,\"showland\":true,\"subunitcolor\":\"white\"},\"hoverlabel\":{\"align\":\"left\"},\"hovermode\":\"closest\",\"mapbox\":{\"style\":\"light\"},\"paper_bgcolor\":\"white\",\"plot_bgcolor\":\"#E5ECF6\",\"polar\":{\"angularaxis\":{\"gridcolor\":\"white\",\"linecolor\":\"white\",\"ticks\":\"\"},\"bgcolor\":\"#E5ECF6\",\"radialaxis\":{\"gridcolor\":\"white\",\"linecolor\":\"white\",\"ticks\":\"\"}},\"scene\":{\"xaxis\":{\"backgroundcolor\":\"#E5ECF6\",\"gridcolor\":\"white\",\"gridwidth\":2,\"linecolor\":\"white\",\"showbackground\":true,\"ticks\":\"\",\"zerolinecolor\":\"white\"},\"yaxis\":{\"backgroundcolor\":\"#E5ECF6\",\"gridcolor\":\"white\",\"gridwidth\":2,\"linecolor\":\"white\",\"showbackground\":true,\"ticks\":\"\",\"zerolinecolor\":\"white\"},\"zaxis\":{\"backgroundcolor\":\"#E5ECF6\",\"gridcolor\":\"white\",\"gridwidth\":2,\"linecolor\":\"white\",\"showbackground\":true,\"ticks\":\"\",\"zerolinecolor\":\"white\"}},\"shapedefaults\":{\"line\":{\"color\":\"#2a3f5f\"}},\"ternary\":{\"aaxis\":{\"gridcolor\":\"white\",\"linecolor\":\"white\",\"ticks\":\"\"},\"baxis\":{\"gridcolor\":\"white\",\"linecolor\":\"white\",\"ticks\":\"\"},\"bgcolor\":\"#E5ECF6\",\"caxis\":{\"gridcolor\":\"white\",\"linecolor\":\"white\",\"ticks\":\"\"}},\"title\":{\"x\":0.05},\"xaxis\":{\"automargin\":true,\"gridcolor\":\"white\",\"linecolor\":\"white\",\"ticks\":\"\",\"title\":{\"standoff\":15},\"zerolinecolor\":\"white\",\"zerolinewidth\":2},\"yaxis\":{\"automargin\":true,\"gridcolor\":\"white\",\"linecolor\":\"white\",\"ticks\":\"\",\"title\":{\"standoff\":15},\"zerolinecolor\":\"white\",\"zerolinewidth\":2}}}},                        {\"responsive\": true}                    ).then(function(){\n",
       "                            \n",
       "var gd = document.getElementById('4614cb00-006c-4381-bcfc-27ce921f7411');\n",
       "var x = new MutationObserver(function (mutations, observer) {{\n",
       "        var display = window.getComputedStyle(gd).display;\n",
       "        if (!display || display === 'none') {{\n",
       "            console.log([gd, 'removed!']);\n",
       "            Plotly.purge(gd);\n",
       "            observer.disconnect();\n",
       "        }}\n",
       "}});\n",
       "\n",
       "// Listen for the removal of the full notebook cells\n",
       "var notebookContainer = gd.closest('#notebook-container');\n",
       "if (notebookContainer) {{\n",
       "    x.observe(notebookContainer, {childList: true});\n",
       "}}\n",
       "\n",
       "// Listen for the clearing of the current output cell\n",
       "var outputEl = gd.closest('.output');\n",
       "if (outputEl) {{\n",
       "    x.observe(outputEl, {childList: true});\n",
       "}}\n",
       "\n",
       "                        })                };                });            </script>        </div>"
      ]
     },
     "metadata": {},
     "output_type": "display_data"
    }
   ],
   "source": [
    "# Set a seed for reproducability\n",
    "np.random.seed(0)\n",
    "\n",
    "delta = 1.0/1000 #precision of the line-search. 1mV\n",
    "rho=1.0/10 #setting of rho in the paper as a measure of simulation complexity. this is what rho=1 in the paper is\n",
    "sim = sim_NxM(1, 3, delta, rho) #simulation of an 1x3 array.\n",
    "sim.set_reservoir(True)\n",
    "\n",
    "#plot the 1,1,1 facet\n",
    "sim.activate_state([1,1,1]) #activate state simulations\n",
    "#ground truth infor\n",
    "A=sim.boundaries().A #normals of transitions of simulated state\n",
    "b=sim.boundaries().b #offsets of transitons\n",
    "labels=sim.boundaries().labels #labels of transitions. Same as t in the paper\n",
    "print(\"labels of transitions present in the state\")\n",
    "print(labels)\n",
    "halfspaces=np.hstack([A,b.reshape(-1,1)]) #if this polytope was open, we would need to add lower bounds as well\n",
    "print(\"plot of the device\")\n",
    "plot_facet(halfspaces, labels)\n",
    "\n",
    "\n"
   ]
  },
  {
   "cell_type": "markdown",
   "id": "b80a64b8",
   "metadata": {},
   "source": [
    "## Computing Gamma\n",
    "\n",
    "To compute gamma, we first learn the boundaries of the state (0,0,0). We then label the learned transitions based on which we think adds one electron to the i-th dot.\n",
    "\n",
    "For a quick verification that the learned boundaries are correct, we compute the relative error of each element. "
   ]
  },
  {
   "cell_type": "code",
   "execution_count": 10,
   "id": "4a0ff990-7b12-40d6-892c-59c71e06d09c",
   "metadata": {},
   "outputs": [
    {
     "name": "stdout",
     "output_type": "stream",
     "text": [
      "relative error in %\n",
      "[[3.22572896e-03 8.89552902e-02 3.99778413e-01]\n",
      " [2.06431692e-02 1.02582115e-03 2.56285294e-03]\n",
      " [1.32272239e-01 3.94747427e-03 1.32173837e-05]]\n"
     ]
    }
   ],
   "source": [
    "#set the simulation to the polytope of the zero state\n",
    "sim.activate_state([0,0,0])\n",
    "\n",
    "#learning the polytope belonging to the 0,0 state has its own algorithm\n",
    "num_start_samples = 4*sim.num_dots*(sim.num_dots+5) #number of initial line-searches (same as in the paper)\n",
    "halfspaces, _,_,_ = learn_zero_polytope(sim, delta, num_start_samples = num_start_samples)\n",
    "\n",
    "# A priori, we do not know which transition (row of gamma) belongs to which dot\n",
    "# We're assuming that each dot has one sensor (dot), so we order the rows s.t. for dot i gamma_ii is the largest element\n",
    "gamma_order = []\n",
    "for i in range(sim.num_dots):\n",
    "    jmax = -1\n",
    "    maxv = -np.infty\n",
    "    for j in range(sim.num_dots):\n",
    "        if j in gamma_order: continue\n",
    "        if np.abs(halfspaces[j,i]) > maxv:\n",
    "            maxv = np.abs(halfspaces[j,i])\n",
    "            jmax = j\n",
    "    gamma_order.append(jmax)\n",
    "halfspaces=halfspaces[gamma_order,:]\n",
    "\n",
    "\n",
    "halfspaces /= np.linalg.norm(halfspaces[:,:-1],axis=1).reshape(-1,1) #normalize to unit length normals\n",
    "gamma = halfspaces[:,:-1]#normal\n",
    "b = halfspaces[:,-1]#offset\n",
    "\n",
    "print(\"relative error in %\")\n",
    "gamma_truth = sim.boundaries().A/np.linalg.norm(sim.boundaries().A,axis=1).reshape(-1,1)\n",
    "print(100*np.abs(gamma_truth-gamma)/gamma)"
   ]
  },
  {
   "cell_type": "markdown",
   "id": "c92411f4-d88d-4b00-80ea-ec475827c6a5",
   "metadata": {},
   "source": [
    "### Now learn all of the other polytopes that are relevant to the target states\n",
    "\n",
    "We first search for all transitions in the state. for this, we call ``generate_transitions_for_state`` with arguments ``max_k=3`` and ``max_moves = 2``. ``max_k`` indicates the maximum number of sites in the array that can be changed by a transition. ``max_moves`` limits the amount of electrons that can move in a transition. e.g., transition (1,-1,1) has at least 2 moving electrons: one moving from the middle to the sides and then another added to the array.\n",
    "\n",
    "Afterwards we plot the learned facet and repeat the array with only one electron moving at most (And thus at most 2 sites can be affected). This excludes two facets in our example and we show that we can still learn the polytope reasonably well."
   ]
  },
  {
   "cell_type": "code",
   "execution_count": 12,
   "id": "884d6afa-249e-4a06-a2c6-6ffce1a2e7da",
   "metadata": {
    "tags": []
   },
   "outputs": [
    {
     "name": "stdout",
     "output_type": "stream",
     "text": [
      "\n",
      "Computing polytope for state  [1 1 1]\n",
      "searching for transitions\n",
      "[[-1  0  0]\n",
      " [ 0 -1  0]\n",
      " [ 0  0 -1]\n",
      " [ 0  0  1]\n",
      " [ 0  1  0]\n",
      " [ 1  0  0]\n",
      " [-1  0  1]\n",
      " [-1  1  0]\n",
      " [ 0 -1  1]\n",
      " [ 0  1 -1]\n",
      " [ 1 -1  0]\n",
      " [ 1  0 -1]\n",
      " [-1 -1  1]\n",
      " [-1  1 -1]\n",
      " [-1  1  1]\n",
      " [ 1 -1 -1]\n",
      " [ 1 -1  1]\n",
      " [ 1  1 -1]]\n",
      "start point: [0.11844219 0.12562139 0.12921188]\n",
      "Number of searches:  49 / 500\n",
      "Number of searches:  101 / 500\n",
      "Number of searches:  152 / 500\n",
      "Number of searches:  195 / 500\n",
      "Number of searches:  224 / 500\n",
      "Number of searches:  251 / 500\n",
      "Finished learning polytope\n",
      "Number of transitions found: 12\n",
      "max_rad not found: 0.0006721040548163164\n",
      "[-1.  0.  0.] 24 0.06995347288378195\n",
      "[ 0. -1.  0.] 18 0.06413354421148029\n",
      "[ 0.  0. -1.] 24 0.06473461762064453\n",
      "[0. 0. 1.] 23 0.06464249956784385\n",
      "[0. 1. 0.] 19 0.06411005395014217\n",
      "[1. 0. 0.] 24 0.07004599107118795\n",
      "[-1.  1.  0.] 20 0.007228898344261156\n",
      "[ 0. -1.  1.] 21 0.006720647605911723\n",
      "[ 0.  1. -1.] 22 0.006696025305421172\n",
      "[ 1. -1.  0.] 18 0.007201190157847279\n",
      "[-1.  1. -1.] 11 0.00590831447897258\n",
      "[ 1. -1.  1.] 8 0.005705689110418505\n"
     ]
    },
    {
     "ename": "ValueError",
     "evalue": "not enough values to unpack (expected 7, got 6)",
     "output_type": "error",
     "traceback": [
      "\u001b[0;31m---------------------------------------------------------------------------\u001b[0m",
      "\u001b[0;31mValueError\u001b[0m                                Traceback (most recent call last)",
      "\u001b[0;32m/tmp/ipykernel_748/2447261561.py\u001b[0m in \u001b[0;36m<module>\u001b[0;34m\u001b[0m\n\u001b[1;32m     22\u001b[0m \u001b[0mprint\u001b[0m\u001b[0;34m(\u001b[0m\u001b[0;34m\"start point:\"\u001b[0m\u001b[0;34m,\u001b[0m \u001b[0mstartpoint\u001b[0m\u001b[0;34m)\u001b[0m\u001b[0;34m\u001b[0m\u001b[0;34m\u001b[0m\u001b[0m\n\u001b[1;32m     23\u001b[0m \u001b[0;31m# Learn the polytope (set verbose = 2 for more output, such as the convergence of the max likelihood)\u001b[0m\u001b[0;34m\u001b[0m\u001b[0;34m\u001b[0m\u001b[0;34m\u001b[0m\u001b[0m\n\u001b[0;32m---> 24\u001b[0;31m \u001b[0mA_res\u001b[0m\u001b[0;34m,\u001b[0m \u001b[0mb_res\u001b[0m\u001b[0;34m,\u001b[0m \u001b[0mx_m\u001b[0m\u001b[0;34m,\u001b[0m \u001b[0mx_p\u001b[0m\u001b[0;34m,\u001b[0m \u001b[0mfound\u001b[0m\u001b[0;34m,\u001b[0m \u001b[0mnum_searches\u001b[0m\u001b[0;34m,\u001b[0m \u001b[0mparams\u001b[0m \u001b[0;34m=\u001b[0m \u001b[0mlearn_convex_polytope\u001b[0m\u001b[0;34m(\u001b[0m\u001b[0msim\u001b[0m\u001b[0;34m,\u001b[0m \u001b[0mdelta\u001b[0m\u001b[0;34m,\u001b[0m \u001b[0mstartpoint\u001b[0m\u001b[0;34m,\u001b[0m \u001b[0mT\u001b[0m\u001b[0;34m.\u001b[0m\u001b[0mastype\u001b[0m\u001b[0;34m(\u001b[0m\u001b[0mfloat\u001b[0m\u001b[0;34m)\u001b[0m\u001b[0;34m,\u001b[0m \u001b[0mgamma\u001b[0m\u001b[0;34m,\u001b[0m \u001b[0mmax_searches\u001b[0m\u001b[0;34m=\u001b[0m\u001b[0;36m500\u001b[0m\u001b[0;34m,\u001b[0m \u001b[0mverbose\u001b[0m\u001b[0;34m=\u001b[0m\u001b[0;36m1\u001b[0m\u001b[0;34m)\u001b[0m\u001b[0;34m\u001b[0m\u001b[0;34m\u001b[0m\u001b[0m\n\u001b[0m",
      "\u001b[0;31mValueError\u001b[0m: not enough values to unpack (expected 7, got 6)"
     ]
    }
   ],
   "source": [
    "# Set a seed for reproducability\n",
    "np.random.seed(0)\n",
    "\n",
    "#the states we want to compute polytopes for\n",
    "target_state=np.array([1,1,1],dtype=np.int64)\n",
    "\n",
    "# Set device in the target state\n",
    "print(\"\\nComputing polytope for state \", target_state)\n",
    "sim.activate_state(target_state)\n",
    "    \n",
    "# Generate the transitions we want to look for\n",
    "T = generate_transitions_for_state(target_state, max_k=3, max_moves = 2)\n",
    "print(\"searching for transitions\")\n",
    "print(T)\n",
    "\n",
    "# we need a starting point to create a polytope\n",
    "#this is slightly cheating, since we compute a point from the ground turth polytope\n",
    "startpoint = sim.boundaries().point_inside\n",
    "#this is less cheating and how we do it in the paper.\n",
    "#startpoint, _, _ = sim.line_search(sim.boundaries().point_inside, np.random.randn(sim.num_inputs))\n",
    "#startpoint = 0.95*startpoint + 0.05 * sim.boundaries().point_inside\n",
    "print(\"start point:\", startpoint)\n",
    "# Learn the polytope (set verbose = 2 for more output, such as the convergence of the max likelihood)\n",
    "A_res, b_res, x_m, x_p, found, num_searches, params = learn_convex_polytope(sim, delta, startpoint, T.astype(float), gamma, max_searches=500, verbose=1)"
   ]
  },
  {
   "cell_type": "markdown",
   "id": "cc887bc9-982b-487f-9c2e-838f67447e53",
   "metadata": {},
   "source": [
    "## Plot\n",
    "\n",
    "We plot the learned polytope together with measurement points"
   ]
  },
  {
   "cell_type": "code",
   "execution_count": null,
   "id": "540634a5-a223-4702-a26a-ed2a5e8b652b",
   "metadata": {},
   "outputs": [],
   "source": [
    "halfspaces=np.hstack([A_res[found],b_res[found].reshape(-1,1)]) #if this polytope was open, we would need to add lower bounds as well\n",
    "plot_facet(halfspaces, T[found], points=x_p)"
   ]
  },
  {
   "cell_type": "markdown",
   "id": "ff6fcb99",
   "metadata": {},
   "source": [
    "## Excluding facets to search"
   ]
  },
  {
   "cell_type": "code",
   "execution_count": null,
   "id": "2134b56c",
   "metadata": {},
   "outputs": [],
   "source": [
    "# Set a seed for reproducability\n",
    "np.random.seed(0)\n",
    "    \n",
    "# Generate the transitions we want to look for\n",
    "#This time we set max_k=2 and max:moves = 1 which only allows a single electron to ove during a transition.\n",
    "#This ecludes the [-1 1 -1] and [1 -1 1] states above.\n",
    "T = generate_transitions_for_state(target_state, max_k=2, max_moves = 1)\n",
    "print(\"searching for transitions\")\n",
    "print(T)\n",
    "\n",
    "# Learn the polytope (set verbose = 2 for more output, such as the convergence of the max likelihood)\n",
    "A_res, b_res, x_m, x_p, found, num_searches, params = learn_convex_polytope(sim, delta, startpoint, T.astype(float), gamma, max_searches=500, verbose=1)"
   ]
  },
  {
   "cell_type": "code",
   "execution_count": null,
   "id": "212e5f6d",
   "metadata": {},
   "outputs": [],
   "source": [
    "halfspaces=np.hstack([A_res[found],b_res[found].reshape(-1,1)]) #if this polytope was open, we would need to add lower bounds as well\n",
    "plot_facet(halfspaces, T[found], points=x_p)"
   ]
  },
  {
   "cell_type": "code",
   "execution_count": null,
   "id": "36458c78",
   "metadata": {},
   "outputs": [],
   "source": []
  }
 ],
 "metadata": {
  "kernelspec": {
   "display_name": "Python 3 (ipykernel)",
   "language": "python",
   "name": "python3"
  },
  "language_info": {
   "codemirror_mode": {
    "name": "ipython",
    "version": 3
   },
   "file_extension": ".py",
   "mimetype": "text/x-python",
   "name": "python",
   "nbconvert_exporter": "python",
   "pygments_lexer": "ipython3",
   "version": "3.8.10"
  }
 },
 "nbformat": 4,
 "nbformat_minor": 5
}
