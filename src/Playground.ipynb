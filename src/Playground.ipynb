{
 "cells": [
  {
   "cell_type": "code",
   "execution_count": 1,
   "id": "112fc52b",
   "metadata": {},
   "outputs": [],
   "source": [
    "from autograd import numpy as np\n",
    "from fit_zero_boundary import learn_zero_polytope\n",
    "from fit_convex_polytope import learn_convex_polytope, generate_transitions_for_state, sample_boundary_points\n",
    "from scipy.spatial import HalfspaceIntersection, ConvexHull\n",
    "from scipy.optimize import linprog\n",
    "import matplotlib.pyplot as plt\n",
    "import pickle\n",
    "\n",
    "# cvxpy for solving convex optimization problems\n",
    "import cvxpy as cp\n",
    "\n",
    "from simulator import sim_NxM, Simulator\n",
    "import matplotlib.pyplot as plt\n",
    "%matplotlib inline\n",
    "\n",
    "import plotly.graph_objects as go\n",
    "#from plotly.offline import init_notebook_mode, iplot\n",
    "#init_notebook_mode(connected=True)\n",
    "\n",
    "def plot_facet(halfspaces, vertices, name, labels = None, points = None):\n",
    "    fig = go.Figure()\n",
    "    fig.add_trace(go.Mesh3d(x=vertices[:, 2],\n",
    "                           y=vertices[:, 1],\n",
    "                           z=vertices[:, 0],\n",
    "                           color=\"blue\",\n",
    "                           opacity=.5,\n",
    "                           alphahull=0))\n",
    "    annotations=[]\n",
    "    for i in range(halfspaces.shape[0]):\n",
    "        Ai = halfspaces[i,:-1]\n",
    "        bi = halfspaces[i,-1]\n",
    "        distance = np.max(np.abs(vertices@Ai.reshape(-1,1)+ bi.reshape(1,-1)),axis=1)\n",
    "        vi = vertices[distance < 1.e-5]\n",
    "\n",
    "        mean = np.mean(vi,axis=0)\n",
    "        #add annotation\n",
    "        if not labels is None:\n",
    "            text = str(labels[i])\n",
    "\n",
    "            annotation = dict(\n",
    "               x=mean[2],y=mean[1],z=mean[0],\n",
    "               text=str(labels[i]),\n",
    "               font=dict(\n",
    "                   color=\"black\",\n",
    "                   size=12\n",
    "               ),\n",
    "               arrowcolor=\"black\",\n",
    "               arrowsize=2,\n",
    "               arrowwidth=1,\n",
    "               arrowhead=0\n",
    "            )\n",
    "            annotations.append(annotation)\n",
    "            fig.add_trace(go.Scatter3d(x=mean[2:3],\n",
    "                            y=mean[1:2],\n",
    "                            z=mean[0:1],\n",
    "                            showlegend=False,\n",
    "                            marker=dict(color= 'rgb(0,0,0)',size=3)))\n",
    "        #plot mesh\n",
    "        for j in range(vi.shape[0]):\n",
    "            for k in range(j+1,vi.shape[0]):\n",
    "                #check if midpoint is inside to filter out lines inside a facet.\n",
    "                mid = (vi[j]+vi[k])/2\n",
    "                di = halfspaces[:,:-1]@mid+ halfspaces[:,-1]\n",
    "                di[i] = -1\n",
    "                if np.all(di<-1.e-5):\n",
    "                    continue\n",
    "                fig.add_trace(go.Scatter3d(x=vi[[j,k], 2],\n",
    "                        y=vi[[j,k], 1],\n",
    "                        z=vi[[j,k], 0],\n",
    "                        mode='lines',\n",
    "                        showlegend=False,\n",
    "                        line=dict(color= 'rgb(0,0,0)', width=2)))\n",
    "    \n",
    "    if not points is None:\n",
    "        fig.add_trace(go.Scatter3d(x=points[:,2],\n",
    "                            y=points[:,1],\n",
    "                            z=points[:,0],\n",
    "                            mode='markers'))\n",
    "    fig.update_layout(scene=dict( xaxis_title=r'V<sub>3</sub><sup>-</sup>', yaxis_title=r'V<sub>2</sub><sup>-</sup>',zaxis_title=r'V<sub>1</sub><sup>-</sup>', annotations=annotations))\n",
    "    fig.show()"
   ]
  },
  {
   "cell_type": "markdown",
   "id": "a609f404",
   "metadata": {},
   "source": [
    "## A Polytope \n",
    "A polytope is formed by specifying a set of planes (or rather, halfspaces!) that form its facets. \n",
    "To build some intuition, here is an example in 2D"
   ]
  },
  {
   "cell_type": "code",
   "execution_count": 2,
   "id": "d83fe5f2",
   "metadata": {},
   "outputs": [],
   "source": [
    "def inside_polytope(As, bs, v):\n",
    "    \"\"\"\n",
    "    Returns true if the point v is inside the polytope defined by As and bs. \n",
    "    Each row of the matrix As is the normal of a facet, and each corresponding entry in bs is\n",
    "    the offset of that facet from the origin. \n",
    "    \"\"\"\n",
    "    return np.all( As@v + bs < 0)\n",
    "\n",
    "# Define 4 normals of facets (in the diagonal directions, unnormalized)\n",
    "As = np.array([ [1,1], [-1,-1], [1, -1], [-1, 1] ])\n",
    "# And their offsets. Notice these are negative, because the normals are assumed to point outwards!\n",
    "bs = np.array([ -1, -1, -1, -1 ])\n",
    "\n",
    "resolution = 200\n",
    "polytope = np.zeros((resolution,resolution))\n",
    "for i,v1 in enumerate(np.linspace(-2,2,resolution)):\n",
    "    for j,v2 in enumerate(np.linspace(-2,2,resolution)):\n",
    "        polytope[i,j] = 1 if inside_polytope(np.array(As),np.array(bs),np.array([v1,v2])) else 0"
   ]
  },
  {
   "cell_type": "code",
   "execution_count": 3,
   "id": "ea768944",
   "metadata": {},
   "outputs": [
    {
     "data": {
      "text/plain": [
       "[<matplotlib.axis.YTick at 0x7fc4c5e9d710>,\n",
       " <matplotlib.axis.YTick at 0x7fc4c5e84790>,\n",
       " <matplotlib.axis.YTick at 0x7fc4c623ec10>,\n",
       " <matplotlib.axis.YTick at 0x7fc4c3e604d0>,\n",
       " <matplotlib.axis.YTick at 0x7fc4c3e69310>]"
      ]
     },
     "execution_count": 3,
     "metadata": {},
     "output_type": "execute_result"
    },
    {
     "data": {
      "image/png": "[encoded data removed]",
      "text/plain": [
       "<Figure size 432x288 with 1 Axes>"
      ]
     },
     "metadata": {
      "needs_background": "light"
     },
     "output_type": "display_data"
    }
   ],
   "source": [
    "fig, ax = plt.subplots()\n",
    "ax.imshow(polytope, origin='lower', extent=[-2,2,-2,2], cmap='viridis')\n",
    "ax.set_xlabel(\"$v_1$\")\n",
    "ax.set_ylabel(\"$v_2$\")\n",
    "ax.set_xticks([-2, -1, 0, 1, 2])\n",
    "ax.set_yticks([-2, -1, 0, 1, 2])"
   ]
  },
  {
   "cell_type": "markdown",
   "id": "fb238981-bbc6-4cb8-b48a-dd92b61ec435",
   "metadata": {},
   "source": [
    "## Getting the boundaries"
   ]
  },
  {
   "cell_type": "code",
   "execution_count": 4,
   "id": "95240e80-3ee3-441d-9a2a-8c32a2d282a9",
   "metadata": {},
   "outputs": [
    {
     "data": {
      "image/png": "[encoded data removed]",
      "text/plain": [
       "<Figure size 432x288 with 1 Axes>"
      ]
     },
     "metadata": {
      "needs_background": "light"
     },
     "output_type": "display_data"
    }
   ],
   "source": [
    "# Stack the two lists, so that we now have a matrix for which each row specifies a facet \n",
    "# (i.e. the first entries in the row specify A, the last specify the offset)\n",
    "eqs=np.hstack([As,bs.reshape(-1,1)])\n",
    "\n",
    "# Arbitrary point inside polygon (see next cell on how to compute this if unknown instead!)\n",
    "feasible_point = np.array([0., 0.]) \n",
    "\n",
    "fig, ax = plt.subplots()\n",
    "ax.imshow(polytope, origin='lower', extent=[-2,2,-2,2], cmap='viridis')\n",
    "ax.set_xlabel(\"$v_1$\")\n",
    "ax.set_ylabel(\"$v_2$\")\n",
    "ax.set_xticks([-2, -1, 0, 1, 2])\n",
    "ax.set_yticks([-2, -1, 0, 1, 2])\n",
    "\n",
    "# Get the corners\n",
    "hs = HalfspaceIntersection(eqs, feasible_point)\n",
    "corners = hs.intersections\n",
    "# Form a convex hull based on the corners\n",
    "hull = ConvexHull(corners)\n",
    "# Plot lines between the points forming the hull (they are assumed to come in counterclockwise order)\n",
    "for simplex in hull.simplices:\n",
    "    # (Reversing x and y here only for the purposes of plotting; could also diagonally flip the imshow)\n",
    "    plt.plot(corners[simplex, 1], corners[simplex, 0], '-', c='white', lw=3)"
   ]
  },
  {
   "cell_type": "code",
   "execution_count": 5,
   "id": "ff5cb73a-a8ab-4c26-ba87-c996c1a7ec0f",
   "metadata": {},
   "outputs": [],
   "source": [
    "# !! Alternatively, finding a feasible point can be done programmatically using linear programming:\n",
    "def find_feasible_point(halfspaces):\n",
    "    norm_vector = np.reshape(np.linalg.norm(halfspaces[:, :-1], axis=1), (halfspaces.shape[0], 1))\n",
    "    c = np.zeros((halfspaces.shape[1],))\n",
    "    c[-1] = -1\n",
    "    A = np.hstack((halfspaces[:, :-1], norm_vector))\n",
    "    b = - halfspaces[:, -1:]\n",
    "    res = linprog(c, A_ub=A, b_ub=b, bounds = (None,None))\n",
    "    return res.x[:-1]"
   ]
  },
  {
   "cell_type": "code",
   "execution_count": 6,
   "id": "d9af3b88-3478-4348-a4cf-8ab20d771daf",
   "metadata": {},
   "outputs": [
    {
     "name": "stdout",
     "output_type": "stream",
     "text": [
      "[-1.66533454e-16 -1.11022302e-16]\n"
     ]
    }
   ],
   "source": [
    "print(find_feasible_point(eqs))"
   ]
  },
  {
   "cell_type": "markdown",
   "id": "b80a64b8",
   "metadata": {},
   "source": [
    "## Computing a CSD"
   ]
  },
  {
   "cell_type": "markdown",
   "id": "16df8978-3c67-4df7-a435-04ee804b1d56",
   "metadata": {},
   "source": [
    "Computing a charge stability diagram like we do here makes sense for 2D (i.e. a 2x1 device). \n",
    "For larger devices, leading to higher dimensional polytopes, we should be making 2D *slices* through the volume instead. More on that below"
   ]
  },
  {
   "cell_type": "code",
   "execution_count": 7,
   "id": "3d584f74-cb69-4768-b973-d36359670573",
   "metadata": {},
   "outputs": [
    {
     "data": {
      "image/png": "[encoded data removed]",
      "text/plain": [
       "<Figure size 432x288 with 1 Axes>"
      ]
     },
     "metadata": {
      "needs_background": "light"
     },
     "output_type": "display_data"
    }
   ],
   "source": [
    "# Set random seed for this example\n",
    "np.random.seed(0)\n",
    "\n",
    "delta = 1000\n",
    "rho = 0.1\n",
    "\n",
    "# Create a 2x1 device\n",
    "sim = sim_NxM(1, 2, delta, rho)\n",
    "\n",
    "# Empty array for storing the charge-stability diagram\n",
    "resolution = 100\n",
    "CSD = np.zeros((resolution,resolution))\n",
    "\n",
    "fig, ax = plt.subplots()\n",
    "\n",
    "# Loop over all combinations of up to 3 charges on either dot\n",
    "for n1 in [0,1,2,3]:\n",
    "    for n2 in [0,1,2,3]:\n",
    "        \n",
    "        # Set the device in the corresponding charge state\n",
    "        state = [n1,n2]\n",
    "        sim.activate_state(state)\n",
    "        \n",
    "        polytope=sim.boundaries()\n",
    "        A=polytope.A\n",
    "        b=polytope.b\n",
    "        eqs=np.hstack([A,b.reshape(-1,1)])\n",
    "        \n",
    "        #we need to add additional constraints for computing the boundaries of unbounded polytopes.\n",
    "        #for thos we simply add constraints for the lower bound \n",
    "        #we chose the lower bound here such that the added boundaries are just out of the plotted area\n",
    "        lower_bounds = np.hstack([-np.eye(2),-0.11*np.ones((2,1))])\n",
    "        #add constraints to polytope\n",
    "        eqs = np.vstack([eqs,lower_bounds])\n",
    "        \n",
    "        # Get the corners\n",
    "        feasible_point = find_feasible_point(eqs)\n",
    "        hs = HalfspaceIntersection(eqs, feasible_point)\n",
    "        corners = hs.intersections\n",
    "        # Form a convex hull based on the corners\n",
    "        hull = ConvexHull(corners)\n",
    "        # Plot lines between the points forming the hull (they are assumed to come in counterclockwise order)\n",
    "        for simplex in hull.simplices:\n",
    "            ax.plot(corners[simplex, 1], corners[simplex, 0], '-', c='white', lw=3)\n",
    "            \n",
    "        # Add charge state text \n",
    "        if( feasible_point[0] < 0.4 and feasible_point[1] < 0.4 ):\n",
    "            ax.text(feasible_point[1]-0.025, feasible_point[0]-0.01, \"(%d,%d)\"%(n1,n2), c=\"white\")\n",
    "        \n",
    "        # Raster scan all voltages and see if we're inside the polytope\n",
    "        for i,v1 in enumerate(np.linspace(-0.1,0.4,resolution)):\n",
    "            for j,v2 in enumerate(np.linspace(-0.1,0.4,resolution)):\n",
    "                CSD[i,j] = (1+n1+n2) if sim.inside_state([v1,v2]) else CSD[i,j]\n",
    "                \n",
    "ax.imshow(CSD, origin='lower', extent=[-0.1,0.4,-0.1,0.4])\n",
    "ax.set_xlabel(\"$v_1$\")\n",
    "ax.set_ylabel(\"$v_2$\")\n",
    "ax.set_xticks([-0.1,0, 0.1, 0.2, 0.3, 0.4])\n",
    "ax.set_yticks([-0.1,0, 0.1, 0.2, 0.3, 0.4])\n",
    "pass"
   ]
  },
  {
   "cell_type": "markdown",
   "id": "0bc801ba-d830-448f-ac23-54faf29fe2b1",
   "metadata": {},
   "source": [
    "## The model"
   ]
  },
  {
   "cell_type": "markdown",
   "id": "ea06e7c5-673f-4c02-bb21-122f17064b28",
   "metadata": {},
   "source": [
    "To find polytopes from measurements, we use the following model function for the polytope.\n",
    "The parameters of the model are exactly the normals and the offsets of the polytope, and this approach \n",
    "allows us to *learn* those using maximum likelihood updates. Notice that the normalization of the normal \n",
    "matrices provides a way to sharpen the polytope, and that the offsets can be used to remove unwanted facets."
   ]
  },
  {
   "cell_type": "markdown",
   "id": "8a1f7be6-fdeb-4ac9-9edf-7c392468e812",
   "metadata": {},
   "source": [
    "$$h(v) = \\log \\sum_{k=1}^M \\exp(A_k v+b_k)$$"
   ]
  },
  {
   "cell_type": "code",
   "execution_count": 8,
   "id": "a165eafd-492f-4b43-a257-a9d9e712937c",
   "metadata": {},
   "outputs": [],
   "source": [
    "def logsumexp(xs):\n",
    "    xmax = np.max(xs.reshape(-1,1), axis=0)\n",
    "    expxs = np.exp(xs - xmax.reshape(-1,1))\n",
    "    return np.log(np.sum(expxs,axis=1)) + xmax\n",
    "\n",
    "def evaluate_model(As, bs, v):\n",
    "    # Instead of just doing np.log( np.sum( np.exp(As @ v + bs) ) ), we\n",
    "    # use a numerically more stable version\n",
    "    return logsumexp(As@v+bs) \n",
    "\n",
    "# Define 4 normals of facets (in the diagonal directions, unnormalized)\n",
    "As = np.array([ [1,1], [-1,-1], [1, -1], [-1, 1], [0,1], [0,-1] ])\n",
    "# And their offsets. Notice these are negative, because the normals are assumed to point outwards!\n",
    "bs = np.array([ -1, -1, -1, -1, -0.9, -0.7 ])\n",
    "eqs=np.hstack([As,bs.reshape(-1,1)])"
   ]
  },
  {
   "cell_type": "markdown",
   "id": "982756eb-9b36-4a4a-89dc-44cf5d66ead3",
   "metadata": {},
   "source": [
    "### Demonstrating the 'sharpness' of the model, and how to (re)move facets"
   ]
  },
  {
   "cell_type": "code",
   "execution_count": 9,
   "id": "043249c1-cb87-43e8-8797-dd805c759f1c",
   "metadata": {},
   "outputs": [
    {
     "data": {
      "image/png": "[encoded data removed]",
      "text/plain": [
       "<Figure size 900x600 with 3 Axes>"
      ]
     },
     "metadata": {
      "needs_background": "light"
     },
     "output_type": "display_data"
    }
   ],
   "source": [
    "fig, ax = plt.subplots(1,3, dpi=150)\n",
    "\n",
    "# Define 4 normals of facets (in the diagonal directions, unnormalized)\n",
    "As = np.array([ [1,1], [-1,-1], [1, -1], [-1, 1], [0,1], [0,-1] ])\n",
    "# And their offsets. Notice these are negative, because the normals are assumed to point outwards!\n",
    "bs = np.array([ -1, -1, -1, -1, -0.9, -0.7 ])\n",
    "eqs=np.hstack([As,bs.reshape(-1,1)])\n",
    "# Voltage boundaries\n",
    "vi = -1.5\n",
    "vf = 1.5\n",
    "extent=[vi,vf,vi,vf]\n",
    "\n",
    "# First panel\n",
    "resolution = 200\n",
    "polytope = np.zeros((resolution,resolution))\n",
    "for i,v1 in enumerate(np.linspace(vi,vf,resolution)):\n",
    "    for j,v2 in enumerate(np.linspace(vi,vf,resolution)):\n",
    "        polytope[i,j] = evaluate_model(50*As, 50*bs, np.array([v1,v2]))\n",
    "        \n",
    "ax[0].imshow(polytope, origin='lower', extent=extent, cmap='seismic', vmin=-100, vmax=100, interpolation='bilinear')\n",
    "ax[0].contour(polytope, levels=[0.0], extent=extent)\n",
    "ax[0].set_xlabel(\"$v_1$\")\n",
    "ax[0].set_ylabel(\"$v_2$\")\n",
    "ax[0].set_xticks([-1, 0, 1])\n",
    "ax[0].set_yticks([-1, 0, 1])\n",
    "\n",
    "# Second panel\n",
    "resolution = 200\n",
    "polytope = np.zeros((resolution,resolution))\n",
    "for i,v1 in enumerate(np.linspace(vi,vf,resolution)):\n",
    "    for j,v2 in enumerate(np.linspace(vi,vf,resolution)):\n",
    "        polytope[i,j] = evaluate_model(200*As, 200*bs, np.array([v1,v2]))\n",
    "        \n",
    "ax[1].imshow(polytope, origin='lower', extent=extent, cmap='seismic', vmin=-100, vmax=100, interpolation='bilinear')\n",
    "ax[1].contour(polytope, levels=[0.0], extent=extent)\n",
    "ax[1].set_xlabel(\"$v_1$\")\n",
    "ax[1].set_ylabel(\"$v_2$\")\n",
    "ax[1].set_xticks([-1, 0, 1])\n",
    "ax[1].set_yticks([-1, 0, 1])\n",
    "    \n",
    "# Third panel\n",
    "# Define 4 normals of facets (in the diagonal directions, unnormalized)\n",
    "As = np.array([ [1,1], [-1,-1], [1, -1], [-1, 1], [0,1], [0,-1] ])\n",
    "# And their offsets. Notice these are negative, because the normals are assumed to point outwards!\n",
    "bs = np.array([ -1, -1, -1, -1, -1.3, -0.7 ])\n",
    "eqs=np.hstack([As,bs.reshape(-1,1)])\n",
    "\n",
    "resolution = 200\n",
    "polytope = np.zeros((resolution,resolution))\n",
    "for i,v1 in enumerate(np.linspace(vi,vf,resolution)):\n",
    "    for j,v2 in enumerate(np.linspace(vi,vf,resolution)):\n",
    "        polytope[i,j] = evaluate_model(300*As, 300*bs, np.array([v1,v2]))\n",
    "        \n",
    "ax[2].imshow(polytope, origin='lower', extent=extent, cmap='seismic', vmin=-150, vmax=150, interpolation='bilinear')\n",
    "ax[2].contour(polytope, levels=[0.0], extent=extent)\n",
    "ax[2].set_xlabel(\"$v_1$\")\n",
    "ax[2].set_ylabel(\"$v_2$\")\n",
    "ax[2].set_xticks([-1, 0, 1])\n",
    "ax[2].set_yticks([-1, 0, 1])\n",
    "\n",
    "# For all of the above, we could also have used the same ConvexHull as before, like so:\n",
    "# hs = HalfspaceIntersection(eqs, np.array([0.,0.]))\n",
    "# corners = hs.intersections\n",
    "# # Form a convex hull based on the corners\n",
    "# hull = ConvexHull(corners)\n",
    "# # Plot lines between the points forming the hull (they are assumed to come in counterclockwise order)\n",
    "# for simplex in hull.simplices:\n",
    "#     ax[2].plot(corners[simplex, 1], corners[simplex, 0], '-', c='k', lw=1) \n",
    "    \n",
    "ax[2].plot( [1.3, 1.3], [vi, vf], '--', lw=1, c='k')\n",
    "fig.tight_layout()"
   ]
  },
  {
   "cell_type": "markdown",
   "id": "24ef20b6-7c63-4386-adf0-e62eae5c0fe9",
   "metadata": {},
   "source": [
    "# Example"
   ]
  },
  {
   "cell_type": "markdown",
   "id": "ec55f3ec-32c9-485e-83b5-81803b0250cf",
   "metadata": {},
   "source": [
    "### Performing an electron exchange"
   ]
  },
  {
   "cell_type": "code",
   "execution_count": 10,
   "id": "4a0ff990-7b12-40d6-892c-59c71e06d09c",
   "metadata": {},
   "outputs": [
    {
     "name": "stdout",
     "output_type": "stream",
     "text": [
      "[[-1  0  0  1]\n",
      " [-1  0  1  0]\n",
      " [-1  1  0  0]\n",
      " [ 0  0 -1  1]\n",
      " [ 0  1 -1  0]\n",
      " [ 1  0 -1  0]]\n"
     ]
    }
   ],
   "source": [
    "# Initialize a 2x2 device without reservoirs\n",
    "delta = 1.0/1000\n",
    "rho = 0.1\n",
    "\n",
    "n_rows = 2\n",
    "n_cols = 2\n",
    "has_reservoir = False\n",
    "sim = sim_NxM(n_rows, n_cols, delta, rho)\n",
    "\n",
    "# These 6 target states are the steps in the exchange of two electrons.\n",
    "# Please see the main text for a clearer picture.\n",
    "target_states = np.array([[1,0,1,0],[0,1,1,0],[1,1,0,0], [1,0,0,1]], dtype=np.int64)\n",
    "# Generate from these states all of the transitions we want to look for\n",
    "Ts = [generate_transitions_for_state(s, max_k=2, max_moves = 1, has_reservoir=has_reservoir) for s in target_states]\n",
    "\n",
    "# The transitions possible from the first state are now accessible via, e.g.\n",
    "print(Ts[0])\n",
    "\n",
    "# Turn on reservoir temporarily, to set the device in the 00..0 state\n",
    "sim.set_reservoir(False)\n",
    "zero_state = np.zeros(sim.num_dots, dtype=np.int64)\n",
    "sim.activate_state(zero_state)\n",
    "\n",
    "# Compute the ground truth gamma\n",
    "gammatruth = sim.boundaries(zero_state).A.copy()\n",
    "\n",
    "# Then set it to what it should actually be\n",
    "sim.set_reservoir(has_reservoir)"
   ]
  },
  {
   "cell_type": "markdown",
   "id": "db04c999-cd1a-46c7-b4a1-490c44f417d6",
   "metadata": {},
   "source": [
    "#### Learn the zero polytope (all QDs empty) "
   ]
  },
  {
   "cell_type": "code",
   "execution_count": 11,
   "id": "087eebf5-1ae8-49d7-92a5-bf87f1efcd33",
   "metadata": {},
   "outputs": [
    {
     "name": "stdout",
     "output_type": "stream",
     "text": [
      "[[0.99996697 1.0013011  0.99976262 0.99945047]\n",
      " [1.00184488 0.99995089 0.99906639 1.00027343]\n",
      " [1.0001488  1.00061874 0.99998149 1.00024225]\n",
      " [1.00030453 0.99958995 0.99999894 1.00001095]]\n"
     ]
    }
   ],
   "source": [
    "# Learn the normals and offsets of the zero polytope, and normalize the normals (last col is the offsets)\n",
    "gamma, _, _, iter_info = learn_zero_polytope(sim, delta, num_start_samples = 4*sim.num_dots*(sim.num_dots+5))\n",
    "gamma = gamma/np.linalg.norm(gamma[:,:-1],axis=1).reshape(-1,1)\n",
    "gamma = gamma[:,:-1]\n",
    "\n",
    "# A priori, we do not know which transition (row of gamma) belongs to which dot. \n",
    "# We're assuming that each dot has one sensor (dot), so we order the rows s.t. for dot i gamma_ij is the largest.\n",
    "gamma_order = []\n",
    "for i in range(sim.num_dots):\n",
    "    jmax = -1\n",
    "    maxv = -np.infty\n",
    "    for j in range(sim.num_dots):\n",
    "        if j in gamma_order: continue\n",
    "        if np.abs(gamma[j,i]) > maxv:\n",
    "            maxv = np.abs(gamma[j,i])\n",
    "            jmax = j\n",
    "    gamma_order.append(jmax)\n",
    "gamma=gamma[gamma_order,:]\n",
    "\n",
    "# Normalize and compare\n",
    "gammatruth /= np.linalg.norm(gammatruth,axis=1).reshape(-1,1)\n",
    "gamma /= np.linalg.norm(gamma,axis=1).reshape(-1,1)\n",
    "\n",
    "# These should all be very close to unity (i.e. the learned gamma matches the true gamma closely)\n",
    "print(gammatruth/gamma)"
   ]
  },
  {
   "cell_type": "markdown",
   "id": "c92411f4-d88d-4b00-80ea-ec475827c6a5",
   "metadata": {},
   "source": [
    "### Now learn all of the other polytopes that are relevant to the target states"
   ]
  },
  {
   "cell_type": "code",
   "execution_count": 13,
   "id": "884d6afa-249e-4a06-a2c6-6ffce1a2e7da",
   "metadata": {
    "tags": []
   },
   "outputs": [
    {
     "name": "stdout",
     "output_type": "stream",
     "text": [
      "\n",
      "Setting device in state  [1 0 1 0]\n",
      "Computing ground truth for this state\n",
      "Point inside the polytope this state belongs to:  [1 0 1 0] [0.00678995 1.21062712 0.02586673]\n",
      "Number of transitions from this state:  6\n",
      "start point: [0.00778791 1.12116538 0.02301131]\n",
      "Number of searches:  34 / 200\n",
      "Number of searches:  52 / 200\n",
      "Number of searches:  64 / 200\n",
      "Number of searches:  76 / 200\n",
      "Finished learning polytope\n",
      "Number of transitions found: 6\n",
      "max_rad not found: 0.0\n",
      "[-1.  0.  0.  1.] 9 0.07037058459455903\n",
      "[-1.  0.  1.  0.] 18 1.232820877702787\n",
      "[-1.  1.  0.  0.] 7 0.06826159499265051\n",
      "[ 0.  0. -1.  1.] 10 0.07096941765450857\n",
      "[ 0.  1. -1.  0.] 12 0.07346224750467659\n",
      "[ 1.  0. -1.  0.] 18 1.2351984373209317\n",
      "Computing ground truth for this state\n",
      "Point inside the polytope this state belongs to:  [1 0 1 0] [0.00678995 1.21062712 0.02586673]\n",
      "Number of transitions from this state:  6\n",
      "\n",
      "Setting device in state  [0 1 1 0]\n",
      "Computing ground truth for this state\n",
      "Point inside the polytope this state belongs to:  [0 1 1 0] [ 0.01145697  0.05580384 -1.26976662]\n",
      "Number of transitions from this state:  7\n",
      "start point: [ 0.00884117  0.04982348 -1.16630069]\n",
      "Number of searches:  34 / 200\n",
      "Number of searches:  52 / 200\n",
      "Number of searches:  70 / 200\n",
      "Number of searches:  82 / 200\n",
      "Finished learning polytope\n",
      "Number of transitions found: 6\n",
      "max_rad not found: 0.0\n",
      "[ 0. -1.  0.  1.] 14 0.06839854491329757\n",
      "[ 0. -1.  1.  0.] 17 1.1741990613186202\n",
      "[ 0.  0. -1.  1.] 10 0.06711536986660557\n",
      "[ 0.  1. -1.  0.] 19 1.1733849881918177\n",
      "[ 1. -1.  0.  0.] 13 0.06826350370963548\n",
      "[ 1.  0. -1.  0.] 9 0.06699125145357934\n",
      "Computing ground truth for this state\n",
      "Point inside the polytope this state belongs to:  [0 1 1 0] [ 0.01145697  0.05580384 -1.26976662]\n",
      "Number of transitions from this state:  7\n",
      "\n",
      "Setting device in state  [1 1 0 0]\n",
      "Computing ground truth for this state\n",
      "Point inside the polytope this state belongs to:  [1 1 0 0] [ 1.2108435  -0.04061599  0.00602358]\n",
      "Number of transitions from this state:  6\n",
      "start point: [ 1.11610492 -0.03276091  0.00115005]\n",
      "Number of searches:  32 / 200\n",
      "Number of searches:  48 / 200\n",
      "Number of searches:  63 / 200\n",
      "Number of searches:  78 / 200\n",
      "Finished learning polytope\n",
      "Number of transitions found: 6\n",
      "max_rad not found: 0.0\n",
      "[-1.  0.  0.  1.] 7 0.06828411294469927\n",
      "[-1.  0.  1.  0.] 13 0.0668526578606963\n",
      "[-1.  1.  0.  0.] 19 1.2265186421251633\n",
      "[ 0. -1.  0.  1.] 7 0.07069316831810285\n",
      "[ 0. -1.  1.  0.] 13 0.07341863184475718\n",
      "[ 1. -1.  0.  0.] 19 1.2280025069417557\n",
      "Computing ground truth for this state\n",
      "Point inside the polytope this state belongs to:  [1 1 0 0] [ 1.2108435  -0.04061599  0.00602358]\n",
      "Number of transitions from this state:  6\n",
      "\n",
      "Setting device in state  [1 0 0 1]\n",
      "Computing ground truth for this state\n",
      "Point inside the polytope this state belongs to:  [1 0 0 1] [ 0.00213202 -0.03887898  1.26564217]\n",
      "Number of transitions from this state:  7\n",
      "start point: [-1.83331393e-04 -3.02325674e-02  1.13640849e+00]\n",
      "Number of searches:  34 / 200\n",
      "Number of searches:  47 / 200\n",
      "Number of searches:  62 / 200\n",
      "Number of searches:  74 / 200\n",
      "Finished learning polytope\n",
      "Number of transitions found: 6\n",
      "max_rad not found: 0.0\n",
      "[-1.  0.  0.  1.] 17 1.162987455245274\n",
      "[-1.  0.  1.  0.] 10 0.06084630252473433\n",
      "[-1.  1.  0.  0.] 10 0.06073119669315544\n",
      "[ 0.  0.  1. -1.] 10 0.07097335886828801\n",
      "[ 0.  1.  0. -1.] 7 0.0704970540363315\n",
      "[ 1.  0.  0. -1.] 18 1.1585550394448971\n",
      "Computing ground truth for this state\n",
      "Point inside the polytope this state belongs to:  [1 0 0 1] [ 0.00213202 -0.03887898  1.26564217]\n",
      "Number of transitions from this state:  7\n"
     ]
    }
   ],
   "source": [
    "# Set a seed for reproducability\n",
    "np.random.seed(0)\n",
    "\n",
    "results = []  # For storing learned polytopes\n",
    "truth = []    # For storing the exact polytopes\n",
    "for state_idx,target_state in enumerate(target_states):\n",
    "    # Setup simulation of this state\n",
    "    sim_step = sim\n",
    "    gamma_step = gamma\n",
    "    \n",
    "    # If we have no reservoir, we need to project away one degree of freedom to have a chance of closed polytopes\n",
    "    if not has_reservoir:\n",
    "        # There are N-1 independent directions formed by subtracting one of the principle directions from all other.\n",
    "        # The Nth principle direction is\n",
    "        v = np.linalg.inv(gamma_step)@np.ones(sim.num_dots)\n",
    "        v /= np.linalg.norm(v)\n",
    "        # For any t with sum(t)=0: t^TAv = 0\n",
    "\n",
    "        # We remove the vector by defining a householder transformation that would move v->(1,0,...,0)\n",
    "        # and then we remove the first element (we make use of the fact that the householder transformation is its own inverse)\n",
    "        h = v.copy()\n",
    "        h[0] -= 1.0\n",
    "        h/=np.linalg.norm(h)\n",
    "        P = np.eye(sim.num_dots) - 2*np.outer(h,h)\n",
    "        P = P[:,1:]\n",
    "        \n",
    "        sim_step = sim_step.slice(P, np.zeros(sim.num_dots))\n",
    "        sim_step.set_reservoir(False)\n",
    "        gamma_step = gamma_step@P\n",
    "        \n",
    "    # Set device in the target state\n",
    "    print(\"\\nSetting device in state \", target_state)\n",
    "    sim_step.activate_state(target_state)\n",
    "    \n",
    "    # Also compute the ground truth (for larger devices, this could/should be commented out!)\n",
    "    print(\"Computing ground truth for this state\")\n",
    "    sim_step.activate_state(target_state)\n",
    "    polytope = sim_step.boundaries(target_state)\n",
    "    print(\"Point inside the polytope this state belongs to: \", target_state, polytope.point_inside)\n",
    "    print(\"Number of transitions from this state: \",polytope.A.shape[0])\n",
    "    \n",
    "    \n",
    "    As = sim_step.active_polytope.A.copy()\n",
    "    bs = sim_step.active_polytope.b.copy()\n",
    "    eqs=np.hstack([As,bs.reshape(-1,1)])\n",
    "    startpoint = find_feasible_point(eqs)\n",
    "    print(\"start point:\", startpoint)\n",
    "    \n",
    "    #startpoint, _, _ = sim_step.line_search(polytope.point_inside, np.random.randn(sim_step.num_inputs))\n",
    "    #startpoint = 0.95*startpoint + 0.05 * polytope.point_inside\n",
    "\n",
    "    # Learn the polytope (set verbose = 2 for more output, such as the convergence of the max likelihood)\n",
    "    A, b, x_m, x_p, found, num_searches = learn_convex_polytope(sim_step, delta, startpoint, Ts[state_idx].astype(float), gamma_step, max_searches=200, verbose=1)\n",
    "    \n",
    "    #consts=np.hstack([sim_step.boundsA,sim_step.boundsb.reshape(-1,1)])\n",
    "    #vertices=HalfspaceIntersection(np.vstack([eqs,consts]), startpoint).intersections\n",
    "    #plot_facet(np.vstack([eqs,consts]), vertices, \"\", labels=np.vstack([Ts[state_idx],np.zeros((4,4))]),points=x_p)\n",
    "    \n",
    "    #eqs_res=np.hstack([A,b.reshape(-1,1)])\n",
    "    #vertices=HalfspaceIntersection(np.vstack([eqs_res,consts]), startpoint).intersections\n",
    "    #plot_facet(np.vstack([eqs_res,consts]), vertices, \"\", labels=np.vstack([Ts[state_idx],np.zeros((4,4))]),points=x_p)\n",
    "    \n",
    "    results.append({\n",
    "        \"state\":target_state.copy(),\n",
    "        \"labels\":Ts[state_idx].copy(), \"A\":A.copy(), \"b\":b.copy(),\n",
    "        \"found\":found,\n",
    "        \"searches\":num_searches,\n",
    "        \"x_m\":x_m, \"x_p\":x_p\n",
    "    })\n",
    "    \n",
    "    # Also compute the ground truth (for larger devices, this could/should be commented out!)\n",
    "    print(\"Computing ground truth for this state\")\n",
    "    sim_step.activate_state(target_state)\n",
    "    polytope = sim_step.boundaries(target_state)\n",
    "    print(\"Point inside the polytope this state belongs to: \", target_state, polytope.point_inside)\n",
    "    print(\"Number of transitions from this state: \",polytope.A.shape[0])\n",
    "    \n",
    "    _, radii, _ = sample_boundary_points(polytope.A, polytope.b, sim_step.boundsA, sim_step.boundsb)\n",
    "    truth.append({\n",
    "        \"state\":target_state.copy(), \"Gamma\": sim_step.Cinv@sim_step.C_g,\n",
    "        \"labels\":polytope.labels.copy(), \"A\":polytope.A.copy(), \"b\":polytope.b.copy(),\n",
    "        \"radius\":radii, \"projection\":np.ones(sim_step.num_dots,dtype=bool),\n",
    "        \"C\": sim_step.C.copy(), \"C_g\": sim_step.C_g.copy(), \"offset\": sim_step.offset.copy()\n",
    "    })"
   ]
  },
  {
   "cell_type": "markdown",
   "id": "cc887bc9-982b-487f-9c2e-838f67447e53",
   "metadata": {},
   "source": [
    "### See how well the algorithm did"
   ]
  },
  {
   "cell_type": "code",
   "execution_count": 14,
   "id": "540634a5-a223-4702-a26a-ed2a5e8b652b",
   "metadata": {},
   "outputs": [
    {
     "name": "stdout",
     "output_type": "stream",
     "text": [
      "It took 148 line searches to learn the zero-polytope\n",
      "Error on the virtual gates:  [2.73751141e-04 3.63742933e-04 6.66239116e-05 8.60106990e-05]\n",
      "Error on gamma:  [2.34036404e-04 3.01277879e-04 7.61767094e-05 7.18059855e-05]\n",
      "We _did_ learn the zero-polytope succesfully\n"
     ]
    }
   ],
   "source": [
    "virt_coords = gammatruth @ np.linalg.pinv(gamma)\n",
    "virt_coords /= np.linalg.norm(virt_coords,axis=1).reshape(-1,1)\n",
    "err_virt = np.arccos(np.diag(virt_coords))\n",
    "err_gamma = np.arccos(np.diag(gammatruth@gamma.T))\n",
    "\n",
    "gamma_searches = iter_info[-1][0]\n",
    "print(\"It took %d line searches to learn the zero-polytope\"%(gamma_searches))\n",
    "print(\"Error on the virtual gates: \", err_virt)\n",
    "print(\"Error on gamma: \", err_gamma)\n",
    "\n",
    "# Evaluate success\n",
    "dim_base = n_rows * n_cols\n",
    "gamma_matches = np.sum(iter_info[-1][1] >= dim_base+5 )\n",
    "gamma_success = (gamma_matches == dim_base)\n",
    "print(\"We\", \"_did_\" if gamma_success else \"_did not_\", \"learn the zero-polytope succesfully\")"
   ]
  },
  {
   "cell_type": "code",
   "execution_count": 15,
   "id": "02427708-67dd-4f03-aaef-4e9d4cce6ae9",
   "metadata": {},
   "outputs": [
    {
     "name": "stdout",
     "output_type": "stream",
     "text": [
      "For polygon 0, we found:  [ True  True  True  True  True  True]\n",
      "[[-0.71936437 -0.69380643 -0.03387542]\n",
      " [-0.77914429  0.01131865 -0.62674242]\n",
      " [-0.0303341  -0.76350483 -0.64508931]\n",
      " [-0.04294567 -0.80643663  0.58975896]\n",
      " [ 0.69017707 -0.72323285 -0.02428708]\n",
      " [ 0.77914429 -0.01131865  0.62674242]]\n",
      "[ 0.00857155 -0.11642511  0.00868048  0.01099152  0.00117178 -0.13204351]\n"
     ]
    },
    {
     "ename": "TypeError",
     "evalue": "'NoneType' object is not subscriptable",
     "output_type": "error",
     "traceback": [
      "\u001b[0;31m---------------------------------------------------------------------------\u001b[0m",
      "\u001b[0;31mTypeError\u001b[0m                                 Traceback (most recent call last)",
      "\u001b[0;32m/tmp/ipykernel_819/1304849608.py\u001b[0m in \u001b[0;36m<module>\u001b[0;34m\u001b[0m\n\u001b[1;32m     41\u001b[0m \u001b[0;34m\u001b[0m\u001b[0m\n\u001b[1;32m     42\u001b[0m     \u001b[0;31m# Sample points on the boundaries of the found polytopes\u001b[0m\u001b[0;34m\u001b[0m\u001b[0;34m\u001b[0m\u001b[0;34m\u001b[0m\u001b[0m\n\u001b[0;32m---> 43\u001b[0;31m     \u001b[0m_\u001b[0m\u001b[0;34m,\u001b[0m \u001b[0mradius_res\u001b[0m\u001b[0;34m[\u001b[0m\u001b[0mfound_res\u001b[0m\u001b[0;34m]\u001b[0m\u001b[0;34m,\u001b[0m \u001b[0mmid_res\u001b[0m\u001b[0;34m[\u001b[0m\u001b[0mfound_res\u001b[0m\u001b[0;34m]\u001b[0m \u001b[0;34m=\u001b[0m \u001b[0msample_boundary_points\u001b[0m\u001b[0;34m(\u001b[0m\u001b[0mA_res\u001b[0m\u001b[0;34m[\u001b[0m\u001b[0mfound_res\u001b[0m\u001b[0;34m]\u001b[0m\u001b[0;34m,\u001b[0m \u001b[0mb_res\u001b[0m\u001b[0;34m[\u001b[0m\u001b[0mfound_res\u001b[0m\u001b[0;34m]\u001b[0m\u001b[0;34m,\u001b[0m \u001b[0mboundsA\u001b[0m\u001b[0;34m,\u001b[0m \u001b[0mboundsb\u001b[0m\u001b[0;34m)\u001b[0m\u001b[0;34m\u001b[0m\u001b[0;34m\u001b[0m\u001b[0m\n\u001b[0m\u001b[1;32m     44\u001b[0m     \u001b[0;31m# Use them to find a point inside\u001b[0m\u001b[0;34m\u001b[0m\u001b[0;34m\u001b[0m\u001b[0;34m\u001b[0m\u001b[0m\n\u001b[1;32m     45\u001b[0m     \u001b[0mpoint_inside\u001b[0m \u001b[0;34m=\u001b[0m \u001b[0mnp\u001b[0m\u001b[0;34m.\u001b[0m\u001b[0mmean\u001b[0m\u001b[0;34m(\u001b[0m\u001b[0mmid_res\u001b[0m\u001b[0;34m[\u001b[0m\u001b[0mfound_res\u001b[0m\u001b[0;34m]\u001b[0m\u001b[0;34m,\u001b[0m\u001b[0maxis\u001b[0m\u001b[0;34m=\u001b[0m\u001b[0;36m0\u001b[0m\u001b[0;34m)\u001b[0m\u001b[0;34m\u001b[0m\u001b[0;34m\u001b[0m\u001b[0m\n",
      "\u001b[0;32m~/PolyResults/quantum_polytopes/src/fit_convex_polytope.py\u001b[0m in \u001b[0;36msample_boundary_points\u001b[0;34m(A_full, b_full, boundsA, boundsb, points_per_boundary, do_sample)\u001b[0m\n\u001b[1;32m     82\u001b[0m \u001b[0;34m\u001b[0m\u001b[0m\n\u001b[1;32m     83\u001b[0m         \u001b[0;32mif\u001b[0m \u001b[0mstatus\u001b[0m \u001b[0;32mnot\u001b[0m \u001b[0;32min\u001b[0m \u001b[0;34m[\u001b[0m\u001b[0;34m\"infeasible\"\u001b[0m\u001b[0;34m,\u001b[0m \u001b[0;34m\"infeasible_inaccurate\"\u001b[0m\u001b[0;34m]\u001b[0m\u001b[0;34m:\u001b[0m\u001b[0;34m\u001b[0m\u001b[0;34m\u001b[0m\u001b[0m\n\u001b[0;32m---> 84\u001b[0;31m             \u001b[0mr\u001b[0m \u001b[0;34m=\u001b[0m \u001b[0mr\u001b[0m\u001b[0;34m.\u001b[0m\u001b[0mvalue\u001b[0m\u001b[0;34m[\u001b[0m\u001b[0;36m0\u001b[0m\u001b[0;34m]\u001b[0m\u001b[0;34m\u001b[0m\u001b[0;34m\u001b[0m\u001b[0m\n\u001b[0m\u001b[1;32m     85\u001b[0m             \u001b[0my\u001b[0m \u001b[0;34m=\u001b[0m \u001b[0my\u001b[0m\u001b[0;34m.\u001b[0m\u001b[0mvalue\u001b[0m\u001b[0;34m\u001b[0m\u001b[0;34m\u001b[0m\u001b[0m\n\u001b[1;32m     86\u001b[0m         \u001b[0;32melse\u001b[0m\u001b[0;34m:\u001b[0m \u001b[0;31m# SOLVING PROBLEM FAILED FOR SOME REASON.\u001b[0m\u001b[0;34m\u001b[0m\u001b[0;34m\u001b[0m\u001b[0m\n",
      "\u001b[0;31mTypeError\u001b[0m: 'NoneType' object is not subscriptable"
     ]
    }
   ],
   "source": [
    "results_virtual = []\n",
    "results_poly = []\n",
    "\n",
    "# Sub smaller because no reservoir?\n",
    "dim_sub = n_rows * n_cols - 1 + has_reservoir\n",
    "\n",
    "# Now we'll compare each polytope from the learning algorithm to the ground truth polytopes\n",
    "for ind_p, p_truth, p_res in zip(range(len(truth)), truth, results):\n",
    "    \n",
    "    # Load polytope equations and normalize\n",
    "    A_truth = p_truth['A'].copy()\n",
    "    A_truth /= np.linalg.norm(p_truth['A'],axis=1).reshape(-1,1)\n",
    "    \n",
    "    A_res = p_res['A'].copy()\n",
    "    A_res /= np.linalg.norm(p_res['A'],axis=1).reshape(-1,1)+1.e-5\n",
    "    \n",
    "    b_truth = p_truth['b'].copy()\n",
    "    b_truth /= np.linalg.norm(p_truth['A'],axis=1)\n",
    "    \n",
    "    b_res  = p_res['b'].copy()\n",
    "    b_res /= np.linalg.norm(p_res['A'],axis=1)+1.e-5\n",
    "        \n",
    "    # Extract the true max radius and true labels (= transitions)\n",
    "    radius_truth = p_truth['radius']\n",
    "    labels_truth = p_truth['labels']\n",
    "    \n",
    "    # And also the transitions we wanted to look for, as well as whether we found them\n",
    "    T = p_res['labels']\n",
    "    found_res = p_res['found']\n",
    "    \n",
    "    print(\"For polygon %d, we found: \"%ind_p, found_res)\n",
    "    print(A_res[found_res])\n",
    "    print(b_res[found_res])\n",
    "    #print(T[found_res])\n",
    "    \n",
    "    # Obtain geometry information of learned polytope\n",
    "    boundsA = -np.eye(dim_sub)\n",
    "    boundsb = -2*np.ones(dim_sub)\n",
    "    radius_res = np.zeros(A_res.shape[0])\n",
    "    mid_res = np.zeros((A_res.shape[0],dim_sub))\n",
    "\n",
    "    # Sample points on the boundaries of the found polytopes\n",
    "    _, radius_res[found_res], mid_res[found_res] = sample_boundary_points(A_res[found_res], b_res[found_res], boundsA, boundsb)\n",
    "    # Use them to find a point inside\n",
    "    point_inside = np.mean(mid_res[found_res],axis=0)\n",
    "    found_res = found_res*(radius_res > 2.0*delta)\n",
    "\n",
    "    # Statistics\n",
    "    num_false_pos = 0\n",
    "    num_interesting = 0\n",
    "    num_found = 0\n",
    "    err_angle = []\n",
    "    err_b = []\n",
    "    radius_interesting = []\n",
    "    found_interesting = []\n",
    "    workable_interesting = []\n",
    "    label_interesting = []\n",
    "\n",
    "    # Enumerate all facets we were looking for\n",
    "    for pos_res, t in enumerate(T):\n",
    "        # See if this transition (the row t of T) is anywhere in the true labels\n",
    "        # (by checking if there is one where the diff sums to zero)\n",
    "        diff = np.sum(np.abs(labels_truth - t.reshape(1,-1)),axis=1)\n",
    "        if np.all(diff) > 1.e-3:\n",
    "            # Facet does not exist, so check if we managed to find it. \n",
    "            # If so (i.e. found_res for this index is true), it is a false positive\n",
    "            num_false_pos += found_res[pos_res]\n",
    "            continue\n",
    "\n",
    "        # If we get here, we can now find the index for this transition in the ground truth\n",
    "        pos_truth = np.where(diff < 1.e-3)[0][0]\n",
    "\n",
    "        # Check if the facet is large enough to be interesting:\n",
    "        if radius_truth[pos_truth] < 2.0*delta: #selection criterion\n",
    "            continue\n",
    "\n",
    "        # At this point, the facet exists AND is large enough\n",
    "        num_interesting += 1\n",
    "        label_interesting.append(t)\n",
    "        radius_interesting.append(radius_truth[pos_truth])\n",
    "        found_interesting.append(found_res[pos_res])\n",
    "        num_found += found_res[pos_res]\n",
    "        \n",
    "        # The question remains whether it is actually addressable. Let's assume not for now\n",
    "        workable_interesting.append(False)\n",
    "\n",
    "        # No need to continue if we have not found it\n",
    "        if not found_res[pos_res]:\n",
    "            continue\n",
    "\n",
    "        # Measure errors in parameters\n",
    "        err_angle.append(np.arccos(A_truth[pos_truth]@A_res[pos_res]))\n",
    "        err_b.append(np.abs(b_truth[pos_truth]-b_res[pos_res]))\n",
    "\n",
    "        # To check whether the transition is workable, we construct a ray from the \n",
    "        # inside of the polytope to the boundary\n",
    "        direction = mid_res[pos_res]-point_inside\n",
    "        direction /= np.linalg.norm(direction)\n",
    "\n",
    "        # TODO\n",
    "        A_line = A_truth @ direction\n",
    "        positive = np.where(A_line > 0)[0]\n",
    "        b_line = b_truth + A_truth @ point_inside\n",
    "        index = np.argmin(-b_line[positive]/A_line[positive])\n",
    "        \n",
    "        if positive[index] == pos_truth:\n",
    "            workable_interesting[-1] = True\n",
    "        else:\n",
    "            print(\"found, but non-workable:\", t)\n",
    "\n",
    "    # See how many interesting polytopes we've found\n",
    "    if num_interesting == 0:\n",
    "        print(\"No interesting transitions exist for polytope %d\"%ind_p)\n",
    "    else:\n",
    "        #print(\"For polytope %d, we found %d transitions out of which %d are interesting and %d don't really exist\"%(ind_p, num_found, num_interesting, num_false_pos))\n",
    "        print(\"For polytope %d, of %d interesting transitions, we found %d and additionally %d that don't really exist\"%(ind_p, num_interesting, num_found, num_false_pos))\n",
    "        \n",
    "        radius_interesting=np.array(radius_interesting)\n",
    "        found_interesting=np.array(found_interesting,dtype=bool)\n",
    "        workable_interesting = np.array(workable_interesting, dtype=bool)\n",
    "\n",
    "        results_poly.append({\n",
    "            \"num_found\":num_found, \"num_interesting\":num_interesting, \"num_workable\":np.sum(workable_interesting),\n",
    "            \"labels\": label_interesting, \"radius\":radius_interesting, \"found\":found_interesting, \"workable\": workable_interesting,\n",
    "            \"err_angle\":err_angle,\n",
    "            \"err_b\":err_b,\n",
    "            \"false_pos\": num_false_pos,\n",
    "            \"searches\":p_res[\"searches\"]\n",
    "        })"
   ]
  },
  {
   "cell_type": "code",
   "execution_count": null,
   "id": "880aee30-a8e8-4d30-aa98-e1b23f92fd3c",
   "metadata": {},
   "outputs": [],
   "source": []
  },
  {
   "cell_type": "code",
   "execution_count": null,
   "id": "8c6f6ad4-a3a3-4484-8f3e-a07cd2ba626e",
   "metadata": {},
   "outputs": [],
   "source": []
  },
  {
   "cell_type": "code",
   "execution_count": null,
   "id": "97dfb4c5-2eda-46c1-82c1-fab8623a3d51",
   "metadata": {},
   "outputs": [],
   "source": []
  },
  {
   "cell_type": "code",
   "execution_count": null,
   "id": "6873c756-3019-4c75-96f7-74aa6afc9b2a",
   "metadata": {},
   "outputs": [],
   "source": []
  },
  {
   "cell_type": "code",
   "execution_count": null,
   "id": "843f4e24-d35c-4823-8a48-367acb128a57",
   "metadata": {},
   "outputs": [],
   "source": []
  },
  {
   "cell_type": "code",
   "execution_count": null,
   "id": "0a089968-50bb-41d7-8e69-014c363d1d4b",
   "metadata": {},
   "outputs": [],
   "source": []
  },
  {
   "cell_type": "markdown",
   "id": "36907e9e-ed8b-4032-aabd-39e812a75ae0",
   "metadata": {},
   "source": [
    "### Evaluate"
   ]
  },
  {
   "cell_type": "code",
   "execution_count": 65,
   "id": "1c68960e-b080-42aa-92d6-313433008d77",
   "metadata": {},
   "outputs": [
    {
     "data": {
      "text/plain": [
       "Text(0.5, 0, 'Deviation (Degrees)')"
      ]
     },
     "execution_count": 65,
     "metadata": {},
     "output_type": "execute_result"
    },
    {
     "data": {
      "image/png": "[encoded data removed]",
      "text/plain": [
       "<Figure size 432x288 with 1 Axes>"
      ]
     },
     "metadata": {
      "needs_background": "light"
     },
     "output_type": "display_data"
    }
   ],
   "source": [
    "markers = ('x', '+', '.', '1', '*','|')\n",
    "colors=('r','orange','blue','black', 'grey')\n",
    "settings= [(1,1,500),(2,1,1000),(3,3,500),(4,3,1000)]\n",
    "\n",
    "# Angle error\n",
    "ax = plt.subplot()\n",
    "\n",
    "qs = results_virtual[\"error_A0\"]*180/np.pi\n",
    "y=1\n",
    "ax.plot(qs[[1,3]],(y,y), 'r'+markers[-1]+'--', label=label, c=colors[0],linewidth=0.5)\n",
    "ax.plot(qs[2],y, markers[0], c=colors[0],linewidth=0.5)\n",
    "\n",
    "qs = results_virtual[\"error_virt\"]*180/np.pi\n",
    "y = 2\n",
    "ax.plot(qs[[1,3]],(y,y), 'r'+markers[-1]+'--', label=label, c=colors[0],linewidth=0.5)\n",
    "ax.plot(qs[2],y, markers[0], c=colors[0],linewidth=0.5)\n",
    "\n",
    "ax.set_ylim(0,3)\n",
    "ax.set_yticks([1,2])\n",
    "ax.set_yticklabels([\"Gamma\", \"Virtual Gates\"], rotation=90)\n",
    "\n",
    "ax.set_xlabel(\"Deviation (Degrees)\")"
   ]
  },
  {
   "cell_type": "code",
   "execution_count": 66,
   "id": "69ef88fa-eb44-46f5-b759-979d6c027318",
   "metadata": {},
   "outputs": [
    {
     "data": {
      "text/plain": [
       "Text(0.5, 0, 'Number of Line-searches')"
      ]
     },
     "execution_count": 66,
     "metadata": {},
     "output_type": "execute_result"
    },
    {
     "data": {
      "image/png": "[encoded data removed]",
      "text/plain": [
       "<Figure size 432x288 with 1 Axes>"
      ]
     },
     "metadata": {
      "needs_background": "light"
     },
     "output_type": "display_data"
    }
   ],
   "source": [
    "# Angle error\n",
    "ax = plt.subplot()\n",
    "\n",
    "qs = results_virtual[\"searches\"]\n",
    "y=1\n",
    "ax.plot(qs[[1,3]],(y,y), 'r'+markers[-1]+'--', label=label, c=colors[0],linewidth=0.5)\n",
    "ax.plot(qs[2],y, markers[0], c=colors[0],linewidth=0.5)\n",
    "ax.set_xlabel(\"Number of Line-searches\")"
   ]
  },
  {
   "cell_type": "markdown",
   "id": "d8882d13-8896-40da-b338-1965e696c51e",
   "metadata": {},
   "source": [
    "#### Fraction of transitions found and workable"
   ]
  },
  {
   "cell_type": "code",
   "execution_count": 67,
   "id": "2a4ab457-f490-4af2-87ce-0bb8410612a7",
   "metadata": {},
   "outputs": [
    {
     "name": "stdout",
     "output_type": "stream",
     "text": [
      "The fraction of transitions found: 0.98\n",
      "The fraction of found transitions that is workable: 1.00\n"
     ]
    }
   ],
   "source": [
    "num_interesting = 0\n",
    "num_workable = 0\n",
    "num_found = 0\n",
    "\n",
    "for run in results_poly:\n",
    "    for poly in results_poly[run]:\n",
    "        num_interesting += poly[\"num_interesting\"]\n",
    "        num_workable += poly[\"num_workable\"]\n",
    "        num_found += poly[\"num_found\"]\n",
    "\n",
    "print(\"The fraction of transitions found: %.2f\"%(num_found/num_interesting))\n",
    "print(\"The fraction of found transitions that is workable: %.2f\"%(num_workable/num_found))"
   ]
  },
  {
   "cell_type": "markdown",
   "id": "b980468e-e5f3-43ec-8d12-3cb972a00002",
   "metadata": {},
   "source": [
    "#### confidence intervals of radii"
   ]
  },
  {
   "cell_type": "code",
   "execution_count": 68,
   "id": "0c243c7a-413c-484f-9e6b-c7df55dc62ba",
   "metadata": {},
   "outputs": [
    {
     "name": "stderr",
     "output_type": "stream",
     "text": [
      "No handles with labels found to put in legend.\n"
     ]
    },
    {
     "data": {
      "image/png": "[encoded data removed]",
      "text/plain": [
       "<Figure size 288x180 with 1 Axes>"
      ]
     },
     "metadata": {
      "needs_background": "light"
     },
     "output_type": "display_data"
    }
   ],
   "source": [
    "plt.figure(figsize=(4,2.5))\n",
    "\n",
    "radii=np.zeros(0)\n",
    "for run in results_poly:\n",
    "    for poly in results_poly[run]:\n",
    "        radii = np.append(radii, poly[\"radius\"][~poly[\"found\"]]*delta)\n",
    "\n",
    "if radii.shape[0] <= 1:\n",
    "    qs = [2.02,2.02,2.02]\n",
    "else:\n",
    "    qs = np.quantile(np.maximum(radii,2.02),[0.5,0.95,1])\n",
    "\n",
    "y=1\n",
    "plt.plot(qs[1]/2-1,y, markers[0], label=label, c=colors[0],linewidth=0.5)\n",
    "plt.plot(qs[0]/2-1,y, markers[0], c=colors[0],linewidth=0.5)\n",
    "\n",
    "\n",
    "plt.gca().set_yticks([1,2,3,4])\n",
    "plt.gca().set_yticklabels([r\"$\\rho=1,\\delta=2mV$\",r\"$\\rho=1, \\delta=1mV$\",r\"$\\rho=3, \\delta=2mV$\",r\"$\\rho=3, \\delta=1mV$\"])\n",
    "plt.xscale('log')\n",
    "plt.gca().set_xticks([0.01,0.1,1,10])\n",
    "plt.gca().set_xlim(0.007,100)\n",
    "plt.gca().set_xticklabels([\"<1%\", \"10%\", \"100%\", \"1000%\"])\n",
    "plt.gca().set_ylim(0.5,4.5)\n",
    "plt.xlabel(\"$\\\\frac{r}{r_{\\min}}-1$ in percent\")\n",
    "plt.legend()\n",
    "plt.tight_layout()"
   ]
  },
  {
   "cell_type": "code",
   "execution_count": 69,
   "id": "8e3e6940-5c30-4751-bf7e-70a0c945faf8",
   "metadata": {},
   "outputs": [
    {
     "data": {
      "image/png": "[encoded data removed]",
      "text/plain": [
       "<Figure size 288x180 with 1 Axes>"
      ]
     },
     "metadata": {
      "needs_background": "light"
     },
     "output_type": "display_data"
    }
   ],
   "source": [
    "#searches\n",
    "plt.figure(figsize=(4,2.5))\n",
    "\n",
    "searches = []\n",
    "for run in results_poly:\n",
    "    for poly in results_poly[run]:\n",
    "        searches.append(poly[\"searches\"])\n",
    "qs = np.quantile(searches,[0,0.05,0.5,0.95,1])\n",
    "y=1\n",
    "label = None\n",
    "if j == 1:\n",
    "    label = names_poly[base]\n",
    "plt.plot(qs[[1,3]],(y,y), 'r'+markers[0]+'--', label=label, c=colors[0],linewidth=0.5)\n",
    "#plt.plot(qs[2],y, markers[i], c=colors[i],linewidth=0.5)\n",
    "        \n",
    "plt.gca().set_yticks([1,2,3,4])\n",
    "plt.gca().set_yticklabels([r\"$\\rho=1,\\delta=2mV$\",r\"$\\rho=1, \\delta=1mV$\",r\"$\\rho=3, \\delta=2mV$\",r\"$\\rho=3, \\delta=1mV$\"])\n",
    "plt.gca().set_ylim(0.5,4.5)\n",
    "plt.gca().set_xlim(100,10000)\n",
    "plt.xscale('log')\n",
    "plt.gca().set_xticks([100,1000,10000])\n",
    "plt.gca().set_xticklabels([r\"100\",r\"1000\",r\"10000\"])\n",
    "#plt.legend()\n",
    "plt.xlabel(\"Number of Line-searches\")\n",
    "plt.tight_layout()"
   ]
  },
  {
   "cell_type": "markdown",
   "id": "ef77caed-bfce-44f0-a359-844f7cc76f13",
   "metadata": {},
   "source": [
    "##### Runtime"
   ]
  },
  {
   "cell_type": "code",
   "execution_count": 70,
   "id": "544a2476-ce1b-4104-ac5c-9dfd2ec4e39b",
   "metadata": {},
   "outputs": [
    {
     "data": {
      "text/plain": [
       "[<matplotlib.lines.Line2D at 0x7f8c7f0c70d0>]"
      ]
     },
     "execution_count": 70,
     "metadata": {},
     "output_type": "execute_result"
    },
    {
     "data": {
      "image/png": "[encoded data removed]",
      "text/plain": [
       "<Figure size 288x180 with 1 Axes>"
      ]
     },
     "metadata": {
      "needs_background": "light"
     },
     "output_type": "display_data"
    }
   ],
   "source": [
    "plt.figure(figsize=(4,2.5))\n",
    "times = []\n",
    "for run in results_poly:\n",
    "    for poly in results_poly[run]:\n",
    "        times.append(poly[\"time\"])\n",
    "        \n",
    "qs = np.quantile(times,[0,0.05,0.5,0.95,1])\n",
    "plt.plot(qs[[1,3]],(1,1), 'r'+markers[i]+'--', label=label, c=colors[0],linewidth=0.5)"
   ]
  },
  {
   "cell_type": "markdown",
   "id": "28b7d609-8eb0-4b04-8996-174f8ee10f66",
   "metadata": {},
   "source": [
    "#### Check the ladder experiment"
   ]
  },
  {
   "cell_type": "code",
   "execution_count": 96,
   "id": "a763fab7-50ea-4508-ac11-5f22a430663e",
   "metadata": {},
   "outputs": [
    {
     "name": "stdout",
     "output_type": "stream",
     "text": [
      "num ladder solved: 1 1\n",
      "num ladder solved: 2 2\n"
     ]
    }
   ],
   "source": [
    "t=np.array([-1,1,1,-1,-1,1])\n",
    "solved = 0\n",
    "possible = 0\n",
    "for run in results_poly:\n",
    "    poly = results_poly[run][0]\n",
    "    diff = np.sum(np.abs(poly[\"labels\"] - t.reshape(1,-1)),axis=1)\n",
    "    pos = np.argmin(diff)\n",
    "    if diff[pos] <1.e-3:\n",
    "        possible += 1\n",
    "        solved += poly[\"workable\"][pos]\n",
    "        \n",
    "    print(\"num ladder solved:\", solved, possible)"
   ]
  },
  {
   "cell_type": "markdown",
   "id": "6d4eae68-2a29-47b2-a8db-45b29a637aa3",
   "metadata": {},
   "source": [
    "#### Check the shuttle experiment"
   ]
  },
  {
   "cell_type": "code",
   "execution_count": null,
   "id": "7b718c6d-3e03-425d-a429-3cec456886a9",
   "metadata": {},
   "outputs": [],
   "source": [
    "\n",
    "#check shuttle\n",
    "shuttle_ops=np.array([\n",
    "    [0,0,1,0,-1,0],\n",
    "    [0,0,-1,1,0,0],\n",
    "    [-1,0,1,0,0,0],\n",
    "    [0,0,-1,0,1,0],\n",
    "    [0,0,1,-1,0,0],\n",
    "    [1,0,-1,0,0,0]\n",
    "])\n",
    "shuttle_ops_prev=-np.array([\n",
    "    [1,0,-1,0,0,0],\n",
    "    [0,0,1,0,-1,0],\n",
    "    [0,0,-1,1,0,0],\n",
    "    [-1,0,1,0,0,0],\n",
    "    [0,0,-1,0,1,0],\n",
    "    [0,0,1,-1,0,0]\n",
    "])\n",
    "shuttle_ind_prev=[5,0,1,2,3,4]\n",
    "for j,rho,delta in settings:\n",
    "    base=\"shuttle\"\n",
    "    solved = 0\n",
    "    possible = 0\n",
    "    for run in results_poly[base][rho][delta]:\n",
    "        workable=np.zeros(6)\n",
    "        num_exist = 0\n",
    "        for ind,poly in enumerate(results_poly[base][rho][delta][run]):\n",
    "            t = shuttle_ops[ind]\n",
    "            t_prev = shuttle_ops_prev[ind]\n",
    "            \n",
    "            diff = np.sum(np.abs(poly[\"labels\"] - t.reshape(1,-1)),axis=1)\n",
    "            pos = np.argmin(diff)\n",
    "            diff_prev = np.sum(np.abs(poly[\"labels\"] - t_prev.reshape(1,-1)),axis=1)\n",
    "            pos_prev = np.argmin(diff)\n",
    "            if diff[pos] <1.e-3:\n",
    "                num_exist += 1\n",
    "                workable[ind] += poly[\"workable\"][pos]\n",
    "            if diff[pos_prev] <1.e-3:\n",
    "                workable[shuttle_ind_prev[ind]] += poly[\"workable\"][pos_prev]\n",
    "                \n",
    "        num_workable = np.sum(workable > 0)\n",
    "        if num_workable == 6:\n",
    "            solved += 1\n",
    "        if num_exist == 6:\n",
    "            possible += 1\n",
    "    print(\"num shuttle solved:\", rho, delta, solved, possible)"
   ]
  },
  {
   "cell_type": "code",
   "execution_count": null,
   "id": "7c17d99f-abc3-48d0-abbc-4471b6097b95",
   "metadata": {},
   "outputs": [],
   "source": []
  },
  {
   "cell_type": "code",
   "execution_count": null,
   "id": "154b873a-8e90-40bd-aeb8-0161510c030e",
   "metadata": {},
   "outputs": [],
   "source": []
  },
  {
   "cell_type": "code",
   "execution_count": null,
   "id": "193c53ef-f811-4448-99c7-6e97a2c96138",
   "metadata": {},
   "outputs": [],
   "source": []
  }
 ],
 "metadata": {
  "kernelspec": {
   "display_name": "Python 3 (ipykernel)",
   "language": "python",
   "name": "python3"
  },
  "language_info": {
   "codemirror_mode": {
    "name": "ipython",
    "version": 3
   },
   "file_extension": ".py",
   "mimetype": "text/x-python",
   "name": "python",
   "nbconvert_exporter": "python",
   "pygments_lexer": "ipython3",
   "version": "3.7.5"
  }
 },
 "nbformat": 4,
 "nbformat_minor": 5
}
